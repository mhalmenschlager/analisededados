{
  "nbformat": 4,
  "nbformat_minor": 0,
  "metadata": {
    "colab": {
      "name": "01_Dicas_de_Manipulacao_de_Dados_com_Pandas-Vitor_Diego_Ramos.ipynb",
      "provenance": [],
      "collapsed_sections": [
        "HsKUKU5FOC3J"
      ],
      "toc_visible": true,
      "authorship_tag": "ABX9TyPeA4bYFZlJuMn4k6zoWOAL",
      "include_colab_link": true
    },
    "kernelspec": {
      "name": "python3",
      "display_name": "Python 3"
    }
  },
  "cells": [
    {
      "cell_type": "markdown",
      "metadata": {
        "id": "view-in-github",
        "colab_type": "text"
      },
      "source": [
        "<a href=\"https://colab.research.google.com/github/vitordiego/analisededados/blob/main/01_Dicas_de_Manipulacao_de_Dados_com_Pandas_Vitor_Diego_Ramos.ipynb\" target=\"_parent\"><img src=\"https://colab.research.google.com/assets/colab-badge.svg\" alt=\"Open In Colab\"/></a>"
      ]
    },
    {
      "cell_type": "markdown",
      "metadata": {
        "id": "AYqPDmBn29GL"
      },
      "source": [
        "# Biblioteca Pandas - Manipulação de Dados\r\n",
        "\r\n",
        "Ele contém estruturas de dados e ferramentas para manipulação de dados, projetadas para agilizar e facilitar a limpeza e a análise de dados em Python.\r\n",
        "\r\n",
        "Pandas é usado em conjunto com ferramentas /de processamento numérico como NumPy e SciPy,"
      ]
    },
    {
      "cell_type": "markdown",
      "metadata": {
        "id": "hwCeADjSVXJa"
      },
      "source": [
        "# 01 - Transformar os dados\r\n"
      ]
    },
    {
      "cell_type": "markdown",
      "metadata": {
        "id": "93X8cvYB3Cw1"
      },
      "source": [
        "Visão geral da biblioteca:\r\n",
        "\r\n",
        "\r\n",
        "\r\n",
        "*   Pandas construído com base em NumPy e Matplotlib\r\n",
        "*   Dataframe - representação de dados regulares e tabular\r\n",
        "*   conjunto de dados baseados em matriz rotuladas - Dataframe e TimeSeries\r\n",
        "*   objetos de indice que permite indexação de diferentes níveis\r\n",
        "*   agregação e transformação de dados\r\n",
        "*   manipulação de datas\r\n",
        "*   carregamento de dados (CSV, Excel, etc) e carregamento de objetos em formatos mais rápidos e eficientes (HDF5)\r\n",
        "*   Estatística - média, desvio padrão, etc.\r\n",
        "\r\n",
        "O desenvolvimento do pandas começou na AQR Capital Management em abril de 2008. O código-fonte foi aberto no final de 2009. A AQR continuou a fornecer recursos para o desenvolvimento até o final de 2011 e continua a contribuir com relatórios de bug hoje.\r\n",
        "\r\n",
        "Desde janeiro de 2012, a Lambda Foundry fornece recursos de desenvolvimento, bem como suporte comercial, treinamento e consultoria para pandas.\r\n",
        "\r\n"
      ]
    },
    {
      "cell_type": "code",
      "metadata": {
        "id": "Q6RExudkMYpj"
      },
      "source": [
        "import pandas as pd\r\n",
        "\r\n",
        "# Biblioteca NumPy -  manipular com dados numéricos em Python\r\n",
        "import numpy as np"
      ],
      "execution_count": null,
      "outputs": []
    },
    {
      "cell_type": "markdown",
      "metadata": {
        "id": "nynGTLql_Vw-"
      },
      "source": [
        "Biblioteca NumPy:\r\n",
        "\r\n",
        "\r\n",
        "*   NumPy ( Numerical Python ) é uma biblioteca Python de código aberto usada em quase todos os campos da ciência e engenharia\r\n",
        "*   A API NumPy é usada extensivamente em Pandas, SciPy, Matplotlib, scikit-learn, scikit-image e muitos outros pacotes de ciência de dados e Python científicos\r\n",
        "\r\n",
        "Site referência da documentação: [NumPy](https://numpy.org/doc/stable/user/absolute_beginners.html)\r\n",
        "\r\n"
      ]
    },
    {
      "cell_type": "markdown",
      "metadata": {
        "id": "YnFR-fSn6dxQ"
      },
      "source": [
        "### Entrada / Saída de dados:\r\n",
        "\r\n",
        "Arquivos CSV\r\n",
        "\r\n",
        "```\r\n",
        "# carregando arquivo\r\n",
        "dados.pd.read_csv('arquivo.csv')\r\n",
        "```\r\n",
        "\r\n",
        "```\r\n",
        "# Gravando em um arquivo csv\r\n",
        "dados.pd.read_csv('arquivo.csv')\r\n",
        "```\r\n",
        "\r\n",
        "Gravando em um arquivo excel\r\n",
        "\r\n",
        "```\r\n",
        "# dados.to_excel('novosdados.xlsx', sheet_name = 'Sheet1')\r\n",
        "```\r\n",
        "\r\n",
        "\r\n"
      ]
    },
    {
      "cell_type": "markdown",
      "metadata": {
        "id": "NPqRkTz78w6v"
      },
      "source": [
        "De DataFrame para CSV"
      ]
    },
    {
      "cell_type": "markdown",
      "metadata": {
        "id": "szySonLe85-Q"
      },
      "source": [
        "\r\n",
        "\r\n",
        "```\r\n",
        "# Crianco arquivo CSV a partir de dataframe\r\n",
        "\r\n",
        "dados.to_csv(\"dados.csv\")\r\n",
        "```\r\n",
        "\r\n"
      ]
    },
    {
      "cell_type": "markdown",
      "metadata": {
        "id": "cR4vWr9yCaMY"
      },
      "source": [
        ""
      ]
    },
    {
      "cell_type": "markdown",
      "metadata": {
        "id": "Sh36NgyGF4nk"
      },
      "source": [
        "**Dataset**\r\n",
        "\r\n",
        "  **O conjunto de dados é um dos históricos de vendas de uma empresa de supermercado que registrou em 3 filiais diferentes para dados de 3 meses.** \r\n",
        "\r\n",
        "  - Invoice ID: Número de identificação da fatura do recibo de venda gerado por computador\r\n",
        "  - Branch: Ramificação do supercentro (3 ramificações estão disponíveis, identificadas por A, B e C).\r\n",
        "  - City: Localização de supercentros\r\n",
        "  - Customer type: Tipo de clientes, registrados pelos membros para clientes com cartão de membro e Normal para sem cartão - membro ou normal\r\n",
        "  Gender: Gênero de cliente\r\n",
        "  - Product line: Grupos de categorização de itens gerais\t\r\n",
        "  - Unit price: Preço de cada produto em $\t\r\n",
        "  - Quantity: Número de produtos adquiridos pelo cliente\t\r\n",
        "  - Tax 5%: Taxa de imposto de 5% para compra do cliente\t\r\n",
        "  - Total: Preço total incluindo impostos\t\r\n",
        "  - Date: Data da compra\t\r\n",
        "  - Time: Hora de compra\t\r\n",
        "  - Payment: Pagamento usado pelo cliente para compra\t\r\n",
        "  - cogs: Custo de bens vendidos\t\r\n",
        "  - gross margin percentage: Porcentagem da margem bruta\t\r\n",
        "  - gross income\tRating: Renda bruta\r\n",
        "  - Rating: Avaliação de estratificação do cliente em sua experiência geral de compra (em uma escala de 1 a 10)\r\n"
      ]
    },
    {
      "cell_type": "markdown",
      "metadata": {
        "id": "DLxZqA60Q4r7"
      },
      "source": [
        "Dataset Kaggle: https://www.kaggle.com/aungpyaeap/supermarket-sales"
      ]
    },
    {
      "cell_type": "code",
      "metadata": {
        "id": "OUeKIb_Yu4D_"
      },
      "source": [
        "# Carregando arquivo em um dataframe - representação de dados regulares e tabular\r\n",
        "df_market = pd.read_csv('https://raw.githubusercontent.com/vitordiego/datasets/main/supermarket_sales%20-%20Sheet1.csv')"
      ],
      "execution_count": null,
      "outputs": []
    },
    {
      "cell_type": "markdown",
      "metadata": {
        "id": "hLZBIaOC9xeK"
      },
      "source": [
        "### Criação de Objetos\r\n",
        "\r\n",
        "\r\n",
        "\r\n",
        "*   Comportamento dos diferentes tipos de dados\r\n",
        "*   Indexação e rotulagem / alinhamento \r\n",
        "\r\n"
      ]
    },
    {
      "cell_type": "markdown",
      "metadata": {
        "id": "A9FGbKwxvpK9"
      },
      "source": [
        "Uma Series é um objeto do tipo array unidimensional contendo uma sequência de valores (de tipos semelhantes aos tipos do NumPy) e um array associado de rótulos (labels) de dados, chamado de índice. A Series mais simples é composta de apenas um array de dados:"
      ]
    },
    {
      "cell_type": "code",
      "metadata": {
        "id": "sRxikmKZAU2D"
      },
      "source": [
        "# Criando séries\r\n",
        "s = pd.Series([7,13,np.nan,21,33])"
      ],
      "execution_count": null,
      "outputs": []
    },
    {
      "cell_type": "code",
      "metadata": {
        "colab": {
          "base_uri": "https://localhost:8080/"
        },
        "id": "zY8UBNeHAk0n",
        "outputId": "9e09792d-cf3d-457d-8bde-4d0ad84e8946"
      },
      "source": [
        "print(s)"
      ],
      "execution_count": null,
      "outputs": [
        {
          "output_type": "stream",
          "text": [
            "0     7.0\n",
            "1    13.0\n",
            "2     NaN\n",
            "3    21.0\n",
            "4    33.0\n",
            "dtype: float64\n"
          ],
          "name": "stdout"
        }
      ]
    },
    {
      "cell_type": "code",
      "metadata": {
        "colab": {
          "base_uri": "https://localhost:8080/",
          "height": 164
        },
        "id": "db0I1kmFAvGs",
        "outputId": "0745e716-d289-431b-bd6b-92f3f5c91292"
      },
      "source": [
        "# Criando DataFrame\r\n",
        "dt = [1, 2, 3, 7] # lista\r\n",
        "df1 = pd.DataFrame(dt)\r\n",
        "df1"
      ],
      "execution_count": null,
      "outputs": [
        {
          "output_type": "execute_result",
          "data": {
            "text/html": [
              "<div>\n",
              "<style scoped>\n",
              "    .dataframe tbody tr th:only-of-type {\n",
              "        vertical-align: middle;\n",
              "    }\n",
              "\n",
              "    .dataframe tbody tr th {\n",
              "        vertical-align: top;\n",
              "    }\n",
              "\n",
              "    .dataframe thead th {\n",
              "        text-align: right;\n",
              "    }\n",
              "</style>\n",
              "<table border=\"1\" class=\"dataframe\">\n",
              "  <thead>\n",
              "    <tr style=\"text-align: right;\">\n",
              "      <th></th>\n",
              "      <th>0</th>\n",
              "    </tr>\n",
              "  </thead>\n",
              "  <tbody>\n",
              "    <tr>\n",
              "      <th>0</th>\n",
              "      <td>1</td>\n",
              "    </tr>\n",
              "    <tr>\n",
              "      <th>1</th>\n",
              "      <td>2</td>\n",
              "    </tr>\n",
              "    <tr>\n",
              "      <th>2</th>\n",
              "      <td>3</td>\n",
              "    </tr>\n",
              "    <tr>\n",
              "      <th>3</th>\n",
              "      <td>7</td>\n",
              "    </tr>\n",
              "  </tbody>\n",
              "</table>\n",
              "</div>"
            ],
            "text/plain": [
              "   0\n",
              "0  1\n",
              "1  2\n",
              "2  3\n",
              "3  7"
            ]
          },
          "metadata": {
            "tags": []
          },
          "execution_count": 5
        }
      ]
    },
    {
      "cell_type": "code",
      "metadata": {
        "colab": {
          "base_uri": "https://localhost:8080/"
        },
        "id": "9e5MYN5HCN91",
        "outputId": "c9c07c13-092a-48a7-b5ea-1c760905f15d"
      },
      "source": [
        "type(dt)"
      ],
      "execution_count": null,
      "outputs": [
        {
          "output_type": "execute_result",
          "data": {
            "text/plain": [
              "list"
            ]
          },
          "metadata": {
            "tags": []
          },
          "execution_count": 6
        }
      ]
    },
    {
      "cell_type": "code",
      "metadata": {
        "colab": {
          "base_uri": "https://localhost:8080/"
        },
        "id": "FBT5fKMJCb8m",
        "outputId": "760ac5f5-6e3b-448c-cf92-730177d39561"
      },
      "source": [
        "type(df1)"
      ],
      "execution_count": null,
      "outputs": [
        {
          "output_type": "execute_result",
          "data": {
            "text/plain": [
              "pandas.core.frame.DataFrame"
            ]
          },
          "metadata": {
            "tags": []
          },
          "execution_count": 7
        }
      ]
    },
    {
      "cell_type": "code",
      "metadata": {
        "colab": {
          "base_uri": "https://localhost:8080/",
          "height": 135
        },
        "id": "zBpZNtzFCgRE",
        "outputId": "c72b230b-284a-461a-f416-ecff4035e85d"
      },
      "source": [
        "# Criação de DataFrame a partir de dicionários\r\n",
        "d  =  { 'Cód Vendas'  :  7855. ,  'Valor'  :  599.99 ,  'Cód Loja'  :  7. }\r\n",
        "df = pd.DataFrame(d, index=['1', '2', '3'])\r\n",
        "df"
      ],
      "execution_count": null,
      "outputs": [
        {
          "output_type": "execute_result",
          "data": {
            "text/html": [
              "<div>\n",
              "<style scoped>\n",
              "    .dataframe tbody tr th:only-of-type {\n",
              "        vertical-align: middle;\n",
              "    }\n",
              "\n",
              "    .dataframe tbody tr th {\n",
              "        vertical-align: top;\n",
              "    }\n",
              "\n",
              "    .dataframe thead th {\n",
              "        text-align: right;\n",
              "    }\n",
              "</style>\n",
              "<table border=\"1\" class=\"dataframe\">\n",
              "  <thead>\n",
              "    <tr style=\"text-align: right;\">\n",
              "      <th></th>\n",
              "      <th>Cód Vendas</th>\n",
              "      <th>Valor</th>\n",
              "      <th>Cód Loja</th>\n",
              "    </tr>\n",
              "  </thead>\n",
              "  <tbody>\n",
              "    <tr>\n",
              "      <th>1</th>\n",
              "      <td>7855.0</td>\n",
              "      <td>599.99</td>\n",
              "      <td>7.0</td>\n",
              "    </tr>\n",
              "    <tr>\n",
              "      <th>2</th>\n",
              "      <td>7855.0</td>\n",
              "      <td>599.99</td>\n",
              "      <td>7.0</td>\n",
              "    </tr>\n",
              "    <tr>\n",
              "      <th>3</th>\n",
              "      <td>7855.0</td>\n",
              "      <td>599.99</td>\n",
              "      <td>7.0</td>\n",
              "    </tr>\n",
              "  </tbody>\n",
              "</table>\n",
              "</div>"
            ],
            "text/plain": [
              "   Cód Vendas   Valor  Cód Loja\n",
              "1      7855.0  599.99       7.0\n",
              "2      7855.0  599.99       7.0\n",
              "3      7855.0  599.99       7.0"
            ]
          },
          "metadata": {
            "tags": []
          },
          "execution_count": 8
        }
      ]
    },
    {
      "cell_type": "code",
      "metadata": {
        "colab": {
          "base_uri": "https://localhost:8080/",
          "height": 106
        },
        "id": "I3WpH1R_FHC8",
        "outputId": "73034fcc-d016-43df-d27c-1e03df7a0c81"
      },
      "source": [
        " # Lista de Dicionários\r\n",
        " data2 = [{'a': 1, 'b': 2}, {'a': 5, 'b': 10, 'c': 20}]\r\n",
        " pd.DataFrame(data2)"
      ],
      "execution_count": null,
      "outputs": [
        {
          "output_type": "execute_result",
          "data": {
            "text/html": [
              "<div>\n",
              "<style scoped>\n",
              "    .dataframe tbody tr th:only-of-type {\n",
              "        vertical-align: middle;\n",
              "    }\n",
              "\n",
              "    .dataframe tbody tr th {\n",
              "        vertical-align: top;\n",
              "    }\n",
              "\n",
              "    .dataframe thead th {\n",
              "        text-align: right;\n",
              "    }\n",
              "</style>\n",
              "<table border=\"1\" class=\"dataframe\">\n",
              "  <thead>\n",
              "    <tr style=\"text-align: right;\">\n",
              "      <th></th>\n",
              "      <th>a</th>\n",
              "      <th>b</th>\n",
              "      <th>c</th>\n",
              "    </tr>\n",
              "  </thead>\n",
              "  <tbody>\n",
              "    <tr>\n",
              "      <th>0</th>\n",
              "      <td>1</td>\n",
              "      <td>2</td>\n",
              "      <td>NaN</td>\n",
              "    </tr>\n",
              "    <tr>\n",
              "      <th>1</th>\n",
              "      <td>5</td>\n",
              "      <td>10</td>\n",
              "      <td>20.0</td>\n",
              "    </tr>\n",
              "  </tbody>\n",
              "</table>\n",
              "</div>"
            ],
            "text/plain": [
              "   a   b     c\n",
              "0  1   2   NaN\n",
              "1  5  10  20.0"
            ]
          },
          "metadata": {
            "tags": []
          },
          "execution_count": 9
        }
      ]
    },
    {
      "cell_type": "markdown",
      "metadata": {
        "id": "0wq5EeJOFlCQ"
      },
      "source": [
        "Outras referências de estruturas de dados: [Introdução às estruturas de dados](https://pandas.pydata.org/pandas-docs/version/0.15/dsintro.html#dsintro)"
      ]
    },
    {
      "cell_type": "markdown",
      "metadata": {
        "id": "ALQDJAG9Goax"
      },
      "source": [
        "## DataFrames\r\n"
      ]
    },
    {
      "cell_type": "markdown",
      "metadata": {
        "id": "ZU5gUjVA_2W1"
      },
      "source": [
        "**Introdução DataFrames**\r\n",
        "DataFrames são compostos de três partes: **um array NumPy para os dados** e **dois índices para armazenar os detalhes de linha e coluna**.\r\n",
        "\r\n",
        "DataFrame Um DataFrame representa uma tabela de dados retangular e contém uma coleção ordenada de colunas, em que cada uma pode ter um tipo de valor diferente (numérico, string, booleano etc.).\r\n",
        "\r\n",
        "O DataFrame tem índice tanto para linha quanto para coluna; pode ser imaginado como um dicionário de Series, todos compartilhando o mesmo índice.\r\n",
        "\r\n",
        "Internamente, os dados são armazenados como um ou mais blocos bidimensionais em vez de serem armazenados como uma lista, um dicionário ou outra coleção de arrays unidimensionais.\r\n",
        "\r\n",
        "McKinney, Wes. Python para análise de dados (p. 183). Novatec Editora. Edição do Kindle. "
      ]
    },
    {
      "cell_type": "code",
      "metadata": {
        "colab": {
          "base_uri": "https://localhost:8080/",
          "height": 332
        },
        "id": "mrlpPUPZQDaQ",
        "outputId": "b99eab3c-6495-4ab0-cf2a-8bc710690c7a"
      },
      "source": [
        "# O .head() demonstra as 5 primeiras linhas do DataFrame\r\n",
        "df_market.head() "
      ],
      "execution_count": null,
      "outputs": [
        {
          "output_type": "execute_result",
          "data": {
            "text/html": [
              "<div>\n",
              "<style scoped>\n",
              "    .dataframe tbody tr th:only-of-type {\n",
              "        vertical-align: middle;\n",
              "    }\n",
              "\n",
              "    .dataframe tbody tr th {\n",
              "        vertical-align: top;\n",
              "    }\n",
              "\n",
              "    .dataframe thead th {\n",
              "        text-align: right;\n",
              "    }\n",
              "</style>\n",
              "<table border=\"1\" class=\"dataframe\">\n",
              "  <thead>\n",
              "    <tr style=\"text-align: right;\">\n",
              "      <th></th>\n",
              "      <th>Invoice ID</th>\n",
              "      <th>Branch</th>\n",
              "      <th>City</th>\n",
              "      <th>Customer type</th>\n",
              "      <th>Gender</th>\n",
              "      <th>Product line</th>\n",
              "      <th>Unit price</th>\n",
              "      <th>Quantity</th>\n",
              "      <th>Tax 5%</th>\n",
              "      <th>Total</th>\n",
              "      <th>Date</th>\n",
              "      <th>Time</th>\n",
              "      <th>Payment</th>\n",
              "      <th>cogs</th>\n",
              "      <th>gross margin percentage</th>\n",
              "      <th>gross income</th>\n",
              "      <th>Rating</th>\n",
              "    </tr>\n",
              "  </thead>\n",
              "  <tbody>\n",
              "    <tr>\n",
              "      <th>0</th>\n",
              "      <td>750-67-8428</td>\n",
              "      <td>A</td>\n",
              "      <td>Yangon</td>\n",
              "      <td>Member</td>\n",
              "      <td>Female</td>\n",
              "      <td>Health and beauty</td>\n",
              "      <td>74.69</td>\n",
              "      <td>7</td>\n",
              "      <td>26.1415</td>\n",
              "      <td>548.9715</td>\n",
              "      <td>1/5/2019</td>\n",
              "      <td>13:08</td>\n",
              "      <td>Ewallet</td>\n",
              "      <td>522.83</td>\n",
              "      <td>4.761905</td>\n",
              "      <td>26.1415</td>\n",
              "      <td>9.1</td>\n",
              "    </tr>\n",
              "    <tr>\n",
              "      <th>1</th>\n",
              "      <td>226-31-3081</td>\n",
              "      <td>C</td>\n",
              "      <td>Naypyitaw</td>\n",
              "      <td>Normal</td>\n",
              "      <td>Female</td>\n",
              "      <td>Electronic accessories</td>\n",
              "      <td>15.28</td>\n",
              "      <td>5</td>\n",
              "      <td>3.8200</td>\n",
              "      <td>80.2200</td>\n",
              "      <td>3/8/2019</td>\n",
              "      <td>10:29</td>\n",
              "      <td>Cash</td>\n",
              "      <td>76.40</td>\n",
              "      <td>4.761905</td>\n",
              "      <td>3.8200</td>\n",
              "      <td>9.6</td>\n",
              "    </tr>\n",
              "    <tr>\n",
              "      <th>2</th>\n",
              "      <td>631-41-3108</td>\n",
              "      <td>A</td>\n",
              "      <td>Yangon</td>\n",
              "      <td>Normal</td>\n",
              "      <td>Male</td>\n",
              "      <td>Home and lifestyle</td>\n",
              "      <td>46.33</td>\n",
              "      <td>7</td>\n",
              "      <td>16.2155</td>\n",
              "      <td>340.5255</td>\n",
              "      <td>3/3/2019</td>\n",
              "      <td>13:23</td>\n",
              "      <td>Credit card</td>\n",
              "      <td>324.31</td>\n",
              "      <td>4.761905</td>\n",
              "      <td>16.2155</td>\n",
              "      <td>7.4</td>\n",
              "    </tr>\n",
              "    <tr>\n",
              "      <th>3</th>\n",
              "      <td>123-19-1176</td>\n",
              "      <td>A</td>\n",
              "      <td>Yangon</td>\n",
              "      <td>Member</td>\n",
              "      <td>Male</td>\n",
              "      <td>Health and beauty</td>\n",
              "      <td>58.22</td>\n",
              "      <td>8</td>\n",
              "      <td>23.2880</td>\n",
              "      <td>489.0480</td>\n",
              "      <td>1/27/2019</td>\n",
              "      <td>20:33</td>\n",
              "      <td>Ewallet</td>\n",
              "      <td>465.76</td>\n",
              "      <td>4.761905</td>\n",
              "      <td>23.2880</td>\n",
              "      <td>8.4</td>\n",
              "    </tr>\n",
              "    <tr>\n",
              "      <th>4</th>\n",
              "      <td>373-73-7910</td>\n",
              "      <td>A</td>\n",
              "      <td>Yangon</td>\n",
              "      <td>Normal</td>\n",
              "      <td>Male</td>\n",
              "      <td>Sports and travel</td>\n",
              "      <td>86.31</td>\n",
              "      <td>7</td>\n",
              "      <td>30.2085</td>\n",
              "      <td>634.3785</td>\n",
              "      <td>2/8/2019</td>\n",
              "      <td>10:37</td>\n",
              "      <td>Ewallet</td>\n",
              "      <td>604.17</td>\n",
              "      <td>4.761905</td>\n",
              "      <td>30.2085</td>\n",
              "      <td>5.3</td>\n",
              "    </tr>\n",
              "  </tbody>\n",
              "</table>\n",
              "</div>"
            ],
            "text/plain": [
              "    Invoice ID Branch       City  ... gross margin percentage gross income Rating\n",
              "0  750-67-8428      A     Yangon  ...                4.761905      26.1415    9.1\n",
              "1  226-31-3081      C  Naypyitaw  ...                4.761905       3.8200    9.6\n",
              "2  631-41-3108      A     Yangon  ...                4.761905      16.2155    7.4\n",
              "3  123-19-1176      A     Yangon  ...                4.761905      23.2880    8.4\n",
              "4  373-73-7910      A     Yangon  ...                4.761905      30.2085    5.3\n",
              "\n",
              "[5 rows x 17 columns]"
            ]
          },
          "metadata": {
            "tags": []
          },
          "execution_count": 10
        }
      ]
    },
    {
      "cell_type": "code",
      "metadata": {
        "colab": {
          "base_uri": "https://localhost:8080/",
          "height": 336
        },
        "id": "VF5BjwrBRFey",
        "outputId": "1c14004a-c6d6-4528-e4aa-2c17563c99ae"
      },
      "source": [
        "# é usado para visualizar alguns detalhes estatísticos básicos como percentil, média, padrão, etc.\r\n",
        "df_market.describe()"
      ],
      "execution_count": null,
      "outputs": [
        {
          "output_type": "execute_result",
          "data": {
            "text/html": [
              "<div>\n",
              "<style scoped>\n",
              "    .dataframe tbody tr th:only-of-type {\n",
              "        vertical-align: middle;\n",
              "    }\n",
              "\n",
              "    .dataframe tbody tr th {\n",
              "        vertical-align: top;\n",
              "    }\n",
              "\n",
              "    .dataframe thead th {\n",
              "        text-align: right;\n",
              "    }\n",
              "</style>\n",
              "<table border=\"1\" class=\"dataframe\">\n",
              "  <thead>\n",
              "    <tr style=\"text-align: right;\">\n",
              "      <th></th>\n",
              "      <th>Unit price</th>\n",
              "      <th>Quantity</th>\n",
              "      <th>Tax 5%</th>\n",
              "      <th>Total</th>\n",
              "      <th>cogs</th>\n",
              "      <th>gross margin percentage</th>\n",
              "      <th>gross income</th>\n",
              "      <th>Rating</th>\n",
              "    </tr>\n",
              "  </thead>\n",
              "  <tbody>\n",
              "    <tr>\n",
              "      <th>count</th>\n",
              "      <td>1000.000000</td>\n",
              "      <td>1000.000000</td>\n",
              "      <td>1000.000000</td>\n",
              "      <td>1000.000000</td>\n",
              "      <td>1000.00000</td>\n",
              "      <td>1.000000e+03</td>\n",
              "      <td>1000.000000</td>\n",
              "      <td>1000.00000</td>\n",
              "    </tr>\n",
              "    <tr>\n",
              "      <th>mean</th>\n",
              "      <td>55.672130</td>\n",
              "      <td>5.510000</td>\n",
              "      <td>15.379369</td>\n",
              "      <td>322.966749</td>\n",
              "      <td>307.58738</td>\n",
              "      <td>4.761905e+00</td>\n",
              "      <td>15.379369</td>\n",
              "      <td>6.97270</td>\n",
              "    </tr>\n",
              "    <tr>\n",
              "      <th>std</th>\n",
              "      <td>26.494628</td>\n",
              "      <td>2.923431</td>\n",
              "      <td>11.708825</td>\n",
              "      <td>245.885335</td>\n",
              "      <td>234.17651</td>\n",
              "      <td>6.220360e-14</td>\n",
              "      <td>11.708825</td>\n",
              "      <td>1.71858</td>\n",
              "    </tr>\n",
              "    <tr>\n",
              "      <th>min</th>\n",
              "      <td>10.080000</td>\n",
              "      <td>1.000000</td>\n",
              "      <td>0.508500</td>\n",
              "      <td>10.678500</td>\n",
              "      <td>10.17000</td>\n",
              "      <td>4.761905e+00</td>\n",
              "      <td>0.508500</td>\n",
              "      <td>4.00000</td>\n",
              "    </tr>\n",
              "    <tr>\n",
              "      <th>25%</th>\n",
              "      <td>32.875000</td>\n",
              "      <td>3.000000</td>\n",
              "      <td>5.924875</td>\n",
              "      <td>124.422375</td>\n",
              "      <td>118.49750</td>\n",
              "      <td>4.761905e+00</td>\n",
              "      <td>5.924875</td>\n",
              "      <td>5.50000</td>\n",
              "    </tr>\n",
              "    <tr>\n",
              "      <th>50%</th>\n",
              "      <td>55.230000</td>\n",
              "      <td>5.000000</td>\n",
              "      <td>12.088000</td>\n",
              "      <td>253.848000</td>\n",
              "      <td>241.76000</td>\n",
              "      <td>4.761905e+00</td>\n",
              "      <td>12.088000</td>\n",
              "      <td>7.00000</td>\n",
              "    </tr>\n",
              "    <tr>\n",
              "      <th>75%</th>\n",
              "      <td>77.935000</td>\n",
              "      <td>8.000000</td>\n",
              "      <td>22.445250</td>\n",
              "      <td>471.350250</td>\n",
              "      <td>448.90500</td>\n",
              "      <td>4.761905e+00</td>\n",
              "      <td>22.445250</td>\n",
              "      <td>8.50000</td>\n",
              "    </tr>\n",
              "    <tr>\n",
              "      <th>max</th>\n",
              "      <td>99.960000</td>\n",
              "      <td>10.000000</td>\n",
              "      <td>49.650000</td>\n",
              "      <td>1042.650000</td>\n",
              "      <td>993.00000</td>\n",
              "      <td>4.761905e+00</td>\n",
              "      <td>49.650000</td>\n",
              "      <td>10.00000</td>\n",
              "    </tr>\n",
              "  </tbody>\n",
              "</table>\n",
              "</div>"
            ],
            "text/plain": [
              "        Unit price     Quantity  ...  gross income      Rating\n",
              "count  1000.000000  1000.000000  ...   1000.000000  1000.00000\n",
              "mean     55.672130     5.510000  ...     15.379369     6.97270\n",
              "std      26.494628     2.923431  ...     11.708825     1.71858\n",
              "min      10.080000     1.000000  ...      0.508500     4.00000\n",
              "25%      32.875000     3.000000  ...      5.924875     5.50000\n",
              "50%      55.230000     5.000000  ...     12.088000     7.00000\n",
              "75%      77.935000     8.000000  ...     22.445250     8.50000\n",
              "max      99.960000    10.000000  ...     49.650000    10.00000\n",
              "\n",
              "[8 rows x 8 columns]"
            ]
          },
          "metadata": {
            "tags": []
          },
          "execution_count": 11
        }
      ]
    },
    {
      "cell_type": "code",
      "metadata": {
        "colab": {
          "base_uri": "https://localhost:8080/"
        },
        "id": "MXgATyceRVym",
        "outputId": "2456a94c-74d9-42e7-a5c9-271ef3b5b080"
      },
      "source": [
        "# Aplicando describe() por coluna\r\n",
        "df_market[\"Rating\"].describe()"
      ],
      "execution_count": null,
      "outputs": [
        {
          "output_type": "execute_result",
          "data": {
            "text/plain": [
              "count    1000.00000\n",
              "mean        6.97270\n",
              "std         1.71858\n",
              "min         4.00000\n",
              "25%         5.50000\n",
              "50%         7.00000\n",
              "75%         8.50000\n",
              "max        10.00000\n",
              "Name: Rating, dtype: float64"
            ]
          },
          "metadata": {
            "tags": []
          },
          "execution_count": 12
        }
      ]
    },
    {
      "cell_type": "code",
      "metadata": {
        "colab": {
          "base_uri": "https://localhost:8080/"
        },
        "id": "89nAH--jSy7Y",
        "outputId": "9d531cc2-7026-4730-981f-88d2ce94b258"
      },
      "source": [
        "# Variável categórica\r\n",
        "df_market[\"Product line\"].describe()"
      ],
      "execution_count": null,
      "outputs": [
        {
          "output_type": "execute_result",
          "data": {
            "text/plain": [
              "count                    1000\n",
              "unique                      6\n",
              "top       Fashion accessories\n",
              "freq                      178\n",
              "Name: Product line, dtype: object"
            ]
          },
          "metadata": {
            "tags": []
          },
          "execution_count": 13
        }
      ]
    },
    {
      "cell_type": "code",
      "metadata": {
        "colab": {
          "base_uri": "https://localhost:8080/"
        },
        "id": "LbnySeC-RMEx",
        "outputId": "ac0a50b0-348e-49e2-9ad2-e1b0706f0d44"
      },
      "source": [
        "# .info() função Pandas é usada para obter um resumo conciso do dataframe.\r\n",
        "df_market.info()"
      ],
      "execution_count": null,
      "outputs": [
        {
          "output_type": "stream",
          "text": [
            "<class 'pandas.core.frame.DataFrame'>\n",
            "RangeIndex: 1000 entries, 0 to 999\n",
            "Data columns (total 17 columns):\n",
            " #   Column                   Non-Null Count  Dtype  \n",
            "---  ------                   --------------  -----  \n",
            " 0   Invoice ID               1000 non-null   object \n",
            " 1   Branch                   1000 non-null   object \n",
            " 2   City                     1000 non-null   object \n",
            " 3   Customer type            1000 non-null   object \n",
            " 4   Gender                   1000 non-null   object \n",
            " 5   Product line             1000 non-null   object \n",
            " 6   Unit price               1000 non-null   float64\n",
            " 7   Quantity                 1000 non-null   int64  \n",
            " 8   Tax 5%                   1000 non-null   float64\n",
            " 9   Total                    1000 non-null   float64\n",
            " 10  Date                     1000 non-null   object \n",
            " 11  Time                     1000 non-null   object \n",
            " 12  Payment                  1000 non-null   object \n",
            " 13  cogs                     1000 non-null   float64\n",
            " 14  gross margin percentage  1000 non-null   float64\n",
            " 15  gross income             1000 non-null   float64\n",
            " 16  Rating                   1000 non-null   float64\n",
            "dtypes: float64(7), int64(1), object(9)\n",
            "memory usage: 132.9+ KB\n"
          ],
          "name": "stdout"
        }
      ]
    },
    {
      "cell_type": "code",
      "metadata": {
        "colab": {
          "base_uri": "https://localhost:8080/"
        },
        "id": "T2c_veiaTJMx",
        "outputId": "12b6581e-6b80-4dac-a9eb-59d88dd9cae5"
      },
      "source": [
        "# retornar o tamanho, forma e dimensões de armações e de dados série.\r\n",
        "df_market.shape"
      ],
      "execution_count": null,
      "outputs": [
        {
          "output_type": "execute_result",
          "data": {
            "text/plain": [
              "(1000, 17)"
            ]
          },
          "metadata": {
            "tags": []
          },
          "execution_count": 15
        }
      ]
    },
    {
      "cell_type": "code",
      "metadata": {
        "colab": {
          "base_uri": "https://localhost:8080/"
        },
        "id": "sCxKBIToTPAT",
        "outputId": "a183d74c-a7d9-4e8e-f247-e4736cf30682"
      },
      "source": [
        "df_market.values"
      ],
      "execution_count": null,
      "outputs": [
        {
          "output_type": "execute_result",
          "data": {
            "text/plain": [
              "array([['750-67-8428', 'A', 'Yangon', ..., 4.7619047619999995, 26.1415,\n",
              "        9.1],\n",
              "       ['226-31-3081', 'C', 'Naypyitaw', ..., 4.7619047619999995, 3.82,\n",
              "        9.6],\n",
              "       ['631-41-3108', 'A', 'Yangon', ..., 4.7619047619999995, 16.2155,\n",
              "        7.4],\n",
              "       ...,\n",
              "       ['727-02-1313', 'A', 'Yangon', ..., 4.7619047619999995,\n",
              "        1.5919999999999999, 7.7],\n",
              "       ['347-56-2442', 'A', 'Yangon', ..., 4.7619047619999995,\n",
              "        3.2910000000000004, 4.1],\n",
              "       ['849-09-3807', 'A', 'Yangon', ..., 4.7619047619999995, 30.919,\n",
              "        6.6]], dtype=object)"
            ]
          },
          "metadata": {
            "tags": []
          },
          "execution_count": 16
        }
      ]
    },
    {
      "cell_type": "code",
      "metadata": {
        "colab": {
          "base_uri": "https://localhost:8080/"
        },
        "id": "HsWHwv5hTUVh",
        "outputId": "b0571d39-b507-4491-dc26-0d273e0c87e0"
      },
      "source": [
        "df_market.columns"
      ],
      "execution_count": null,
      "outputs": [
        {
          "output_type": "execute_result",
          "data": {
            "text/plain": [
              "Index(['Invoice ID', 'Branch', 'City', 'Customer type', 'Gender',\n",
              "       'Product line', 'Unit price', 'Quantity', 'Tax 5%', 'Total', 'Date',\n",
              "       'Time', 'Payment', 'cogs', 'gross margin percentage', 'gross income',\n",
              "       'Rating'],\n",
              "      dtype='object')"
            ]
          },
          "metadata": {
            "tags": []
          },
          "execution_count": 17
        }
      ]
    },
    {
      "cell_type": "code",
      "metadata": {
        "colab": {
          "base_uri": "https://localhost:8080/"
        },
        "id": "fXOW0qfvTbMq",
        "outputId": "b06fc718-2db8-474c-81d8-99b177932863"
      },
      "source": [
        "df_market.index"
      ],
      "execution_count": null,
      "outputs": [
        {
          "output_type": "execute_result",
          "data": {
            "text/plain": [
              "RangeIndex(start=0, stop=1000, step=1)"
            ]
          },
          "metadata": {
            "tags": []
          },
          "execution_count": 18
        }
      ]
    },
    {
      "cell_type": "markdown",
      "metadata": {
        "id": "znZ8n_aGLBE4"
      },
      "source": [
        "## Classificação e subdivisões"
      ]
    },
    {
      "cell_type": "code",
      "metadata": {
        "colab": {
          "base_uri": "https://localhost:8080/"
        },
        "id": "33LAzbxVLKio",
        "outputId": "40e2fb65-e2fa-44a8-c87e-b3dc051427e7"
      },
      "source": [
        "# Ordenação baseando-se em coluna - ordem crescente\r\n",
        "df_market.sort_values(\"Total\")"
      ],
      "execution_count": null,
      "outputs": [
        {
          "output_type": "execute_result",
          "data": {
            "text/html": [
              "<div>\n",
              "<style scoped>\n",
              "    .dataframe tbody tr th:only-of-type {\n",
              "        vertical-align: middle;\n",
              "    }\n",
              "\n",
              "    .dataframe tbody tr th {\n",
              "        vertical-align: top;\n",
              "    }\n",
              "\n",
              "    .dataframe thead th {\n",
              "        text-align: right;\n",
              "    }\n",
              "</style>\n",
              "<table border=\"1\" class=\"dataframe\">\n",
              "  <thead>\n",
              "    <tr style=\"text-align: right;\">\n",
              "      <th></th>\n",
              "      <th>Invoice ID</th>\n",
              "      <th>Branch</th>\n",
              "      <th>City</th>\n",
              "      <th>Customer type</th>\n",
              "      <th>Gender</th>\n",
              "      <th>Product line</th>\n",
              "      <th>Unit price</th>\n",
              "      <th>Quantity</th>\n",
              "      <th>Tax 5%</th>\n",
              "      <th>Total</th>\n",
              "      <th>Date</th>\n",
              "      <th>Time</th>\n",
              "      <th>Payment</th>\n",
              "      <th>cogs</th>\n",
              "      <th>gross margin percentage</th>\n",
              "      <th>gross income</th>\n",
              "      <th>Rating</th>\n",
              "    </tr>\n",
              "  </thead>\n",
              "  <tbody>\n",
              "    <tr>\n",
              "      <th>822</th>\n",
              "      <td>784-21-9238</td>\n",
              "      <td>C</td>\n",
              "      <td>Naypyitaw</td>\n",
              "      <td>Member</td>\n",
              "      <td>Male</td>\n",
              "      <td>Sports and travel</td>\n",
              "      <td>10.17</td>\n",
              "      <td>1</td>\n",
              "      <td>0.5085</td>\n",
              "      <td>10.6785</td>\n",
              "      <td>2/7/2019</td>\n",
              "      <td>14:15</td>\n",
              "      <td>Cash</td>\n",
              "      <td>10.17</td>\n",
              "      <td>4.761905</td>\n",
              "      <td>0.5085</td>\n",
              "      <td>5.9</td>\n",
              "    </tr>\n",
              "    <tr>\n",
              "      <th>629</th>\n",
              "      <td>308-39-1707</td>\n",
              "      <td>A</td>\n",
              "      <td>Yangon</td>\n",
              "      <td>Normal</td>\n",
              "      <td>Female</td>\n",
              "      <td>Fashion accessories</td>\n",
              "      <td>12.09</td>\n",
              "      <td>1</td>\n",
              "      <td>0.6045</td>\n",
              "      <td>12.6945</td>\n",
              "      <td>1/26/2019</td>\n",
              "      <td>18:19</td>\n",
              "      <td>Credit card</td>\n",
              "      <td>12.09</td>\n",
              "      <td>4.761905</td>\n",
              "      <td>0.6045</td>\n",
              "      <td>8.2</td>\n",
              "    </tr>\n",
              "    <tr>\n",
              "      <th>223</th>\n",
              "      <td>279-62-1445</td>\n",
              "      <td>C</td>\n",
              "      <td>Naypyitaw</td>\n",
              "      <td>Member</td>\n",
              "      <td>Female</td>\n",
              "      <td>Fashion accessories</td>\n",
              "      <td>12.54</td>\n",
              "      <td>1</td>\n",
              "      <td>0.6270</td>\n",
              "      <td>13.1670</td>\n",
              "      <td>2/21/2019</td>\n",
              "      <td>12:38</td>\n",
              "      <td>Cash</td>\n",
              "      <td>12.54</td>\n",
              "      <td>4.761905</td>\n",
              "      <td>0.6270</td>\n",
              "      <td>8.2</td>\n",
              "    </tr>\n",
              "    <tr>\n",
              "      <th>443</th>\n",
              "      <td>192-98-7397</td>\n",
              "      <td>C</td>\n",
              "      <td>Naypyitaw</td>\n",
              "      <td>Normal</td>\n",
              "      <td>Male</td>\n",
              "      <td>Fashion accessories</td>\n",
              "      <td>12.78</td>\n",
              "      <td>1</td>\n",
              "      <td>0.6390</td>\n",
              "      <td>13.4190</td>\n",
              "      <td>1/8/2019</td>\n",
              "      <td>14:11</td>\n",
              "      <td>Ewallet</td>\n",
              "      <td>12.78</td>\n",
              "      <td>4.761905</td>\n",
              "      <td>0.6390</td>\n",
              "      <td>9.5</td>\n",
              "    </tr>\n",
              "    <tr>\n",
              "      <th>402</th>\n",
              "      <td>236-86-3015</td>\n",
              "      <td>C</td>\n",
              "      <td>Naypyitaw</td>\n",
              "      <td>Member</td>\n",
              "      <td>Male</td>\n",
              "      <td>Home and lifestyle</td>\n",
              "      <td>13.98</td>\n",
              "      <td>1</td>\n",
              "      <td>0.6990</td>\n",
              "      <td>14.6790</td>\n",
              "      <td>2/4/2019</td>\n",
              "      <td>13:38</td>\n",
              "      <td>Ewallet</td>\n",
              "      <td>13.98</td>\n",
              "      <td>4.761905</td>\n",
              "      <td>0.6990</td>\n",
              "      <td>9.8</td>\n",
              "    </tr>\n",
              "    <tr>\n",
              "      <th>...</th>\n",
              "      <td>...</td>\n",
              "      <td>...</td>\n",
              "      <td>...</td>\n",
              "      <td>...</td>\n",
              "      <td>...</td>\n",
              "      <td>...</td>\n",
              "      <td>...</td>\n",
              "      <td>...</td>\n",
              "      <td>...</td>\n",
              "      <td>...</td>\n",
              "      <td>...</td>\n",
              "      <td>...</td>\n",
              "      <td>...</td>\n",
              "      <td>...</td>\n",
              "      <td>...</td>\n",
              "      <td>...</td>\n",
              "      <td>...</td>\n",
              "    </tr>\n",
              "    <tr>\n",
              "      <th>996</th>\n",
              "      <td>303-96-2227</td>\n",
              "      <td>B</td>\n",
              "      <td>Mandalay</td>\n",
              "      <td>Normal</td>\n",
              "      <td>Female</td>\n",
              "      <td>Home and lifestyle</td>\n",
              "      <td>97.38</td>\n",
              "      <td>10</td>\n",
              "      <td>48.6900</td>\n",
              "      <td>1022.4900</td>\n",
              "      <td>3/2/2019</td>\n",
              "      <td>17:16</td>\n",
              "      <td>Ewallet</td>\n",
              "      <td>973.80</td>\n",
              "      <td>4.761905</td>\n",
              "      <td>48.6900</td>\n",
              "      <td>4.4</td>\n",
              "    </tr>\n",
              "    <tr>\n",
              "      <th>699</th>\n",
              "      <td>751-41-9720</td>\n",
              "      <td>C</td>\n",
              "      <td>Naypyitaw</td>\n",
              "      <td>Normal</td>\n",
              "      <td>Male</td>\n",
              "      <td>Home and lifestyle</td>\n",
              "      <td>97.50</td>\n",
              "      <td>10</td>\n",
              "      <td>48.7500</td>\n",
              "      <td>1023.7500</td>\n",
              "      <td>1/12/2019</td>\n",
              "      <td>16:18</td>\n",
              "      <td>Ewallet</td>\n",
              "      <td>975.00</td>\n",
              "      <td>4.761905</td>\n",
              "      <td>48.7500</td>\n",
              "      <td>8.0</td>\n",
              "    </tr>\n",
              "    <tr>\n",
              "      <th>557</th>\n",
              "      <td>283-26-5248</td>\n",
              "      <td>C</td>\n",
              "      <td>Naypyitaw</td>\n",
              "      <td>Member</td>\n",
              "      <td>Female</td>\n",
              "      <td>Food and beverages</td>\n",
              "      <td>98.52</td>\n",
              "      <td>10</td>\n",
              "      <td>49.2600</td>\n",
              "      <td>1034.4600</td>\n",
              "      <td>1/30/2019</td>\n",
              "      <td>20:23</td>\n",
              "      <td>Ewallet</td>\n",
              "      <td>985.20</td>\n",
              "      <td>4.761905</td>\n",
              "      <td>49.2600</td>\n",
              "      <td>4.5</td>\n",
              "    </tr>\n",
              "    <tr>\n",
              "      <th>167</th>\n",
              "      <td>687-47-8271</td>\n",
              "      <td>A</td>\n",
              "      <td>Yangon</td>\n",
              "      <td>Normal</td>\n",
              "      <td>Male</td>\n",
              "      <td>Fashion accessories</td>\n",
              "      <td>98.98</td>\n",
              "      <td>10</td>\n",
              "      <td>49.4900</td>\n",
              "      <td>1039.2900</td>\n",
              "      <td>2/8/2019</td>\n",
              "      <td>16:20</td>\n",
              "      <td>Credit card</td>\n",
              "      <td>989.80</td>\n",
              "      <td>4.761905</td>\n",
              "      <td>49.4900</td>\n",
              "      <td>8.7</td>\n",
              "    </tr>\n",
              "    <tr>\n",
              "      <th>350</th>\n",
              "      <td>860-79-0874</td>\n",
              "      <td>C</td>\n",
              "      <td>Naypyitaw</td>\n",
              "      <td>Member</td>\n",
              "      <td>Female</td>\n",
              "      <td>Fashion accessories</td>\n",
              "      <td>99.30</td>\n",
              "      <td>10</td>\n",
              "      <td>49.6500</td>\n",
              "      <td>1042.6500</td>\n",
              "      <td>2/15/2019</td>\n",
              "      <td>14:53</td>\n",
              "      <td>Credit card</td>\n",
              "      <td>993.00</td>\n",
              "      <td>4.761905</td>\n",
              "      <td>49.6500</td>\n",
              "      <td>6.6</td>\n",
              "    </tr>\n",
              "  </tbody>\n",
              "</table>\n",
              "<p>1000 rows × 17 columns</p>\n",
              "</div>"
            ],
            "text/plain": [
              "      Invoice ID Branch  ... gross income Rating\n",
              "822  784-21-9238      C  ...       0.5085    5.9\n",
              "629  308-39-1707      A  ...       0.6045    8.2\n",
              "223  279-62-1445      C  ...       0.6270    8.2\n",
              "443  192-98-7397      C  ...       0.6390    9.5\n",
              "402  236-86-3015      C  ...       0.6990    9.8\n",
              "..           ...    ...  ...          ...    ...\n",
              "996  303-96-2227      B  ...      48.6900    4.4\n",
              "699  751-41-9720      C  ...      48.7500    8.0\n",
              "557  283-26-5248      C  ...      49.2600    4.5\n",
              "167  687-47-8271      A  ...      49.4900    8.7\n",
              "350  860-79-0874      C  ...      49.6500    6.6\n",
              "\n",
              "[1000 rows x 17 columns]"
            ]
          },
          "metadata": {
            "tags": []
          },
          "execution_count": 19
        }
      ]
    },
    {
      "cell_type": "code",
      "metadata": {
        "colab": {
          "base_uri": "https://localhost:8080/"
        },
        "id": "73F9bjbtLopX",
        "outputId": "b869d232-17f4-41b9-aba5-2f3d7ed9f805"
      },
      "source": [
        "# Ordenação baseando-se em coluna - ordem decrescente\r\n",
        "df_market.sort_values(\"Total\", ascending=False)"
      ],
      "execution_count": null,
      "outputs": [
        {
          "output_type": "execute_result",
          "data": {
            "text/html": [
              "<div>\n",
              "<style scoped>\n",
              "    .dataframe tbody tr th:only-of-type {\n",
              "        vertical-align: middle;\n",
              "    }\n",
              "\n",
              "    .dataframe tbody tr th {\n",
              "        vertical-align: top;\n",
              "    }\n",
              "\n",
              "    .dataframe thead th {\n",
              "        text-align: right;\n",
              "    }\n",
              "</style>\n",
              "<table border=\"1\" class=\"dataframe\">\n",
              "  <thead>\n",
              "    <tr style=\"text-align: right;\">\n",
              "      <th></th>\n",
              "      <th>Invoice ID</th>\n",
              "      <th>Branch</th>\n",
              "      <th>City</th>\n",
              "      <th>Customer type</th>\n",
              "      <th>Gender</th>\n",
              "      <th>Product line</th>\n",
              "      <th>Unit price</th>\n",
              "      <th>Quantity</th>\n",
              "      <th>Tax 5%</th>\n",
              "      <th>Total</th>\n",
              "      <th>Date</th>\n",
              "      <th>Time</th>\n",
              "      <th>Payment</th>\n",
              "      <th>cogs</th>\n",
              "      <th>gross margin percentage</th>\n",
              "      <th>gross income</th>\n",
              "      <th>Rating</th>\n",
              "    </tr>\n",
              "  </thead>\n",
              "  <tbody>\n",
              "    <tr>\n",
              "      <th>350</th>\n",
              "      <td>860-79-0874</td>\n",
              "      <td>C</td>\n",
              "      <td>Naypyitaw</td>\n",
              "      <td>Member</td>\n",
              "      <td>Female</td>\n",
              "      <td>Fashion accessories</td>\n",
              "      <td>99.30</td>\n",
              "      <td>10</td>\n",
              "      <td>49.6500</td>\n",
              "      <td>1042.6500</td>\n",
              "      <td>2/15/2019</td>\n",
              "      <td>14:53</td>\n",
              "      <td>Credit card</td>\n",
              "      <td>993.00</td>\n",
              "      <td>4.761905</td>\n",
              "      <td>49.6500</td>\n",
              "      <td>6.6</td>\n",
              "    </tr>\n",
              "    <tr>\n",
              "      <th>167</th>\n",
              "      <td>687-47-8271</td>\n",
              "      <td>A</td>\n",
              "      <td>Yangon</td>\n",
              "      <td>Normal</td>\n",
              "      <td>Male</td>\n",
              "      <td>Fashion accessories</td>\n",
              "      <td>98.98</td>\n",
              "      <td>10</td>\n",
              "      <td>49.4900</td>\n",
              "      <td>1039.2900</td>\n",
              "      <td>2/8/2019</td>\n",
              "      <td>16:20</td>\n",
              "      <td>Credit card</td>\n",
              "      <td>989.80</td>\n",
              "      <td>4.761905</td>\n",
              "      <td>49.4900</td>\n",
              "      <td>8.7</td>\n",
              "    </tr>\n",
              "    <tr>\n",
              "      <th>557</th>\n",
              "      <td>283-26-5248</td>\n",
              "      <td>C</td>\n",
              "      <td>Naypyitaw</td>\n",
              "      <td>Member</td>\n",
              "      <td>Female</td>\n",
              "      <td>Food and beverages</td>\n",
              "      <td>98.52</td>\n",
              "      <td>10</td>\n",
              "      <td>49.2600</td>\n",
              "      <td>1034.4600</td>\n",
              "      <td>1/30/2019</td>\n",
              "      <td>20:23</td>\n",
              "      <td>Ewallet</td>\n",
              "      <td>985.20</td>\n",
              "      <td>4.761905</td>\n",
              "      <td>49.2600</td>\n",
              "      <td>4.5</td>\n",
              "    </tr>\n",
              "    <tr>\n",
              "      <th>699</th>\n",
              "      <td>751-41-9720</td>\n",
              "      <td>C</td>\n",
              "      <td>Naypyitaw</td>\n",
              "      <td>Normal</td>\n",
              "      <td>Male</td>\n",
              "      <td>Home and lifestyle</td>\n",
              "      <td>97.50</td>\n",
              "      <td>10</td>\n",
              "      <td>48.7500</td>\n",
              "      <td>1023.7500</td>\n",
              "      <td>1/12/2019</td>\n",
              "      <td>16:18</td>\n",
              "      <td>Ewallet</td>\n",
              "      <td>975.00</td>\n",
              "      <td>4.761905</td>\n",
              "      <td>48.7500</td>\n",
              "      <td>8.0</td>\n",
              "    </tr>\n",
              "    <tr>\n",
              "      <th>996</th>\n",
              "      <td>303-96-2227</td>\n",
              "      <td>B</td>\n",
              "      <td>Mandalay</td>\n",
              "      <td>Normal</td>\n",
              "      <td>Female</td>\n",
              "      <td>Home and lifestyle</td>\n",
              "      <td>97.38</td>\n",
              "      <td>10</td>\n",
              "      <td>48.6900</td>\n",
              "      <td>1022.4900</td>\n",
              "      <td>3/2/2019</td>\n",
              "      <td>17:16</td>\n",
              "      <td>Ewallet</td>\n",
              "      <td>973.80</td>\n",
              "      <td>4.761905</td>\n",
              "      <td>48.6900</td>\n",
              "      <td>4.4</td>\n",
              "    </tr>\n",
              "    <tr>\n",
              "      <th>...</th>\n",
              "      <td>...</td>\n",
              "      <td>...</td>\n",
              "      <td>...</td>\n",
              "      <td>...</td>\n",
              "      <td>...</td>\n",
              "      <td>...</td>\n",
              "      <td>...</td>\n",
              "      <td>...</td>\n",
              "      <td>...</td>\n",
              "      <td>...</td>\n",
              "      <td>...</td>\n",
              "      <td>...</td>\n",
              "      <td>...</td>\n",
              "      <td>...</td>\n",
              "      <td>...</td>\n",
              "      <td>...</td>\n",
              "      <td>...</td>\n",
              "    </tr>\n",
              "    <tr>\n",
              "      <th>402</th>\n",
              "      <td>236-86-3015</td>\n",
              "      <td>C</td>\n",
              "      <td>Naypyitaw</td>\n",
              "      <td>Member</td>\n",
              "      <td>Male</td>\n",
              "      <td>Home and lifestyle</td>\n",
              "      <td>13.98</td>\n",
              "      <td>1</td>\n",
              "      <td>0.6990</td>\n",
              "      <td>14.6790</td>\n",
              "      <td>2/4/2019</td>\n",
              "      <td>13:38</td>\n",
              "      <td>Ewallet</td>\n",
              "      <td>13.98</td>\n",
              "      <td>4.761905</td>\n",
              "      <td>0.6990</td>\n",
              "      <td>9.8</td>\n",
              "    </tr>\n",
              "    <tr>\n",
              "      <th>443</th>\n",
              "      <td>192-98-7397</td>\n",
              "      <td>C</td>\n",
              "      <td>Naypyitaw</td>\n",
              "      <td>Normal</td>\n",
              "      <td>Male</td>\n",
              "      <td>Fashion accessories</td>\n",
              "      <td>12.78</td>\n",
              "      <td>1</td>\n",
              "      <td>0.6390</td>\n",
              "      <td>13.4190</td>\n",
              "      <td>1/8/2019</td>\n",
              "      <td>14:11</td>\n",
              "      <td>Ewallet</td>\n",
              "      <td>12.78</td>\n",
              "      <td>4.761905</td>\n",
              "      <td>0.6390</td>\n",
              "      <td>9.5</td>\n",
              "    </tr>\n",
              "    <tr>\n",
              "      <th>223</th>\n",
              "      <td>279-62-1445</td>\n",
              "      <td>C</td>\n",
              "      <td>Naypyitaw</td>\n",
              "      <td>Member</td>\n",
              "      <td>Female</td>\n",
              "      <td>Fashion accessories</td>\n",
              "      <td>12.54</td>\n",
              "      <td>1</td>\n",
              "      <td>0.6270</td>\n",
              "      <td>13.1670</td>\n",
              "      <td>2/21/2019</td>\n",
              "      <td>12:38</td>\n",
              "      <td>Cash</td>\n",
              "      <td>12.54</td>\n",
              "      <td>4.761905</td>\n",
              "      <td>0.6270</td>\n",
              "      <td>8.2</td>\n",
              "    </tr>\n",
              "    <tr>\n",
              "      <th>629</th>\n",
              "      <td>308-39-1707</td>\n",
              "      <td>A</td>\n",
              "      <td>Yangon</td>\n",
              "      <td>Normal</td>\n",
              "      <td>Female</td>\n",
              "      <td>Fashion accessories</td>\n",
              "      <td>12.09</td>\n",
              "      <td>1</td>\n",
              "      <td>0.6045</td>\n",
              "      <td>12.6945</td>\n",
              "      <td>1/26/2019</td>\n",
              "      <td>18:19</td>\n",
              "      <td>Credit card</td>\n",
              "      <td>12.09</td>\n",
              "      <td>4.761905</td>\n",
              "      <td>0.6045</td>\n",
              "      <td>8.2</td>\n",
              "    </tr>\n",
              "    <tr>\n",
              "      <th>822</th>\n",
              "      <td>784-21-9238</td>\n",
              "      <td>C</td>\n",
              "      <td>Naypyitaw</td>\n",
              "      <td>Member</td>\n",
              "      <td>Male</td>\n",
              "      <td>Sports and travel</td>\n",
              "      <td>10.17</td>\n",
              "      <td>1</td>\n",
              "      <td>0.5085</td>\n",
              "      <td>10.6785</td>\n",
              "      <td>2/7/2019</td>\n",
              "      <td>14:15</td>\n",
              "      <td>Cash</td>\n",
              "      <td>10.17</td>\n",
              "      <td>4.761905</td>\n",
              "      <td>0.5085</td>\n",
              "      <td>5.9</td>\n",
              "    </tr>\n",
              "  </tbody>\n",
              "</table>\n",
              "<p>1000 rows × 17 columns</p>\n",
              "</div>"
            ],
            "text/plain": [
              "      Invoice ID Branch  ... gross income Rating\n",
              "350  860-79-0874      C  ...      49.6500    6.6\n",
              "167  687-47-8271      A  ...      49.4900    8.7\n",
              "557  283-26-5248      C  ...      49.2600    4.5\n",
              "699  751-41-9720      C  ...      48.7500    8.0\n",
              "996  303-96-2227      B  ...      48.6900    4.4\n",
              "..           ...    ...  ...          ...    ...\n",
              "402  236-86-3015      C  ...       0.6990    9.8\n",
              "443  192-98-7397      C  ...       0.6390    9.5\n",
              "223  279-62-1445      C  ...       0.6270    8.2\n",
              "629  308-39-1707      A  ...       0.6045    8.2\n",
              "822  784-21-9238      C  ...       0.5085    5.9\n",
              "\n",
              "[1000 rows x 17 columns]"
            ]
          },
          "metadata": {
            "tags": []
          },
          "execution_count": 20
        }
      ]
    },
    {
      "cell_type": "code",
      "metadata": {
        "colab": {
          "base_uri": "https://localhost:8080/"
        },
        "id": "LYBFNT7VMJW_",
        "outputId": "5534da86-fc40-45b6-a60e-6f91660df61c"
      },
      "source": [
        "# Visualização por colunas selecionadas\r\n",
        "df_market['City'].sort_values(ascending=False)"
      ],
      "execution_count": null,
      "outputs": [
        {
          "output_type": "execute_result",
          "data": {
            "text/plain": [
              "999      Yangon\n",
              "512      Yangon\n",
              "464      Yangon\n",
              "471      Yangon\n",
              "472      Yangon\n",
              "         ...   \n",
              "571    Mandalay\n",
              "901    Mandalay\n",
              "285    Mandalay\n",
              "570    Mandalay\n",
              "750    Mandalay\n",
              "Name: City, Length: 1000, dtype: object"
            ]
          },
          "metadata": {
            "tags": []
          },
          "execution_count": 21
        }
      ]
    },
    {
      "cell_type": "code",
      "metadata": {
        "id": "4OPSmnpxrJW5"
      },
      "source": [
        "# A classificação (ranking) atribui posições de um até o número de pontos de dados válidos em um array. \r\n",
        "#Os métodos rank de Series e de DataFrame são aqueles a serem observados; \r\n",
        "#por padrão, rank resolve empates atribuindo a cada grupo a classificação média:\r\n",
        "\r\n",
        "df_market.rank(method=\"first\")"
      ],
      "execution_count": null,
      "outputs": []
    },
    {
      "cell_type": "code",
      "metadata": {
        "id": "F4rHxucsr1v7"
      },
      "source": [
        "df_market[\"Total\"].rank(method=\"first\")"
      ],
      "execution_count": null,
      "outputs": []
    },
    {
      "cell_type": "markdown",
      "metadata": {
        "id": "4fQmC1qQsL-N"
      },
      "source": [
        "![image.png](data:image/png;base64,iVBORw0KGgoAAAANSUhEUgAAAggAAAFMCAYAAACu3USEAAAgAElEQVR4nOydd3wUxf//37nUu0tPqAESCJDQS4QAoQgIyVeE0CzgBxH5qEgTLFSR0INI7yIiICCC0osCgtJEeueDIEi5oEgzdEKevz/yu5XNXcgdCQTIPB+P1+MBe7Ozs++dnXntzOxGUCgUCoVCoUiH5HQBFAqFQqFQPH4og6BQKBQKhcIGZRAUCoVCoVDYoAyCQqFQKBQKG5RBUCgUCoVCYYMyCAqFQqFQKGxQBkGhUCgUCoUNyiAoFHa4efMm+/fv5+DBgzldFIVCocgRlEFwgKFDhxIREZGp2rRp43Cen332GREREWzdujXbyjlz5kwiIiLYsGFDtuS3YsUK3n33XRt99NFHDu3/66+/8tZbb1GrVi2aNWvG119/nS3lsse2bdu06zBo0KAM0128eJEKFSoQERHBq6++mmG6//73v7i7uzN37lyb386dO8eFCxeypdz30qZNGypUqJDt+T4Ij6osj9M5P048rDqW28nuNvJpRxkEB/jwww+JiorSlDdvXkSEsLAw3faPP/7Y4Tzbt2+PiHDixIlsK2enTp0QEQ4fPpwt+UVHR+Pi4oKrq6tO1apVy3Tf4cOHYzAYKFSoEPXr1ycgIAARYdKkSdlStvRMmzYNEUFEqFGjRobpevfuraVr27at3TSzZ8/GbDazatUqm98uX76MiBAfH59dRdcoVKgQZcqUyfZ8H4RHVZbH6ZwfFx5mHcvtZHcb+bSjDMID8MorryAidjsQR6lVqxZeXl7cvXs328rVoEEDXF1duX37dpbzOnHiBCLC8OHDnd53wYIFiAjvvvsuKSkpAFgsFry9vYmMjMxy2ezx4YcfIiIYjUa8vLzsxuCvv/7C29sbo9GIiDBkyBC7ec2ePZvdu3fb/W3btm2ICD169MjW8l+7dg0XFxeaNWuWrfk+zmV5nM75ceJh1TFFWhvp5uaWLW1kbkAZhAegUqVKiAjHjx+3+/vly5eZM2cOQ4YMITExkeXLl5OamqpLky9fPsqWLcudO3dYtGgRAwYM4NNPP83Q2aamprJ27VqGDRvGkCFD2LJli02a0NBQihcv7nRZ7DF8+HBcXFw4efJkpmnv5datWxQqVIiKFSvamJ9x48aRkJDgVH6OEh8fj4jw6quvIiJs377dJs17772HwWDg5ZdfRkRYuHCh7vfMYrxkyRI++OADRIS3336bRYsWceXKFd3+P/74I8OGDSMhIYH58+dz8+ZNm3Jcu3aNuXPn0r9/f8aOHcupU6fYs2cPIkKvXr1syuRInjt37tTi+/nnn3P+/HmH4uZsWTKrg4/yOI6cc2Z5paamsmjRInbu3MnNmzf5+uuv6d+/P1OmTOGff/4B4OjRo4wcOZIhQ4bwww8/6PZftmwZmzdv5saNG8yfP5+EhATGjBnzwG2DI3XsQa9BSkoKK1euZPDgwSQmJrJixQq7bUFmdS6rMbNXrkWLFrF3714A1qxZw8CBA7l69apDMbu3PLdv3+bbb79lwIABTJ48mbNnz+qOZa+NtFgsLFq0iFWrVjnUNuYmlEF4ALy9vfH09LT79D9v3jy8vb0REby9vTEYDIgI9erV09JcuXIFESEmJoYKFSogInh6eiIiuLq6Mm3aNF2ex48fp3LlyogIXl5e2hD5hx9+qKW5ceMGBoOB559/3qmyZERUVBQ1atTg1KlTzJ8/ny+//JJjx45lut8333yDiPDFF1+QmprK4cOH2bNnDzdu3Mh036wQGRmJu7s7y5cvR0SYMGGC7neLxYLRaOS1116jdevWiAj79u3Tfs8sxhcuXNC23au//voLgGPHjhEVFYWI4ObmpsU6IiKC06dPa8fZunUrISEhiAgeHh64uLhgMpno0KGDFjcrjuR58+ZNWrRogYjg7u6ujY6YzWZ27dp135g5UxZH6uCjOo6j5+xIXidPnkREaNWqlVaHrHGOiYlh1KhRuLm5accQEUaMGAH8OxVQv359SpYsaXMfz5gxQxeHzO7HzOpYVq7BwYMHKV26tBYzV1dXRITq1atrnTo4VueyEjN7HDt2DBGhb9++NGnSRBsJTE1NdagNs5anXbt2VKxYEYPBoF2HwMBAzpw5A/zbRjZq1Ejbd9euXRQsWJD8+fPzyy+/ZBrH3IYyCE5y5swZRMTuvOnRo0dxc3OjRo0a2tqCy5cvExMTo1tv8Ouvv2o3Trt27fjzzz9JSUnhu+++w8vLC6PRyJ9//gnA33//TdGiRQkPD2fTpk2kpqZy6tQp7Sa2Vup9+/YhInTr1s2pstjDesNGRkbi4eGhldVgMPDJJ5/cNz7/+c9/EBG++eYbihYtqu0bGBhod8FfdpCSkoKHhwcRERFcunQJFxcXmwWjHTt2xN3dnd9//51nnnkGFxcXzbQ4EuM7d+5w+vRpGjdujIiwe/durcE8f/48hQsXxmw2M336dG7cuMGVK1d4++23ERGaNm0KpE1x5MuXj4CAABYuXMjt27e5fPky7dq10+K0adMmp/IcMmSINhVkHTadPn06InLfRbPOlMXROviojuPIOTua1/fff6916OPHj+fWrVta7EWE0qVLa0+2W7duRUSoXLky8O9UQPr7eNGiRRiNRkwmk9a5O3I/3q+OZeUanDt3jvz585MnTx6WLFnC7du3uX79ujbaZr2nHa1zWYmZPVasWIFI2pquEiVKMGXKFLZs2eJwG2Ytj5ubG4mJiVy7do2UlBSt3GPHjgX+bSO7d+8OpI3WmM1moqKiNBOh0KMMgpOsW7cOEbE7b7pu3To6depk82pcq1atEBFtCPSrr75CRHjuueds8njzzTcREebNmwfAu+++i4uLC/v377dbDusbBQsXLkREmDx5slNlsYe1AX7ppZc4ePAg58+fZ+bMmZhMJgwGA7/99luG+5YoUQIPDw8CAgLo27cvP/zwA6NHj8ZkMuHm5ubQKISzWA1N48aNAShVqhQlSpTQfv/jjz/w8PDgnXfeAcDX15fQ0FDtd0djDGnTSz4+Prp01oVPs2fP1m2/desWwcHBuLm5cfPmTe3afvvtt7p0V69e1Z6SrNfF0TxfeOEFRITNmzdraW7fvs3s2bNZt25dhjFzpizOxOdRHMeRc3Y0r/HjxyMi9OzZU5fu+eefR0RshvC9vLx45plngLS1Khndx9bOyTqN5cz9aK+OZeUaWEdqli1bptt+5MgR6tevz8iRIwHH61xWYmaP0aNHa6MU1mkF67k5EjNrebp06aJLt2zZMkREOz9rGzllyhRGjx6NwWDglVde4fr16xmWLbejDIKTTJ48GRHbeVMrqamp7N+/n6+++ooBAwbQuHFjXFxcCAgI0NL069cPEfuLHMeMGaN19Hfv3sXf35+goCD69u2r0zvvvIOIaJ2etVO/t1NwpCz2SEpKYt++fTbzcda50fRTIFZSUlK0ocv0owUDBgxARBg9erTdfT/44AOio6Pvq40bN9rd1/oE8sEHHwBoT6fW18Tat2+P0Wjk7NmzJCUlISI0aNAAwKkYQ9r00r2NnXX/woUL2y2b9Wnnzz//JG/evDpjci8lS5bUroujef7111+MGDFCe3qqX78+CQkJ/Pzzz/edS01NTXW6LI7G51EcJ7NzdiavLl26ICI20zEVKlTA399fF8eLFy8iIjRv3hyAjz76KMP7eOzYsTb3iqP3Y0Z17EGuQUpKCn5+foSFhdn9Pf0xHKlzWYmZPazn8N1339n85kjMrOXZtm2bbt/PPvtMG82Ef9vIKlWqaCM/e/bsuW9ccjvKIDhJt27dENHPm1pZvHgxRYsWxWAwEBkZSZMmTRg6dCgeHh5ER0dr6ayL5C5fvmyTR//+/RERli9fzpEjR7Th+Yy+vWB1x23btkVEtCFJR8viDBMnTkREmDp1qt3fz58/j4hQqFAhm9+saxMy+kbBCy+8QHh4+H2V0QJO6xPIZ599BsDUqVO1hvu3337Dzc1NMw8bNmxAROjUqROAUzG2Ti+1bt1aO7Z19OKVV16xW7YyZcpgNBrZv3+/zb5WUlNTyZMnj3ZdHM3zzp07QNpbI82aNSM4OFhr+MqVK5fhsOmhQ4ccLosz8XmUx7nfOTuTV2xsLC4uLly7dk1XNpPJZHOfWIfLrQ8HL730Uqb38YoVKwDH70d7dexhXYN7cabOZSVm9qhfvz5ubm4kJyfrtjsaM3vlAXj//fd1JsDaRvr6+vLGG28gIjRp0uS+ccntKIPgJNZhtHuHNwEOHDiAq6srtWvXJikpSdtuveFfe+01bZv1LYj0FRqgWrVqeHp6cvXqVbZv346I8P7772darurVq2M2m0lNTXWqLOk5cOAAgwYNsrvAzfrtBntvCMC/Twt16tSx+W3gwIE6N5+dWJ9AfvrpJ+DfucaEhAReffVVfHx8tOFI61PFuHHjAJyKsXU4d8CAAdq23bt3IyJ2P7pkfVU0NjZWayhff/11m3TWMlivi6N5pic1NZUdO3ZQp04dRCTD73I4UxZn4pMTx7F3zs7kFRYWZvPUfOrUKURs13DMnDlT93BQsWJFh+5jZ+5He3UsK9dg06ZNiAhvvvmmzW9r1qxh9OjRXLp0yak6l5WY2aNQoUKULFlSt82ZmNkrD6CNNlivT/Xq1TEajRw+fJjbt28TGhqKiPDrr79mWLbcjjIIThIeHm4zZwgwePBgux2gdfu979xb516XLFmiS/vtt9/qblLrE/mzzz6rS5eSksKzzz5LmTJluHXrFgCBgYFUrFjR6bKkxzpPl34+7+jRo9qCHusQ4vHjx9m/fz8XL17U0gUEBJAvXz6tXJC2wKpgwYIEBQXp5hizi3r16iEiWkNy9+5dfHx8iIyMxGAw6DpK61PF6tWrAedibB2ZuHeO9sqVK7i4uFCgQAHdOaekpGhm8ocffsBisSAihIaGak/+AHfu3KFWrVqICIMHD3Yqz0GDBmE2m/n+++91ZbfOjWf0DQtnyuJMfB7FcRw5Z0fzunnzJgaDwWYNwZo1a3Rls9KnTx9E/l1UaTabHbqPnbkf7dWxrFwD6wr/smXL6rZfuHCB/Pnza9sdrXNZjVl6rN/CeOGFF+zGJrOYZVQegIiICN1o5r1tJPwb64YNG9otm0IZBKe4desWrq6uBAYG2vyWmJiISNrc9po1a1i6dCnt2rXTXsvp1q0bly5d0hyw0WgkMDCQyZMn88MPP/DRRx/h4eFBwYIFdZ9Ytb7f365dO1atWsWSJUto2LAhrq6u2sIv6+tRL730klNlscfff/+Nv78/bm5u9OnThxUrVjB69Gjy5s2Ln5+f7tVA66rle+cOrU/zDRs25LvvvmP69OkUL14cg8Fgd44xOyhUqBC+vr66bVbTEBgYqHuP3LpC/Pfff9e2ORJj+DeucXFxfPrpp9p262uTderUYeHChcyZM4eaNWsi8u+KaYC4uDjtSWzRokV89dVXREdHa6+s3dsYOpLnvHnzEBHKly/PggUL+Pnnn5kxYwZhYWEEBgZisVgyjJkzZXE0Po/iOI6esyN5HThwABGhY8eOujJbp9LSd04tW7ZEJG0e/vTp04ikvdaY2X3szP2YUR3LyjWwjq68/PLLLF++nFmzZlG2bFk8PT21UTdwrM5lJWb2sH4L47333tNtdzRmGZXnzp07uLu727xCam0jIW1ha5EiRRARfv755/vGMLeiDIITWOfz7H1q+O+//9beURZJeyWwcePGzJo1S9t29OhRfvzxR0SEoUOHEhsbq/0mItStW9dmlf+lS5do0qQJLi4uWrrSpUtrc5sAW7ZsQeTflcyOliUjNm7cSPHixXX7x8bG8r///U9LY3X+IsKBAwe07f/884/WCVsVGRmpPbFnN9ZypF8l3bdvX7tP0SVLlrT5hoUjMQbYv38/ERERuLm56Z5MkpOTadWqlbZAU0QoXLiw9kaJlT///FNrrK1xffnll+nevTsi+gVTjuR59+5devbsqXsn3sXFheeff153TezhTFkcjc+jOI6j5+xIXt999x0iwpgxY3Rl7tq1q03ZAMqXL4+/vz+gf3ugRYsWuuOkv4+duR8zqmNZuQYWi0V3DUSEChUqsH79el06R+pcVmJmD+vapClTpui2OxqzjMpz9OhRRIQOHToAtm2kFeui89q1a98/iLkUZRCykdTUVI4dO8b27dt1w+6HDx/O8NXAU6dOsW3bNpsvfqXnzz//ZMeOHZw6dcqhr309SFnSc/ToUXbs2OHwV/nuxWKxsG3btofyWuPDwtkYp+fChQvs2LGDo0eP3vcT2idPnmTbtm3aty6ymue1a9c4cOAAe/futbtg7n44U5asxCe7j+PoOWf1mmbEpEmTEBEWLFgA/FvfM7qPs+N+hKydz6lTp/j11191c/r2cLQeP2yyK2aKB0cZBIVCoXAS69tM9065KRRPG8ogKBQKhZM8//zzuLi4qI/sKJ5qlEFQKBQKJxk/fjzDhg3L6WIoFA8VZRAUCoVCoVDYoAyCQqFQKBQKG5RBUCgUCoVCYYMyCAqFQqFQKGxQBkGhUCgUCoUNyiAoFAqFQqGwQRkEhUKhUCgUNiiDoFAoFAqFwgaHDMKtW7eoV68eBQsWVHqMFBISQtu2balUqVKOl0VJSUlJ6clRbGwst2/fzrpB2LZtGxUrVmTP3n1Kj5F+O3aMli++yNBhiTleFiUlJSWlJ0eVK1dmx44d2WMQqlSpgiXpnNJjpH+Sk2ndujUTJkzM8bIoKSkpKT05io6OVgbhaZYyCEpKSkpKDyJlEJ5yKYOgpKSkpPQgUgbhKZcyCEpKSkpKDyJlEJ5yKYOgpKSkpPQgUgbhKZcyCEpKSkpKD6KnxiAMHjwEEaFNm9d028PDwxERvv9hjW77/Pnf4OLiwvz532T52CdO/oGI8OyzdXP8gqaXMghKT7IGDRpMvvz58fDwoFixcN55pyNH/nf0oR+3YWwsbdu+nuPnr6SUk3pqDEKPnj0REUqVLq1tO/K//yEiiAgLv/1O237WkkSlSpXo1q17thxbGQQlpYejTp07IyK0bfs6DRo2RESoUqUqZ85aHtoxz1qSKFqsGPFNm2aY5uhvx2jU6AVatnyRBg0bMmPGlzkeKyWl7NZTYxA6dHgHFxcXDAYDR387hiXpHPO+/hoXFxdEhC+/nKmlPf77CWbN/opTp8/o8uj38cdERUU5fWxlEJSUHo6sBmHZ8hWctSTRqNELiAizZn/1UI97+sxZzlqSMvx95qzZ1KnzLK+91pY2bV7jf0d/y/FYKSllt54ag9CqdWtKlymDiPDNgoVYks7xYY8e2rbxEyZkmkd4eDgBAQFOH1sZBCWlh6N7DYIl6RxfzZmLiGTb6J+SklLGemoMwgsvvEC9evUoVKgQPXv1wpJ0jueee47XXmuLiDB0WCKWpHNs/WUbNWvWxMfHh3r16rH/wEEsSec0I2FVj549sSSd48svZxIeHk5gYCBvv91BG3X449RpWrVuja+vH6+//rrOIJw5a6FHz57kzZuXIkWKMHbcuByLizIISk+y0huEHTt3ISI0a94cS1LadMBH/T6mYMG0vzsyatRobd8f1qyhQoUK+Pj40LRZMy19v48/pnjx4vj6+rHw2+8QEd5o356XX36Z559vhCXpHCaTiYiICLv7LF6yhA979KBIkSKYzWZq1qzJtl+3a8c98r+jNG/eAl9fX8qVK8fq73/I8TgqKT2InhqDUKt2bZ5/vhFxcf9HbFwclqRz5M2blzFjxyEi9OnTlz9OnSasaFFKlS5Nnz598fLyonnzFliSzrFk6VLy5y+At7c3c+bOZcvWX9i8eQuurq5ER0fTtm2aCRgwcCCWpHMkDBiAiFCzZk3KlSunMwijR49BRGj96qvUrFkTEeGHNWseeUwsScogKD3ZSm8Qjh3/HRHhmf/f1oweMxYRoXv396hZsyYuLi5s2rwZS9I5SpQoQf78BeifkEDCgAFYks7Rs1cvRITq1avTsVMndu7ajbu7Oz4+Pri4uNDujTewJOkNgm6fjh3ZvWcv/RMS6N27D+3/+19EhIaxsVqZX3zxJVxdXfmwRw8KFSpEcHAwJ07+keOxVFJyVk+NQahQoQLNm7fgwx49yJ+/AHv37UdE2LhpMyJCl65dmTlzFiLClClTsSSdo379+vj4+GhzjemnGDp26oSIsGLlKs6cteDn56ctgixXrhxubm4c//0EP2/cpDMIlSpVwmw2c+r0GdasXYuI0P6//82RuCiDoPQkK71B2H/goO5eK1euHMWLF8eSdI6Vq1YjIiQMGMDpM2fx8vIiOjpaG/U7+ccpvL29yZ+/gG79kdFoRER0bzRZDUJG+1iS0kYWDhw8RJ48eQgMDMSSdI7fjh3HYDBQr149LEnnGDBwICLC9C++yPFYKik5q6fGIBQtVozWr77KnLlpc5Sjx4wlKCiIs5aktCeDdu346KN+umkEq6zuPr1BiIv7P0SEg4cOY0k6R/ny5TGZTJy1JOHr60exYuFYks7x+4mTukbL19ePyMhILElpq51FhPr16+dIXJRBUHqSld4gbPjpZ+115rOWJK1zv1edOnfGknROe7qvUaMGBw8dZv2Gn3TTE1aZTCZCQ0NttkVERGS4z7ffLSIyMlI7poeHB5akc6xduw4R0UYiZs6ajYjwUb+PczyWSkrO6qkxCEFBQfz3zTe1VxurVo0mLu7/sCSdw9vbm5YtX+Tj/v0REfp9/DHz53+jKaMRBOtrVQcOHsKSlGYQrCMOXl5e2pNL+kWK3t7e2vDkb8eO2wxBPkopg6D0JCu9QRg7Lm3KsHfvPpy1JGE2mylVqpTuft6y9RcsSWlP+D179cLFxYWyZdPWAtgbzbt3OiH9NuuoxL377N23H7PZTI0aNVi/4SeinnlGMwjf/7AmzSC0a4cl6V+DYJ3iUFJ6kvRUGISzliTc3d15991uWJLOUbJkSc0IWJLOkS9fPmLj4pgx48v73qyRkZF4eXlpQ4n/ffNNRITlK1Zy5qyFgIAAypcvjyXpHMWLF8fV1ZUTJ/9g26/bdQahdJkymEwmTp85y7p1PyIidOjwTo7ERhkEpSdZ9xqEU6fPUKVKVd2Hz8qUKUtQUNB95/jffrsDIsLadT/i4uJC6TJldN9RuJ9B2Lf/ACKi2+fz6dMREW3xcfny5TWDcPhI2gNK3bppUwyDBg1GRJg5a3aOx1JJyVk9FQbBOsTfu3cfLEnnaP3qq7qnjqLFihETE8Mfp05TsGBBfH196ffxx/RPSOCLGTO0fOrXr68tLty0ebO2fqB69eq8+eZbiAjDP/kES9I5unXrjogQGxdHdHR02oLFWrWwJJ1j4MBB2jBo3br1cHV1Zf2Gn3IkNsogKD3JshqE//ynDTVq1LAZ7k8cPhwRoUGDBnz66Ujeeacjf5w6zVlLEq+91pbE4cM1w3789xO0bPmi1oG/+2439uzdd1+DYEk6R9269bR9unTtqhmE6Oho+vTpi4hgMBi0kci4uP/D1dWVPn36EhYWRuHChdUiRaUnUk+FQdi9Zy8iwqBBg7EknWPKlKmEh4fzx6nTWJLOUbZsOcqVK4cl6RwbN20mJiYGs9lM0WLFdHODS5cuo1ChQnh6evLVnLlYks4xbvx4QkND8ff3p0vXrpw+cxZLUtrHlho1egF/f386dHiHypUrU6VKVSxJ5zh1+gwdOrxDYGAghQoV0hZF5oSUQVB6ktWjZ088PT3x8fGhXLlyDBk6TLsHLUlprxT36tWbIkWK4OvrS9Wq0ezevYcj//sfpUqVwsPDgxIlSmj382/HjtOqdWuCgoLIly8fP6xZk6lB2LtvPzVr1UJECA4OZuWq1bzRvj3e3t7Uql2bps2aISL8fuIklqRzHDh4iIaxsXh7e1OxYkXWrF2b43FUUnoQPRUGQSljKYOgpJR1rVm7lpCQEA4f+V+Ol0VJ6VFJGYSnXMogKCllXdt37KRRoxds3mZQUnqapQzCUy5lEJSUsqbTZ84SFRVFWNGijB4zNsfLo6T0qKQMwlMuZRCUlJSUlB5EyiA85VIGQUlJSUnpQaQMwlMuZRCUlJSUlB5EyiA85VIGQUlJSUnpQaQMwlMuZRCUlJSUlB5EyiA85VIGQUlJSUnpQaQMwlMuZRCUlJSUlB5EyiA85VIGQUlJSUnpQZRtBmHPnj1Uq1aNz6dPV3qMNHv2bJo0aUK3bt1yvCxKSkpKSk+OYmJi2L9/f9YNwh9//MFzzz1H69atlR4zvfDCC7Rs2TLHy6GkpKSk9OSofv36nD59OusGYdu2bdSoUcORpIpHTNu2bfnqq69yuhgKhUKheILI1jUIyiA8niiDoFAoFApnUQYhF6AMgkKhUCicRRmEXIAyCAqFQqFwFmUQcgHKICgUCoXCWZRByAUog6BQKBQKZ1EGIRegDIJCoVAonEUZhFyAMggKhUKhcBZlEHIBjhqE+Ph4REQnb29vKlWqxJAhQ7h69arTx/7zzz9p0KABZrOZokWLPkjxM2TGjBmICGvWrNG2jR49munTp2frcazs3r2b/v37c/z48UzThoaGEhMTA8Bvv/2GiNC/f/9sKYe9836UtG3bFhHhzp07j/S4J06cQETo27evti19/crp2AwZMgSz2YyIYDAYcHV15b///W+OlCUjJk+ejIuLC6NGjco0bXJyMiJCp06dgJy79k8Ly5YtQ0RYsGBBThfFIXLUIIgIgwcPdmqf3EJ2xsZZg9C5c2f69u1L3759eeeddyhVqhQiQtmyZfnrr7+cOna/fv0QEXr27JntHbe9zuDejjm7cabzady4Me3btwey3yAsW7aMqKgotm3bli35OUtOdRIWi4WoqCgmTZqkbUtfv3I6NocPH2bPnj3s27eP/fv3c/LkyRwpR0YcOXIEX19fZs6c6VD69AYhISGBqKgoUlJSHmYxn1qUQXACNzc3RowY4dQ+uYXsjI2zBuHEiRO67ampqQwYMHV4oQAAACAASURBVAARoXnz5k4d++2330ZEuHHjhlP7OcLjbBDuJbsNQk7zOD1FPsz69TRy5coVzp8/73D69AZBkTWUQXCCPHnyMG3aNKf2yS1kZ2yyahCsVK5cGRcXF/744w9t25IlS6hWrRomk4k8efLQoUMHLl++zKVLl2ymK2JjYwE4deoU7dq1o3Dhwnh6elK4cGE6derEP//8A8CIESMQEbZv325zHvd2TPd22LNnz7Y5Xt++fRk9ejQiwquvvprp+c+cOZNnnnkGPz8/fH19qVatGitXrgQgPDzcJv87d+7g6elJp06d+PHHH6lcuTKRkZGA/SmGvn370qtXLwoUKICnpycVKlRg7ty52vG3b9+OiNgYw/TGxFGjsnnzZuLi4sibNy9Go5HIyEhGjhyZaRy2b99OXFwcPj4++Pr6Ur16dRYvXqz9nv463Lhxg/79+1OyZEmMRiN58+YlPj6ew4cPa/vs3buXxo0bExwcjMlkomzZsowfP1533EWLFhEdHY2Pjw8BAQHUqlVLd473TjFkVL/sxSYpKYl27dppcShVqhQjRozQGRxHYrVz507+7//+L8O4wP3rkJXFixdTvXp1jEYj3t7e1K1blw0bNmR6TUSE6dOn0717d/LkyYPJZKJx48acP3+eadOmER4ejtFopEKFCjZ14+LFi3Ts2JGCBQvi5eVFVFQUy5cv16U5evQo8fHx+Pj44OPjQ3x8PDt37sx0isGRc05PSEgIjRo1YurUqZQoUQJPT0/Cw8MZMmSIbnQis7q1detWrcOdMGECoaGhvPnmm0Dm7UxGZFd9Wb16NVWrVsXLy4t8+fLRuXNn5syZY2MQHiR+j4ocNQjlypVj6dKldn+Li4sjMDAQNzc3ihQpwrBhw7Tf/vrrL1xdXRkzZoxuny+//BKDwcCff/4JwN27d/nkk08oWrQoRqORihUr2tzQ58+fp1OnTpQvX57AwEBcXV0JDg7WlWvZsmWEhYVhNBoxmUw899xzHDlyRJfPuXPn+M9//oO/vz9ubm6EhITQuHFjbt26paU5ePAgzz//PCaTifz58/P6669z4cIFp2PjLNllED7++GNEROvUvvjiC0SEZ599lrFjx9KlSxfc3NyIjo7m+vXrzJs3j+eeew4RYdasWWzYsIGbN28SERGBr68vffr0YerUqXTs2BERoV27dsCDGYSTJ08yb948goODiYiIYN68eezbt89hg/Dll18iItStW5cJEyYwatQoIiMj8fDw4LfffmP58uV06NBB66DmzZtHamoqnp6exMbG4unpSalSpbSG1J5BCAgIoFixYgwZMoShQ4dSokQJRISpU6cC2WsQDh06hMlkonjx4gwfPpxJkyYRGxuLiNx3eHnbtm14eXlRoEABEhISGDduHFWrVkVEmD9/vt3rYP1/+/btmTJlCgkJCfj5+WlrTi5fvkxQUBBFihTRylKvXj2twwP46aefMBgMxMTEMGHCBD799FOKFy+Op6cnhw4dAvQG4fbt23brV/rYXLp0iaJFi+Lh4UHXrl2ZOHEiL7/8MiJCx44dHY7V9u3bMRqN5M+fn/79+zNu3DiqVKmii0tmdQhg0qRJiAgREREkJiYyYMAAQkJCcHV1ve/9bq0bhQoVIiYmhnHjxtGmTRtEhFKlSlG4cGESExNJTEwkMDAQf39/rly5AsDVq1cpXbo03t7e9OrVi1GjRlGxYkUMBoPWHlosFvLkyYO7uzudO3dm7NixxMfHExQUdF+D4Mg52yMkJITAwEDMZjM9evRg9OjRPPvss4gIr732mpYus7plNQhNmjTB1dWVatWqMWXKFIfaGXtkV335/vvvcXV1JW/evCQkJPDJJ59QqVIlLZ5Wg/Cg8XtU5KhBmD17NmfPnrX725IlS9iwYQNbtmyhb9++iIjOVdWvX197IrXSokUL3fDy+++/T3BwMNOmTWPTpk18+OGHGAwGdu7cqaXZvXs3IsL777/P6tWr2bhxIwsXLtSV6/jx4yxZsoRffvmFpUuXEhkZSdWqVbXfU1NTqVKlCqGhocyaNYv169drQ5/JyclA2l+7DAgI4KWXXmLdunUsXryYEiVKEB8f73RsnCW7DMLnn3+OiDBq1CiuX7+Or68vtWvXJjU1VUtjNQ3Whj/9EPD27dsJCQnhs88+0+Vds2ZNwsPDgQczCFbSTzHcvn2b5ORkbt68ed9zb9WqFeXKldM9JaxduxYRYfbs2Rkez9PTExFh4MCBuvzsGYSgoCCdIbx8+TIhISEEBARw/fr1bDUI48aNIyQkRPenWm/duoXBYNDWRtijVq1aeHl56UaJrl27Rr58+YiOjgb01+HOnTsUL17cptH96KOPEBFOnz7N5s2bEREGDBigK8srr7zC8OHDgbTFfSLCTz/9pKXZv38/LVq00J507S1STF+/0sfGukbB2olbady4Me7u7ly5csWhWNWpUwdPT0/dvWGNS7Vq1YDM69CVK1fw9vYmNDRU9xRrsVjw9/enSJEi3L171+51sdaNe+f/U1NTCQ0NRUR0DyyJiYmICBs3bgRg8ODBiAhr167V0ty4cYOIiAjCwsK4e/cu7733HiLCl19+qTvuW2+9dV+D4Mh9Y4+QkBBERDdycvfuXRo1aoSIsGvXLofqltUguLq68uOPP+rilVk7Y4/sqi+VK1fG3d1d18nfvHmTcuXK6QzCg8bvUfHEvMUQERFBjx49tP9PmTIFDw8PLl++DMA///yD0Whk7NixQNrIgJubGwsXLtTlExUVRZcuXbT/Ww3C1q1bHS7LvHnzEBGuXbsG/DuvdO/CKGtDZTUI7777LuXLl9c1ANb9MhpFyC6yyyB89tlniAjjx49n9erV2r+Tk5M1Xbp0CS8vL5o1awbcf474zJkzbNy4kfHjx+Pj40NISAiQvQbBWa5fv86BAwdYvHgxjRs3RkS0qZ6MDELBggVt5uPtGQR787jWBunnn3/O9ikGgJSUFI4dO8b333/Phx9+eN/RlKtXr2IwGOya1rt372odU0ZrEC5evMj27duZPXs2pUuXRkT47bffuHz5Mvnz58dkMvHmm2/y9ddf2/wJ2S1btuDq6kpISAi9e/dm1apVXLp0SZfmQQxC1apVCQgI0JlYSOtc05c/o1hZ49KkSRObuNy+fdvGfGZUh1asWIGI6EZDrXTt2hURYd++fTa/wb8GYdCgQbrtMTEx5M+fX7dt7ty5iIg2OlCtWjUKFCigu0+Tk5O1EcG9e/dSqVIlfH19bRYfHjp0KNMphvudc0aEhIRQpkwZm+3r1q1DRBgyZIhue0Z1y2oQXnrppQyPlVE7Y4/sqC9XrlxBRGjUqJFN/tYRpPRrEJyN36PisTQId+/eZejQoZQqVQo/Pz/Cw8Mxm828/fbbWhrrNMOsWbOAtKEad3d3bQHODz/8gIjg4eGBp6enJoPBwAsvvKDl44hB2LNnD40bNyZfvnwEBwcTFhaGiJCUlASkOXRfX1/dPukNQo0aNTAYDLqyeHh4ICKZXoCskl0GoXfv3ogIixYtYtasWYhIhqpYsSJg24CnpKTQv39/ChYsiMFgICwsjMaNGxMaGpqjBmHXrl3Ur18fd3d3fH19qVy5shaPzAxCw4YNbfKzZxDsdQxW07Vw4cJsNQjnz5+nTZs2+Pj44OnpSWRkpBa/jAzCyZMnEUl7i+V+pL8O8+fPp2zZsogI+fLlo1atWtSoUUNrxCFtBK1r167atIr1afjnn3/W8t26dSutWrUib968iAhubm40adKEU6dOAQ9mEMLCwihbtux9zyezWP3xxx8ZGrx7yawOzZw5ExHRrTuxMnLkSESEdevW2c07o7oRExNDaGiobpv1AWbRokUAFCtW7L736uLFiwkLC7PbYV+/fv2+BsGR+8YeISEhNiPAkLYOQkS0h7jM6pbVIAwdOlSXjyPtjD2yo75Y7yN79WXlypU6g/Cg8XtUPJYG4eOPP8ZoNDJlyhT27t3Lli1bKFGihM4gQNo6hQYNGgBQu3ZtXnzxRe2377//Xqv8hw8f1sna4EDmBuHChQv4+/sTFxfHhg0b2Lt3rzYcajUIPXv2JDAwULdfeoNQvXp1nnvuOZuyHD58mOvXr2c9aPchOwxCSkoKERERuLm58ddff2kjCP369WPjxo02sk7jpG/ArWsCBg4cqMUG0ho664376aef2jUILVu2fCgG4datW+TNm5cSJUqwd+9ebfuaNWscMggtWrSwydOeQXjnnXds0lmf4tavX8+OHTvsdgITJkxw2iDEx8fj6enJsmXLtHjduXPnvgbh8uXLiAgtW7a0+W3FihXMmTMH0HcSu3btQkRo2rQpFotFS2+dFrQ3j5qUlMS0adPw9/fH19fX7ujSkSNH6N27Ny4uLpoBexCDULFiRYKDg23y37VrF9OmTePy5cuZxurWrVu4urrajcuaNWtYsGCBQ3XIes8kJiba5NOlSxdERFtvkZ6sGIRq1aoREhJi9z7duHEj58+fp0qVKuTNm9fmuOk7u3uvvaP3jT1CQkIoVaqUzfYff/wRkbQ3fhypW1aDkH7BqyPtjD2yo74kJydjMBjsjmpY1xw4WmdymsfSINSrV4+4uDjdtujoaBuDsHjxYgwGA0uWLEHk3zk3SPuAiqura6avlmVmEH7++WdEhF9++UXbtmrVKp1BmD59OiL6ecD0BqFLly4EBQXx999/Zx6AbCarBiElJUVrwF5//XUgbTjabDbrTBmkues6deowceJEwLYBty6suvd7ChcuXCAgIEC7ca1vJNy75uTmzZsULlw4U4NQtGhRqlevrv3fkTUIx48fR+TfRUhW+vfvr7tRrU+A33//vZbGGYPg7++v1RlIezoLCwvDx8eHq1evcvr0aUREN5UG8OKLLzptEAoXLkzp0qV129avX39fgwBpc6cmk4kzZ85o286fP4+vry+NGzcG9J2Ete5/8803Wvq7d+9St25drRGfN28eZrOZFStW6I5lzefs2bN07NgRPz8/m2mF0NBQSpQoATyYQbDOrX/33XfaPqmpqcTExBAQEMCdO3ccilV0dDRms1l3/S5evKg9PDhSh65du4a3tzdFixbVdVoWi0UbKc2IrBiEhIQEXF1ddZ0QpBnxZ599luTkZK3TvXedAsDQoUMzNAiO3jf2sK5BWLVqlW67dUHgTz/95FDdysggONLO2CO76ktMTAx+fn427X3Dhg01g5CV+D0qHkuD8MEHH+Dj48OXX37J9u3b2bx5MxERETYGISUlhaJFi2I2m3nmmWds8unatStubm507tyZxYsXs3TpUhITE3VPLJkZhD///BOTyUSzZs3YsGEDO3bsYNiwYTqDcPnyZfLly0f58uVZvHgx33zzDbVr19YZhN9//x0/Pz9Kly7NZ599xurVq5k9e3a2valwP7LyoaS3335bG6KsVKmSrgG3PtnGxsYyduxYRowYQWRkJAEBAdqTY0YjCA0aNGDy5MkMHDhQe0PEaDTyzTffcOLECTw8PKhatSobN25k/fr1NGrUCD8/v0wNQlRUFN7e3kyYMIFdu3Y59BbD7du3CQ4OxsfHhwEDBjBx4kRatWqlfRGvRYsWnDx5Ulsz0qxZM7744gvtLQZHDUKePHkoVKgQAwcOZMSIEdqCpU8//RRIa4giIiIIDg5m8eLFbNu2jR49euDv7/9AIwgiQocOHZgyZQrdunXD398fDw8PypYtm2F9X7duHW5ubhQuXJghQ4bw6aefEhkZibu7u2aS7+0kdu7ciYuLCyVKlGDMmDGMGjWKmJgYjEYjIkKvXr04ffo0efLkIV++fCQkJPDZZ5/Ro0cPvLy8tIWPa9aswWAwULFiRUaOHMmUKVN49dVXEUn7CBI8mEFISkqiQIECeHl58cEHHzBhwgRtxbn1S4KOxGr9+vUYDAaKFSvG2LFjmTJlivYmwPr16x2uQ9OmTUNEiIyMJDExkUGDBhESEoKbmxurV6/O8HpmxSBcuXKF8PBwAgIC6N27N1OmTOGtt97CYDBoQ/kXLlwgNDSU4OBgZsyYwa+//kpiYiLe3t4ZGgRHz9keISEh+Pv7YzQa6d69O+PGjdMWKFqngB2pWxs3brzvCML92hl7ZFd92bx5Mx4eHlSqVInly5ezadMm2rVrp00rL1iwIEvxe1Q8lgbh1q1bvPfeexQuXFibmylRooS2APFerJ1U+sWIkOY2R44cqb02EhgYSPXq1bXXIMGxNQg//fQTtWvXxsfHBw8PD/Lly0f16tV1neW+ffuoV68ePj4+FCxYkIoVKyIiuumDQ4cO0bRpUwICAvD09KRo0aIOfe40q2TlU8smk4mKFSsydOhQbVHmvSxYsICqVatq30Fo3rw5Bw8e1H63twbhgw8+oGDBgnh6elK2bFkmTpzInDlzMJvNNG3aFICFCxdSrlw5jEaj1qlaF3LdzyDMnz9fm3d05jsIW7dupUaNGphMJgIDA3n55Zc5fPgwzzzzDAEBAfz8889cu3aNuLg4rYGyfgfBUYMwbNgw+vbtS6FChXB3dyciIoIpU6bo9tu7dy9169bF19cXf39/2rZtq70Z4oxBsFgstGzZkoCAAEwmE3Xq1GHt2rV07twZk8nEJ598kuG+P/30E3Xr1sVsNuPv78+zzz6re7vA3qtuERER2rvm77//Ptu3bydfvnyEhIRw/fp19u/fT/PmzcmfPz9eXl6Eh4fzwQcf6BboLl26lJo1axIQEIC3tzcVKlRg3Lhx2sLeBzEIkDZM3qpVK4KCgjCZTJQvX57PP//c6VitXLmSqKgoXF1d8fLyonLlyjqD70gduvc8vb298fPzo2HDhmzevDnD6wFZMwiQtmbrzTff1Dq/0qVLM2rUKN2i6dOnT9OqVSutfYqOjtaGuzNag+DoOacnJCSEOnXq8O2331KhQgU8PDzInz8/3bt317WZmdWtDRs22DUIjrYz9siu+rJp0ybq1KmD0WjEx8eHpk2bam+CWdcgPGj8HhWPpUF4GkhISLBZuJhTqD/WpFBkD8nJydSuXZvExETdvLjCOawGQfF4owxCNjFs2DBWrFjBTz/9xOTJkwkICNC+6JXTKIOgUGQPycnJrFmzhgYNGmgLpBXOowzCk4EyCNnA5cuXqVGjBn5+fnh5eVGiRAn69ev30N9OcBRlEBSK7KFt27ZERkYSFhamvdWhcB5lEJ4MlEHIBSiDoFAoFApnUQYhF6AMgkKhUCicRRmEXIAyCAqFQqFwFmUQcgHKICgUCoXCWZRByAUog6BQKBQKZ1EGIRegDIJCoVAonEUZhFyAMggKhUKhcBZlEHIByiAoFAqFwlmUQcgFKIOgUCgUCmdRBiEXkBMGYdGiRfTv31/3x2Cym+TkZN0fklEoFApF9qEMQi4gJwxC+r/69jBQBkGhUCgeHsog5AKUQVAoFAqFsyiDkAtwxiAsWbKEatWqYTKZyJMnDx06dODy5cva72azmfbt2zN37lwiIyO1vy3/9ddfA2l/U15EdIqJiWHr1q3a30GfMGECoaGh2l+7PHXqFO3ataNw4cLa333v1KkT//zzj3bco0ePEh8fj4+PDz4+PsTHx7Nz504bg7B582bi4uLImzcvRqORyMhIRo4ced9zbtSoEeHh4ezatYuaNWtiNBopUqQIffv2JSUlRZd28eLFVK9eHaPRiLe3N3Xr1mXDhg33zX/79u2ICNOnT6d79+7kyZMHk8lE48aNOX/+PNOmTSM8PByj0UiFChVYs2aNbv+7d+8yYsQIIiIi8PT0JDw8nE8++YTU1FTt98TERCIiIvDy8iJ//vy0bNmS3377TctjxIgRiAi//PIL8fHxmM1mAgMDee+997h+/TrvvfceefLkwdfXl9jYWI4fP64rw759+4iPjycgIABPT0/Kly/P1KlT73veVmbPnk2FChXw8vIiPDycmTNnUr9+fcLDwwEyrBvWuI0YMUKX34wZMxARLU7Tpk1DRFi0aBHNmjXDx8cHPz8/nn/+eXbv3q3b9++//+add94hJCQEd3d3QkND6dGjB9euXXPoXBSK3IQyCLkARw3CF198gYjw7LPPMnbsWLp06YKbmxvR0dHaSIDZbKZ48eIUKFCAgQMHMmrUKEJDQ3F1deXAgQNcv36defPmUbt2bUSEOXPmsHbtWq0TaNKkCa6urlSrVo0pU6Zw8+ZNIiIi8PX1pU+fPkydOpWOHTsiIrRr1w4Ai8VCnjx5cHd3p3PnzowdO5b4+HiCgoJ0BuHQoUOYTCaKFy/O8OHDmTRpErGxsYgIM2fOzPC8GzVqRGBgIAUKFKBr165MmDBBK//kyZO1dJMmTUJEiIiIIDExkQEDBhASEoKrqytLly7NMH9rR1eoUCFiYmIYN24cbdq0QUQoVaoUhQsXJjExkcTERAIDA/H39+fKlSva/q+99houLi60bduW8ePHEx8fj4jw3nvvATBo0CBEhDZt2jB16lT69euHj48PRYsW1a6b1SAUKlSI//znP4wfP54aNWpoZbCWq3v37hgMBurWrasdf8eOHZhMJnx9fenduzcjR46katWqiAg9evS4b50aPXo0IkJ0dDSjRo2iR48emM1mgoODbQxC+rrhrEEICgqidu3ajB49mp49e+Lt7Y3JZOLAgQNA2l9dLVmyJC4uLrzxxhuMGzeOF198UTOxt2/fvu+5KBS5DWUQcgGOGITr16/j6+tL7dq1tSdT+Nc0TJ8+HUgzCF5eXhw7dkxLs2bNGkSEMWPG6I557xSDtRNwdXXlxx9/1NJt376dkJAQPvvsM115atasqXUg7733HiLCl19+qUvz1ltv6QzCuHHjCAkJYf/+/VqaW7duYTAYaN++fYbn3qhRI83MWElOTsbT05OmTZsCcOXKFby9vQkNDdWNbFgsFvz9/SlSpEiGCzKtHV1UVJQ2IpGamkpoaCgiwpEjR7S0iYmJiAgbN24EYNOmTYgIH330kS5Pq2k4duwYDRo0wNPTU9fBff3117Ro0YITJ04A/xqEd999V0vz+++/IyKEhYVx69YtbXtcXBweHh7a+dSqVQtXV1d27dqlpbl9+zYxMTEYDAaOHj1q97yvXr2KyWSifPnyurItXboUEbExCPbqhjMGoX79+rprsHXrVlxcXGjSpAkA/fr1Q0QYO3asLr8ePXogInz++ed2z0OhyK0og5ALcMQgrF69GhFh/PjxJCcna7p06RJeXl40a9YMSDMIMTExun1PnDhh04llZBBeeumlDMtw5swZNm7cyPjx4/Hx8SEkJASASpUq4evrazPcf+jQIbtrEFJSUjh27Bjff/89H374ISLCq6++muFxGzVqhKurKzdv3tRtDw0NpWbNmgCsWLECEWHYsGE2+3ft2hURYd++fXbzt3Z0gwYN0m2PiYkhf/78um1z585FRFi8eDEAvXr1QkTYs2eP7rpYTdnYsWMZPnw4IkLlypX55JNP2Lx5s825WA2C1XgA3LlzBxHhlVde0aW1Gq/Lly+TnJyMwWAgNjbW5ry+++47RIRx48bZPe9Vq1bZ7ZAB8ufPb2MQ0tcNZw3CggULbI5Tq1YtPD09SU1NpUqVKpjNZpt6dPHiRUSE5s2b2z0PhSK3ogxCLsARgzBr1iybtQP3qmLFikCaQWjUqJFuX6tB6Nu3r+6Y9gzC0KFDdfumpKTQv39/ChYsiMFgICwsjMaNGxMaGqoZhLCwMMqUKWNT5uvXr+sMwvnz52nTpg0+Pj54enoSGRmplSMzg2A2m222h4aGamZo5syZiAhz5861STdy5EhEhHXr1tnNP6OOLiYmhtDQUN22efPmafPpAG+88cZ9r0u3bt1ITU1lzpw5xMbGYjKZEBF8fHzo2rWrZhSsBmH79u3asawGoW3btroyvP3224gIly5d4o8//kBEeOutt2zOy7oGpF+/fnbP2xozex13+fLlbQxC+rrhrEHYunWrzXFat26NiHDhwgWKFi1KyZIl7ZbVx8eHWrVq2f1NocitKIOQC3BmBKFfv35s3LjRRjt37gSybhDGjx+v29c6Rz1w4ECSk5O17TExMZpBqFKlCnnz5rUp88mTJ3UGIT4+Hk9PT5YtW6Yd19oJZtUgWOOTmJhok65Lly6ICIcOHbKbf1YMgnUE4bvvvrN7Xe6d6rGe79atW2natKmu031Qg3D9+nUMBgNxcXE25/Xtt98iIkyaNMnueVunEtKPINy9e5eAgAAbg5C+buzYscNu3CZMmGDXIMyfP9+mDLVr18bd3Z3bt29TrVo1uyMIFy5cyHR0S6HIjSiDkAtwxCBcvXoVs9nMiy++qNt+/vx56tSpw8SJEwHHDUK7du0QEW1uO6NOwLpY76+//tK2XbhwgYCAAM0g9O3bFxFh7dq1un2HDh2qMwiFCxemdOnSujTr16/PFoNw7do1vL29KVq0qM7IWCwW/Pz8tM7OHlkxCBs2bEBEtPhbWbduHTExMWzZsoVy5cppUyFWrNfE+qbIgxoEgLp16+Lq6sqePXu0NPeuQTh58qTd8z5//jweHh5UrFhR97qrdbQqM4NgfSMm/UJI68LC9AahZs2auuPs378fV1dXbcHlgAEDEBEmTJigy886DTV79my756FQ5FaUQcgFOPoWg/XJLDY2lrFjxzJixAgiIyMJCAjQXplz1CC8//77iAi9evVi5cqVmY4gNGjQgMmTJzNw4EDCwsIwGo0YjUa++eYbLly4QGhoKMHBwcyYMYNff/2VxMREvL29bUYQRIQOHTowZcoUunXrhr+/Px4eHpQtW9buEDQ4ZhDg344oMjKSxMREBg0aREhICG5ubqxevTrDuGbFIEBah+jm5kb79u2ZNGkSH330Ef7+/lSuXJnbt29ri++aNm3KxIkTGTt2LNWrV0dEWLlyJZA1g7Bnzx7MZjN+fn706dOHUaNGER0dfd/pBSu9e/dGRKhRowZjxozhGeHLWgAAIABJREFU3XffxWQyUbhw4UwNQmpqKhEREQQHB7N48WK2bdtGjx498Pf3t2sQAgMDqVatGiNHjuTjjz8mKCgId3d3tmzZAqQtPI2MjNQWrY4bN46XXnoJkbQ3d9KPLCgUuR1lEHIBznwHYcGCBVStWlX7DkLz5s05ePCg9rujBuHgwYOULVsWNzc33XcQ0ncCKSkpfPDBBxQsWBBPT0/Kli3LxIkTmTNnDmazWXuL4PTp07Rq1Up7Dz86OlpbqGc1CBaLhZYtWxIQEIDJZKJOnTqsXbuWzp07YzKZ+OSTT+yes6MGAdKGzWvWrIm3tzd+fn40bNiQzZs33zemWTUId+7cYciQIZQoUQJPT0+KFClCly5duHDhApA2ZD9y5EjKlCmDyWQiKCiIunXrauYAsmYQAA4cOECLFi0ICgrCaDRSuXJlm7dK7JGamsqIESMoVqwYHh4eVKhQgZUrV1KtWjXKli0LZGwQAPbu3UvdunXx9fXF39+ftm3bam/WpDcICxcupF27dgQFBeHp6UmNGjVsvlFx8eJFOnfurH1zo1ixYvTr148bN25kei4KRW5DGYRcgPpjTYqcIDU1la+//lp7grfy999/4+3tTevWrbPlOFaDsH79+mzJT6FQpKEMQi5AGQRFTlGnTh1MJhODBg1i+fLlzJgxg4oVK+Lu7q4bzcgKyiAoFA8HZRByAcogKHKKixcv0rVrV8LCwvDw8MDPz48GDRrovseQVZRBUCgeDsog5AKUQVAoFAqFsyiDkAtQBkGhUCgUzqIMQi5AGQSFQqFQOIsyCLkAZRAUCoVC4SzKIOQClEFQKBQKhbMog5ALUAZBoVAoFM6SrQahSpUqnDlzRukx04svvsj48eNzvBxKSkpKSk+OKleunD0G4dy5c0RHRxMaGqr0mKlmzZpUqlQpx8uhpKSkpPTkqGrVqro/pJelEQQ1xfB4oqYYFAqFQuEsag1CLkAZBIVCoVA4izIIuQBlEBQKhULhLMog5AKUQVAoFAqFsyiDkAtQBkGhUCgUzqIMQi5AGQSFQqFQOIsyCLkAZRAUCoVC4SzKIOQClEFQKBQKhbMog5ALUAZBoVAoFM6iDEIuwFGDEB0djYhw48YNu7/HxMQgIiQnJwOwe/du+vfvz/HjxwE4ceIEIkLfvn0d+v+TSGhoKDExMY/8uDNmzEBEWLNmjbZty5YtlC9fHk9PT9q2bWs3zaPizp07NG3aFHd3d0QEV1dX3N3dmTlz5iMvS3pmz56Ni4sLQ4cOdXiftm3bIiLcuXPnIZbswYiKiqJMmTI5XYzHikWLFtG/f3/u3r2bLfklJycjInTq1Clb8ntSyVGDICIMHjzYqX3u5cyZMxQoUIC2bds+cB5WEhIScHNzy3I+jyMPyyCk75AsFgtRUVFMmjQJsDUE6X9/Eskpg7Bs2TKioqLYtm2btq1WrVr4+PgwduxYVqxYYTfNo+LmzZvs37+fPXv2sH//fg4cOMD58+cfeTnSc+TIEYKCgvj666+d2i8hIYGoqChSUlIeUskeHGUQbMluQ6cMQho5ahDc3NwYMWKEU/vcy969e3FxcSE6OvqB87AyePBgzGZzlvN5HHlUBiE9T8OIQXpyyiDYIyIiIlvqvuLJQhkEW5RBeDjkqEHIkycP06ZNc2qf9Bw+fJiLFy9mKQ+AiRMnEhISkuV8HkcehkEIDw9HRHQ6duyYU1MMPXv2tMnDqvHjxwOwefNm4uLiyJs3L0ajkcjISEaOHJnpucycOZNnnnkGPz8/fH19qVatGitXrsx0v+3btxMXF4ePjw++vr5Ur16dxYsXa7+nNwg3btygf//+lCxZEqPRSN68eYmPj+fw4cNamkWLFhEdHY2Pjw8BAQHUqlXLxlRlluZeM7Zo0SKbeA0bNsyuYUtKSqJdu3Za/EqVKsWIESN0Dakjsdq5cyf/93//l2FcHIkDwOLFi6levTpGoxFvb2/q1q3Lhg0bMr0mIsL06dPp3r07efLkwWQy0bhxY86fP8+0adMIDw/HaDRSoUKFDOMGMGLECESE3bt306pVK3x9fQkODuaVV17R/VGa9B1Oo0aNCA8PZ9OmTTzzzDN4enoSGhrKzJkzOXPmDE2bNsVsNpMvXz7efPNNrl275nRs0vPPP//QqVMn8uXLh5eXF1WrVmXVqlU2BiElJYXhw4cTGRmJh4cHwcHBtG7dmhMnTtw3f0gb1WvTpg158uTBbDbTokULFi5ciIjw/9g797gqqr1xf7lu7huQi7pFQERQwQuYmqRJanpeRSyyIvN4zKOVt6Pm9agBmYalJIiGkamvr1JpaV5Sf94yUzOOluHRyi6ahp1M0lAEBJ7fH3z2xLD3lr3VUg7zfD7zBzNrZtZ8Z81az6y1hr169WoAXnrpJUSEs2fPMmbMGHx9fVm9ejX9+/c3+1JV+xkZMmQI7u7u7N+/ny5duuDi4kJgYCB///vfTXqZbC0fZ8+eNXkWjOe2Ni5ff/01iYmJeHp64unpSWJiIkeOHDERhF9++YVnn30Wg8GAk5MTwcHBTJ06VXWv/9u4o4IQHR3Npk2bVOtKS0vp1q0bbm5uBAUFMWnSJEJCQggICODtt99W0rVt21YpEBEREWaPP3nyZCIiIvDw8MDLy4v777+fI0eOmE377rvvEhMTY1P+6wt/hCBs2bKFZ555Rmnw8/Ly+O6772wShE8//ZTc3FxlWbx4MW5ubri7u3P8+HFOnDiBm5sbLVu2ZP78+SxdupS+ffsiIjcc2165ciUiQnx8PNnZ2WRkZCiVxKlTpyzud/jwYVxcXGjSpAmpqalkZWXRuXNnREQpe7UrP2NDMmLECHJyckhNTUWv1xMaGgrAvn37sLe3Jy4ujuzsbBYsWEDLli3R6XScOHHC6jQ1G7pz586Rl5dH06ZNadmyJXl5eZw4ccKkMfz1118JDQ3F2dmZ8ePHs2TJEh577DFEhNGjR1sdq/z8fFxdXWncuDEpKSlkZWVxzz33qOJSVxwAli5dqjyv6enppKWlYTAYcHBwMKkHamIUhGbNmhEXF0dWVhZDhw5FRGjdujVBQUGkp6eTnp6Or68v3t7eXL582SRu8LsghIeH8/DDD5Odnc3w4cMRER577DGT+1pTEPR6PQEBAUyfPp2MjAwMBgOOjo6Eh4czZMgQlixZQmJiIiJCWlqa1WXEHJWVlfTo0QMRYdCgQWRlZTFmzBhcXV3R6/UqQTDe0969e7No0SImTJiATqfD39+f06dPWzzHpUuXCA4OxtnZmYkTJ7Jo0SK6d++Ov7+/WUEYOHAgnp6e9O7dm/3799skCI6Ojuj1eoYOHUpWVhbDhg3Dzs6OyMhISkpKbrp8lJSUkJeXp8RqzZo17Nq1y+q4FBYW4u/vj5OTE2PHjiUzM5PExEQaNWqkEoRLly7RqlUr7OzseOqpp8jKymLw4MGKkJSXl1uMc33mjgrC6tWr+fHHH1XrjF07y5YtIzMzExHh//7v/5g1axZeXl7KmOB3333HyZMnGT58uEVBiI2NpXv37mzfvp1NmzYRGxtLUFCQUiBrcvbsWdasWWNT/usLf9YQw61OUhw6dCh2dnasX78egKysLAwGAwUFBUqasrIy7O3tGTFihMXrSE5OJjo6WvWWvGvXLlWlZ47u3bvj4uLCmTNnlHVXr14lMDBQ6cqvWfldv36dli1bMnz4cNVxZs2apbxxzZ07FxFh3759yvaCggKSkpLYsmULgFVpzPUO1B5iqJ1m9uzZqkbcSEJCAk5OTly+fNmqWN1///3odDrVm5cxLl27drUqDpcvX8bDw4Pg4GB+++03JU1hYSHe3t40b97c4gQzoyDUnBNQVVVFcHAwIsKXX36ppE1PT0dE2L9/v9mYGAVh5MiRqnPExcXh7e2t/G1OEESEDRs2KGnefPNNRITk5GRlXVlZGV5eXvTq1QuwroyYY9OmTYiIyX5r165FRBRB2L17NyJCUlISVVVVSroPPvgAEeHJJ580e3yA559/HhFRzc+oqKhQpLi2IISEhKieDVsEQURITU1VpTPeq4yMjFsqH2B6v6yNy6RJkxARVq5cqTreqFGjVIJgfJYyMzNV6aZOnYqI8MYbb1jMW33mrvuKwSgIhw4d4scff0REKCgo4KuvvkJETLqHnnvuuRsKQs0JjJ9++ikiwsGDB285n/WJ+iAIr776qsVtFRUVfPPNN+zYsYMpU6YgIgwZMqTO6ykpKeH48eNs3LiRhIQERMTikNaVK1ewt7cnMTHRZFtlZaXSMFmag1BUVER+fj6rV6+mTZs2iAinTp3i4MGDODg4YDAYmDFjBtu2bePXX39V7WtNmpsRhM6dO+Pj46OqIKG6ca09VmspVsa4DBw40OSay8vLKS0ttSoOW7duVYZCajN+/HhEhC+++MJkG/wuCHPmzFGtj4uLo3Hjxqp1xgbUOPxhSRBqD/EYGxjjfTYnCM7OzqpJizt37kREyMnJUR2rVatWdOjQweQ6LMXGHBMnTkREyM/PV62vqqoiMDBQEQTj83Do0CGTY7Rr1w5fX1+zx4fq593X19ekfLz22mtmBaH25GJbBaH2cEJpaSmOjo706dPnlsoHmN4va+PSsWNH1YunkRMnTqgE4Z577sHd3d0kXVFRESLCww8/bDFv9Zm7WhDOnz+vjBeeOnXK7ANliyBcvnwZEeGdd9655XzWJ6wVBKMA1G6cjMTGxqoE4nYJwp49e3B0dGTAgAGqt4QLFy4wdOhQPD090el0REZGKhXBjQTh6NGj9OrVCycnJ7y8vIiJiVG6fi0JwunTpxERxo4de8MY1a783n77baKiohARAgMD6d69O926dVOV1UOHDpGcnExAQAAigqOjIwMHDuSHH35QjlNXmpsRhJCQEKKiom54PXXF6syZM6qK0hJ1xWHVqlWICGvXrjXZd+HChYgIu3fvNntsoyDUntAcFxdHcHCwal1eXp7qTd+SINRueGs3MOYEoXZjaBSEFStWqNZHRETQvn17q2Njjr/97W9mG1WoFj+jIBiHRwoLC03SGUXP0pt3aGio2cmO7733nllBqP1iZYsg6HQ6s3lo2rQp0dHRt1Q+wPR+WRuXkJAQszEoKSlRlfvQ0FBatWpl9tyenp50797dYt7qM3e1IPz00084ODjw+eefWxQE4zwDc9QWBOOx8/Lybjmf9QlrBSEpKcliD0tFRQU+Pj7o9Xpl3e0QhDNnzuDv709ERIQybmwkMTERnU7H5s2blQf/+vXrNxSEsrIyAgICCA8P59ixY8p6Y2VuSRAuXbqEiPDII4+YbNu6dasy/FSz8jt69Cgi1WPENSuimTNnWqz8v/zyS2bMmIGdnR0PPvig2byYS3MzgtChQwf8/PxMjn/06FFyc3P5+eef64xVWVkZDg4OZuOyc+dO1q1bZ1Uctm/fjoiQnp5ucpxx48YhIsp8i9rUZ0G4mTICv78Bm4tJzUZt+vTpiAiffPKJSbro6GgCAgLMHh8gJibGbA+CsTevtiDUHOoDGDBggFlB8PPzM9uD8J///EeVrry8HEdHR+6///5bKh9ger+sjcs999xjNkbGFwajIHTt2tVsD8LFixcRER599FGLeavP3NWCUBNLgpCWlkZgYKDZY2mCUI21gvDGG28gIjzwwANcuXJFte3ll19GRD3earT+HTt2ALYLwrVr14iJicHLy0s1jmwkKCiINm3aqNbt3bv3hoLw7bffIvL7JDwjKSkpNxQEqK4w3dzcOHfunLLuwoULeHl5kZCQAKgFYfny5SY9UpWVlcTHxytldfTo0ej1epNemeDgYMLDwwGsSnMzgmAcX33vvfeUNFVVVcTFxeHj48PXX39tVay6dOmCu7s758+fV9IUFRXh7e1Nv379rIrD1atX8fDwIDQ0VBmiguoxZr1eT1hYmIW7Ur8FwZrYmMN47FmzZqnWHzp0CJHf5yDs27cPEWHw4MFmx9pvNFfHOIyxbt06ZV1paaky/FGXIIwYMQI7OztVXfHvf/8bETErCNOmTVPtb5yUmJaWdkvlA37vMSgrK7MpLkZRM05sNDJv3jyVIKSlpSEiZGdnq9IZRe5Gc5vqM/VeEIyTedLT09m8ebNqsokmCNVYKwjl5eXKbGCDwcCQIUN4+umn6dq1KyJCQEAA3333nZJ+8+bNiAgPPfQQb775ps1fMRi7UZOTk1mxYoVq2bt3r9LV/cwzz5CTk8OECRPw9vbG2dmZqKgos+OL5eXl+Pn54enpSVpaGkuWLCE5ORl3d3dEqictWZrZvXv3bhwdHQkKCmLu3LksWLCAyMhInJyclDeRmoJw5MgR7OzsCA8PZ9GiRWRkZBAXF4erqysiwvTp09m2bRv29vZ06NCBhQsXkpOTY1Jh7ty5s840NyMI58+fp0mTJri4uDB58mSys7OVr0AyMjKsjtXevXuxt7enRYsWZGZmkpOTQ4cOHbC3t2fv3r1WxaG8vJzc3FxEhMjISNLT05kzZ47yJcD27dstlsv6LAjWxsYcCQkJODg4kJqayuHDh1mzZg2NGzfG2dlZ1S1uLCt9+vQhMzOTiRMnotPpCAwMNJkEXpNz587RqFEjXFxcmDJlCgsXLiQ2NpYWLVpYJQhr1qxBpHoi5b/+9S82bNhAmzZt8PDwMCsIvr6+PPbYYyxevJhnn30WBwcHgoKClM/Ub7Z8QPVQszGexk90rYnLxYsXCQ4Oxs/PjxUrVvDpp5+Snp6Oh4eHShCKi4uJjIxUJkhnZWXx6KOPIiL07NnzrvyHWreDei8IlZWVjB07Fg8PD9zd3Rk6dKiyTROEamz5LYbS0lLS09Pp2LEjbm5uODk5ERISwjPPPGMy4/rq1av069dPqexs/T8Ixlno5pakpCQKCwt55JFH8PHxwc3Njfvvv59du3YxduxY3NzcePnll81ew6FDh5RPZY2V0smTJ+nUqRM+Pj589NFHFq9/3759xMfH4+7ujre3Nz179lR9XVB7fHXlypVERESg0+kICgriueeeIz8/n8DAQAwGAyUlJWzatIn77rsPHx8fPDw8aN++PVlZWaqx4brS3IwgQHVXaXJyMo0aNcLNzY127dqpZlxbG6sPPviA2NhYHBwccHFxISYmRvXpmTVxqHmdHh4e6PV6HnzwQQ4cOGDxfkD9FgRbYlOb0tJSpk2bRrNmzXByciI8PJylS5cSFxenEoTKykoWLlxI27Ztlf8xMGzYMItfSNTk5MmTDBgwAA8PD7y9vRk1ahTr1q1DRJSviSwJQlVVFSkpKcqnklFRUbz77ru0b9/erCB88cUX9OnTBzc3N7y8vMzK+s2UD6juuYiKisLR0VE5t7VxOXv2LMnJyfj4+KDT6ejSpYtyb2vOvSkqKmLs2LEEBQWh0+lo0aIFs2fPtjip+7+Bu04QNG4/2o81adwOiouL6dGjB+np6WYnf2nULwoKCsjLy1N9Vgi/j99/9dVXt+U8RkHQqH9ogtAA0ARB43ZQXFzMzp076dOnD3369LnT2dG4RXbv3o2dnR09e/ZkzZo1vP/++0yZMgUnJyceeuih23YeTRDqL5ogNAA0QdC4HQwbNozIyEhCQkL+a/+pWENj06ZN9OjRAx8fH5ycnAgLC2PGjBkWhz1uBk0Q6i+aIDQANEHQ0NDQ0LAVTRAaAJogaGhoaGjYiiYIDQBNEDQ0NDQ0bEUThAaAJggaGhoaGraiCUIDQBMEDQ0NDQ1b0QShAaAJgoaGhoaGrdw2Qfjmm2/o3bs3kyZN0pa7bHnooYd46qmn7ng+tEVbtEVbtKX+LL169VL9e/2bFoR///vfxMfHk5mZqS132fLwww8zfvz4O54PbdEWbdEWbak/y/3332/2h/RsFgRtiOHuRRti0NDQ0NCwFW0OQgNAEwQNDQ0NDVvRBKEBoAmChoaGhoataILQANAEQUNDQ0PDVjRBaABogqChoaGhYSuaIDQANEHQ0NDQ0LAVTRAaAJogaGhoaGjYiiYIDQBNEDQ0NDQ0bEUThAaAtYLQpUsXRIRr166Z3R4XF4eIUFxcDMBnn31GSkoK3377LQDff/89IsLMmTOt+rs+EhwcTFxc3J9+3hUrViAi7Ny5U1l38OBB2rVrh06nY9iwYWbT/Flcv36dQYMG4eTkhIjg4OCAk5MTq1at+tPzciOmTZuGTqdj/fr1Nu03bNgwRITr16//QTm7eWJjY2nbtu2dzsZdxYYNG0hJSaGysvK2HK+4uBgRYcyYMbflePWFOyoIIsKLL75o0z5/FKmpqTg6Ot7pbPwh/FGCULtBKiwsJDY2lqVLlwKmQlB7e33kTgnC5s2biY2N5fDhw8q67t274+npSWZmJlu3bjWb5s+itLSUgoICPv/8cwoKCjh+/DgXLlz40/NxIz788EP0ej27du2yed/U1FRiY2OpqKj4A3J2a2iCYMrtFjpNECzzhwmCo6Mjr7zyik37/FG8+OKLuLu73+ls/CH8WYJQm/+GHoPa3ClBMEdERARdunS509moNxQVFfHrr7/e6WzcdjRBMEUThNvDHRUEf39/cnNzbdrnj2LJkiUYDIY7nY0/hD9CEMLCwhAR1fLNN9/YNMQwbdo0k2MYl8WLFwNw4MAB+vXrR0BAAK6urkRGRrJw4cI6r2XVqlV06tQJvV6Pl5cXXbt25YMPPqhzv/z8fPr164enpydeXl7ce++9bNy4UdleWxCuXbtGSkoKrVq1wtXVlYCAABITEzl58qSSZsOGDXTp0gVPT098fHzo3r27iVTVlaamjG3YsMEkXi+99JJZYTt//jzDhw9X4te6dWteeeUVVcVpTayOHDnCX/7yF4txsSYOABs3buTee+/F1dUVDw8P4uPj+fDDD+u8JyLC8uXLmThxIv7+/ri5uZGQkMCFCxfIzc0lLCwMV1dX2rdvbxLbG5WhiooKunXrhp2dHXv27FH2Wbt2LSLCuHHjANMGp3///oSFhfHxxx/TqVMndDodwcHBrFq1inPnzjFo0CDc3d0JDAxk5MiRXL161eZY1ea3335jzJgxBAYG4uLiQufOndm2bZuJIFRUVDB//nwiIyNxdnbGz8+PJ554gu+///6Gx4fqXr6hQ4fi7++Pu7s7SUlJrF+/HhFh9erVAPTt25e2bdty+vRp/ud//gc3NzfOnj1L//79zb5k1X5mDAYD/fv3Z9myZYSHh6PT6QgLC2Pu3LkmPTS2lpezZ8+aPBvGc1sbl6+//prExEQ8PT3x9PQkMTGRI0eOmAjCL7/8wrPPPovBYMDJyYng4GCmTp2qutf1nTsqCNHR0WzatEm1rrS0lG7duuHm5kZQUBCTJk0iJCSEgIAA3n77bVXafv364evri6OjI82bN+ell15Stv3444/4+/vzj3/8Q1n37bff4uHhYbaL+9133yUmJsam/NcX/ghB2LJlC88884zS4Ofl5fHdd9/ZJAiffvopubm5yrJ48WLc3Nxwd3fn+PHjnDhxAjc3N1q2bMn8+fNZunQpffv2RURuOLa9cuVKRIT4+Hiys7PJyMhQKoVTp05Z3O/w4cO4uLjQpEkTUlNTycrKonPnzoiIUvZqV3bGhmPEiBHk5OSQmpqKXq8nNDQUgH379mFvb09cXBzZ2dksWLCAli1botPpOHHihNVpajb+586dIy8vj6ZNm9KyZUvy8vI4ceKEiSD8+uuvhIaG4uzszPjx41myZAmPPfYYIsLo0aOtjlV+fj6urq40btyYlJQUsrKyuOeee1RxqSsOAEuXLkVEiIiIID09nbS0NAwGAw4ODib1QE2MgtCsWTPi4uLIyspi6NChiAitW7cmKCiI9PR00tPT8fX1xdvbm8uXLwNYVYa+//57Ja/FxcWcPXsWb29v2rVrR2lpqer6agqCXq8nICCA6dOnk5GRgcFgwNHRkfDwcIYMGcKSJUtITExEREhLS7O6zJijsrKSHj16ICIMGjSIrKwsxowZg6urK3q9XiUIxnvcu3dvFi1axIQJE9DpdPj7+3P69GmL57h06RLBwcE4OzszceJEFi1aRPfu3fH39zcRhFatWhEZGUmTJk1ISEjg4sWLNgmCr68v7u7uTJ06lVdffZWePXsiIvz1r3+9pfJSUlJCXl6eEqs1a9YoQ0rWxKWwsBB/f3+cnJwYO3YsmZmZJCYm0qhRI5UgXLp0iVatWmFnZ8dTTz1FVlYWgwcPVoSkvLzcYpzrE3dUEFavXs2PP/6oWmfsylm2bBmZmZmICP/3f//HrFmz8PLyUhnm+++/z4cffsjBgweZOXMmIqJ689mxYwf29vasX79eeVP4y1/+YjYvZ8+eZc2aNTblv77wZw0x3OokxaFDh2JnZ6dMIMvKysJgMFBQUKCkKSsrw97enhEjRli8juTkZKKjo1Vvybt27VJVcubo3r07Li4unDlzRll39epVAgMDla78mpXd9evXadmyJcOHD1cdZ9asWYgIZ8+eZe7cuYgI+/btU7YXFBSQlJTEli1bAKxKY653oPYQQ+00s2fPVjXiRhISEnBycuLy5ctWxer+++9Hp9Op3rSMcenatatVcbh8+TIeHh4EBwfz22+/KWkKCwvx9vamefPmFieUGQWh5hyAqqoqgoODERHVr82lp6cjIuzfvx+wvgwZewyeffZZevXqhZubmyJnYF4QRIQNGzYoad58801EhOTkZNW5vLy86NWrF2BdmTHHpk2bEBGT/Yz5NgrC7t27ERGSkpKoqqpS0n3wwQeICE8++aTZ4wM8//zziAhvvfWWsq6iokKR5JqCICL079+fkpISJa0tgiAiqp6AyspKJaZHjx69pfICpvfL2rhMmjQJEWHlypWq440aNUolCMZnKzMzU5Vu6tSpiAhvvPGGxbzVJ+66rxiMgnDo0CF+/PFHRISCggK++uorROSG3WQRERFMnTpVte6f//wnXl5ePP300/j5+XH+/PlbzmOXP9mNAAAgAElEQVR9oz4IwquvvmpxW0VFBd988w07duxgypQpiAhDhgyp83pKSko4fvw4GzduJCEhARGxOKR15coV7O3tSUxMNNlWWVmpNEyW5iAUFRWRn5/P6tWradOmDSLCqVOnOHjwIA4ODhgMBmbMmMG2bdtMxsGtSXMzgtC5c2d8fHxUFSJUN661x2YtxcoYl4EDB5pcc3l5ufKGXVcctm7dqgyF1Gb8+PGICF988YXJNvhdEObMmaNaHxcXR+PGjVXrjA1mzeEPsK4M/fWvf1W6pV9//XXVNnOC4OzsrHph2blzJyJCTk6Oat9WrVrRoUMHk+uyFCtzTJw4EREhPz9ftb6qqorAwEBFEIzXdujQIZNjtGvXDl9fX7PHh+rn39fX16S8vPbaa2YFoaZAgW2CYG7OhLERnzt37i2VFzC9X9bGpWPHjiYvolDdE1VTEO655x7c3d1N0hUVFSEiPPzwwxbzVp+4qwXh/PnziAifffYZp06dUj1AlZWVzJs3j9atW6PX6wkLC8Pd3Z2nn35adbyaBrxixYpbzl99xFpBMAqApYlcsbGxKoG4XYKwZ88eHB0dGTBggOqt4MKFCwwdOhRPT090Oh2RkZHKg38jQTh69Ci9evXCyckJLy8vYmJilK5eS4Jw+vRpRISxY8feMEa1K7u3336bqKgoRITAwEC6d+9Ot27dVGX10KFDJCcnExAQgIjg6OjIwIED+eGHH5Tj1JXmZgQhJCSEqKioG15PXbE6c+aMqmK0RF1xWLVqFSLC2rVrTfZduHAhIsLu3bvNHtsoCLUnNMfFxREcHKxal5eXp3qzt6UMGRsle3t7PvvsM9U2c4JQuzE0CkLteiYiIoL27dtbHStz/O1vf0NEzH4Z0rlzZ6XBHT58OCJCYWGhSTqj+Fl68w4NDTXbcL/33nsmgqDT6UxEwhZB6Nu3r0m6r7/+GpHqeR+3Ul7A9H5ZG5eQkBCzMSgpKVE9B6GhobRq1crsuT09PenevbvFvNUn7mpB+Omnn3BwcODzzz83EYTnn38eV1dXcnJyOHbsGAcPHiQ8PNxEEE6dOoWXlxc+Pj706tXLpFA3BKwVhKSkJESEgwcPmmyrqKjAx8cHvV6vrLsdgnDmzBn8/f2JiIhQxo2NJCYmotPp2Lx5s/KgX79+/YaCUFZWRkBAAOHh4Rw7dkxZb6y8LQnCpUuXEBEeeeQRk21bt25Vhp9qVnZHjx5FpHpMuGbFYxzuMlfZf/nll8yYMQM7OzsefPBBs3kxl+ZmBKFDhw74+fmZHP/o0aPk5uby888/1xmrsrIyHBwczMZl586drFu3zqo4bN++HREhPT3d5Djjxo0z+0Zq5FYEwdoydOnSJZo3b06rVq3w8vKibdu2qp602yUIN1Nm4Pc3YHMxqtmoTZ8+HRHhk08+MUkXHR1NQECA2eMDxMTEmO1BMPbu1RSERo0amew/YMAAs4Lg5+dnIgitW7c2Sbdnzx5EhJSUlFsqL2B6v6yNyz333GM2RsYXCKMgdO3a1WwPwsWLFxERHn30UYt5q0/c1YJQk9qC8MADD9CvXz9Vmi5duqgEoaSkhHbt2pGUlMS///1vXF1dmT9//i3nsb5hrSC88cYbiAgPPPAAV65cUW17+eWXEVGPrxotf8eOHYDtgnDt2jViYmLw8vJSjSMbCQoKok2bNqp1e/fuvaEgfPvtt4j8PgnPSEpKyg0FAaorSDc3N86dO6esu3DhAl5eXiQkJABqQVi+fDkiwjvvvKOkr6ysJD4+Ximro0ePRq/Xm/TKBAcHEx4eDmBVmpsRBON46nvvvaekqaqqIi4uDh8fH+WNra5YdenSBXd3d9XwXFFREd7e3vTr18+qOFy9ehUPDw9lIqCRwsJCpQfQErciCNaWoSFDhmBvb8+hQ4fIzc1FRJgwYYKy/XYJgjWxMofx2LNmzVKtP3ToECK/z0HYt28fIsLgwYPNjrXfaO6OcRhj3bp1yrrS0lJl+KMuQRgxYgR2dnaquuPf//43ImJ2DsK2bdtU+xsnEe7bt++Wygv83mNQVlZmU1yMolb7f2XMmzdPJQhpaWmICNnZ2ap0RpG70Vyn+kS9FYTJkyfj6enJypUryc/P58CBA0RERKgEYezYsYSGhipvppmZmeh0uhvOZP9vxFpBKC8vV2b/GgwGhgwZwtNPP03Xrl0REQICAvjuu++U9Js3b0ZEeOihh3jzzTdt/orB2G2anJzMihUrVMvevXuVru5nnnmGnJwcJkyYgLe3N87OzkRFRZkdTywvL8fPzw9PT0/S0tJYsmQJycnJuLu7I1I9ScnSTO7du3fj6OhIUFAQc+fOZcGCBURGRuLk5KS8edQUhCNHjmBnZ0d4eDiLFi0iIyODuLg4XF1dERGmT5/Otm3bsLe3p0OHDixcuJCcnByGDBmCiDBt2jSguvKvK83NCML58+dp0qQJLi4uTJ48mezsbGX8OCMjw+pY7d27F3t7e1q0aEFmZiY5OTl06NABe3t79u7da1UcysvLlYY3MjKS9PR05syZo8z83759u8Vyeas9CHWVobfeegsRYeLEicpxHnzwQezs7JSG4nYJgrWxMkdCQgIODg6kpqZy+PBh1qxZQ+PGjXF2dlZ1ixvLTp8+fcjMzGTixInodDoCAwNNJoXX5Ny5czRq1AgXFxemTJnCwoULiY2NpUWLFlYJwpo1axCpnkj5r3/9iw0bNtCmTRs8PDxMBMHb2xtXV1cmTpxIVlaWMkFxwIABSrqbLS8Azz33nBJP48R1a+Jy8eJFgoOD8fPzY8WKFXz66aekp6fj4eGhEoTi4mIiIyOVya5ZWVk8+uijiAg9e/a8K/+h1s1QbwWhrKyMSZMmERQUpIyfhoeHK7NKDx8+rFRgRiorK+nYsaPFrt3/Vmz5LYbS0lLS09Pp2LEjbm5uODk5ERISwjPPPGMyw/rq1av069dPqdxs/T8Ixlno5pakpCQKCwt55JFH8PHxwc3Njfvvv59du3YxduxY3NzcePnll81ew6FDh5RPZX19fXnsscc4efIknTp1wsfHh48++sji9e/bt4/4+Hjc3d3x9vamZ8+eqq8Lao+nrly5koiICHQ6HUFBQTz33HPk5+cTGBiIwWCgpKSETZs2cd999+Hj44OHhwft27cnKytLNRZcV5qbEQSo7hpNTk6mUaNGuLm50a5dO9UMa2tj9cEHHxAbG4uDgwMuLi7ExMSoPjWzJg41r9PDwwO9Xs+DDz7IgQMHLN4PuDVBqKsMzZw5Ex8fH1q0aKH6fv3MmTN4enpiMBgoKiq6rXMQrI1VbUpLS5k2bRrNmjXDycmJ8PBwli5dSlxcnEoQKisrWbhwIW3btsXFxYXAwECGDRtm8QuJmpw8eZIBAwbg4eGBt7c3o0aNYt26dYiI8nWRJUGoqqoiJSVF+VQyKiqKd999l/bt25sIwv33369sc3Z2pnHjxkycONHk2m+mvEB1z0VUVBSOjo7Kua2Ny9mzZ0lOTsbHxwedTkeXLl2Ue1tzLk5RURFjx44lKCgInU5HixYtmD17tsVJ3vWRu04QNG4/2o81adwOiouL6dGjB+np6WYne2nUbwoKCsjLy1N9Vgi/j99/9dVXt+U8RkHQuPvRBKEBoAmCxu2guLiYnTt30qdPH/r06XOns6Nxm9m9ezd2dnb07NmTNWvW8P777zNlyhScnJx46KGHbtt5NEGoP2iC0ADQBEHjdjBs2DAiIyMJCQn5r/2nYg2dTZs20aNHD3x8fHByciIsLIwZM2ZYHPa4GTRBqD9ogtAA0ARBQ0NDQ8NWNEFoAGiCoKGhoaFhK5ogNAA0QdDQ0NDQsBVNEBoAmiBoaGhoaNiKJggNAE0QNDQ0NDRsRROEBoAmCBoaGhoatqIJQgNAEwQNDQ0NDVu5bYLwn//8h3bt2uHo6Kgtd9kSExNDaGjoHc+HtmiLtmiLttSfpV27dmZ/YtxmQdB6EO5etB4EDQ0NDQ1b0YYYGgCaIGhoaGho2IomCA0ATRA0NDQ0NGxFE4QGgCYIGhoaGhq2oglCA0ATBA0NDQ0NW9EEoQGgCYKGhoaGhq1ogtAA0ARBQ0NDQ8NWNEFoAGiCoKGhoaFhK5ogNAA0QdDQ0NDQsBVNEBoANysIf//73xERevToYXb7Z599RkpKCt9+++0Nj/P9998jIsycOROAU6dOISKkpKTYnCdzrFixAhFh586dN32M2nn8Mxk2bBgiwvXr15V1r7/+Os2aNcPFxYXc3Fyzaf4srl+/zqBBg3ByckJEcHBwwNHRkRUrVvzpeakvxMbG0rZt2zudDY27jODgYOLi4u50NqzmjgqCiPDiiy9a3P7111/Tr18/9Ho9np6edOrUiQMHDijbz507R5MmTRg2bJhN570Zzpw5w6ZNm+pM17NnT3r37v2H58cWbkYQrly5gqenJ61bt0ZE+PLLL03SWNswFxYWEhsby9KlS4HbLwibN28mNjaWw4cP3/Qx7qQgpKamEhsbS0VFBQClpaU4OjoSFRVFTk4On332mUmaP5PS0lIKCgr4/PPPKSgo4Pjx43X++9WGjiYIGubQBMEGHB0deeWVVyxub9euHdHR0WzdupX9+/ezevVqTp8+rWw/duwYdnZ2dOnSxabz3gwzZ84kODi4znS9e/emf//+f3h+bOFmBOGNN95ARDh69Cg6nY7JkyebpLnZN/fbLQi3gzspCLU5f/48IsK0adPudFY0bhJNEDTMoQmCDfj7+5Obm2t2W2VlJXZ2duTk5NzwGCdPnqSoqMim894M1grC4MGDGTJkyB+eH1u4GUHo0qUL9957LwAPPfQQ/v7+lJeXK9vDwsIQEdXy8ccfIyKsW7eO7OxsgoODGTlypMUhhpkzZzJ9+nSaNGmCTqejffv2rF27VjnHK6+8goiQn59vcj01u9utEZXy8nJSU1Np0aIFzs7OBAcHM3r0aH7++WfAvCD88MMPDB8+nKCgIHQ6HUFBQYwZM4bffvsNqC6j6enpRERE4OLiQuPGjXnkkUc4deqUcgxr0tS8nn/84x8mcT106JDZIYa1a9cSExODi4sLAQEBDBw4kGPHjinbr127RkpKCq1atcLV1ZWAgAASExM5efKkKi5paWmEhYWZjQtARUUF8+fPJzIyEmdnZ/z8/HjiiSf4/vvvVTEuKipi9OjRNG3aFBcXF2JjY9myZYtNsahNfn4+IsLKlSuZNWsWTZo0wcPDg+7du3P06FFV2rrulyU2btzIvffei6urKx4eHsTHx/Phhx+q0uh0OsaMGcOePXuIiYkhMjISgN9++40xY8YQGBiIi4sLnTt3Ztu2bSaCUFlZySuvvEJERAQ6nY6wsDBefvllqqqqgN/L+ieffEJiYiLu7u74+voyadIkSkpKmDRpEv7+/nh5edG3b986h/XqOp8xrsuXL2fixIn4+/vj5uZGQkICFy5cIDc3l7CwMFxdXWnfvr1VLwHLli2jTZs2ODs707x5c1588UX++c9/IiJcuHBBOWftl0Jzz29d+beENffy2LFjJCQk4Ofnh5ubG1FRUSxevNjiMVeuXImIkJWVpVp/9OhRRIS0tDRl3apVq+jUqRN6vR4vLy+6du3KBx98oGw3Jwh15fnQoUNm61Vr47Rhwwa6dOmCp6cnPj4+dO/e3eqXujsqCNHR0Wa77ZOSkkwqSRHhH//4h5Kmbdu2yvqIiAizx79w4QJjxoyhXbt2+Pr64uDggJ+fn+qcV69eZfTo0RgMBpycnGjUqBEDBgxQthcUFJjNi7Hirs24ceOYNGmSTXH4o7FVEI4fP46IsGTJEgDWr1+vFFAjW7Zs4ZlnnlEa1by8PA4ePIiIMHDgQBwcHOjatSs5OTkWBcHHx4cWLVowd+5c5s2bR3h4OCLCsmXLgNsrCA899BAiQlJSEosXL+a5557DxcWFjh07UlpaapLH0tJSIiIi8PLy4p///CfLli1j9OjRiAjDhw8HYM6cOYgIQ4cOZdmyZcyePRtPT09CQ0OVvFmTpub1HD16lJycHCWOeXl5/PLLLybXvGjRIkSEe+65hwULFjBv3jwMBgN6vZ6vv/5addwRI0aQk5NDamoqer2e0NBQJS6PPPIIIsLDDz+sxEWn0xETE0NZWRkAjz32GCJC7969WbRoERMmTECn0+Hv76/06F25coU2bdrg4eHB9OnTycjIoEOHDtjb27Nx40arY1EbY6MSHh5ObGwsGRkZzJo1Czc3N5o3b67k0Zr7ZY6lS5cqdUh6ejppaWkYDAYcHBxU9YROp6Nv377odDpat27NmDFjqKyspEePHogIgwYNIisrizFjxuDq6oper1cJwl//+lfs7OwYNmwYixcvJjExERFR6gpjWW/WrBlPPvkkixcvplu3bogIrVu3Ji4ujqysLCZOnIi9vT3x8fEWr8ma8xnj2qxZM+XYQ4cOVc4XFBREeno66enp+Pr64u3tzeXLly2eb968eYgIHTt2ZMGCBTz//PMEBATg7+9/U4JQV/5v9l5eunSJRo0a0bx5c+bPn8/SpUt54IEHFFkyR3FxMW5ubiZzsZ5//nlERBFco0jEx8eTnZ1NRkaGItXGNLUFwZo8GwWhdr1qTZz27duHvb09cXFxZGdns2DBAlq2bIlOp+PEiRMWY2nkjgrC6tWr+fHHH03W//jjj0ojNW/ePE6ePMnJkyf5z3/+o6T57rvvOHnyJMOHD7coCJ999hkiwnPPPcf27dvZv38/69evV51zypQpNG7cmHfffZf8/Hz+3//7f/zv//6vsr2srIyTJ0/yzDPP0LRpUyUvJ0+e5Nq1aybn3L9/v2qexN2ArYLwj3/8AycnJ3755ReguvLV6/U8+OCDqnS1H2xjQXZwcGDPnj1KOkuC0KhRIy5evKiku3TpEgaDAR8fH0pKSm6bIOzevRsR4dlnn1WtX7hwISLCtm3bTPKYn5+PwWDg9ddfV+1z3333ERYWBkCfPn3Q6XSqnpW33nqLpKQk5e3amjS1r8fcEEPNNJcvX8bDw4P27durjnvkyBFlv+vXr9OyZUuTxnHWrFmICGfPnmXv3r2ICE8//bQqzYIFCxARtm/frsQuKSlJ9VbywQcfICI8+eSTALz44ouICLt27VLSXLt2jYiICEJCQqisrLQqFrUxNipt2rRR7Tdz5kxEhM8//1xJV9f9qo0xjsHBwapehsLCQry9vWnevDmVlZVAtSCICC+88IKSbtOmTWYFZO3atYiIIgjGnrVZs2ap0hkr92+++UYp6zVfgr777jtEhJCQEEWEAPr164ezs7OSt9pYcz5jXGvOa6mqqiI4ONhkzlF6ejoiwv79+82er6ioCFdXVyIjI1V14unTp3Fzc7NZEKzJf22svZcHDhwweesvKyvj8ccfZ/78+WavD+Dxxx/H3t6en376SVkXHR2tGt5OTk4mOjpaJbu7du1CRFi9ejWgFgRr82ypXrUmTnPnzkVE2Ldvn7K9oKCApKQkVe+eJe7arxiuX7+OiNQ5U/q5556rUxDMvekbMd7UuoYprB1iuBuxRRBKS0vx9fWlR48efP/998oyaNAg7O3tVRW5JUF49NFHVce0JAhjxowxOf/s2bMRET766KPbJghTp05FRPjss89Mtl2/fp2qqqobzkE4d+4c+/fvZ/HixXh6emIwGACYP38+IkJMTAwvv/wyBw4coLS0VLWvNWlsFQRj4/zqq6+a5LWiosKk4SgqKiI/P5/Vq1fTpk0b5a1n2rRpiIhJV31VVRXXrl2joqKCKVOmWHyGjD1zAF27dqVJkyYUFxerFuNb1rFjx6yKRW2MjUrt+2K85zWFxIil+1WbrVu3IiK89NJLJtvGjx+PiPDFF18A1YLQtGlTVeU/ceJEs+WzqqqKwMBARRCmT5+uyEzN2OzcuRMRITMzUynrNRthYx34+OOPq44/atQoRIRLly6ZvS5rzmeM65w5c1T7xsXF0bhxY9U6o/AYe4Jqs3nzZkSEhQsXmmx74oknbBYEa/JfG2vv5aVLl2jcuDFubm6MHDmSt956i7Nnz5q9rpps2bIFEeG1114D4JtvvrGYl5KSEo4fP87GjRtJSEhARJSh9JqCYG2eLdWr1sTp4MGDODg4YDAYmDFjBtu2bePXX3+t83qNNHhB+Oqrr2jVqhWenp489dRTHDx40Gy6hiIIxsrA0jJ79mwlrSVBmDdvnuqYlgTB3IPx+uuvIyKsX7/+tgnC3/72N0RE6RExR+08VlRUkJKSQtOmTbG3tyckJISEhASCg4OVBqeqqoo1a9bQt29f5U3J09OT8ePHKw2fNWlsFQRjV+b69estXg/A22+/TVRUFCJCYGAg3bt3V7qtT506xfDhw5XK2xLGNIWFhSbbjJVfZWUlLVq0uGG52bhxo1WxqI21jYo196s2q1atQkRU816MGHuXdu/eDVQLQu0eNGO5Mhe/zp07K4Lw1FNP3TA2EyZMMFvWjXVg7a+0nn76aUTEYkVvzfksxTUuLs6knsvLy0NE2LBhg9nzGctjzSFII0Y5t0UQrMl/bWy5l2fOnGH8+PHKkKZIdU/KRx99ZPb6oPpe+Pv706tXL6B6SMjBwUHVo3D06FF69eqFk5MTXl5exMTEKF3+5gTB2jxbqletjdOhQ4dITk4mICAAEcHR0ZGBAwfyww8/WLxeI/VeECZPnnxLgmA817vvvqu8JScnJ6u6M6G6a7YhCMIDDzyAXq9nw4YNJkuzZs0wGAxKl6QlQag94ceSINTu8offx/X27t2rdHXXFgTjuLm1gjBhwgREhOPHj6vWnz9/ntzcXE6ePGmSx1dffRWR6i7l4uJiZZ+4uDizDc7169c5dOgQgwYNMvsw3yiNrYKwceNGRITs7GzV8auqqli+fDl79uxRJlANGjRI1bgbu+ZPnTqlDDfUjst//vMfVq9ezVdffaW8pXzyyScm1xMdHU1AQABQ3YNgMBjYv3+/2aV2I2pNvMB6QbD1fgFs374dESE9Pd1k27hx4xARZZxWp9ORlJSkSmPsXTE3lhsSEmLSg/Dee++ZjU3NIYbbIQjWnO92CsKNerSGDBmiCMK//vUvs+fMzs5W3Utr8l8bW+5lTYx1gLe3N15eXmaHjY2MHTsWR0dHLly4QLdu3ejbt6+yraysjICAAMLDw1UThY1v8+YEwdo8W6pXbyZOX375JTNmzMDOzs5EeM1R7wUhLS2NwMBAs9usFYSafPTRR4gI77//vmr9/Pnz0ev1dc6ivRuxVhC+/fZb7Ozs+Nvf/mZ2+6RJkxARZezKaMA7duwAbBcEb29vzp8/r6QrKSkhJCQET09Prly5wurVqxER1Szg0tJSgoKCbBIE41jx+PHjVetnzJiBiHDkyBGTPBonbNWczX/x4kV8fHyUBic6Opr77rvP7LUaZxlbk8ZWQbhw4YIykbBml/eOHTsQqe7qXb58OSLCO++8o2yvrKwkPj5eEYRt27YhUj1HpyYpKSmKFOzbtw8RYfDgwWbnIIwYMQKo/l8ODg4OqsoRqucz9OzZk+LiYqtiURtrBcGa+1Wbq1ev4uHhQWhoqEoqCgsL0ev1qrkL5gTBWPnXHgM2PgdGQfjwww8R+X3Sr5Hdu3cTFxfHwYMHb6sgWHO+2ykIly9fxsXFhTZt2qh6gs6dO4e7u7siCGfPnkVEmDp1qmr/wYMHq+6lNfmvjbX3Mi8vD3d3d7Zu3ara3/h8mZsTZ+STTz5BpPp/99jb27Nq1Spl27fffouIMHr0aNU+xmfJnCBYm2dL9ao1cRo9ejR6vd6krAQHBxMeHm7xWo3Ue0EwVv7p6els3ryZlStXKtusEYS5c+fy2muv8eGHH/LJJ58oY+C131qNk02mT5/Ojh07WL58OV999dUtXeOfhbWCYGwwt2/fbnb74cOHERESExOB38ceH3roId58803lKwZrBcHf359mzZrxwgsv8MorrxAdHY2IsGDBAmU/Z2dnOnfuzP79+9m7dy/9+/dHr9fbJAiVlZX06tULESE5OZns7GxGjRqFg4ODci2WehD69OnDa6+9xgsvvEBISAiurq64urryzjvvKGVl0KBBLFmyhMzMTO69916V1FiTxlZBgGoxFhHuvfdeFi1axOzZs/Hx8SEkJISioiKOHDmCnZ0d4eHhLFq0iIyMDOLi4nB1dVXKcXl5uTKDe8SIEaxcuZJJkybh5OREr169FCEwvgX26dOHzMxMJk6ciE6nIzAwUKlQL1++TFhYGD4+PsyYMYOcnBxGjRqFvb0948aNszoWtbG1B+FG98scubm5iAiRkZGkp6czZ84cDAYDjo6OqufAnCBA9TCLg4MDqampHD58mDVr1tC4cWOcnZ1VXzEMHjwYR0dHRowYwdKlS5k1axbe3t7ExMRQXl5+WwXBmvPdTkEAlMlwHTp04JVXXuGFF17AYDDQqFEjRRCqqqqIiIjAz8+PjRs3cvjwYaZOnYq3t7fJ81tX/s1hzb386aef8Pf3JzAwkNTUVF5//XWmTp2Ki4uLVf9PJzw8HJ1Oh6urq2piYXl5OX5+fnh6epKWlsaSJUtITk5WBCkpKYnTp0+bfMVgTZ4tCYI1cdq5cyf29vZ06NCBhQsXkpOTozzP1vyflXovCJWVlYwdOxYPDw/c3d0ZOnSoss0aQUhJSSEsLAwXFxc8PT1p3769xc9dZs+ejZ+fH46OjoSHh/Pxxx/f1LX92VgjCBUVFTRt2hQ/P78b/jvf0NBQHB0dKSws5OrVq/Tr109pdIyzaq0VhJdeeomZM2fSrFkznJyciIiIMPm/F+vXryc6OhpXV1dFJowTeGz5zLGkpISpU6fSvHlznJ2dadGiBdOnT1fM3dwchMmTJ9O0aVN0Oh1RUVEsWbKENWvW4O7uzqBBg6isrGThwoW0bdsWNzc3GjVqRHx8vKqxsybNzQgCVFcu0dHR6HQ6mjRpQnPuQlgAACAASURBVHJysmoS6cqVK5Xvo4OCgnjuuefIz88nMDAQg8FASUkJly9f5tlnn8XX1xcRoUmTJowcOVI1abfmNbi4uBAYGMiwYcNMJnf9/PPPjBw5kiZNmihvlBkZGcqkSWtiURtb5iDUdb8ssWnTJu677z48PDyUr3Vqf4lkSRBKS0uZNm2aUobDw8NZunQpcXFxKkG4fv06c+fOVRqY5s2bM27cOOUrntstCHWd73YLAlR/ste6dWt0Oh3BwcHMnTtXeVaNQ0zHjh0jPj4eLy8vvL29GTZsGG+++abJ81tX/i1hzb0sKCjg4YcfpnHjxri4uBAWFsbkyZPrPDb8Lua1JwxCdUPerVs33Nzc8PX15bHHHuPkyZN06tQJHx8fPvroI7P/B6GuPN9IEKyJk/H4Pj4+ytdPWVlZFr+CqcldKwgatw/tx5o06uKtt96iV69eJl2vGhq3gvEff2n/mrt+oglCA0ATBI26OHr0qPKmeLf9Hw+N+osmCPUbTRAaAJogaNyITz/9lDZt2tC8eXP+8pe/3PA/5mlo2IImCPUbTRAaAJogaGhoaGjYiiYIDQBNEDQ0NDQ0bEUThAaAJggaGhoaGraiCUIDQBMEDQ0NDQ1b0QShAaAJgoaGhoaGrWiC0ADQBEFDQ0NDw1Y0QWgAaIKgoaGhoWErmiA0ADRB0NDQ0NCwFU0QGgCaIGgUFxcjIowZM+aWj2X8ka5169bdhpxpaGjcrWiC0ADQBEFDEwQNDQ1b0QShAaAJgoYmCBoaGraiCUIDwFpBuHbtGikpKbRq1QpXV1cCAgJITEzk5MmTShqDwUD//v1ZtmyZ8hOjYWFhzJ07l4qKCiXdDz/8wPDhwwkKClJ+bnjMmDHKb6gbf8J03bp1ZGdnExwczMiRIwEoKipi9OjRNG3aFBcXF2JjY9myZYsqr+fPn2f48OEEBATg6upK69ateeWVV1Q/h1xQUEBiYqLyM6f9+/dXXUv//v0JCwvj448/plOnTsrP1K5atYpz584xaNAg3N3dCQwMZOTIkVy9evWG8XN3d2fEiBGsXbuWyMhI5SeP33rrLVW6iooK5s+fT2RkJM7Ozvj5+fHEE0+ofqoZYMOGDXTp0gVPT098fHzo3r37DX/S2sjXX39NYmIinp6eeHp6kpiYyJEjR0wEYdWqVXTq1Am9Xo+Xlxddu3Y1+enl7du307lzZ+VnnseOHcuaNWtMBGHjxo3ce++9uLq64uHhQXx8PB9++KHqWMeOHSMhIQE/Pz/c3NyIiooy+xO2GhoadweaIDQArBWEYcOGISKMGDGCnJwcUlNT0ev1hIaGKmkMBgO+vr64u7szdepUXn31VXr27ImI8Ne//hWA0tJSIiIi8PLy4p///CfLli1j9OjRiAjDhw8HfheEgQMH4uDgQNeuXcnJyeHKlSu0adMGDw8Ppk+fTkZGBh06dMDe3p6NGzcC8OuvvxIaGoqzszPjx49nyZIlPPbYY4gIo0ePBuCLL77Aw8ODFi1aMH/+fObMmYOfnx++vr6cPn0aqBYEvV5PQECAci6DwYCjoyPh4eEMGTKEJUuWkJiYiIiQlpZ2w/i5u7vTsmVLmjRpwgsvvEBGRgbBwcE4ODhw/PhxJZ0xr71792bRokVMmDABnU6Hv7+/krd9+/Zhb29PXFwc2dnZLFiwgJYtW6LT6Thx4oTFPBQWFuLv74+TkxNjx44lMzOTxMREGjVqpBKElStXIiLEx8eTnZ1NRkaGIiynTp0CYMeOHTg4OBAQEEBqaiovv/wyHTt2VI5lFISlS5ciIkRERJCenk5aWhoGgwEHBwc2bdoEwKVLl2jUqBHNmzdn/vz5LF26lAceeAARYfny5XWWTQ0NjT8fTRAaANYIwvXr12nZsqXSgBuZNWsWIsLZs2eBakEQEdXbYWVlJf3790dEOHr0KPn5+RgMBl5//XXVse677z7CwsKA3wXBwcGBPXv2KGlefPFFRIRdu3Yp665du0ZERAQhISFUVlYye/ZsRIS3335bdfyEhAScnJy4fPkyvXv3xsfHh59//lnZfuLECXQ6HUOHDgVQ8rxhwwYlzZtvvomIkJycrKwrKyvDy8uLXr163TCG7u7uuLi48M033yjrdu7ciYiwaNEiAHbv3o2IkJSURFVVlZLugw8+QER48sknAZg7dy4iwr59+5Q0BQUFJCUlmfSm1GTSpEmICCtXrlStHzVqlEoQkpOTiY6OVvW47Nq1CxFh9erVAMTExODk5KQIA1TLX3R0tCIIly9fxsPDg+DgYKV3CKpFxdvbm+bNm1NZWcmBAwdMJKusrIzHH3+c+fPn3zCuGhoadwZNEBoAts5BKCoqIj8/n9WrV9OmTRtERGkkDAYDbdu2NdnH2PDNnTtXtf7cuXPs37+fxYsX4+npicFgAH4XhEcffVSVvmvXrjRp0oTi4mLV8vzzzyMiHDt2jM6dO+Pj46NqYAGqqqq4fv06JSUl2Nvb8+ijj5ocJz4+Hl9fX6BaEJydnVVDI8YGPScnR3XsVq1a0aFDhxvGzd3dnbi4ONW677//HhFh1qxZAEyZMgUR4dChQyb7t2vXTsnbwYMHcXBwwGAwMGPGDLZt28avv/56w/MDdOzYES8vL9U1QbUcmZuDUFJSwvHjx9m4cSMJCQmICLm5uVy+fBkRoX///ibnMPYYrFu3jq1btyIivPTSSybpxo8fj4jwxRdfcOnSJRo3boybmxsjR47krbfeUqRTQ0Pj7kQThAaAtYLw9ttvExUVhYgQGBhI9+7d6datm4kg9O3b12Tfr7/+GhFh3LhxVFRUkJKSQtOmTbG3tyckJISEhASCg4NNBGHevHmq47Ro0QIRsbhs3LiRkJAQoqKiLF7HDz/8cMNjiAiXLl2if//+uLu7q/Y1CsKKFStU6yMiImjfvv0N4+fu7m7SoBoFYebMmQAMHz4cEaGwsNBkf2MDXVlZqcQoOTmZgIAARARHR0cGDhzIDz/8YDEPISEhZgWupKREJQhHjx6lV69eODk54eXlRUxMjDKUkpuby+nTpy1OajT2dqxbt45Vq1YhIqxdu9Yk3cKFCxERdu/eDcCZM2cYP3484eHhyn2IjY3lo48+sng9Ghoadw5NEBoA1gjC0aNHEREGDRqkarxmzpxpIgitW7c22X/Pnj2ICCkpKbz66quICC+88ALFxcVKmri4OBNBqD1JrWvXrhgMBvbv3292uXDhAh06dMDPz8/sNeTm5vLTTz9hb2/PgAEDLB6nvLz8jgjC9OnTERE++eQTk/2jo6MJCAgwe+wvv/ySGTNmYGdnx4MPPmgxD/fcc4/ZY9Rs8MvKyggICCA8PJxjx44paYzXnpubS3FxsdILUxvj/IV169axfft2RIT09HSTdOPGjUNEzM6ZOH/+PLm5uXh7e+Pl5cW1a9csXpOGhsadQROEBoA1grB8+XJEhHfeeUdZV1lZSXx8vIkgiAjbtm1T7W+ceLdv3z6GDh2KiKjG/y9evIiPj0+dgpCamoqDg4Oq4QJYsGABPXv2pLi4WBlnf++995TtVVVVxMXF4ePjw/Xr1+nZsychISFcuXJFlebJJ5/k73//O8AdEYR9+/YhIgwePNjsHIQRI0YAMHr0aPR6vcmwQnBwMOHh4RbzYBS6mnM4AObNm6cIwrfffqua0GkkJSVFEQSoFjq9Xs8vv/yiSvfggw8qgnD16lU8PDwIDQ1VyWBhYSF6vV6Zc5KXl4e7uztbt25VHcs4MfbHH3+0eE0aGhp3Bk0QGgDWCMKRI0ews7MjPDycRYsWkZGRQVxcHK6urogI06dPp7y8HIPBgLe3N66urkycOJGsrCxlst+AAQMAlB6EPn368Nprr/HCCy8QEhKCq6srrq6uvPPOOxYF4fLly4SFheHj48OMGTPIyclh1KhR2NvbM27cOKD67bNJkya4uLgwefJksrOz6du3LyJCRkYGAPn5+crnj+np6SxZsoQ+ffpgZ2enzL6/E4IAMGTIECU+mZmZTJw4EZ1OR2BgoNJQ7ty5E3t7ezp06MDChQvJyclR9ps2bZrFPFy8eJHg4GD8/PxYsWIFn376Kenp6Xh4eCiCUF5ejp+fH56enqSlpbFkyRKSk5Nxd3dXJlCePn2aAwcO4OzsTMeOHdmyZQsff/wxw4cPx9nZWfUVQ25uLiJCZGQk6enpzJkzR/kaZPv27QD89NNP+Pv7ExgYSGpqKq+//jpTp07FxcWF/9/em4fXdC2O+ys5SU6Sc5KTgUREBlISU5FoDDGlFG1qKKVSXFeVKuIaSsVQMykSFUKMpS7ai1I1fkpVY/pepYjSXu2tlkZr1hBEkvf3R357NzvnJDmHKL1nvc+z/sg+aw9rZQ3vXmvtvRs1alRqvkokkseDFAQ7wNo1CCtXriQ8PFx9b8HIkSM5cuQI/v7+BAYGkpOTQ2BgIC1btmTjxo3Uq1cPFxcXKlWqxPDhw8nJyQEKn/N/6623qFy5Mnq9njp16pCWlsaaNWswGAx07ty5REEAuHTpEv3791cloFatWqSkpKhz81A4ZB4fH4+vry/u7u48/fTTLFu2THOcY8eOERcXh5eXFx4eHsTExGieAHhcgpCfn09ycjK1a9dW3y/Qp08fs0V7W7ZsoVmzZup7HOrVq0dqaqomHyxx/vx54uPj8fb2Rq/X06hRIzVdypqCQ4cO0bRpU9zd3fHx8eGVV17hzJkzNGzYEG9vb3VdwP79+2nZsiVubm54eHjQuXNnli1bZvYeBOVajUYjJpOJtm3bcuDAAc11ZWZm0qVLFypVqoSrqythYWG89dZbXL16tdT0SCSSx4MUBDugPN+kqAiCRCKRSP63kYJgB0hBkEgkEomtSEGwA6QgSCQSicRWpCDYAfJjTRKJRCKxFSkIdoAUBIlEIpHYihQEO0AKgkQikUhsRQqCHSAFQSKRSCS2IgXBDpCCIJFIJBJbkYJgB0hBkEgkEomtSEGwA6QgSCQSicRWyk0QLl68SOvWrWnZsqUMT1h4/vnnadu27WO/DhlkkEEGGf464dlnn+W33357eEE4cuQIUVFR7N+/X4YnLHTq1IkpU6Y89uuQQQYZZJDhrxMaNGjA0aNHH14Q5BTDk4ucYpBIJBKJrcg1CHaAFASJRCKR2IoUBDtACoJEIpFIbEUKgh0gBUEikUgktiIFwQ6QgiCRSCQSW5GCYAdIQZBIJBKJrUhBsAOkIEgkEonEVqQg2AFSECQSiURiK38ZQUhJSeHDDz98ZMf/X8ZWQTh8+DDx8fEEBwfj4uKCv78/Xbt25dChQ4/wKv+6LFy4kCVLlpT7cTMzMxk8eDB37twp92NLrKNHjx54enryxRdfPO5LeSS8//77CCH47LPP/vRzh4SEEBMTo/6dn5/Pm2++ibe3N0ajkW+++cYszp/JuXPnePrpp3FwcEAIgU6nw8vLi8zMzMdyPY+DxyoIQgimTZtmVdyQkBBGjhxp0/EfB61ataJNmzaP+zI02CIIs2fPxtHREU9PT3r16sXbb79Njx49cHV1xcHB4ZF0hE86N2/eZNOmTfz+++8Wf4+KiqJPnz7lfl6l8c7Ozn6g/W2pX5a4cOECAQEB5ZK2SZMm4eTk9NDH+TNZtWoV/v7+fP3114/7Uh4Zj1MQOnToQL9+/dS/9+zZgxCCzp07s3jxYi5dumQW58/k6tWrnDx5kuPHj5OZmck333zDrVu3Hsu1PC4eqyA4OTkxe/Zsq+L+VQShTZs2xMXFPe7L0GCtIGzbtg0hBI0aNeLy5cua386ePUtAQADOzs78+OOPj+hKn0w+++wzhBAlpvtJFQRb6pclTpw4gYODA40aNXrgYyhMmzYNg8Hw0Mf5M7l06VKJUvi/wuMUhOKsW7cOIQQ7dux43Jci+f95rIJQsWJFli5dalXcv4ogdOvWjZ49ez7uy9BgrSBERUXh4uJSYke4YsUKateurTnW5s2badKkCW5ubhiNRmJjYzXDsUeOHEEIwfLlyxk+fDgVK1bE3d2dDh06cPnyZZYuXUpYWBhubm7Uq1fPrKG6cuUKb775JoGBgTg7OxMSEsLo0aO5ffv2g2XGA/BXFQRb6ldJnDlzhmvXrj3UMQDS0tIIDAx84P3Pnj2rjogMHz4cf39/3NzcaNiwIevXr9fEtabMzJw5EyEE58+fZ/Dgwfj4+LB69WqgcGqnU6dO6lB3XFwcZ86cUfeNi4sjLCyM/fv307BhQ/R6PSEhIaxatYoLFy7QuXNnDAYD/v7+9O/fv8yyeufOHSZOnEiNGjVwc3PDz8+PTp06ac65adMmGjVqhIeHB97e3jRv3tyqTj03N5dJkyZRrVo1XFxcCAkJYdCgQVy6dAmwLAgHDhygffv2+Pn54ebmRkREBMnJyZr8HThwIFWqVEGv1xMaGsrw4cM1d9fWxCk6fVCvXj2EEGrQ6/VmcRTWrl1LZGQkrq6u+Pn50bFjR06cOKH+/vPPP9O3b1+CgoLQ6/UEBQUxePBgjezl5uYyefJkwsLCLOaLkgZr2p5r164xaNAgKleujKurK1FRUWzdutWmvHhSeayCULduXbZs2WLxtyVLlhAUFIS7uzvR0dF4eHiYCcKWLVuIiopCr9cTFhbG9OnTycvLU39/6623CA8Px2g04unpScuWLc0+PHH79m0GDRqkFgJfX19efPFFTZzr168zYMAAKlSogMlkok2bNiXOQyUkJDBixAib8uFRY40g/PzzzwghaN++vdXHXbhwIUIIwsPDSUpKYvLkyQQGBqLT6dT/qyIIVapUISYmhtTUVHr37o0Qgpo1axIUFERSUhJJSUn4+Pjg5eXFzZs3Abhx4wY1atTAwcGB1157jdTUVLp164YQgpiYGHJzcy1e1927d2natCnu7u4EBQUxYsQIQkND8fPz46OPPtLELasM+fr6ahouJcycOVONExUVhZ+fHxUqVECv1xMdHc3hw4c15/n111959dVX8fT0xGQy0atXL7OvpP3yyy/ExcXh5uZGQEAAkZGRDyUIluqXtXlTu3ZtNa3h4eEWj29N/VLYuHEjkZGRD5QO+EMQfH19qVatGtOnT2fGjBmEhYUhhGDFihWA9WVGEYSOHTvi4eFBmzZtyMjI4OTJkxiNRqpVq8a7777L1KlTqVChAj4+Ppw7dw4oFASTyYSfnx9jxowhJSWFwMBAnJycqF69Oj179iQtLY1OnTohhGDy5Mmlpq1Pnz4IIejXrx/p6elMmjQJk8lE1apVAdi3bx+Ojo7ExMSwYMEC5syZw1NPPYVer+f06dOlHvull15CCEHXrl2ZP38+I0eOxNXVlQYNGnD37l0zQTh9+jTu7u489dRTvPvuuyxcuJB27dohhGDVqlUAtG7dGldXVxITE1m8eDH9+/dHCEHv3r3V81oTp2jnv3PnToYOHYoQgjFjxvCvf/3LLA7Ae++9hxCCZ555hjlz5jBjxgwCAwMxmUz85z//4e7du4SHh+Pp6cnYsWNZvHgxgwYNQghB37591eO8/PLLCCHo0qWLmi96vZ7IyEju3btndTm6desWtWrVwmg0qmWhfv36ODo6snnzZqvz4knlsQrC6tWr+eWXX8y2f/DBBzg4OPDWW2+xfft2Jk2ahF6v1wjCli1bcHJy4p133mH//v2kp6djMBiYO3euGicqKormzZuzc+dOtSMICgoiJydHjTNq1CgqVarExo0bOXLkCP/3f//HBx98oP6el5dHdHQ09evXZ/Pmzezdu5fnn3+eypUrWzTAjIwMDhw4YFM+PGqsEYR9+/YhhGD48OFWHfPmzZsYjUZCQkI0Zp6VlYWXlxfBwcHk5+erghAVFaV2vAUFBYSEhCCE4Ntvv1X3TUpKQghBRkYGABMmTEAIwbx58zTnHj16NEIIli1bZvHasrOzEUKwePFi5s2bhxCCf/7zn4wfPx5PT0/1OqwpQ2fPnmXFihUIIdi9ezdnzpzhzJkzXL16VY0TFRXFM888w5YtW/jkk09o1KgRwcHB3L9/HyhcfNWwYUPCwsL48MMPWbt2LVWrVqVRo0YUFBQAcP/+fcLDw6lZsybr1q3jo48+okmTJg8lCJbql7V589///pczZ87Qt2/fEgXBmvqlcP78edasWfNA6QCtIBTN++vXrxMQEICvry+5ublWlxlFEEJDQ/npp5/UeG3atMHb21tzJ3n69Gn0er3aoMfFxSGEYNOmTWocpYzEx8er2+7du4enpyetW7cuMV3379/nqaee0nReAOPHj1dHOKZPn44Qgn379qm/Z2Zm0rVrV82danGUOf0333xTsz05OVkdyi8uCKmpqQQGBmpugO7du4ejoyP9+vWjoKAAFxcXYmNjNcecMGGCOopmTRww7/wtTTEUjaO0OfXq1dPcHBw9ehQhBG+//TZHjhwhMDDQbK1Us2bNCAsLA2Dv3r0IIXjjjTc0cebMmYMQgp07d1pdjqZNm6a2DQp37twhPDyc0NBQ8vLyrMqLJ5Un8imG2rVr0717d8224lMM9erVY8iQIZo4I0eOpG7duurfxYd+//3vfyOE4ODBg+q2+Ph46tatW+Iw6qZNm3B2dubixYvqtps3b+Lo6MjGjRsfKH1/NtYIwhdffIEQwurRD2W9QtE7aQXlTuDkyZOqIEydOlUTJyYmhkqVKmm2rV27FiGEat7PPPMMBoNBc0cPhUN6iv1bQukEDx06xC+//IIQgszMTL777jvNVIE1ZQhsn2I4dOiQppxt2LABIQTHjh1T43z11VeatK5fvx4hhOaOsPgUg3InZykoUlUW1uZN0fwoTRDKql/lhSIIgwcPNvtNacwPHDhgdZlRBGHhwoVqnJycHBwdHenevTvZ2dmaEBsbi4+PD1AoCC4uLppzKGUkPT1dc94aNWpQv359q9J47do1jhw5wurVq6lVqxZCCM6ePcvBgwfR6XQEBgaSmJjIjh07uH79epnHUzozS4ss79+/T0FBQYlrEPLy8vj+++/ZtWsXo0aNQgihTp0+//zz6ujLkiVLOHXqlCq6CtbEsVUQtm/fjhBCI/BFrzc/P1+z7cKFC2RkZDB//nw8PDzUKa63337brD5CodjcuXOHvLw8q8tR48aNCQgIMCsv77zzDkIITpw4YVVePKk8cYKQl5eHk5MT8+fP12wvKgi5ubkIIXByckKv16vByckJo9Go7lO8Abt58yZCCHX4CuC7776jRo0aeHh48Nprr5k1bmPHjlXnxIoGIQRz5sx56PT+GVgjCD/88ANCCF544YUS42RmZtKzZ0/WrFnDqlWrEEKwdu1as3jKHcqePXtUQSi+WC4mJoaQkBDNNqWBUO7MqlatSo0aNSxei4eHB82bN7f4W9FO8OLFi2ojqXQyZ8+etboMge2CcPnyZYQQbNiwAYDExES8vLzM9jOZTIwdOxYoXOXv6+ur+b24IPzwww98/fXXFoO185nW5E1RbBEES/WrvFCuz5KQLlmyBCEEGzdutLrMKIJQtL4r02ylhRs3bhAXF2e24FIpI++//75me3h4OPXq1Ss1bR999BF16tRBCIG/vz/NmzenadOmmv/HoUOHiI+Px8/PTy23HTt25Oeffy7xuH//+98RQnDlypUS4xQXhMuXL9O7d288PDzQ6/VERESoUyCKINy6dYukpCSio6PR6XQIIQgKCtLIkTVxbBWElStXauqVJfLy8pg4cSKVK1fG0dGR0NBQOnToQEhIiCoIffv2RQhhthC7KNaWo2rVqpVaXjZv3mxVXjypPHGCcPfuXYQQpKSkaLYXFYR79+4hhGDs2LHqkK8Sig5ZF2/AlMZx3bp1mmPfv3+fjRs30rlzZxwdHYmPj1eHsBITE/H09DQ7z5kzZ0qteE8S1i5SDA8Px8XFhQsXLlj8XbHiDz74gJ07dyKEICkpySxeQkKCejf8MILQuHFjixZ/9epVhBBmo0wKRTvBX3/9FZ1Ox/HjxzWdoLVlCGD37t02CULxcmaNICQmJmIymTS/FxeE/Px87t+/bzFYizV5UxRlncGDpLs8Ua6v+HA5/FEu9+7da3WZUQSh6FC6MoLw4osvkpGRYTHk5uaWqyAcO3YMIQof7cvKylK3jxs3zuL/A+Dbb78lMTERBwcH2rZtW+Kxhw0bhhCCU6dOabZfvHiRpUuXcubMGTNB6NSpE3q9nk8//VQtV/fv39cIQlGys7PZsmULdevWVUdxrI1jqyBs3rwZIQQLFizQHL+goIDly5fz+eefM3fuXIQQTJkyRTM1FxMTowqCMn1TPF9+++03Vq9ezXfffWd1OWrcuDGBgYEllpfiEmJNfj1JPHGCAPD000+bFfziUwx169alVatWpQ7VPEgD9uWXXyKE4JNPPgEKF1cpjc9fFWsFQWksmjZtqpnnhcKXJ7m5uVGpUiWys7O5ffs2RqORqlWraipiVlYWJpNJne97GEGYPHmyxQZBGfJUVp0Xp2gnWJTinaA1ZQgKy7alIUmFssqZpSkGJV+UKYaPP/7Y7I72UU8xlJY3CpMnT8bf3/+B0m0tt27dIjs7u9T/g3J9Xl5emum+nJwcQkND8fDw4NatW1aXGUuCAIXvMQkNDdWMyBQUFNCrVy9ef/11gHIVhOXLl5uNuuTn5xMbG6v+PwYNGoTJZDKbVggJCaF69eolHnvLli0IIRg6dKhme2JiIkIIjh49aiYIQUFB1KpVSxNfmbPv2bMnFy5cwGAwMGbMGE0c5Thr1qyxKo5y/bYIwuXLl9WFhEWleNeuXQghSE5OVhdAF11DcvXqVby9vVVB2LFjB0IIs0XvEydORAjB4cOHrS5HkyZNQqfTaZ6igML1DK1ateK7776zKi+eVJ5IQdi6dStCFK7y/PTTT9m2bRu+vr6af+jGjRtxcHDghRdeYN26dezYsYP09HROnjypxrGmAZs+fTqLFi3iiy++4PDhw+p85pEjR4BCe46KisLHuMevlQAAIABJREFUx4eZM2eyfft21q9fz6JFi8olrX8GtrwoSVk/4OXlRe/evRk5ciQdOnRAp9Ph7u7Onj171LhLly5FCEFERARJSUlMnTpVXc29c+dO4OEEITs7m4iICHWBVGpqKt27d0cIQatWrczsXsHaTtCaMgSFK+MNBgMvvvgiO3fuZP369ezatUv9vaxyVnSR4j//+U9Wr15ttkixoKCA6OhoAgICWLx4Mbt372bw4MEaQSjvKYbS8kZB6WSSkpL49NNPWblypdXpthaTyVTi3XLx6/Px8aFKlSpMmTKF2bNnq3diynSftWWmJEE4cuQIbm5u1KxZk6SkJNLS0njuuedwcHBQH6csT0E4evQoDg4OVK9enffee4+UlBRiYmJwc3NDiMIV/Tt27MDR0ZH69euTnJxMeno6PXv2RIjChXklkZ+fT+vWrRGicPHkggULGDBgADqdjk6dOgHmUwzKkxcDBw4kPT2dYcOG4eXlhYuLC3Xq1OHQoUM0b94cZ2dnEhISWLx4MTNmzCA4OBiTyaTKmzVxbBUE+OOmoUmTJrz33ntMmDABb29vQkNDuXbtmjqC8Nxzz7Fo0SKmTJlCaGgobm5uuLm5qSL27LPPIkThkyMrV65kxIgRODs707p1awoKCqwuRzdv3iQsLAxvb28SExNJT09nwIABODo6kpCQYHVePKk8kYIAhQtS6tevj7OzM66urtSsWVPzdAEUioTyyJbRaKROnTp8/vnn6u/WNGATJ04kLCwMV1dXPDw8qFevHsuXL9ec5/r16wwePFh9FDIgIIBXX3213NL6qLH1Vcvbt2/nxRdfVF+MFBgYSJ8+ffjuu+/M4m7ZsoVmzZphNBoxmUy0bdtWM2z2MIIAhYuChgwZoj7TXK1aNSZMmFDq64dt6QTLKkMKyvy2TqfD399fc2dhTTm7du2aOrfr6elJnz59uHHjhuYcN27c4I033sDX1xedTkfFihVp06YNd+/eLTGttmKrIOTn5zNkyBCMRiMGg0HzaFZ5C8L3339fYhzl+iZMmMDUqVMJCQnB2dmZ8PBws7lca8pMSYIAhcP+cXFxeHl54eHhQUxMjOZpgfJeg7By5UrCw8PVZ/ZHjhzJkSNH8Pf3JzAwkJycHLWeKe9mqFevHqmpqWYL84qTk5PD6NGj1demV6tWjTFjxqjSWVwQsrKyePnll/H29sbd3Z2WLVuye/duhgwZgru7O7NmzeLKlSskJCQQGhqKXq+ncuXK9OjRg2+++UY9rzVxHkQQoPDGpG7duuj1egICAoiPj1en//Ly8njrrbeoXLkyer2eOnXqkJaWxpo1azAYDHTu3Bko7NjffPNNfHx8EEIQEBBA//79NYvVrW17Ll26RP/+/QkICMDV1ZVatWqRkpKi/m+syYsnlSdWECTlh/xYk+RJJjc3F5PJZCZMRVEEYeLEiX/ehUn+5/nwww9p3bo127Zte9yX8kQiBcEOkIIgeZIZNGhQmS+NkYIgeRQcO3ZMHbl40hcMPg6kINgBUhAkTzIffvhhiW/FVJCCIClv/v3vf1OrVi2Cg4N5/vnn1Te4Sv5ACoIdIAVBIpFIJLYiBcEOkIIgkUgkEluRgmAHSEGQSCQSia1IQbADpCBIJBKJxFakINgBUhAkEolEYitSEOwAKQgSiUQisRUpCHaAFASJRCKR2IoUBDtACoJEIpFIbEUKgh0gBUEikUgktiIFwQ6QgmB/zJ071+yjY08KI0eORAjB5cuXy+2Yzz77rNlHfR41169fZ+LEiZovnEok5c2nn36KEEL9muifiRQEO0AKgv1h6St4TwrlJQjnz59n9+7ddO7cGSHEn57eH3/8ESEE48aN+1PPK7EvpCBIHilSEOwPexAEIYQmSEGQ/C8iBUHySLFWEE6cOEGHDh2oUKEC7u7u1KlTh/nz55vF++STT2jcuDHu7u5UrFiRgQMHqp/qPXLkCEIIli9fzvDhw6lYsSLu7u506NCBy5cvs3TpUsLCwnBzc6NevXrqd+ih8DvvQgg2bdrESy+9hIeHByaTiRdeeIGvv/5ajTdz5kyEEJw/f57Bgwfj4+PD6tWrgcJvuA8aNIjKlSvj6upKVFQUW7duLTPtq1atomHDhphMJjw9PWncuDHbt29XfzcYDMTFxWn2sdRBGAwG+vXrx5IlS6hWrRp6vZ7IyEiOHDnC/v37iY6OxtXVldDQUObOnas5Xn5+PrNnzyY8PBy9Xk9YWBizZs2ioKAAgNmzZyOE4OuvvyY+Ph5PT08qVKhAjx49uHTpEgCrV6826ziV6ztw4ADt27fHz88PNzc3IiIiSE5OVs8fFxdHWFgY+/fvp2HDhuj1ekJCQli1ahUXLlygc+fOGAwG/P396d+/P7dv3y4zX+fOnUv16tVxcXGhevXqpKSkmAlCWekuib1796rB1dXVakEoq4wo+XDs2DGaNWuGm5sbwcHBjBs3jry8PAD69etnls+fffYZ7dq1o3bt2pw7d44XXngBd3d3zp8/D5Reb0ri3r17TJgwgZCQEFxdXWnUqBH//ve/0el09OvXD4BDhw6pHciCBQsICQmhf//+al2cPXu25pjvv/++er1gfb0DOHnyJJ06dcLb2xu9Xs/TTz/N4sWLNXGuXLnCwIEDqVKlCnq9ntDQUIYPH86tW7es+v8U51G1N8U5d+4cDg4OdOnSRbM9Ly8PX19fYmNj1W2llaE7d+6YlQ0l+Pr6lprWnTt3qm2Ev78/Q4YMYc2aNWaCsHnzZpo0aYKbmxtGo5HY2Fi++OILm/O2LKQg2AHWCMKNGzfw9fUlODiYd999l4ULF/Lss8+qlU9hxYoVCCFo1aoV8+bNIyEhAScnJxo1asT9+/fVClulShViYmJITU2ld+/eCCGoWbMmQUFBJCUlkZSUhI+PD15eXupX1JSGytfXlxYtWjB37lzefvttjEYj7u7unDp1CvhDEDp27IiHhwdt2rQhIyODW7duUatWLYxGI2PGjCElJYX69evj6OjI5s2bS0z7ypUrEUIQGxvLggULSElJISIiAhcXF86ePQvYJghVqlQhODiYWbNmMW7cOFxcXAgKCqJixYqMHj2a+fPnU7duXYQQ7Nu3T933b3/7Gw4ODvTp04f58+fTqVMnhBCMGDEC+EMQqlevTpcuXViwYAF9+/ZFCMErr7wCFDZy69ato0KFCoSHh7Nu3TpOnjzJ6dOncXd356mnnlL/v+3atUMIwapVq4DCjtFkMuHn56fmX2BgIE5OTlSvXp2ePXuSlpamXtfkyZNLLVPjx49HCEFkZCRz5szhnXfewc/PD19fX40glJVuazAYDFYJgjVlJC4uDh8fHwICAhg6dCgLFiygRYsWCCFYtGgRUPglwNTUVIQQvPTSS6xbt45ff/2Vdu3aUaNGDSIiIggICKBDhw5cvXq1zHpTEsr0Sffu3UlNTaVXr15UqFABBwcHM0Ho2LEjOp2Oxo0bk56ebrMglFXvvvrqK9zd3fH09CQxMZHk5GSio6MRQjB69Gj1+K1bt8bV1ZXExEQWL15M//79EUKU+UlvSzzK9sYSihAWlZnPP/8cIQTLli0Dyi5DeXl5LF26VBM6duyIEIK///3vJZ57165d6HQ6/Pz8mDRpErNmzaJBgwZqfVEEYeHChQghCA8PJykpicmTJxMYGIhOp2PLli0253FpSEGwA6wRhAMHDpg1+vfu3aNHjx68++67AOTk5ODp6UmLFi00d3dKJV6+fLlaYaOiotS7rYKCAkJCQhBC8O2336r7JSUlIYQgIyMD+KOhat26Nfn5+Wq8Q4cO4eDgQMeOHYE/BCE0NJSffvpJjTdt2jSEEOzevVvddufOHcLDwwkNDdUcsyjx8fHUrVtX01Dv3r0bIYQ6MmGLIBiNRvWuEQo7QCGE5k7r8OHDCCGYOnUqAPv370cIwfjx4zXnUDrP77//XhWE/v37a+LExMTg5eWl2VZ8iiE1NZXAwEAyMzPVbffu3cPR0VHtaOLi4tQ7SQXlfxsfH6/Zz9PTk9atW1vMT4DLly/j4uJCREQEd+7cUbf/97//xdXVVRUEa9JtDdYKgjVlRMmHNWvWqHGys7PR6/V07txZ3Wbp/69IV1xcHDk5OYB19cYSSsc0cOBAzfYRI0YghDATBJ1Ox+eff67Gs1UQyqp3zZs3R6fTcezYMTVObm4uMTExODo68p///IeCggJcXFw0d9sAEyZMoE+fPhbTWRKPur2xRHp6OkII/vWvf6nbEhIS0Ov1XL9+HbC9nTlx4gQGg4FnnnlGUxeKExkZibOzs3pTAnD37l31ZmL9+vXcvHkTo9FISEgIv//+uxovKysLLy8vgoODS2znHgQpCHaAtSMIlSpVwt3dnf79+/Phhx9qOjkoHP4SQjB//nyys7PVcP36dVxdXXnppZfUCqt0fAoxMTFUqlRJs23t2rUIIdQ7N6WhsjTX1rx5c/R6PQUFBaogLFy4UBOncePGBAQEaK4tOzubd955ByEEJ06cKDUPcnJyOHXqFJs3b6ZDhw4IIVi6dClgmyAU7zjHjRtn1lhlZWUhhGDYsGEAjBkzBiEEx48f11z7Z599hhCCefPmqYJQfJi0T58+CCHUBhJKXoOQl5fH999/z65duxg1ahRCCHr27AkUCoKLi4vmOMr509PTNcepUaMG9evXLzEvP/nkE4udE0D37t1VQbAm3dZgrSBYU0bi4uLQ6XTcvXtXs29ISAjNmjVT/y5NEE6fPq1us6beWOLtt9+2WG7PnDljURC6d++uiWerIJRW737//XccHR1p166dWZyPP/4YIQSpqakAPP/88+qIxpIlSzh16lSZ00WWeNTtjSWuXbuGi4uLOiIHEBQUpPkf2dLOXL16lWrVquHv72/Wnhbl5s2bqlgWRxkxWL9+Pdu2bUMIwcyZM83iDR06FCEEJ0+eLPE8tiIFwQ6wdg3CTz/9xNChQ6levbo6ZxYVFcWXX34JwAcffFDi3JoQgvr165fYKMXExBASEqLZtm7dOs0dq9JQHTp0yOzaXn31VYQQXL16VRWEgwcPauJUq1at1OsrqWE4duwYrVu3xtnZGU9PTyIjI9Vh7gcRhOLxFEH48ccf1W0XL15ECME//vEPAF577bVSr33YsGGqIBw5ckRzfEUQio6AFBeEy5cv07t3bzw8PNDr9URERKj7FRUEg8GgObbSUb///vua7eHh4dSrV89ifsIf0zaWOp3Ro0ergmBNuq3BWkGwpoxYygcwz9OSBEERWQVr6o0llOmj4os5r127ZlEQZsyYoYlnqyCUVu9OnDiBEIIBAwaYxTl69ChCCCZMmAAUDsEnJSURHR2NTqdDCEFQUJCZZJbFo25vSqJz584YjUbu3LmjHn/Dhg3q79a2M3l5ebRt2xZnZ2f2799f6jnPnTuHEILBgweb/bZ9+3a1Lq1atQohBGvXrjWLl5ycjBCiXB+7lYJgBzzIUwwXL15k6dKleHl54enpyZ07d1SjnzBhAhkZGWbh6NGj5SIIH330kdn1tGjRAmdnZ3Jzc1VBKDpcDoVmHxgYaPHaMjIyLK6av3fvHn5+flSvXl1j/krHqAiC0Wg06/hPnTpVboKg3El//PHHFq+96BTDgwhCp06d0Ov1fPrpp2q8+/fvPzJBUO50io/yAPz9739XOz5r0m0NtowglFVGHlYQii9Es6beWEKZSig+gvD1119bFITiC4q/+uori3VxwYIFFgWhtHp38+ZNHB0dad++vVmcjRs3lvi/zs7OZsuWLeow+YEDByym1RKPur0piQ0bNqjxxo4di8lk0kwNWNvOKCN01ohRdnY2jo6OZqNAoJVtJU+SkpLM4iUkJCCEdvTqYZGCYAdYIwjr1q3DYDCwbds2s32FEPzyyy/cunULg8FAt27dNHEuX75My5YtSUtLKxdBaNasmaazy8zMRKfTqfOaJQnCpEmT0Ol0Zg3qnDlzaNWqFdnZ2Wbp/uGHHxBCMGjQIM32iRMnagQhLCyM6OhoTZy0tLRyE4QvvvgCIQRpaWmafffs2UNMTAwHDx60SRCqVq1KkyZN1L+DgoKoVauWZr+9e/c+MkG4ceMGBoNBMyQP8Pvvv1OhQgVVEKxJtzVYKwjWlBFrBeGnn35CCEFiYqK6zZIgWFNvLKFM0xS/q1RGXcoShPPnzyOEdgEhQLdu3SwKQln1LjY2Fp1Ox/Hjx9U4RdcgnDt3jgsXLmAwGBgzZozmnMqohbKu486dO2RnZ5e6QPNRtzclcffuXby8vOjVqxc1a9akb9++mt+tKUMfffQRQgjeeOONUs9V/JpNJhNXrlzRbG/btq0qCLdv38ZoNFK1alVNe5aVlYXJZCIsLMzq81mDFAQ7wBpB+PXXX6lYsSL+/v5MmjSJJUuWMHr0aPXRKgXl7qNdu3bqvHhERATe3t6cPXu2XATBx8eHxo0bk5yczDvvvIOvry/Ozs5qZ1GSINy8eZOwsDC8vb1JTEwkPT2dAQMG4OjoSEJCgsV05+bmUqFCBTw8PJg8eTJpaWnEx8djMBgQQtC1a1fOnTunrsSeN28eR48eZdGiRQQHB5ebIEBhw+3k5ES/fv1YuHAh48ePx8vLi8jISHJzc20ShKioKIxGIwsWLODYsWPqlMnAgQNJT09n2LBheHl54eLiQp06dTh06FC5CgIUNphCCHr06MGXX37Jzp07ady4MS4uLpqh87LSbQ3WCoI1ZcRaQfj9999xcHCgTp06LFu2jKysLIuCAGXXG0vk5+cTExODEIJXX32V1NRUunTpQmhoqGZxaUmCUFBQQHh4OBUqVGDz5s38v//3/xg9ejReXl4WBaGsenf8+HEMBgMmk4mxY8eSkpJCo0aNNNMLULhuwdnZmYSEBBYvXsyMGTMIDg7GZDJx8eJFALMpvJJ4lO1Nabz++uvqYtqiixGh7DJ0+vRpNZ+WLFnC+++/rwnKYsfiHDhwABcXFxo0aMDWrVvZv38/ffv2VeuLMl2n/L8iIiJISkpi6tSp6tNGO3fuLDNttiAFwQ6wdoohMzOTLl26UKlSJVxdXQkLC+Ott97i6tWrmnjr168nOjpafS65S5cufPPNN0DJ8562CMKGDRvo27cvvr6+6PV6mjZtqnnGtyRBALh06RL9+/cnICAAV1dXatWqRUpKSqkrew8dOkTTpk1xd3fHx8eHV155hTNnztCwYUO8vb358ssvuXLlCr169cLf3x83NzeeffZZMjIyylUQ7t+/z/Tp06levTp6vZ7g4GASEhLU/LdFED766CMqV66Mo6Mj48aNIysri5dffhlvb2/c3d1p2bIlu3fvZsiQIbi7uzNr1qxyFwSA5cuXU7t2bVxcXPD392fo0KFm70EoK93WYK0gQNllxFpBgMJh5KIdbkmCAKXXm5K4ceMGAwcOVN9d0bZtW06cOIGDgwNDhgwBShYEKFxBHxsbi6enJ15eXvTp00d9CqC4IJRV76BwWq1r1674+vri5uZGZGQkK1eu1MS5cuUKCQkJhIaGotfrqVy5Mj169NCkVREE5dHB0nhU7U1p7Nu3DyEEAQEBFtuO0sqQMlpSUrDUbins37+fli1b4ubmhoeHB507d2bZsmUaQQDYsmULzZo1w2g0YjKZaNu2rU3TN9YiBcEO+Ku8SVFpqPbu3fu4L0Uieez89ttvrFu3zmwdhjIPvWTJknI5z+Oqd+3bty/35/Yl5YsUBDtACoJE8tfj2rVreHt7U7VqVRYtWsS2bdtISUnBz8+P4OBgzXPwD8PjqHfr1q0ze0eG5MlDCoIdIAVBIvlrkpmZSbdu3ahUqRJOTk5UqlSJXr16aV4Q9rA8jnq3Y8eOcv2ap+TRIAXBDvirCIJEIpFInhykINgBUhAkEolEYitSEOwAKQgSiUQisRUpCHaAFASJRCKR2IoUBDtACoJEIpFIbEUKgh0gBUEikUgktiIFwQ6QgiCRSCQSW5GCYAdIQZBIJBKJrUhBsAMepSBcu3aN4OBgnnnmGX777bdHco7Hzaeffmr2LvRHgaXPB/9V+Prrr5k4cSI//PDDn3K+JyGvLH0DQyL5X0IKgh3wKAWhU6dOdOrUidu3bz+S4z8JSEEoG+UDNcoHgB41WVlZREVFsXDhwj/lfJaYNGkSUVFR5OXlPbZrkEgeJVIQ7AA5xfBwSEEomz9bECQSyaNHCoIdYK0gGAwG+vXrx9q1a4mIiFA/Y/rhhx+axSv+SePinZvyGdbly5czfPhwKlasiLu7Ox06dODy5cssXbqUsLAw3NzcqFevnlnHcu3aNQYNGkTlypVxdXUlKiqKrVu3qr8rn3w+f/48gwcPxsfHh9WrVwNw8uRJOnXqhLe3N3q9nqeffprFixdblVc7d+4kOjoaV1dX/P39GTJkCGvWrDEThE8++YTGjRurn6AdOHAgN27cKPXY+fn5zJ49m/DwcPR6PWFhYcyaNYuCggKLeWjNPsonoA8fPkynTp0wGAz4+PgwYsQIcnJyGDFiBBUrVsTT05N27dqZTQFkZmaqeWU0GomLi+PMmTPq73FxcYSFhXHs2DGaNWuGm5sbwcHBjBs3Tr1zDgsLM/ukrTLsvnnzZpo0aYKbmxtGo5HY2FizTwhv2rSJRo0a4eHhgbe3N82bNy9TNCzlVVZWFr1796ZixYoYDAa6du3Khg0bEEKoZcOWT2avWrWKhg0bYjKZ8PT0pHHjxmzfvr3Efa5cucLAgQOpUqUKer2e0NBQhg8fzq1bt0pNC5Renh62LhXH2jx42LJlicOHD9OmTRuMRiMVK1Zk9OjRTJw4Ua3LAHq9nsGDB/P5558TGRlJREQEYF27c/bsWYQQTJs2jeHDh6ufZ2/YsKGZ4Ofl5fHuu+8SERGBi4sLFSpU4NVXX9V8lt3ekYJgB9giCE899RQBAQFMmTKFlJQUQkJC0Ol0nDp1ShPPWkGoUqUKMTExpKam0rt3b4QQ1KxZk6CgIJKSkkhKSsLHxwcvLy9u3rwJwK1bt6hVqxZGo5ExY8aQkpJC/fr1cXR0ZPPmzcAfgtCxY0c8PDxo06YNGRkZfPXVV7i7u+Pp6UliYiLJyclER0cjhGD06NGlpn/Xrl3odDr8/PyYNGkSs2bNokGDBvj6+moEYcWKFQghaNWqFfPmzSMhIQEnJycaNWpU6nz03/72NxwcHOjTpw/z58+nU6dOCCEYMWKExTy0Zh+lEa9SpQq9evVi/vz5NG3aVM1nJe+HDx+Oo6MjsbGx6rFPnjyJ0WikWrVqvPvuu0ydOpUKFSrg4+PDuXPngEJB8PHxISAggKFDh7JgwQJatGiBEIJFixYBsHXrVgYOHKhe+7p16ygoKGDhwoUIIQgPDycpKYnJkycTGBiITqdTP/O7b98+HB0diYmJYcGCBcyZM4ennnoKvV7P6dOnS8zL4nl148YNQkJCcHFxYfjw4bz33ns0b96cihUrPpAgrFy5EiEEsbGxLFiwgJSUFLUjOXv2rMV9WrdujaurK4mJiSxevJj+/fsjhKB3794lFzorytPD1CVL2CoID1K2LHH48GH0ej2VK1dm2rRpzJgxg9DQUPV/VFQQ2rVrh16vp2bNmgwePBiwTRB8fX2pVq0a06dPZ8aMGarErlixQt33lVdeQQhBmzZteO+99xg2bBh6vZ6KFSuq5d/ekYJgB9giCK6urprvz3/22WcIIXjvvfc08awVhKJztAUFBYSEhCCE4Ntvv1X3TUpKQghBRkYGANOmTUMIwe7du9U4d+7cITw8nNDQUPLz81VBCA0N1XzZrnnz5uh0Oo4dO6Zuy83NJSYmBkdHR/7zn/+UmP7IyEicnZ3VDgDg7t271K1bVxWEnJwcPD09adGihXoXD3808suXL7d47P379yOEYPz48ZrtigB8//33ZnlozT5KI/6Pf/xD/f2///2vmjf37t1Tt7dv3x4XFxfy8/MBaNOmDd7e3ly6dEmNc/r0afR6vdqpxcXFIYRgzZo1apzs7Gz0ej2dO3dWtxWfYrh58yZGo5GQkBDNZ4mzsrLw8vIiODiY/Px8pk+fjhCCffv2qXEyMzPp2rWrZsSoOMXz6p133kEIoRntysvLU+XQVkGIj4+nbt26GuHbvXu35lhF9ykoKMDFxcWsk5wwYQJ9+vQpMR3WlKeHqUuWsFUQHqRsWaJFixa4urpqOt+srCyMRqOZIAghmDJlimZ/WwXh6tWrarzr168TEBCAr68vubm57NmzByEEXbt21eT79u3bEULQq1evEtNhT0hBsANsEYSYmBjNNqUCFu2kbBGEqVOnauLFxMRQqVIlzba1a9cihFBHBxo3bkxAQADZ2dmaoHQCJ06cUAWh6CK17OxsHB0dadeunVnaPv74Y4QQpKamWkz7zZs3EUKYpQtQ74TXr1/Pzp07EUIwf/58zbVdv34dV1dXXnrpJYvHHzNmDEIIjh8/rtlPEbB58+aZ5aE1+yiNeNEO4f79+wgh6NGjh+YaBgwYgBCCGzdukJOTg6OjI927dzfL59jYWHx8fIBCQdDpdNy9e1dzrJCQEJo1a6b+XVwQtm3bhhCCmTNnmuXF0KFDEUJw8uRJDh48iE6nIzAwkMTERHbs2MH169ct5mFRiudVo0aN8PHx0TT2AIsWLXrgKQYo7MBPnTrF5s2b6dChA0IIli5danGf559/Xh3VWrJkCadOnTK7nuJYU54epi5ZwlZBsLVsWeL27ds4OjparB/KnXxRQahcubLZ/8IWQVBGHYoyYcIEhBAcOHCAUaNGIYTg0KFDZvGefvpptfzbO1IQ7ABbBKGsCmhtPKVRmz17tiZeTEwMISEhmm3r1q1DCMGmTZsAqFatGkKIEsPmzZtVQTh48KB6nJ9++gkhBAMGDDBL29GjRxFCMGHCBItpP3fuXIkNi3JXsX79ej744INSr61+/foWj//aa6+Vut+wYcPM8tCafSw19kp+QqJSAAAIiUlEQVQjXvzO9Y033kAIwfXr1/n5559LPbbS2MfFxWEwGMzSExISopHJ4oKwatUqhBCsXbvWbN/k5GSEEOzZsweAQ4cOER8fj5+fH0IInJyc6NixIz///LPFvATz8la1alVq165tFk8RQ1sF4dixY7Ru3RpnZ2c8PT2JjIxUp3dKEoRbt26RlJREdHQ0Op0OIQRBQUGkp6eXmA5rytPD1CVL2CoItpYtSyh101L9UoSxqCC0bdvWLJ4tgmBJTJcsWYIQgo0bN9K3b1+EEGRlZZnFU0SwtNEQe0EKgh1Q3oKgLGYryqlTp8pNEBo3bkxgYCAZGRkWw+XLl1VByMzMVI+j3BW3b9/eLG0bN240G3EoijL60L17d7PflPnooiMIEyZMsHhtR48etXh8ZTTg448/trifpSkGa/Z50EZcyasXX3yxxHzOzc19YEFQ8ikpKcls34SEBIQQFtcYfPvttyQmJuLg4GCxk1AonleRkZEWRxDmzp2rEYQ5c+ZY7BxffvlltXO8d+8efn5+VK9enRMnTqhxlJGbkgShKNnZ2WzZskWdnjpw4IDFdFhTnspbEKzJAyhfQVBG6CyNICjiVVQQunbtahbPmnZHEYQ333zTbH9lBHLv3r1q3Tp8+LBZvLp16+Ln52cxHfaGFAQ7oLwFISwsjOjoaE28tLS0chOESZMmodPpNI0zFDZsrVq1Ijs726IgAMTGxqLT6Th+/Li6regahNIWH8XExGAymbhy5Ypme9u2bVVBuHXrFgaDgW7dumniXL58mZYtW5KWlmbx2F988QVCCLPf9+zZQ0xMDAcPHjTLa2v2eZhGvFWrVoSGhmpW2RcUFNCrVy9ef/11AKsFQRkx2LVrF1A4pGw0GqlatSrZ2dlqvKysLEwmE2FhYQAMGjQIk8lk1rGEhIRQvXp1i3kJ5uVy+PDh6v9I4e7du9SqVUsjCKtXr0YIoXka4e7duwQFBamd4w8//IAQgkGDBmnOqay2tyQIFy5cwGAwMGbMGM0+ijgVXcNRFGvKU3kLgjV5AOUrCAANGjTA1dVVMzL0/fff4+LiYpUgWNPuKILg5eXFxYsX1Xg5OTmEhobi4eHBrVu32LdvH0IIunXrZnENQr9+/UpMhz0hBcEOKG9BUFZnz5s3j6NHj7Jo0SKCg4PLTRBu3rxJWFgY3t7eJCYmkp6ezoABA3B0dCQhIQGgREE4fvw4BoMBk8nE2LFjSUlJoVGjRupdWmkcOHAAFxcXGjRowNatW9m/fz99+/ZVGzCl81mwYAFCCNq1a6euA4iIiMDb21uzwLE43bp1w8nJiX79+rFw4ULGjx+Pl5cXkZGR5ObmWszrsvZ5mEb8yJEjuLm5UbNmTZKSkkhLS+O5557DwcFBTau1gqC8K+Kll15ixYoVFBQUsHTpUoQQREREkJSUxNSpUwkMDMTJyYmdO3cChXfljo6O1K9fn+TkZNLT0+nZsydCCN5+++0S87J4Xl24cAFfX19cXV0ZNWoUycnJREVFqdNViiD8+OOPuLi4EB0dTUZGBnv37iUuLg6TyaR2jrm5uVSoUAEPDw8mT55MWloa8fHxGAwGhChc2Hbu3DmzEYTmzZvj7OxMQkICixcvZsaMGQQHB2MymTSdVXHKKk/lLQjW5AGUvyBs374dR0dHgoODmTlzJlOmTKFSpUrq/6gsQbCm3VEEwcfHhypVqjBlyhRmz56tjuTMmTNHPZ5Szp577jnmzZvH8OHD0ev1+Pv788svv5SYDntCCoIdUN6CcOXKFXr16qU+Y/zss8+SkZFRboIAcOnSJfr3709AQID6PoaUlBR1XrAkQYDCYceuXbvi6+uLm5sbkZGRrFy5ssz0Q+GTAy1btsTNzQ0PDw86d+7MsmXLzO5O169fT3R0tPrcepcuXfjmm29KPfb9+/eZPn061atXR6/XExwcTEJCgrra2lJel7XPwzbix44dIy4uDi8vLzw8PIiJidE8PWCtINy+fZv27dvj5uam6WS2bNlCs2bNMBqNmEwm2rZtazbcrsRR3sVQr149UlNTS50DtpRXZ86c4cUXX8RoNOLl5cWAAQNYv349Qgg2bNigxtuwYQN169bFzc1N7USUeXDlug8dOkTTpk1xd3fHx8eHV155hTNnztCwYUO8vb358ssvLb4HISEhgdDQUHWhXY8ePcosF1B6eSpvQbA2D8pbEKBw8WrDhg3R6/UEBQUxZ84cRo8ejRBCHbkrSRCsaXcUQZgwYQJTp04lJCQEZ2dnwsPDzdaC5Ofnk5ycTO3atdX3nvTp00cVFYkUBLtAvklR8r9OZmYm69at0zxSCX+s4/juu+8e05VJFPbs2WPx6YomTZpQuXLlcjmHIggTJ04sl+PZO1IQ7AApCJL/dfbs2YODgwOtWrVizZo1fPLJJ4waNQpnZ+cSHz2V/Lkoazhef/11Nm3axL/+9S91YeS8efPK5RxSEMoXKQh2gBQEiT2wZcsWWrRogbe3N87OzoSFhZGYmEhOTs7jvjQJhQtgk5OTqVu3LgaDQZ3+K+nlYg+CFITyRQqCHSAFQSKRSCS2IgXBDpCCIJFIJBJbkYJgB0hBkEgkEomtSEGwA6QgSCQSicRWpCDYAVIQJBKJRGIrUhDsACkIEolEIrGVchOE06dPExsbS0pKigxPWOjSpQsJCQmP/TpkkEEGGWT464RWrVrx7bffPrwgACQlJTFq1CgZnrCQlJTEpEmTHvt1yCCDDDLI8NcJlr7G+sCCIJFIJBKJxH6QgiCRSCQSicQMKQgSiUQikUjMkIIgkUgkEonEDCkIEolEIpFIzJCCIJFIJBKJxAwpCBKJRCKRSMyQgiCRSCQSicQMKQgSiUQikUjMkIIgkUgkEonEDCkIEolEIpFIzJCCIJFIJBKJxAwpCBKJRCKRSMz4/wAIj/aR6/43VQAAAABJRU5ErkJggg==)"
      ]
    },
    {
      "cell_type": "code",
      "metadata": {
        "colab": {
          "base_uri": "https://localhost:8080/"
        },
        "id": "Lw8QwXdmMpUm",
        "outputId": "ebfce12a-a407-45c9-9739-bc2c43a3ad25"
      },
      "source": [
        "df_market[['Date', 'Time']]"
      ],
      "execution_count": null,
      "outputs": [
        {
          "output_type": "execute_result",
          "data": {
            "text/html": [
              "<div>\n",
              "<style scoped>\n",
              "    .dataframe tbody tr th:only-of-type {\n",
              "        vertical-align: middle;\n",
              "    }\n",
              "\n",
              "    .dataframe tbody tr th {\n",
              "        vertical-align: top;\n",
              "    }\n",
              "\n",
              "    .dataframe thead th {\n",
              "        text-align: right;\n",
              "    }\n",
              "</style>\n",
              "<table border=\"1\" class=\"dataframe\">\n",
              "  <thead>\n",
              "    <tr style=\"text-align: right;\">\n",
              "      <th></th>\n",
              "      <th>Date</th>\n",
              "      <th>Time</th>\n",
              "    </tr>\n",
              "  </thead>\n",
              "  <tbody>\n",
              "    <tr>\n",
              "      <th>0</th>\n",
              "      <td>1/5/2019</td>\n",
              "      <td>13:08</td>\n",
              "    </tr>\n",
              "    <tr>\n",
              "      <th>1</th>\n",
              "      <td>3/8/2019</td>\n",
              "      <td>10:29</td>\n",
              "    </tr>\n",
              "    <tr>\n",
              "      <th>2</th>\n",
              "      <td>3/3/2019</td>\n",
              "      <td>13:23</td>\n",
              "    </tr>\n",
              "    <tr>\n",
              "      <th>3</th>\n",
              "      <td>1/27/2019</td>\n",
              "      <td>20:33</td>\n",
              "    </tr>\n",
              "    <tr>\n",
              "      <th>4</th>\n",
              "      <td>2/8/2019</td>\n",
              "      <td>10:37</td>\n",
              "    </tr>\n",
              "    <tr>\n",
              "      <th>...</th>\n",
              "      <td>...</td>\n",
              "      <td>...</td>\n",
              "    </tr>\n",
              "    <tr>\n",
              "      <th>995</th>\n",
              "      <td>1/29/2019</td>\n",
              "      <td>13:46</td>\n",
              "    </tr>\n",
              "    <tr>\n",
              "      <th>996</th>\n",
              "      <td>3/2/2019</td>\n",
              "      <td>17:16</td>\n",
              "    </tr>\n",
              "    <tr>\n",
              "      <th>997</th>\n",
              "      <td>2/9/2019</td>\n",
              "      <td>13:22</td>\n",
              "    </tr>\n",
              "    <tr>\n",
              "      <th>998</th>\n",
              "      <td>2/22/2019</td>\n",
              "      <td>15:33</td>\n",
              "    </tr>\n",
              "    <tr>\n",
              "      <th>999</th>\n",
              "      <td>2/18/2019</td>\n",
              "      <td>13:28</td>\n",
              "    </tr>\n",
              "  </tbody>\n",
              "</table>\n",
              "<p>1000 rows × 2 columns</p>\n",
              "</div>"
            ],
            "text/plain": [
              "          Date   Time\n",
              "0     1/5/2019  13:08\n",
              "1     3/8/2019  10:29\n",
              "2     3/3/2019  13:23\n",
              "3    1/27/2019  20:33\n",
              "4     2/8/2019  10:37\n",
              "..         ...    ...\n",
              "995  1/29/2019  13:46\n",
              "996   3/2/2019  17:16\n",
              "997   2/9/2019  13:22\n",
              "998  2/22/2019  15:33\n",
              "999  2/18/2019  13:28\n",
              "\n",
              "[1000 rows x 2 columns]"
            ]
          },
          "metadata": {
            "tags": []
          },
          "execution_count": 22
        }
      ]
    },
    {
      "cell_type": "code",
      "metadata": {
        "colab": {
          "base_uri": "https://localhost:8080/"
        },
        "id": "uoCkqOQINDdM",
        "outputId": "ad7d51dc-8ea1-4b9a-cd1b-3e3ad65aa0bb"
      },
      "source": [
        "df_market[['City', 'Branch']].sort_values(['Branch', 'City'], ascending=[True, False])"
      ],
      "execution_count": null,
      "outputs": [
        {
          "output_type": "execute_result",
          "data": {
            "text/html": [
              "<div>\n",
              "<style scoped>\n",
              "    .dataframe tbody tr th:only-of-type {\n",
              "        vertical-align: middle;\n",
              "    }\n",
              "\n",
              "    .dataframe tbody tr th {\n",
              "        vertical-align: top;\n",
              "    }\n",
              "\n",
              "    .dataframe thead th {\n",
              "        text-align: right;\n",
              "    }\n",
              "</style>\n",
              "<table border=\"1\" class=\"dataframe\">\n",
              "  <thead>\n",
              "    <tr style=\"text-align: right;\">\n",
              "      <th></th>\n",
              "      <th>City</th>\n",
              "      <th>Branch</th>\n",
              "    </tr>\n",
              "  </thead>\n",
              "  <tbody>\n",
              "    <tr>\n",
              "      <th>0</th>\n",
              "      <td>Yangon</td>\n",
              "      <td>A</td>\n",
              "    </tr>\n",
              "    <tr>\n",
              "      <th>2</th>\n",
              "      <td>Yangon</td>\n",
              "      <td>A</td>\n",
              "    </tr>\n",
              "    <tr>\n",
              "      <th>3</th>\n",
              "      <td>Yangon</td>\n",
              "      <td>A</td>\n",
              "    </tr>\n",
              "    <tr>\n",
              "      <th>4</th>\n",
              "      <td>Yangon</td>\n",
              "      <td>A</td>\n",
              "    </tr>\n",
              "    <tr>\n",
              "      <th>6</th>\n",
              "      <td>Yangon</td>\n",
              "      <td>A</td>\n",
              "    </tr>\n",
              "    <tr>\n",
              "      <th>...</th>\n",
              "      <td>...</td>\n",
              "      <td>...</td>\n",
              "    </tr>\n",
              "    <tr>\n",
              "      <th>983</th>\n",
              "      <td>Naypyitaw</td>\n",
              "      <td>C</td>\n",
              "    </tr>\n",
              "    <tr>\n",
              "      <th>984</th>\n",
              "      <td>Naypyitaw</td>\n",
              "      <td>C</td>\n",
              "    </tr>\n",
              "    <tr>\n",
              "      <th>988</th>\n",
              "      <td>Naypyitaw</td>\n",
              "      <td>C</td>\n",
              "    </tr>\n",
              "    <tr>\n",
              "      <th>994</th>\n",
              "      <td>Naypyitaw</td>\n",
              "      <td>C</td>\n",
              "    </tr>\n",
              "    <tr>\n",
              "      <th>995</th>\n",
              "      <td>Naypyitaw</td>\n",
              "      <td>C</td>\n",
              "    </tr>\n",
              "  </tbody>\n",
              "</table>\n",
              "<p>1000 rows × 2 columns</p>\n",
              "</div>"
            ],
            "text/plain": [
              "          City Branch\n",
              "0       Yangon      A\n",
              "2       Yangon      A\n",
              "3       Yangon      A\n",
              "4       Yangon      A\n",
              "6       Yangon      A\n",
              "..         ...    ...\n",
              "983  Naypyitaw      C\n",
              "984  Naypyitaw      C\n",
              "988  Naypyitaw      C\n",
              "994  Naypyitaw      C\n",
              "995  Naypyitaw      C\n",
              "\n",
              "[1000 rows x 2 columns]"
            ]
          },
          "metadata": {
            "tags": []
          },
          "execution_count": 23
        }
      ]
    },
    {
      "cell_type": "markdown",
      "metadata": {
        "id": "HsKUKU5FOC3J"
      },
      "source": [
        "## Criação de subsets do DataFrame\r\n",
        "\r\n"
      ]
    },
    {
      "cell_type": "code",
      "metadata": {
        "colab": {
          "base_uri": "https://localhost:8080/"
        },
        "id": "6KtIUPaAOFJM",
        "outputId": "c3eddb0a-c01e-45a0-d4c7-673c9d646d03"
      },
      "source": [
        "cols_dados = [\"City\", \"Quantity\", \"Unit price\", \"Date\"]\r\n",
        "df_market[cols_dados]"
      ],
      "execution_count": null,
      "outputs": [
        {
          "output_type": "execute_result",
          "data": {
            "text/html": [
              "<div>\n",
              "<style scoped>\n",
              "    .dataframe tbody tr th:only-of-type {\n",
              "        vertical-align: middle;\n",
              "    }\n",
              "\n",
              "    .dataframe tbody tr th {\n",
              "        vertical-align: top;\n",
              "    }\n",
              "\n",
              "    .dataframe thead th {\n",
              "        text-align: right;\n",
              "    }\n",
              "</style>\n",
              "<table border=\"1\" class=\"dataframe\">\n",
              "  <thead>\n",
              "    <tr style=\"text-align: right;\">\n",
              "      <th></th>\n",
              "      <th>City</th>\n",
              "      <th>Quantity</th>\n",
              "      <th>Unit price</th>\n",
              "      <th>Date</th>\n",
              "    </tr>\n",
              "  </thead>\n",
              "  <tbody>\n",
              "    <tr>\n",
              "      <th>0</th>\n",
              "      <td>Yangon</td>\n",
              "      <td>7</td>\n",
              "      <td>74.69</td>\n",
              "      <td>1/5/2019</td>\n",
              "    </tr>\n",
              "    <tr>\n",
              "      <th>1</th>\n",
              "      <td>Naypyitaw</td>\n",
              "      <td>5</td>\n",
              "      <td>15.28</td>\n",
              "      <td>3/8/2019</td>\n",
              "    </tr>\n",
              "    <tr>\n",
              "      <th>2</th>\n",
              "      <td>Yangon</td>\n",
              "      <td>7</td>\n",
              "      <td>46.33</td>\n",
              "      <td>3/3/2019</td>\n",
              "    </tr>\n",
              "    <tr>\n",
              "      <th>3</th>\n",
              "      <td>Yangon</td>\n",
              "      <td>8</td>\n",
              "      <td>58.22</td>\n",
              "      <td>1/27/2019</td>\n",
              "    </tr>\n",
              "    <tr>\n",
              "      <th>4</th>\n",
              "      <td>Yangon</td>\n",
              "      <td>7</td>\n",
              "      <td>86.31</td>\n",
              "      <td>2/8/2019</td>\n",
              "    </tr>\n",
              "    <tr>\n",
              "      <th>...</th>\n",
              "      <td>...</td>\n",
              "      <td>...</td>\n",
              "      <td>...</td>\n",
              "      <td>...</td>\n",
              "    </tr>\n",
              "    <tr>\n",
              "      <th>995</th>\n",
              "      <td>Naypyitaw</td>\n",
              "      <td>1</td>\n",
              "      <td>40.35</td>\n",
              "      <td>1/29/2019</td>\n",
              "    </tr>\n",
              "    <tr>\n",
              "      <th>996</th>\n",
              "      <td>Mandalay</td>\n",
              "      <td>10</td>\n",
              "      <td>97.38</td>\n",
              "      <td>3/2/2019</td>\n",
              "    </tr>\n",
              "    <tr>\n",
              "      <th>997</th>\n",
              "      <td>Yangon</td>\n",
              "      <td>1</td>\n",
              "      <td>31.84</td>\n",
              "      <td>2/9/2019</td>\n",
              "    </tr>\n",
              "    <tr>\n",
              "      <th>998</th>\n",
              "      <td>Yangon</td>\n",
              "      <td>1</td>\n",
              "      <td>65.82</td>\n",
              "      <td>2/22/2019</td>\n",
              "    </tr>\n",
              "    <tr>\n",
              "      <th>999</th>\n",
              "      <td>Yangon</td>\n",
              "      <td>7</td>\n",
              "      <td>88.34</td>\n",
              "      <td>2/18/2019</td>\n",
              "    </tr>\n",
              "  </tbody>\n",
              "</table>\n",
              "<p>1000 rows × 4 columns</p>\n",
              "</div>"
            ],
            "text/plain": [
              "          City  Quantity  Unit price       Date\n",
              "0       Yangon         7       74.69   1/5/2019\n",
              "1    Naypyitaw         5       15.28   3/8/2019\n",
              "2       Yangon         7       46.33   3/3/2019\n",
              "3       Yangon         8       58.22  1/27/2019\n",
              "4       Yangon         7       86.31   2/8/2019\n",
              "..         ...       ...         ...        ...\n",
              "995  Naypyitaw         1       40.35  1/29/2019\n",
              "996   Mandalay        10       97.38   3/2/2019\n",
              "997     Yangon         1       31.84   2/9/2019\n",
              "998     Yangon         1       65.82  2/22/2019\n",
              "999     Yangon         7       88.34  2/18/2019\n",
              "\n",
              "[1000 rows x 4 columns]"
            ]
          },
          "metadata": {
            "tags": []
          },
          "execution_count": 24
        }
      ]
    },
    {
      "cell_type": "code",
      "metadata": {
        "colab": {
          "base_uri": "https://localhost:8080/"
        },
        "id": "4UNVc2Z4Oegb",
        "outputId": "c19ebdd9-1821-47d1-a2af-38d9f4a76d86"
      },
      "source": [
        "df_market[\"Quantity\"] > 5.0"
      ],
      "execution_count": null,
      "outputs": [
        {
          "output_type": "execute_result",
          "data": {
            "text/plain": [
              "0       True\n",
              "1      False\n",
              "2       True\n",
              "3       True\n",
              "4       True\n",
              "       ...  \n",
              "995    False\n",
              "996     True\n",
              "997    False\n",
              "998    False\n",
              "999     True\n",
              "Name: Quantity, Length: 1000, dtype: bool"
            ]
          },
          "metadata": {
            "tags": []
          },
          "execution_count": 25
        }
      ]
    },
    {
      "cell_type": "code",
      "metadata": {
        "colab": {
          "base_uri": "https://localhost:8080/"
        },
        "id": "OZ6OkZuLPFDP",
        "outputId": "f0f7de72-ff7a-42ec-dda4-412b913fa30c"
      },
      "source": [
        "df_market[df_market[\"Product line\"] == \"Electronic accessories\"]"
      ],
      "execution_count": null,
      "outputs": [
        {
          "output_type": "execute_result",
          "data": {
            "text/html": [
              "<div>\n",
              "<style scoped>\n",
              "    .dataframe tbody tr th:only-of-type {\n",
              "        vertical-align: middle;\n",
              "    }\n",
              "\n",
              "    .dataframe tbody tr th {\n",
              "        vertical-align: top;\n",
              "    }\n",
              "\n",
              "    .dataframe thead th {\n",
              "        text-align: right;\n",
              "    }\n",
              "</style>\n",
              "<table border=\"1\" class=\"dataframe\">\n",
              "  <thead>\n",
              "    <tr style=\"text-align: right;\">\n",
              "      <th></th>\n",
              "      <th>Invoice ID</th>\n",
              "      <th>Branch</th>\n",
              "      <th>City</th>\n",
              "      <th>Customer type</th>\n",
              "      <th>Gender</th>\n",
              "      <th>Product line</th>\n",
              "      <th>Unit price</th>\n",
              "      <th>Quantity</th>\n",
              "      <th>Tax 5%</th>\n",
              "      <th>Total</th>\n",
              "      <th>Date</th>\n",
              "      <th>Time</th>\n",
              "      <th>Payment</th>\n",
              "      <th>cogs</th>\n",
              "      <th>gross margin percentage</th>\n",
              "      <th>gross income</th>\n",
              "      <th>Rating</th>\n",
              "    </tr>\n",
              "  </thead>\n",
              "  <tbody>\n",
              "    <tr>\n",
              "      <th>1</th>\n",
              "      <td>226-31-3081</td>\n",
              "      <td>C</td>\n",
              "      <td>Naypyitaw</td>\n",
              "      <td>Normal</td>\n",
              "      <td>Female</td>\n",
              "      <td>Electronic accessories</td>\n",
              "      <td>15.28</td>\n",
              "      <td>5</td>\n",
              "      <td>3.8200</td>\n",
              "      <td>80.2200</td>\n",
              "      <td>3/8/2019</td>\n",
              "      <td>10:29</td>\n",
              "      <td>Cash</td>\n",
              "      <td>76.40</td>\n",
              "      <td>4.761905</td>\n",
              "      <td>3.8200</td>\n",
              "      <td>9.6</td>\n",
              "    </tr>\n",
              "    <tr>\n",
              "      <th>5</th>\n",
              "      <td>699-14-3026</td>\n",
              "      <td>C</td>\n",
              "      <td>Naypyitaw</td>\n",
              "      <td>Normal</td>\n",
              "      <td>Male</td>\n",
              "      <td>Electronic accessories</td>\n",
              "      <td>85.39</td>\n",
              "      <td>7</td>\n",
              "      <td>29.8865</td>\n",
              "      <td>627.6165</td>\n",
              "      <td>3/25/2019</td>\n",
              "      <td>18:30</td>\n",
              "      <td>Ewallet</td>\n",
              "      <td>597.73</td>\n",
              "      <td>4.761905</td>\n",
              "      <td>29.8865</td>\n",
              "      <td>4.1</td>\n",
              "    </tr>\n",
              "    <tr>\n",
              "      <th>6</th>\n",
              "      <td>355-53-5943</td>\n",
              "      <td>A</td>\n",
              "      <td>Yangon</td>\n",
              "      <td>Member</td>\n",
              "      <td>Female</td>\n",
              "      <td>Electronic accessories</td>\n",
              "      <td>68.84</td>\n",
              "      <td>6</td>\n",
              "      <td>20.6520</td>\n",
              "      <td>433.6920</td>\n",
              "      <td>2/25/2019</td>\n",
              "      <td>14:36</td>\n",
              "      <td>Ewallet</td>\n",
              "      <td>413.04</td>\n",
              "      <td>4.761905</td>\n",
              "      <td>20.6520</td>\n",
              "      <td>5.8</td>\n",
              "    </tr>\n",
              "    <tr>\n",
              "      <th>11</th>\n",
              "      <td>529-56-3974</td>\n",
              "      <td>B</td>\n",
              "      <td>Mandalay</td>\n",
              "      <td>Member</td>\n",
              "      <td>Male</td>\n",
              "      <td>Electronic accessories</td>\n",
              "      <td>25.51</td>\n",
              "      <td>4</td>\n",
              "      <td>5.1020</td>\n",
              "      <td>107.1420</td>\n",
              "      <td>3/9/2019</td>\n",
              "      <td>17:03</td>\n",
              "      <td>Cash</td>\n",
              "      <td>102.04</td>\n",
              "      <td>4.761905</td>\n",
              "      <td>5.1020</td>\n",
              "      <td>6.8</td>\n",
              "    </tr>\n",
              "    <tr>\n",
              "      <th>12</th>\n",
              "      <td>365-64-0515</td>\n",
              "      <td>A</td>\n",
              "      <td>Yangon</td>\n",
              "      <td>Normal</td>\n",
              "      <td>Female</td>\n",
              "      <td>Electronic accessories</td>\n",
              "      <td>46.95</td>\n",
              "      <td>5</td>\n",
              "      <td>11.7375</td>\n",
              "      <td>246.4875</td>\n",
              "      <td>2/12/2019</td>\n",
              "      <td>10:25</td>\n",
              "      <td>Ewallet</td>\n",
              "      <td>234.75</td>\n",
              "      <td>4.761905</td>\n",
              "      <td>11.7375</td>\n",
              "      <td>7.1</td>\n",
              "    </tr>\n",
              "    <tr>\n",
              "      <th>...</th>\n",
              "      <td>...</td>\n",
              "      <td>...</td>\n",
              "      <td>...</td>\n",
              "      <td>...</td>\n",
              "      <td>...</td>\n",
              "      <td>...</td>\n",
              "      <td>...</td>\n",
              "      <td>...</td>\n",
              "      <td>...</td>\n",
              "      <td>...</td>\n",
              "      <td>...</td>\n",
              "      <td>...</td>\n",
              "      <td>...</td>\n",
              "      <td>...</td>\n",
              "      <td>...</td>\n",
              "      <td>...</td>\n",
              "      <td>...</td>\n",
              "    </tr>\n",
              "    <tr>\n",
              "      <th>978</th>\n",
              "      <td>156-20-0370</td>\n",
              "      <td>B</td>\n",
              "      <td>Mandalay</td>\n",
              "      <td>Normal</td>\n",
              "      <td>Female</td>\n",
              "      <td>Electronic accessories</td>\n",
              "      <td>25.45</td>\n",
              "      <td>1</td>\n",
              "      <td>1.2725</td>\n",
              "      <td>26.7225</td>\n",
              "      <td>3/10/2019</td>\n",
              "      <td>18:10</td>\n",
              "      <td>Credit card</td>\n",
              "      <td>25.45</td>\n",
              "      <td>4.761905</td>\n",
              "      <td>1.2725</td>\n",
              "      <td>5.1</td>\n",
              "    </tr>\n",
              "    <tr>\n",
              "      <th>984</th>\n",
              "      <td>189-40-5216</td>\n",
              "      <td>C</td>\n",
              "      <td>Naypyitaw</td>\n",
              "      <td>Normal</td>\n",
              "      <td>Male</td>\n",
              "      <td>Electronic accessories</td>\n",
              "      <td>96.37</td>\n",
              "      <td>7</td>\n",
              "      <td>33.7295</td>\n",
              "      <td>708.3195</td>\n",
              "      <td>1/9/2019</td>\n",
              "      <td>11:40</td>\n",
              "      <td>Cash</td>\n",
              "      <td>674.59</td>\n",
              "      <td>4.761905</td>\n",
              "      <td>33.7295</td>\n",
              "      <td>6.0</td>\n",
              "    </tr>\n",
              "    <tr>\n",
              "      <th>988</th>\n",
              "      <td>267-62-7380</td>\n",
              "      <td>C</td>\n",
              "      <td>Naypyitaw</td>\n",
              "      <td>Member</td>\n",
              "      <td>Male</td>\n",
              "      <td>Electronic accessories</td>\n",
              "      <td>82.34</td>\n",
              "      <td>10</td>\n",
              "      <td>41.1700</td>\n",
              "      <td>864.5700</td>\n",
              "      <td>3/29/2019</td>\n",
              "      <td>19:12</td>\n",
              "      <td>Ewallet</td>\n",
              "      <td>823.40</td>\n",
              "      <td>4.761905</td>\n",
              "      <td>41.1700</td>\n",
              "      <td>4.3</td>\n",
              "    </tr>\n",
              "    <tr>\n",
              "      <th>992</th>\n",
              "      <td>745-74-0715</td>\n",
              "      <td>A</td>\n",
              "      <td>Yangon</td>\n",
              "      <td>Normal</td>\n",
              "      <td>Male</td>\n",
              "      <td>Electronic accessories</td>\n",
              "      <td>58.03</td>\n",
              "      <td>2</td>\n",
              "      <td>5.8030</td>\n",
              "      <td>121.8630</td>\n",
              "      <td>3/10/2019</td>\n",
              "      <td>20:46</td>\n",
              "      <td>Ewallet</td>\n",
              "      <td>116.06</td>\n",
              "      <td>4.761905</td>\n",
              "      <td>5.8030</td>\n",
              "      <td>8.8</td>\n",
              "    </tr>\n",
              "    <tr>\n",
              "      <th>994</th>\n",
              "      <td>652-49-6720</td>\n",
              "      <td>C</td>\n",
              "      <td>Naypyitaw</td>\n",
              "      <td>Member</td>\n",
              "      <td>Female</td>\n",
              "      <td>Electronic accessories</td>\n",
              "      <td>60.95</td>\n",
              "      <td>1</td>\n",
              "      <td>3.0475</td>\n",
              "      <td>63.9975</td>\n",
              "      <td>2/18/2019</td>\n",
              "      <td>11:40</td>\n",
              "      <td>Ewallet</td>\n",
              "      <td>60.95</td>\n",
              "      <td>4.761905</td>\n",
              "      <td>3.0475</td>\n",
              "      <td>5.9</td>\n",
              "    </tr>\n",
              "  </tbody>\n",
              "</table>\n",
              "<p>170 rows × 17 columns</p>\n",
              "</div>"
            ],
            "text/plain": [
              "      Invoice ID Branch  ... gross income Rating\n",
              "1    226-31-3081      C  ...       3.8200    9.6\n",
              "5    699-14-3026      C  ...      29.8865    4.1\n",
              "6    355-53-5943      A  ...      20.6520    5.8\n",
              "11   529-56-3974      B  ...       5.1020    6.8\n",
              "12   365-64-0515      A  ...      11.7375    7.1\n",
              "..           ...    ...  ...          ...    ...\n",
              "978  156-20-0370      B  ...       1.2725    5.1\n",
              "984  189-40-5216      C  ...      33.7295    6.0\n",
              "988  267-62-7380      C  ...      41.1700    4.3\n",
              "992  745-74-0715      A  ...       5.8030    8.8\n",
              "994  652-49-6720      C  ...       3.0475    5.9\n",
              "\n",
              "[170 rows x 17 columns]"
            ]
          },
          "metadata": {
            "tags": []
          },
          "execution_count": 26
        }
      ]
    },
    {
      "cell_type": "code",
      "metadata": {
        "colab": {
          "base_uri": "https://localhost:8080/"
        },
        "id": "NxV68CjQygBG",
        "outputId": "3a541363-ed66-4296-b7ee-b32934a47b08"
      },
      "source": [
        "# Variáveis categóricas\r\n",
        "prod_market = df_market[\"Product line\"].isin([\"Electronic accessories\", \"Fashion accessories\"])\r\n",
        "df_market[prod_market]"
      ],
      "execution_count": null,
      "outputs": [
        {
          "output_type": "execute_result",
          "data": {
            "text/html": [
              "<div>\n",
              "<style scoped>\n",
              "    .dataframe tbody tr th:only-of-type {\n",
              "        vertical-align: middle;\n",
              "    }\n",
              "\n",
              "    .dataframe tbody tr th {\n",
              "        vertical-align: top;\n",
              "    }\n",
              "\n",
              "    .dataframe thead th {\n",
              "        text-align: right;\n",
              "    }\n",
              "</style>\n",
              "<table border=\"1\" class=\"dataframe\">\n",
              "  <thead>\n",
              "    <tr style=\"text-align: right;\">\n",
              "      <th></th>\n",
              "      <th>Invoice ID</th>\n",
              "      <th>Branch</th>\n",
              "      <th>City</th>\n",
              "      <th>Customer type</th>\n",
              "      <th>Gender</th>\n",
              "      <th>Product line</th>\n",
              "      <th>Unit price</th>\n",
              "      <th>Quantity</th>\n",
              "      <th>Tax 5%</th>\n",
              "      <th>Total</th>\n",
              "      <th>Date</th>\n",
              "      <th>Time</th>\n",
              "      <th>Payment</th>\n",
              "      <th>cogs</th>\n",
              "      <th>gross margin percentage</th>\n",
              "      <th>gross income</th>\n",
              "      <th>Rating</th>\n",
              "    </tr>\n",
              "  </thead>\n",
              "  <tbody>\n",
              "    <tr>\n",
              "      <th>1</th>\n",
              "      <td>226-31-3081</td>\n",
              "      <td>C</td>\n",
              "      <td>Naypyitaw</td>\n",
              "      <td>Normal</td>\n",
              "      <td>Female</td>\n",
              "      <td>Electronic accessories</td>\n",
              "      <td>15.28</td>\n",
              "      <td>5</td>\n",
              "      <td>3.8200</td>\n",
              "      <td>80.2200</td>\n",
              "      <td>3/8/2019</td>\n",
              "      <td>10:29</td>\n",
              "      <td>Cash</td>\n",
              "      <td>76.40</td>\n",
              "      <td>4.761905</td>\n",
              "      <td>3.8200</td>\n",
              "      <td>9.6</td>\n",
              "    </tr>\n",
              "    <tr>\n",
              "      <th>5</th>\n",
              "      <td>699-14-3026</td>\n",
              "      <td>C</td>\n",
              "      <td>Naypyitaw</td>\n",
              "      <td>Normal</td>\n",
              "      <td>Male</td>\n",
              "      <td>Electronic accessories</td>\n",
              "      <td>85.39</td>\n",
              "      <td>7</td>\n",
              "      <td>29.8865</td>\n",
              "      <td>627.6165</td>\n",
              "      <td>3/25/2019</td>\n",
              "      <td>18:30</td>\n",
              "      <td>Ewallet</td>\n",
              "      <td>597.73</td>\n",
              "      <td>4.761905</td>\n",
              "      <td>29.8865</td>\n",
              "      <td>4.1</td>\n",
              "    </tr>\n",
              "    <tr>\n",
              "      <th>6</th>\n",
              "      <td>355-53-5943</td>\n",
              "      <td>A</td>\n",
              "      <td>Yangon</td>\n",
              "      <td>Member</td>\n",
              "      <td>Female</td>\n",
              "      <td>Electronic accessories</td>\n",
              "      <td>68.84</td>\n",
              "      <td>6</td>\n",
              "      <td>20.6520</td>\n",
              "      <td>433.6920</td>\n",
              "      <td>2/25/2019</td>\n",
              "      <td>14:36</td>\n",
              "      <td>Ewallet</td>\n",
              "      <td>413.04</td>\n",
              "      <td>4.761905</td>\n",
              "      <td>20.6520</td>\n",
              "      <td>5.8</td>\n",
              "    </tr>\n",
              "    <tr>\n",
              "      <th>10</th>\n",
              "      <td>351-62-0822</td>\n",
              "      <td>B</td>\n",
              "      <td>Mandalay</td>\n",
              "      <td>Member</td>\n",
              "      <td>Female</td>\n",
              "      <td>Fashion accessories</td>\n",
              "      <td>14.48</td>\n",
              "      <td>4</td>\n",
              "      <td>2.8960</td>\n",
              "      <td>60.8160</td>\n",
              "      <td>2/6/2019</td>\n",
              "      <td>18:07</td>\n",
              "      <td>Ewallet</td>\n",
              "      <td>57.92</td>\n",
              "      <td>4.761905</td>\n",
              "      <td>2.8960</td>\n",
              "      <td>4.5</td>\n",
              "    </tr>\n",
              "    <tr>\n",
              "      <th>11</th>\n",
              "      <td>529-56-3974</td>\n",
              "      <td>B</td>\n",
              "      <td>Mandalay</td>\n",
              "      <td>Member</td>\n",
              "      <td>Male</td>\n",
              "      <td>Electronic accessories</td>\n",
              "      <td>25.51</td>\n",
              "      <td>4</td>\n",
              "      <td>5.1020</td>\n",
              "      <td>107.1420</td>\n",
              "      <td>3/9/2019</td>\n",
              "      <td>17:03</td>\n",
              "      <td>Cash</td>\n",
              "      <td>102.04</td>\n",
              "      <td>4.761905</td>\n",
              "      <td>5.1020</td>\n",
              "      <td>6.8</td>\n",
              "    </tr>\n",
              "    <tr>\n",
              "      <th>...</th>\n",
              "      <td>...</td>\n",
              "      <td>...</td>\n",
              "      <td>...</td>\n",
              "      <td>...</td>\n",
              "      <td>...</td>\n",
              "      <td>...</td>\n",
              "      <td>...</td>\n",
              "      <td>...</td>\n",
              "      <td>...</td>\n",
              "      <td>...</td>\n",
              "      <td>...</td>\n",
              "      <td>...</td>\n",
              "      <td>...</td>\n",
              "      <td>...</td>\n",
              "      <td>...</td>\n",
              "      <td>...</td>\n",
              "      <td>...</td>\n",
              "    </tr>\n",
              "    <tr>\n",
              "      <th>988</th>\n",
              "      <td>267-62-7380</td>\n",
              "      <td>C</td>\n",
              "      <td>Naypyitaw</td>\n",
              "      <td>Member</td>\n",
              "      <td>Male</td>\n",
              "      <td>Electronic accessories</td>\n",
              "      <td>82.34</td>\n",
              "      <td>10</td>\n",
              "      <td>41.1700</td>\n",
              "      <td>864.5700</td>\n",
              "      <td>3/29/2019</td>\n",
              "      <td>19:12</td>\n",
              "      <td>Ewallet</td>\n",
              "      <td>823.40</td>\n",
              "      <td>4.761905</td>\n",
              "      <td>41.1700</td>\n",
              "      <td>4.3</td>\n",
              "    </tr>\n",
              "    <tr>\n",
              "      <th>992</th>\n",
              "      <td>745-74-0715</td>\n",
              "      <td>A</td>\n",
              "      <td>Yangon</td>\n",
              "      <td>Normal</td>\n",
              "      <td>Male</td>\n",
              "      <td>Electronic accessories</td>\n",
              "      <td>58.03</td>\n",
              "      <td>2</td>\n",
              "      <td>5.8030</td>\n",
              "      <td>121.8630</td>\n",
              "      <td>3/10/2019</td>\n",
              "      <td>20:46</td>\n",
              "      <td>Ewallet</td>\n",
              "      <td>116.06</td>\n",
              "      <td>4.761905</td>\n",
              "      <td>5.8030</td>\n",
              "      <td>8.8</td>\n",
              "    </tr>\n",
              "    <tr>\n",
              "      <th>993</th>\n",
              "      <td>690-01-6631</td>\n",
              "      <td>B</td>\n",
              "      <td>Mandalay</td>\n",
              "      <td>Normal</td>\n",
              "      <td>Male</td>\n",
              "      <td>Fashion accessories</td>\n",
              "      <td>17.49</td>\n",
              "      <td>10</td>\n",
              "      <td>8.7450</td>\n",
              "      <td>183.6450</td>\n",
              "      <td>2/22/2019</td>\n",
              "      <td>18:35</td>\n",
              "      <td>Ewallet</td>\n",
              "      <td>174.90</td>\n",
              "      <td>4.761905</td>\n",
              "      <td>8.7450</td>\n",
              "      <td>6.6</td>\n",
              "    </tr>\n",
              "    <tr>\n",
              "      <th>994</th>\n",
              "      <td>652-49-6720</td>\n",
              "      <td>C</td>\n",
              "      <td>Naypyitaw</td>\n",
              "      <td>Member</td>\n",
              "      <td>Female</td>\n",
              "      <td>Electronic accessories</td>\n",
              "      <td>60.95</td>\n",
              "      <td>1</td>\n",
              "      <td>3.0475</td>\n",
              "      <td>63.9975</td>\n",
              "      <td>2/18/2019</td>\n",
              "      <td>11:40</td>\n",
              "      <td>Ewallet</td>\n",
              "      <td>60.95</td>\n",
              "      <td>4.761905</td>\n",
              "      <td>3.0475</td>\n",
              "      <td>5.9</td>\n",
              "    </tr>\n",
              "    <tr>\n",
              "      <th>999</th>\n",
              "      <td>849-09-3807</td>\n",
              "      <td>A</td>\n",
              "      <td>Yangon</td>\n",
              "      <td>Member</td>\n",
              "      <td>Female</td>\n",
              "      <td>Fashion accessories</td>\n",
              "      <td>88.34</td>\n",
              "      <td>7</td>\n",
              "      <td>30.9190</td>\n",
              "      <td>649.2990</td>\n",
              "      <td>2/18/2019</td>\n",
              "      <td>13:28</td>\n",
              "      <td>Cash</td>\n",
              "      <td>618.38</td>\n",
              "      <td>4.761905</td>\n",
              "      <td>30.9190</td>\n",
              "      <td>6.6</td>\n",
              "    </tr>\n",
              "  </tbody>\n",
              "</table>\n",
              "<p>348 rows × 17 columns</p>\n",
              "</div>"
            ],
            "text/plain": [
              "      Invoice ID Branch  ... gross income Rating\n",
              "1    226-31-3081      C  ...       3.8200    9.6\n",
              "5    699-14-3026      C  ...      29.8865    4.1\n",
              "6    355-53-5943      A  ...      20.6520    5.8\n",
              "10   351-62-0822      B  ...       2.8960    4.5\n",
              "11   529-56-3974      B  ...       5.1020    6.8\n",
              "..           ...    ...  ...          ...    ...\n",
              "988  267-62-7380      C  ...      41.1700    4.3\n",
              "992  745-74-0715      A  ...       5.8030    8.8\n",
              "993  690-01-6631      B  ...       8.7450    6.6\n",
              "994  652-49-6720      C  ...       3.0475    5.9\n",
              "999  849-09-3807      A  ...      30.9190    6.6\n",
              "\n",
              "[348 rows x 17 columns]"
            ]
          },
          "metadata": {
            "tags": []
          },
          "execution_count": 27
        }
      ]
    },
    {
      "cell_type": "code",
      "metadata": {
        "colab": {
          "base_uri": "https://localhost:8080/"
        },
        "id": "4YnSLS9Xzjit",
        "outputId": "cb79a2fb-8f5c-4ae7-cc2d-2c47d524a318"
      },
      "source": [
        "# Usar o .head() em determinada coluna\r\n",
        "df_market[\"Product line\"].head(10)"
      ],
      "execution_count": null,
      "outputs": [
        {
          "output_type": "execute_result",
          "data": {
            "text/plain": [
              "0         Health and beauty\n",
              "1    Electronic accessories\n",
              "2        Home and lifestyle\n",
              "3         Health and beauty\n",
              "4         Sports and travel\n",
              "5    Electronic accessories\n",
              "6    Electronic accessories\n",
              "7        Home and lifestyle\n",
              "8         Health and beauty\n",
              "9        Food and beverages\n",
              "Name: Product line, dtype: object"
            ]
          },
          "metadata": {
            "tags": []
          },
          "execution_count": 28
        }
      ]
    },
    {
      "cell_type": "code",
      "metadata": {
        "colab": {
          "base_uri": "https://localhost:8080/"
        },
        "id": "pBCdt5_30Zvs",
        "outputId": "72662ec1-a06e-4f26-c29b-68607d2a6304"
      },
      "source": [
        "#Aplicando mais de uma condição\r\n",
        "df_market_yangon_eletacc = df_market[(df_market[\"City\"] == \"Yangon\") & (df_market[\"Product line\"] == \"Electronic accessories\")]\r\n",
        "df_market_yangon_eletacc.head()"
      ],
      "execution_count": null,
      "outputs": [
        {
          "output_type": "execute_result",
          "data": {
            "text/html": [
              "<div>\n",
              "<style scoped>\n",
              "    .dataframe tbody tr th:only-of-type {\n",
              "        vertical-align: middle;\n",
              "    }\n",
              "\n",
              "    .dataframe tbody tr th {\n",
              "        vertical-align: top;\n",
              "    }\n",
              "\n",
              "    .dataframe thead th {\n",
              "        text-align: right;\n",
              "    }\n",
              "</style>\n",
              "<table border=\"1\" class=\"dataframe\">\n",
              "  <thead>\n",
              "    <tr style=\"text-align: right;\">\n",
              "      <th></th>\n",
              "      <th>Invoice ID</th>\n",
              "      <th>Branch</th>\n",
              "      <th>City</th>\n",
              "      <th>Customer type</th>\n",
              "      <th>Gender</th>\n",
              "      <th>Product line</th>\n",
              "      <th>Unit price</th>\n",
              "      <th>Quantity</th>\n",
              "      <th>Tax 5%</th>\n",
              "      <th>Total</th>\n",
              "      <th>Date</th>\n",
              "      <th>Time</th>\n",
              "      <th>Payment</th>\n",
              "      <th>cogs</th>\n",
              "      <th>gross margin percentage</th>\n",
              "      <th>gross income</th>\n",
              "      <th>Rating</th>\n",
              "    </tr>\n",
              "  </thead>\n",
              "  <tbody>\n",
              "    <tr>\n",
              "      <th>6</th>\n",
              "      <td>355-53-5943</td>\n",
              "      <td>A</td>\n",
              "      <td>Yangon</td>\n",
              "      <td>Member</td>\n",
              "      <td>Female</td>\n",
              "      <td>Electronic accessories</td>\n",
              "      <td>68.84</td>\n",
              "      <td>6</td>\n",
              "      <td>20.6520</td>\n",
              "      <td>433.6920</td>\n",
              "      <td>2/25/2019</td>\n",
              "      <td>14:36</td>\n",
              "      <td>Ewallet</td>\n",
              "      <td>413.04</td>\n",
              "      <td>4.761905</td>\n",
              "      <td>20.6520</td>\n",
              "      <td>5.8</td>\n",
              "    </tr>\n",
              "    <tr>\n",
              "      <th>12</th>\n",
              "      <td>365-64-0515</td>\n",
              "      <td>A</td>\n",
              "      <td>Yangon</td>\n",
              "      <td>Normal</td>\n",
              "      <td>Female</td>\n",
              "      <td>Electronic accessories</td>\n",
              "      <td>46.95</td>\n",
              "      <td>5</td>\n",
              "      <td>11.7375</td>\n",
              "      <td>246.4875</td>\n",
              "      <td>2/12/2019</td>\n",
              "      <td>10:25</td>\n",
              "      <td>Ewallet</td>\n",
              "      <td>234.75</td>\n",
              "      <td>4.761905</td>\n",
              "      <td>11.7375</td>\n",
              "      <td>7.1</td>\n",
              "    </tr>\n",
              "    <tr>\n",
              "      <th>23</th>\n",
              "      <td>636-48-8204</td>\n",
              "      <td>A</td>\n",
              "      <td>Yangon</td>\n",
              "      <td>Normal</td>\n",
              "      <td>Male</td>\n",
              "      <td>Electronic accessories</td>\n",
              "      <td>34.56</td>\n",
              "      <td>5</td>\n",
              "      <td>8.6400</td>\n",
              "      <td>181.4400</td>\n",
              "      <td>2/17/2019</td>\n",
              "      <td>11:15</td>\n",
              "      <td>Ewallet</td>\n",
              "      <td>172.80</td>\n",
              "      <td>4.761905</td>\n",
              "      <td>8.6400</td>\n",
              "      <td>9.9</td>\n",
              "    </tr>\n",
              "    <tr>\n",
              "      <th>37</th>\n",
              "      <td>272-65-1806</td>\n",
              "      <td>A</td>\n",
              "      <td>Yangon</td>\n",
              "      <td>Normal</td>\n",
              "      <td>Female</td>\n",
              "      <td>Electronic accessories</td>\n",
              "      <td>60.88</td>\n",
              "      <td>9</td>\n",
              "      <td>27.3960</td>\n",
              "      <td>575.3160</td>\n",
              "      <td>1/15/2019</td>\n",
              "      <td>17:17</td>\n",
              "      <td>Ewallet</td>\n",
              "      <td>547.92</td>\n",
              "      <td>4.761905</td>\n",
              "      <td>27.3960</td>\n",
              "      <td>4.7</td>\n",
              "    </tr>\n",
              "    <tr>\n",
              "      <th>95</th>\n",
              "      <td>594-34-4444</td>\n",
              "      <td>A</td>\n",
              "      <td>Yangon</td>\n",
              "      <td>Normal</td>\n",
              "      <td>Male</td>\n",
              "      <td>Electronic accessories</td>\n",
              "      <td>97.16</td>\n",
              "      <td>1</td>\n",
              "      <td>4.8580</td>\n",
              "      <td>102.0180</td>\n",
              "      <td>3/8/2019</td>\n",
              "      <td>20:38</td>\n",
              "      <td>Ewallet</td>\n",
              "      <td>97.16</td>\n",
              "      <td>4.761905</td>\n",
              "      <td>4.8580</td>\n",
              "      <td>7.2</td>\n",
              "    </tr>\n",
              "  </tbody>\n",
              "</table>\n",
              "</div>"
            ],
            "text/plain": [
              "     Invoice ID Branch    City  ... gross margin percentage gross income Rating\n",
              "6   355-53-5943      A  Yangon  ...                4.761905      20.6520    5.8\n",
              "12  365-64-0515      A  Yangon  ...                4.761905      11.7375    7.1\n",
              "23  636-48-8204      A  Yangon  ...                4.761905       8.6400    9.9\n",
              "37  272-65-1806      A  Yangon  ...                4.761905      27.3960    4.7\n",
              "95  594-34-4444      A  Yangon  ...                4.761905       4.8580    7.2\n",
              "\n",
              "[5 rows x 17 columns]"
            ]
          },
          "metadata": {
            "tags": []
          },
          "execution_count": 29
        }
      ]
    },
    {
      "cell_type": "code",
      "metadata": {
        "colab": {
          "base_uri": "https://localhost:8080/"
        },
        "id": "SUnQO8Hb1d1V",
        "outputId": "43c809c8-ac28-4772-af76-f265b9cab22a"
      },
      "source": [
        "df_market_yangon_eletacc.describe()"
      ],
      "execution_count": null,
      "outputs": [
        {
          "output_type": "execute_result",
          "data": {
            "text/html": [
              "<div>\n",
              "<style scoped>\n",
              "    .dataframe tbody tr th:only-of-type {\n",
              "        vertical-align: middle;\n",
              "    }\n",
              "\n",
              "    .dataframe tbody tr th {\n",
              "        vertical-align: top;\n",
              "    }\n",
              "\n",
              "    .dataframe thead th {\n",
              "        text-align: right;\n",
              "    }\n",
              "</style>\n",
              "<table border=\"1\" class=\"dataframe\">\n",
              "  <thead>\n",
              "    <tr style=\"text-align: right;\">\n",
              "      <th></th>\n",
              "      <th>Unit price</th>\n",
              "      <th>Quantity</th>\n",
              "      <th>Tax 5%</th>\n",
              "      <th>Total</th>\n",
              "      <th>cogs</th>\n",
              "      <th>gross margin percentage</th>\n",
              "      <th>gross income</th>\n",
              "      <th>Rating</th>\n",
              "    </tr>\n",
              "  </thead>\n",
              "  <tbody>\n",
              "    <tr>\n",
              "      <th>count</th>\n",
              "      <td>60.000000</td>\n",
              "      <td>60.000000</td>\n",
              "      <td>60.000000</td>\n",
              "      <td>60.000000</td>\n",
              "      <td>60.000000</td>\n",
              "      <td>6.000000e+01</td>\n",
              "      <td>60.000000</td>\n",
              "      <td>60.000000</td>\n",
              "    </tr>\n",
              "    <tr>\n",
              "      <th>mean</th>\n",
              "      <td>54.871167</td>\n",
              "      <td>5.366667</td>\n",
              "      <td>14.537392</td>\n",
              "      <td>305.285225</td>\n",
              "      <td>290.747833</td>\n",
              "      <td>4.761905e+00</td>\n",
              "      <td>14.537392</td>\n",
              "      <td>6.911667</td>\n",
              "    </tr>\n",
              "    <tr>\n",
              "      <th>std</th>\n",
              "      <td>27.032224</td>\n",
              "      <td>2.945647</td>\n",
              "      <td>11.733879</td>\n",
              "      <td>246.411455</td>\n",
              "      <td>234.677577</td>\n",
              "      <td>2.687021e-15</td>\n",
              "      <td>11.733879</td>\n",
              "      <td>1.710099</td>\n",
              "    </tr>\n",
              "    <tr>\n",
              "      <th>min</th>\n",
              "      <td>10.560000</td>\n",
              "      <td>1.000000</td>\n",
              "      <td>1.448000</td>\n",
              "      <td>30.408000</td>\n",
              "      <td>28.960000</td>\n",
              "      <td>4.761905e+00</td>\n",
              "      <td>1.448000</td>\n",
              "      <td>4.300000</td>\n",
              "    </tr>\n",
              "    <tr>\n",
              "      <th>25%</th>\n",
              "      <td>27.957500</td>\n",
              "      <td>3.000000</td>\n",
              "      <td>4.832875</td>\n",
              "      <td>101.490375</td>\n",
              "      <td>96.657500</td>\n",
              "      <td>4.761905e+00</td>\n",
              "      <td>4.832875</td>\n",
              "      <td>5.475000</td>\n",
              "    </tr>\n",
              "    <tr>\n",
              "      <th>50%</th>\n",
              "      <td>54.860000</td>\n",
              "      <td>5.000000</td>\n",
              "      <td>9.860500</td>\n",
              "      <td>207.070500</td>\n",
              "      <td>197.210000</td>\n",
              "      <td>4.761905e+00</td>\n",
              "      <td>9.860500</td>\n",
              "      <td>6.800000</td>\n",
              "    </tr>\n",
              "    <tr>\n",
              "      <th>75%</th>\n",
              "      <td>74.700000</td>\n",
              "      <td>8.000000</td>\n",
              "      <td>21.077250</td>\n",
              "      <td>442.622250</td>\n",
              "      <td>421.545000</td>\n",
              "      <td>4.761905e+00</td>\n",
              "      <td>21.077250</td>\n",
              "      <td>8.125000</td>\n",
              "    </tr>\n",
              "    <tr>\n",
              "      <th>max</th>\n",
              "      <td>99.560000</td>\n",
              "      <td>10.000000</td>\n",
              "      <td>44.335000</td>\n",
              "      <td>931.035000</td>\n",
              "      <td>886.700000</td>\n",
              "      <td>4.761905e+00</td>\n",
              "      <td>44.335000</td>\n",
              "      <td>9.900000</td>\n",
              "    </tr>\n",
              "  </tbody>\n",
              "</table>\n",
              "</div>"
            ],
            "text/plain": [
              "       Unit price   Quantity  ...  gross income     Rating\n",
              "count   60.000000  60.000000  ...     60.000000  60.000000\n",
              "mean    54.871167   5.366667  ...     14.537392   6.911667\n",
              "std     27.032224   2.945647  ...     11.733879   1.710099\n",
              "min     10.560000   1.000000  ...      1.448000   4.300000\n",
              "25%     27.957500   3.000000  ...      4.832875   5.475000\n",
              "50%     54.860000   5.000000  ...      9.860500   6.800000\n",
              "75%     74.700000   8.000000  ...     21.077250   8.125000\n",
              "max     99.560000  10.000000  ...     44.335000   9.900000\n",
              "\n",
              "[8 rows x 8 columns]"
            ]
          },
          "metadata": {
            "tags": []
          },
          "execution_count": 30
        }
      ]
    },
    {
      "cell_type": "markdown",
      "metadata": {
        "id": "v7WjoBHA3GAx"
      },
      "source": [
        "## Novas Colunas no Pandas"
      ]
    },
    {
      "cell_type": "markdown",
      "metadata": {
        "id": "E66zhA-fimbt"
      },
      "source": [
        "- Mover uma coluna do corpo do DataFrame para o índice\r\n",
        "- Os índices simplificam o subconjunto"
      ]
    },
    {
      "cell_type": "code",
      "metadata": {
        "colab": {
          "base_uri": "https://localhost:8080/"
        },
        "id": "51N4LtBJi3Rm",
        "outputId": "c56c2aa4-6697-4bef-95bd-ec9ca3472ee6"
      },
      "source": [
        "# Criando uma nova coluna e aplicando uma operação matemática entre as variáveis\r\n",
        "df_market[\"Ticket\"] = df_market[\"Total\"] / df_market[\"Quantity\"]\r\n",
        "df_market"
      ],
      "execution_count": null,
      "outputs": [
        {
          "output_type": "execute_result",
          "data": {
            "text/html": [
              "<div>\n",
              "<style scoped>\n",
              "    .dataframe tbody tr th:only-of-type {\n",
              "        vertical-align: middle;\n",
              "    }\n",
              "\n",
              "    .dataframe tbody tr th {\n",
              "        vertical-align: top;\n",
              "    }\n",
              "\n",
              "    .dataframe thead th {\n",
              "        text-align: right;\n",
              "    }\n",
              "</style>\n",
              "<table border=\"1\" class=\"dataframe\">\n",
              "  <thead>\n",
              "    <tr style=\"text-align: right;\">\n",
              "      <th></th>\n",
              "      <th>Invoice ID</th>\n",
              "      <th>Branch</th>\n",
              "      <th>City</th>\n",
              "      <th>Customer type</th>\n",
              "      <th>Gender</th>\n",
              "      <th>Product line</th>\n",
              "      <th>Unit price</th>\n",
              "      <th>Quantity</th>\n",
              "      <th>Tax 5%</th>\n",
              "      <th>Total</th>\n",
              "      <th>Date</th>\n",
              "      <th>Time</th>\n",
              "      <th>Payment</th>\n",
              "      <th>cogs</th>\n",
              "      <th>gross margin percentage</th>\n",
              "      <th>gross income</th>\n",
              "      <th>Rating</th>\n",
              "      <th>Ticket</th>\n",
              "    </tr>\n",
              "  </thead>\n",
              "  <tbody>\n",
              "    <tr>\n",
              "      <th>0</th>\n",
              "      <td>750-67-8428</td>\n",
              "      <td>A</td>\n",
              "      <td>Yangon</td>\n",
              "      <td>Member</td>\n",
              "      <td>Female</td>\n",
              "      <td>Health and beauty</td>\n",
              "      <td>74.69</td>\n",
              "      <td>7</td>\n",
              "      <td>26.1415</td>\n",
              "      <td>548.9715</td>\n",
              "      <td>1/5/2019</td>\n",
              "      <td>13:08</td>\n",
              "      <td>Ewallet</td>\n",
              "      <td>522.83</td>\n",
              "      <td>4.761905</td>\n",
              "      <td>26.1415</td>\n",
              "      <td>9.1</td>\n",
              "      <td>78.4245</td>\n",
              "    </tr>\n",
              "    <tr>\n",
              "      <th>1</th>\n",
              "      <td>226-31-3081</td>\n",
              "      <td>C</td>\n",
              "      <td>Naypyitaw</td>\n",
              "      <td>Normal</td>\n",
              "      <td>Female</td>\n",
              "      <td>Electronic accessories</td>\n",
              "      <td>15.28</td>\n",
              "      <td>5</td>\n",
              "      <td>3.8200</td>\n",
              "      <td>80.2200</td>\n",
              "      <td>3/8/2019</td>\n",
              "      <td>10:29</td>\n",
              "      <td>Cash</td>\n",
              "      <td>76.40</td>\n",
              "      <td>4.761905</td>\n",
              "      <td>3.8200</td>\n",
              "      <td>9.6</td>\n",
              "      <td>16.0440</td>\n",
              "    </tr>\n",
              "    <tr>\n",
              "      <th>2</th>\n",
              "      <td>631-41-3108</td>\n",
              "      <td>A</td>\n",
              "      <td>Yangon</td>\n",
              "      <td>Normal</td>\n",
              "      <td>Male</td>\n",
              "      <td>Home and lifestyle</td>\n",
              "      <td>46.33</td>\n",
              "      <td>7</td>\n",
              "      <td>16.2155</td>\n",
              "      <td>340.5255</td>\n",
              "      <td>3/3/2019</td>\n",
              "      <td>13:23</td>\n",
              "      <td>Credit card</td>\n",
              "      <td>324.31</td>\n",
              "      <td>4.761905</td>\n",
              "      <td>16.2155</td>\n",
              "      <td>7.4</td>\n",
              "      <td>48.6465</td>\n",
              "    </tr>\n",
              "    <tr>\n",
              "      <th>3</th>\n",
              "      <td>123-19-1176</td>\n",
              "      <td>A</td>\n",
              "      <td>Yangon</td>\n",
              "      <td>Member</td>\n",
              "      <td>Male</td>\n",
              "      <td>Health and beauty</td>\n",
              "      <td>58.22</td>\n",
              "      <td>8</td>\n",
              "      <td>23.2880</td>\n",
              "      <td>489.0480</td>\n",
              "      <td>1/27/2019</td>\n",
              "      <td>20:33</td>\n",
              "      <td>Ewallet</td>\n",
              "      <td>465.76</td>\n",
              "      <td>4.761905</td>\n",
              "      <td>23.2880</td>\n",
              "      <td>8.4</td>\n",
              "      <td>61.1310</td>\n",
              "    </tr>\n",
              "    <tr>\n",
              "      <th>4</th>\n",
              "      <td>373-73-7910</td>\n",
              "      <td>A</td>\n",
              "      <td>Yangon</td>\n",
              "      <td>Normal</td>\n",
              "      <td>Male</td>\n",
              "      <td>Sports and travel</td>\n",
              "      <td>86.31</td>\n",
              "      <td>7</td>\n",
              "      <td>30.2085</td>\n",
              "      <td>634.3785</td>\n",
              "      <td>2/8/2019</td>\n",
              "      <td>10:37</td>\n",
              "      <td>Ewallet</td>\n",
              "      <td>604.17</td>\n",
              "      <td>4.761905</td>\n",
              "      <td>30.2085</td>\n",
              "      <td>5.3</td>\n",
              "      <td>90.6255</td>\n",
              "    </tr>\n",
              "    <tr>\n",
              "      <th>...</th>\n",
              "      <td>...</td>\n",
              "      <td>...</td>\n",
              "      <td>...</td>\n",
              "      <td>...</td>\n",
              "      <td>...</td>\n",
              "      <td>...</td>\n",
              "      <td>...</td>\n",
              "      <td>...</td>\n",
              "      <td>...</td>\n",
              "      <td>...</td>\n",
              "      <td>...</td>\n",
              "      <td>...</td>\n",
              "      <td>...</td>\n",
              "      <td>...</td>\n",
              "      <td>...</td>\n",
              "      <td>...</td>\n",
              "      <td>...</td>\n",
              "      <td>...</td>\n",
              "    </tr>\n",
              "    <tr>\n",
              "      <th>995</th>\n",
              "      <td>233-67-5758</td>\n",
              "      <td>C</td>\n",
              "      <td>Naypyitaw</td>\n",
              "      <td>Normal</td>\n",
              "      <td>Male</td>\n",
              "      <td>Health and beauty</td>\n",
              "      <td>40.35</td>\n",
              "      <td>1</td>\n",
              "      <td>2.0175</td>\n",
              "      <td>42.3675</td>\n",
              "      <td>1/29/2019</td>\n",
              "      <td>13:46</td>\n",
              "      <td>Ewallet</td>\n",
              "      <td>40.35</td>\n",
              "      <td>4.761905</td>\n",
              "      <td>2.0175</td>\n",
              "      <td>6.2</td>\n",
              "      <td>42.3675</td>\n",
              "    </tr>\n",
              "    <tr>\n",
              "      <th>996</th>\n",
              "      <td>303-96-2227</td>\n",
              "      <td>B</td>\n",
              "      <td>Mandalay</td>\n",
              "      <td>Normal</td>\n",
              "      <td>Female</td>\n",
              "      <td>Home and lifestyle</td>\n",
              "      <td>97.38</td>\n",
              "      <td>10</td>\n",
              "      <td>48.6900</td>\n",
              "      <td>1022.4900</td>\n",
              "      <td>3/2/2019</td>\n",
              "      <td>17:16</td>\n",
              "      <td>Ewallet</td>\n",
              "      <td>973.80</td>\n",
              "      <td>4.761905</td>\n",
              "      <td>48.6900</td>\n",
              "      <td>4.4</td>\n",
              "      <td>102.2490</td>\n",
              "    </tr>\n",
              "    <tr>\n",
              "      <th>997</th>\n",
              "      <td>727-02-1313</td>\n",
              "      <td>A</td>\n",
              "      <td>Yangon</td>\n",
              "      <td>Member</td>\n",
              "      <td>Male</td>\n",
              "      <td>Food and beverages</td>\n",
              "      <td>31.84</td>\n",
              "      <td>1</td>\n",
              "      <td>1.5920</td>\n",
              "      <td>33.4320</td>\n",
              "      <td>2/9/2019</td>\n",
              "      <td>13:22</td>\n",
              "      <td>Cash</td>\n",
              "      <td>31.84</td>\n",
              "      <td>4.761905</td>\n",
              "      <td>1.5920</td>\n",
              "      <td>7.7</td>\n",
              "      <td>33.4320</td>\n",
              "    </tr>\n",
              "    <tr>\n",
              "      <th>998</th>\n",
              "      <td>347-56-2442</td>\n",
              "      <td>A</td>\n",
              "      <td>Yangon</td>\n",
              "      <td>Normal</td>\n",
              "      <td>Male</td>\n",
              "      <td>Home and lifestyle</td>\n",
              "      <td>65.82</td>\n",
              "      <td>1</td>\n",
              "      <td>3.2910</td>\n",
              "      <td>69.1110</td>\n",
              "      <td>2/22/2019</td>\n",
              "      <td>15:33</td>\n",
              "      <td>Cash</td>\n",
              "      <td>65.82</td>\n",
              "      <td>4.761905</td>\n",
              "      <td>3.2910</td>\n",
              "      <td>4.1</td>\n",
              "      <td>69.1110</td>\n",
              "    </tr>\n",
              "    <tr>\n",
              "      <th>999</th>\n",
              "      <td>849-09-3807</td>\n",
              "      <td>A</td>\n",
              "      <td>Yangon</td>\n",
              "      <td>Member</td>\n",
              "      <td>Female</td>\n",
              "      <td>Fashion accessories</td>\n",
              "      <td>88.34</td>\n",
              "      <td>7</td>\n",
              "      <td>30.9190</td>\n",
              "      <td>649.2990</td>\n",
              "      <td>2/18/2019</td>\n",
              "      <td>13:28</td>\n",
              "      <td>Cash</td>\n",
              "      <td>618.38</td>\n",
              "      <td>4.761905</td>\n",
              "      <td>30.9190</td>\n",
              "      <td>6.6</td>\n",
              "      <td>92.7570</td>\n",
              "    </tr>\n",
              "  </tbody>\n",
              "</table>\n",
              "<p>1000 rows × 18 columns</p>\n",
              "</div>"
            ],
            "text/plain": [
              "      Invoice ID Branch       City  ... gross income Rating    Ticket\n",
              "0    750-67-8428      A     Yangon  ...      26.1415    9.1   78.4245\n",
              "1    226-31-3081      C  Naypyitaw  ...       3.8200    9.6   16.0440\n",
              "2    631-41-3108      A     Yangon  ...      16.2155    7.4   48.6465\n",
              "3    123-19-1176      A     Yangon  ...      23.2880    8.4   61.1310\n",
              "4    373-73-7910      A     Yangon  ...      30.2085    5.3   90.6255\n",
              "..           ...    ...        ...  ...          ...    ...       ...\n",
              "995  233-67-5758      C  Naypyitaw  ...       2.0175    6.2   42.3675\n",
              "996  303-96-2227      B   Mandalay  ...      48.6900    4.4  102.2490\n",
              "997  727-02-1313      A     Yangon  ...       1.5920    7.7   33.4320\n",
              "998  347-56-2442      A     Yangon  ...       3.2910    4.1   69.1110\n",
              "999  849-09-3807      A     Yangon  ...      30.9190    6.6   92.7570\n",
              "\n",
              "[1000 rows x 18 columns]"
            ]
          },
          "metadata": {
            "tags": []
          },
          "execution_count": 31
        }
      ]
    },
    {
      "cell_type": "code",
      "metadata": {
        "id": "rUzuuxcO54U3"
      },
      "source": [
        "# Deletar uma coluna\r\n",
        "del df_market[\"Tax 5%\"]\r\n",
        "df_market.head()"
      ],
      "execution_count": null,
      "outputs": []
    },
    {
      "cell_type": "code",
      "metadata": {
        "id": "HrPfdC7fgRhL"
      },
      "source": [
        "# Deletar colunas por eixo=x ou columns=nome\r\n",
        "df_market([\"Tax\", \"Time\"], axis=\"colums\")"
      ],
      "execution_count": null,
      "outputs": []
    },
    {
      "cell_type": "code",
      "metadata": {
        "id": "50wd4nKG6R8t"
      },
      "source": [
        "# a transposição do DataFrame (trocar linhas e colunas)\r\n",
        "# com uma sintaxe semelhante àquela usada em um array NumPy:\r\n",
        "\r\n",
        "df_market.T"
      ],
      "execution_count": null,
      "outputs": []
    },
    {
      "cell_type": "markdown",
      "metadata": {
        "id": "BkSkdfd58LgF"
      },
      "source": [
        "![image.png](data:image/png;base64,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)"
      ]
    },
    {
      "cell_type": "markdown",
      "metadata": {
        "id": "S8VccjMAWF5v"
      },
      "source": [
        "# 02 - Agregar os dados"
      ]
    },
    {
      "cell_type": "markdown",
      "metadata": {
        "id": "WFL_gHfNk6_X"
      },
      "source": [
        "## Estatísticas de resumo\r\n",
        "\r\n",
        "Podemos através de métodos diversos e estatística aplicados a objetos no Pandas usar de reduções ou de estatísticas de resumo:extraem um único valor (soma e média, por exemplo) de uma Serie ou DataFrame.\r\n"
      ]
    },
    {
      "cell_type": "markdown",
      "metadata": {
        "id": "2m_M5epilKb8"
      },
      "source": [
        "Agregação de dados e sumário estatístico"
      ]
    },
    {
      "cell_type": "code",
      "metadata": {
        "colab": {
          "base_uri": "https://localhost:8080/"
        },
        "id": "d7sGJ7XUlBiS",
        "outputId": "326dbb37-f32a-43af-fd29-8b49a60c8056"
      },
      "source": [
        "# Média dos valores\r\n",
        "df_market[\"Total\"].mean()"
      ],
      "execution_count": null,
      "outputs": [
        {
          "output_type": "execute_result",
          "data": {
            "text/plain": [
              "322.96674900000005"
            ]
          },
          "metadata": {
            "tags": []
          },
          "execution_count": 32
        }
      ]
    },
    {
      "cell_type": "code",
      "metadata": {
        "colab": {
          "base_uri": "https://localhost:8080/"
        },
        "id": "U-0AiYTylIgk",
        "outputId": "96da07bc-4535-4850-ab91-86ac96411038"
      },
      "source": [
        "# Valor mínimo\r\n",
        "df_market[\"Total\"].min()"
      ],
      "execution_count": null,
      "outputs": [
        {
          "output_type": "execute_result",
          "data": {
            "text/plain": [
              "10.6785"
            ]
          },
          "metadata": {
            "tags": []
          },
          "execution_count": 33
        }
      ]
    },
    {
      "cell_type": "code",
      "metadata": {
        "colab": {
          "base_uri": "https://localhost:8080/"
        },
        "id": "ZAChf5UZl5U4",
        "outputId": "a733eaea-30b9-45bc-ad9d-b34e4258bc35"
      },
      "source": [
        "# Valor máximo\r\n",
        "df_market[\"Total\"].max()"
      ],
      "execution_count": null,
      "outputs": [
        {
          "output_type": "execute_result",
          "data": {
            "text/plain": [
              "1042.65"
            ]
          },
          "metadata": {
            "tags": []
          },
          "execution_count": 34
        }
      ]
    },
    {
      "cell_type": "code",
      "metadata": {
        "id": "4JZ5bvurmL6g",
        "colab": {
          "base_uri": "https://localhost:8080/"
        },
        "outputId": "5533ba55-058f-4543-d810-bc41909544b1"
      },
      "source": [
        "# Valor máximo\r\n",
        "df_market[\"Total\"].max()"
      ],
      "execution_count": null,
      "outputs": [
        {
          "output_type": "execute_result",
          "data": {
            "text/plain": [
              "1042.65"
            ]
          },
          "metadata": {
            "tags": []
          },
          "execution_count": 35
        }
      ]
    },
    {
      "cell_type": "code",
      "metadata": {
        "colab": {
          "base_uri": "https://localhost:8080/"
        },
        "id": "r-PUcVunmabd",
        "outputId": "f68fe554-a64f-4cd8-d78d-d88884a705fc"
      },
      "source": [
        "# Retorna valores no quantil* fornecido sobre o eixo solicitado\r\n",
        "df_market.quantile(0.25)"
      ],
      "execution_count": null,
      "outputs": [
        {
          "output_type": "execute_result",
          "data": {
            "text/plain": [
              "Unit price                  32.875000\n",
              "Quantity                     3.000000\n",
              "Tax 5%                       5.924875\n",
              "Total                      124.422375\n",
              "cogs                       118.497500\n",
              "gross margin percentage      4.761905\n",
              "gross income                 5.924875\n",
              "Rating                       5.500000\n",
              "Ticket                      34.518750\n",
              "Name: 0.25, dtype: float64"
            ]
          },
          "metadata": {
            "tags": []
          },
          "execution_count": 36
        }
      ]
    },
    {
      "cell_type": "code",
      "metadata": {
        "colab": {
          "base_uri": "https://localhost:8080/"
        },
        "id": "ZouaHjiMn7z9",
        "outputId": "420929ce-6dd8-438c-97f9-fca1f7de5bb9"
      },
      "source": [
        "# Valor moda - representa o valor mais frequente de um conjunto de dados\r\n",
        "df_market[\"Quantity\"].mode()"
      ],
      "execution_count": null,
      "outputs": [
        {
          "output_type": "execute_result",
          "data": {
            "text/plain": [
              "0    10\n",
              "dtype: int64"
            ]
          },
          "metadata": {
            "tags": []
          },
          "execution_count": 37
        }
      ]
    },
    {
      "cell_type": "code",
      "metadata": {
        "colab": {
          "base_uri": "https://localhost:8080/"
        },
        "id": "ZSkG31vTob-Z",
        "outputId": "d72f58b3-7027-438e-f853-38934aac1332"
      },
      "source": [
        "# Variância é uma medida da sua dispersão estatística, indicando \"o quão longe\" em geral os seus valores se encontram do valor esperado\r\n",
        "df_market[\"Total\"].var()"
      ],
      "execution_count": null,
      "outputs": [
        {
          "output_type": "execute_result",
          "data": {
            "text/plain": [
              "60459.598017717326"
            ]
          },
          "metadata": {
            "tags": []
          },
          "execution_count": 38
        }
      ]
    },
    {
      "cell_type": "markdown",
      "metadata": {
        "id": "3o1AQ7n8nous"
      },
      "source": [
        "Quartil: https://pt.wikipedia.org/wiki/Quantil"
      ]
    },
    {
      "cell_type": "code",
      "metadata": {
        "colab": {
          "base_uri": "https://localhost:8080/"
        },
        "id": "YA74L1NQD49e",
        "outputId": "df3b4fcf-b671-44fb-9892-e753344b4d18"
      },
      "source": [
        "df_market.head()"
      ],
      "execution_count": null,
      "outputs": [
        {
          "output_type": "execute_result",
          "data": {
            "text/html": [
              "<div>\n",
              "<style scoped>\n",
              "    .dataframe tbody tr th:only-of-type {\n",
              "        vertical-align: middle;\n",
              "    }\n",
              "\n",
              "    .dataframe tbody tr th {\n",
              "        vertical-align: top;\n",
              "    }\n",
              "\n",
              "    .dataframe thead th {\n",
              "        text-align: right;\n",
              "    }\n",
              "</style>\n",
              "<table border=\"1\" class=\"dataframe\">\n",
              "  <thead>\n",
              "    <tr style=\"text-align: right;\">\n",
              "      <th></th>\n",
              "      <th>Invoice ID</th>\n",
              "      <th>Branch</th>\n",
              "      <th>City</th>\n",
              "      <th>Customer type</th>\n",
              "      <th>Gender</th>\n",
              "      <th>Product line</th>\n",
              "      <th>Unit price</th>\n",
              "      <th>Quantity</th>\n",
              "      <th>Tax 5%</th>\n",
              "      <th>Total</th>\n",
              "      <th>Date</th>\n",
              "      <th>Time</th>\n",
              "      <th>Payment</th>\n",
              "      <th>cogs</th>\n",
              "      <th>gross margin percentage</th>\n",
              "      <th>gross income</th>\n",
              "      <th>Rating</th>\n",
              "      <th>Ticket</th>\n",
              "    </tr>\n",
              "  </thead>\n",
              "  <tbody>\n",
              "    <tr>\n",
              "      <th>0</th>\n",
              "      <td>750-67-8428</td>\n",
              "      <td>A</td>\n",
              "      <td>Yangon</td>\n",
              "      <td>Member</td>\n",
              "      <td>Female</td>\n",
              "      <td>Health and beauty</td>\n",
              "      <td>74.69</td>\n",
              "      <td>7</td>\n",
              "      <td>26.1415</td>\n",
              "      <td>548.9715</td>\n",
              "      <td>1/5/2019</td>\n",
              "      <td>13:08</td>\n",
              "      <td>Ewallet</td>\n",
              "      <td>522.83</td>\n",
              "      <td>4.761905</td>\n",
              "      <td>26.1415</td>\n",
              "      <td>9.1</td>\n",
              "      <td>78.4245</td>\n",
              "    </tr>\n",
              "    <tr>\n",
              "      <th>1</th>\n",
              "      <td>226-31-3081</td>\n",
              "      <td>C</td>\n",
              "      <td>Naypyitaw</td>\n",
              "      <td>Normal</td>\n",
              "      <td>Female</td>\n",
              "      <td>Electronic accessories</td>\n",
              "      <td>15.28</td>\n",
              "      <td>5</td>\n",
              "      <td>3.8200</td>\n",
              "      <td>80.2200</td>\n",
              "      <td>3/8/2019</td>\n",
              "      <td>10:29</td>\n",
              "      <td>Cash</td>\n",
              "      <td>76.40</td>\n",
              "      <td>4.761905</td>\n",
              "      <td>3.8200</td>\n",
              "      <td>9.6</td>\n",
              "      <td>16.0440</td>\n",
              "    </tr>\n",
              "    <tr>\n",
              "      <th>2</th>\n",
              "      <td>631-41-3108</td>\n",
              "      <td>A</td>\n",
              "      <td>Yangon</td>\n",
              "      <td>Normal</td>\n",
              "      <td>Male</td>\n",
              "      <td>Home and lifestyle</td>\n",
              "      <td>46.33</td>\n",
              "      <td>7</td>\n",
              "      <td>16.2155</td>\n",
              "      <td>340.5255</td>\n",
              "      <td>3/3/2019</td>\n",
              "      <td>13:23</td>\n",
              "      <td>Credit card</td>\n",
              "      <td>324.31</td>\n",
              "      <td>4.761905</td>\n",
              "      <td>16.2155</td>\n",
              "      <td>7.4</td>\n",
              "      <td>48.6465</td>\n",
              "    </tr>\n",
              "    <tr>\n",
              "      <th>3</th>\n",
              "      <td>123-19-1176</td>\n",
              "      <td>A</td>\n",
              "      <td>Yangon</td>\n",
              "      <td>Member</td>\n",
              "      <td>Male</td>\n",
              "      <td>Health and beauty</td>\n",
              "      <td>58.22</td>\n",
              "      <td>8</td>\n",
              "      <td>23.2880</td>\n",
              "      <td>489.0480</td>\n",
              "      <td>1/27/2019</td>\n",
              "      <td>20:33</td>\n",
              "      <td>Ewallet</td>\n",
              "      <td>465.76</td>\n",
              "      <td>4.761905</td>\n",
              "      <td>23.2880</td>\n",
              "      <td>8.4</td>\n",
              "      <td>61.1310</td>\n",
              "    </tr>\n",
              "    <tr>\n",
              "      <th>4</th>\n",
              "      <td>373-73-7910</td>\n",
              "      <td>A</td>\n",
              "      <td>Yangon</td>\n",
              "      <td>Normal</td>\n",
              "      <td>Male</td>\n",
              "      <td>Sports and travel</td>\n",
              "      <td>86.31</td>\n",
              "      <td>7</td>\n",
              "      <td>30.2085</td>\n",
              "      <td>634.3785</td>\n",
              "      <td>2/8/2019</td>\n",
              "      <td>10:37</td>\n",
              "      <td>Ewallet</td>\n",
              "      <td>604.17</td>\n",
              "      <td>4.761905</td>\n",
              "      <td>30.2085</td>\n",
              "      <td>5.3</td>\n",
              "      <td>90.6255</td>\n",
              "    </tr>\n",
              "  </tbody>\n",
              "</table>\n",
              "</div>"
            ],
            "text/plain": [
              "    Invoice ID Branch       City  ... gross income Rating   Ticket\n",
              "0  750-67-8428      A     Yangon  ...      26.1415    9.1  78.4245\n",
              "1  226-31-3081      C  Naypyitaw  ...       3.8200    9.6  16.0440\n",
              "2  631-41-3108      A     Yangon  ...      16.2155    7.4  48.6465\n",
              "3  123-19-1176      A     Yangon  ...      23.2880    8.4  61.1310\n",
              "4  373-73-7910      A     Yangon  ...      30.2085    5.3  90.6255\n",
              "\n",
              "[5 rows x 18 columns]"
            ]
          },
          "metadata": {
            "tags": []
          },
          "execution_count": 39
        }
      ]
    },
    {
      "cell_type": "markdown",
      "metadata": {
        "id": "Jx7PGl3QIqwL"
      },
      "source": [
        "Outros métodos não geram redução ou acúmulo, mas geram dados estatísticos importantes para análise:"
      ]
    },
    {
      "cell_type": "code",
      "metadata": {
        "colab": {
          "base_uri": "https://localhost:8080/"
        },
        "id": "8pI8WMlkFh1B",
        "outputId": "261da837-d4d7-4d85-ecde-7f8558256f56"
      },
      "source": [
        "# Usada para obter um resumo conciso do dataframe - suas variáveis e tipos dos dados\r\n",
        "df_market.info()"
      ],
      "execution_count": null,
      "outputs": [
        {
          "output_type": "stream",
          "text": [
            "<class 'pandas.core.frame.DataFrame'>\n",
            "RangeIndex: 1000 entries, 0 to 999\n",
            "Data columns (total 18 columns):\n",
            " #   Column                   Non-Null Count  Dtype  \n",
            "---  ------                   --------------  -----  \n",
            " 0   Invoice ID               1000 non-null   object \n",
            " 1   Branch                   1000 non-null   object \n",
            " 2   City                     1000 non-null   object \n",
            " 3   Customer type            1000 non-null   object \n",
            " 4   Gender                   1000 non-null   object \n",
            " 5   Product line             1000 non-null   object \n",
            " 6   Unit price               1000 non-null   float64\n",
            " 7   Quantity                 1000 non-null   int64  \n",
            " 8   Tax 5%                   1000 non-null   float64\n",
            " 9   Total                    1000 non-null   float64\n",
            " 10  Date                     1000 non-null   object \n",
            " 11  Time                     1000 non-null   object \n",
            " 12  Payment                  1000 non-null   object \n",
            " 13  cogs                     1000 non-null   float64\n",
            " 14  gross margin percentage  1000 non-null   float64\n",
            " 15  gross income             1000 non-null   float64\n",
            " 16  Rating                   1000 non-null   float64\n",
            " 17  Ticket                   1000 non-null   float64\n",
            "dtypes: float64(8), int64(1), object(9)\n",
            "memory usage: 140.8+ KB\n"
          ],
          "name": "stdout"
        }
      ]
    },
    {
      "cell_type": "code",
      "metadata": {
        "colab": {
          "base_uri": "https://localhost:8080/"
        },
        "id": "KHiA6bexIBR4",
        "outputId": "a0bb8fd2-6e5a-4a38-de24-c4141a633572"
      },
      "source": [
        "# Criando acúmulo .describe é um exemplo desse tipo, e gera vários dados estatísticos:\r\n",
        "df_market.describe()"
      ],
      "execution_count": null,
      "outputs": [
        {
          "output_type": "execute_result",
          "data": {
            "text/html": [
              "<div>\n",
              "<style scoped>\n",
              "    .dataframe tbody tr th:only-of-type {\n",
              "        vertical-align: middle;\n",
              "    }\n",
              "\n",
              "    .dataframe tbody tr th {\n",
              "        vertical-align: top;\n",
              "    }\n",
              "\n",
              "    .dataframe thead th {\n",
              "        text-align: right;\n",
              "    }\n",
              "</style>\n",
              "<table border=\"1\" class=\"dataframe\">\n",
              "  <thead>\n",
              "    <tr style=\"text-align: right;\">\n",
              "      <th></th>\n",
              "      <th>Unit price</th>\n",
              "      <th>Quantity</th>\n",
              "      <th>Tax 5%</th>\n",
              "      <th>Total</th>\n",
              "      <th>cogs</th>\n",
              "      <th>gross margin percentage</th>\n",
              "      <th>gross income</th>\n",
              "      <th>Rating</th>\n",
              "      <th>Ticket</th>\n",
              "    </tr>\n",
              "  </thead>\n",
              "  <tbody>\n",
              "    <tr>\n",
              "      <th>count</th>\n",
              "      <td>1000.000000</td>\n",
              "      <td>1000.000000</td>\n",
              "      <td>1000.000000</td>\n",
              "      <td>1000.000000</td>\n",
              "      <td>1000.00000</td>\n",
              "      <td>1.000000e+03</td>\n",
              "      <td>1000.000000</td>\n",
              "      <td>1000.00000</td>\n",
              "      <td>1000.000000</td>\n",
              "    </tr>\n",
              "    <tr>\n",
              "      <th>mean</th>\n",
              "      <td>55.672130</td>\n",
              "      <td>5.510000</td>\n",
              "      <td>15.379369</td>\n",
              "      <td>322.966749</td>\n",
              "      <td>307.58738</td>\n",
              "      <td>4.761905e+00</td>\n",
              "      <td>15.379369</td>\n",
              "      <td>6.97270</td>\n",
              "      <td>58.455736</td>\n",
              "    </tr>\n",
              "    <tr>\n",
              "      <th>std</th>\n",
              "      <td>26.494628</td>\n",
              "      <td>2.923431</td>\n",
              "      <td>11.708825</td>\n",
              "      <td>245.885335</td>\n",
              "      <td>234.17651</td>\n",
              "      <td>6.220360e-14</td>\n",
              "      <td>11.708825</td>\n",
              "      <td>1.71858</td>\n",
              "      <td>27.819360</td>\n",
              "    </tr>\n",
              "    <tr>\n",
              "      <th>min</th>\n",
              "      <td>10.080000</td>\n",
              "      <td>1.000000</td>\n",
              "      <td>0.508500</td>\n",
              "      <td>10.678500</td>\n",
              "      <td>10.17000</td>\n",
              "      <td>4.761905e+00</td>\n",
              "      <td>0.508500</td>\n",
              "      <td>4.00000</td>\n",
              "      <td>10.584000</td>\n",
              "    </tr>\n",
              "    <tr>\n",
              "      <th>25%</th>\n",
              "      <td>32.875000</td>\n",
              "      <td>3.000000</td>\n",
              "      <td>5.924875</td>\n",
              "      <td>124.422375</td>\n",
              "      <td>118.49750</td>\n",
              "      <td>4.761905e+00</td>\n",
              "      <td>5.924875</td>\n",
              "      <td>5.50000</td>\n",
              "      <td>34.518750</td>\n",
              "    </tr>\n",
              "    <tr>\n",
              "      <th>50%</th>\n",
              "      <td>55.230000</td>\n",
              "      <td>5.000000</td>\n",
              "      <td>12.088000</td>\n",
              "      <td>253.848000</td>\n",
              "      <td>241.76000</td>\n",
              "      <td>4.761905e+00</td>\n",
              "      <td>12.088000</td>\n",
              "      <td>7.00000</td>\n",
              "      <td>57.991500</td>\n",
              "    </tr>\n",
              "    <tr>\n",
              "      <th>75%</th>\n",
              "      <td>77.935000</td>\n",
              "      <td>8.000000</td>\n",
              "      <td>22.445250</td>\n",
              "      <td>471.350250</td>\n",
              "      <td>448.90500</td>\n",
              "      <td>4.761905e+00</td>\n",
              "      <td>22.445250</td>\n",
              "      <td>8.50000</td>\n",
              "      <td>81.831750</td>\n",
              "    </tr>\n",
              "    <tr>\n",
              "      <th>max</th>\n",
              "      <td>99.960000</td>\n",
              "      <td>10.000000</td>\n",
              "      <td>49.650000</td>\n",
              "      <td>1042.650000</td>\n",
              "      <td>993.00000</td>\n",
              "      <td>4.761905e+00</td>\n",
              "      <td>49.650000</td>\n",
              "      <td>10.00000</td>\n",
              "      <td>104.958000</td>\n",
              "    </tr>\n",
              "  </tbody>\n",
              "</table>\n",
              "</div>"
            ],
            "text/plain": [
              "        Unit price     Quantity  ...      Rating       Ticket\n",
              "count  1000.000000  1000.000000  ...  1000.00000  1000.000000\n",
              "mean     55.672130     5.510000  ...     6.97270    58.455736\n",
              "std      26.494628     2.923431  ...     1.71858    27.819360\n",
              "min      10.080000     1.000000  ...     4.00000    10.584000\n",
              "25%      32.875000     3.000000  ...     5.50000    34.518750\n",
              "50%      55.230000     5.000000  ...     7.00000    57.991500\n",
              "75%      77.935000     8.000000  ...     8.50000    81.831750\n",
              "max      99.960000    10.000000  ...    10.00000   104.958000\n",
              "\n",
              "[8 rows x 9 columns]"
            ]
          },
          "metadata": {
            "tags": []
          },
          "execution_count": 41
        }
      ]
    },
    {
      "cell_type": "code",
      "metadata": {
        "colab": {
          "base_uri": "https://localhost:8080/"
        },
        "id": "8QloB_wnpTx0",
        "outputId": "77411db2-4e80-4300-cc6b-5f73286d6485"
      },
      "source": [
        "df_market[[\"Quantity\", \"Total\", \"Rating\"]].agg(['sum', 'min', 'max'])"
      ],
      "execution_count": null,
      "outputs": [
        {
          "output_type": "execute_result",
          "data": {
            "text/html": [
              "<div>\n",
              "<style scoped>\n",
              "    .dataframe tbody tr th:only-of-type {\n",
              "        vertical-align: middle;\n",
              "    }\n",
              "\n",
              "    .dataframe tbody tr th {\n",
              "        vertical-align: top;\n",
              "    }\n",
              "\n",
              "    .dataframe thead th {\n",
              "        text-align: right;\n",
              "    }\n",
              "</style>\n",
              "<table border=\"1\" class=\"dataframe\">\n",
              "  <thead>\n",
              "    <tr style=\"text-align: right;\">\n",
              "      <th></th>\n",
              "      <th>Quantity</th>\n",
              "      <th>Total</th>\n",
              "      <th>Rating</th>\n",
              "    </tr>\n",
              "  </thead>\n",
              "  <tbody>\n",
              "    <tr>\n",
              "      <th>sum</th>\n",
              "      <td>5510</td>\n",
              "      <td>322966.7490</td>\n",
              "      <td>6972.7</td>\n",
              "    </tr>\n",
              "    <tr>\n",
              "      <th>min</th>\n",
              "      <td>1</td>\n",
              "      <td>10.6785</td>\n",
              "      <td>4.0</td>\n",
              "    </tr>\n",
              "    <tr>\n",
              "      <th>max</th>\n",
              "      <td>10</td>\n",
              "      <td>1042.6500</td>\n",
              "      <td>10.0</td>\n",
              "    </tr>\n",
              "  </tbody>\n",
              "</table>\n",
              "</div>"
            ],
            "text/plain": [
              "     Quantity        Total  Rating\n",
              "sum      5510  322966.7490  6972.7\n",
              "min         1      10.6785     4.0\n",
              "max        10    1042.6500    10.0"
            ]
          },
          "metadata": {
            "tags": []
          },
          "execution_count": 42
        }
      ]
    },
    {
      "cell_type": "markdown",
      "metadata": {
        "id": "7V3ElmcFls_n"
      },
      "source": [
        "### Método .agg - Agregue usando uma ou mais operações"
      ]
    },
    {
      "cell_type": "code",
      "metadata": {
        "id": "lQZx5jaiKXIs"
      },
      "source": [
        "# Criação função para o quartil de x\r\n",
        "qtl = 0.25\r\n",
        "def qtl25(column):\r\n",
        "  return column.quantile(qtl)"
      ],
      "execution_count": null,
      "outputs": []
    },
    {
      "cell_type": "code",
      "metadata": {
        "colab": {
          "base_uri": "https://localhost:8080/"
        },
        "id": "pxMS0n-1KwJ5",
        "outputId": "9b0c0c8d-e584-483d-a232-d339ad2cbc2f"
      },
      "source": [
        "df_market[\"Total\"].agg(qtl25)"
      ],
      "execution_count": null,
      "outputs": [
        {
          "output_type": "execute_result",
          "data": {
            "text/plain": [
              "124.422375"
            ]
          },
          "metadata": {
            "tags": []
          },
          "execution_count": 44
        }
      ]
    },
    {
      "cell_type": "code",
      "metadata": {
        "id": "CM_j_SDfLylw"
      },
      "source": [
        "qtl2 = 0.75\r\n",
        "def qtl75(column):\r\n",
        "  return column.quantile(qtl2)"
      ],
      "execution_count": null,
      "outputs": []
    },
    {
      "cell_type": "code",
      "metadata": {
        "colab": {
          "base_uri": "https://localhost:8080/"
        },
        "id": "NoTAxCn3L-rd",
        "outputId": "fed730ba-a0a5-42d0-9676-46bd86fa1f43"
      },
      "source": [
        "df_market[[\"Total\", \"Rating\"]].agg(qtl75)"
      ],
      "execution_count": null,
      "outputs": [
        {
          "output_type": "execute_result",
          "data": {
            "text/plain": [
              "Total     471.35025\n",
              "Rating      8.50000\n",
              "dtype: float64"
            ]
          },
          "metadata": {
            "tags": []
          },
          "execution_count": 46
        }
      ]
    },
    {
      "cell_type": "code",
      "metadata": {
        "colab": {
          "base_uri": "https://localhost:8080/"
        },
        "id": "ENrbzDcSMZwp",
        "outputId": "b430ba91-09d5-47fc-c989-3fe9f8ea8480"
      },
      "source": [
        "df_market[\"Rating\"].agg([qtl25, qtl75, np.mean, max, min])"
      ],
      "execution_count": null,
      "outputs": [
        {
          "output_type": "execute_result",
          "data": {
            "text/plain": [
              "qtl25     5.5000\n",
              "qtl75     8.5000\n",
              "mean      6.9727\n",
              "max      10.0000\n",
              "min       4.0000\n",
              "Name: Rating, dtype: float64"
            ]
          },
          "metadata": {
            "tags": []
          },
          "execution_count": 47
        }
      ]
    },
    {
      "cell_type": "markdown",
      "metadata": {
        "id": "6_tK_uANrHRS"
      },
      "source": [
        "### Estatísticas acumulativas\r\n",
        "\r\n",
        "- .cummax()\r\n",
        "- .cummin()\r\n",
        "- .cumprod()"
      ]
    },
    {
      "cell_type": "code",
      "metadata": {
        "colab": {
          "base_uri": "https://localhost:8080/"
        },
        "id": "G0bLXuCZrO6-",
        "outputId": "645e6d03-de73-4ac0-a5eb-c1c54b3bc117"
      },
      "source": [
        "df_market['Total']"
      ],
      "execution_count": null,
      "outputs": [
        {
          "output_type": "execute_result",
          "data": {
            "text/plain": [
              "0       548.9715\n",
              "1        80.2200\n",
              "2       340.5255\n",
              "3       489.0480\n",
              "4       634.3785\n",
              "         ...    \n",
              "995      42.3675\n",
              "996    1022.4900\n",
              "997      33.4320\n",
              "998      69.1110\n",
              "999     649.2990\n",
              "Name: Total, Length: 1000, dtype: float64"
            ]
          },
          "metadata": {
            "tags": []
          },
          "execution_count": 48
        }
      ]
    },
    {
      "cell_type": "code",
      "metadata": {
        "colab": {
          "base_uri": "https://localhost:8080/"
        },
        "id": "e8ueSCeVM0X1",
        "outputId": "608460fa-8a03-4fba-d934-f044c6a436fe"
      },
      "source": [
        "df_market['Total'].cumsum()"
      ],
      "execution_count": null,
      "outputs": [
        {
          "output_type": "execute_result",
          "data": {
            "text/plain": [
              "0         548.9715\n",
              "1         629.1915\n",
              "2         969.7170\n",
              "3        1458.7650\n",
              "4        2093.1435\n",
              "          ...     \n",
              "995    321192.4170\n",
              "996    322214.9070\n",
              "997    322248.3390\n",
              "998    322317.4500\n",
              "999    322966.7490\n",
              "Name: Total, Length: 1000, dtype: float64"
            ]
          },
          "metadata": {
            "tags": []
          },
          "execution_count": 49
        }
      ]
    },
    {
      "cell_type": "markdown",
      "metadata": {
        "id": "T88rtV9_O6Uv"
      },
      "source": [
        "### Dropping duplicate - descartando dados duplicados\r\n"
      ]
    },
    {
      "cell_type": "code",
      "metadata": {
        "colab": {
          "base_uri": "https://localhost:8080/"
        },
        "id": "Day9KvslPQpV",
        "outputId": "19f64219-18ef-43ea-c57d-24eec1763b13"
      },
      "source": [
        "# Excluindo duplicidade  categoricos Payment Número de identificação da fatura do recibo de venda gerado por computador\r\n",
        "df_market_id = df_market.drop_duplicates(subset=\"Payment\")\r\n",
        "df_market_id #não observado valores duplicados"
      ],
      "execution_count": null,
      "outputs": [
        {
          "output_type": "execute_result",
          "data": {
            "text/html": [
              "<div>\n",
              "<style scoped>\n",
              "    .dataframe tbody tr th:only-of-type {\n",
              "        vertical-align: middle;\n",
              "    }\n",
              "\n",
              "    .dataframe tbody tr th {\n",
              "        vertical-align: top;\n",
              "    }\n",
              "\n",
              "    .dataframe thead th {\n",
              "        text-align: right;\n",
              "    }\n",
              "</style>\n",
              "<table border=\"1\" class=\"dataframe\">\n",
              "  <thead>\n",
              "    <tr style=\"text-align: right;\">\n",
              "      <th></th>\n",
              "      <th>Invoice ID</th>\n",
              "      <th>Branch</th>\n",
              "      <th>City</th>\n",
              "      <th>Customer type</th>\n",
              "      <th>Gender</th>\n",
              "      <th>Product line</th>\n",
              "      <th>Unit price</th>\n",
              "      <th>Quantity</th>\n",
              "      <th>Tax 5%</th>\n",
              "      <th>Total</th>\n",
              "      <th>Date</th>\n",
              "      <th>Time</th>\n",
              "      <th>Payment</th>\n",
              "      <th>cogs</th>\n",
              "      <th>gross margin percentage</th>\n",
              "      <th>gross income</th>\n",
              "      <th>Rating</th>\n",
              "      <th>Ticket</th>\n",
              "    </tr>\n",
              "  </thead>\n",
              "  <tbody>\n",
              "    <tr>\n",
              "      <th>0</th>\n",
              "      <td>750-67-8428</td>\n",
              "      <td>A</td>\n",
              "      <td>Yangon</td>\n",
              "      <td>Member</td>\n",
              "      <td>Female</td>\n",
              "      <td>Health and beauty</td>\n",
              "      <td>74.69</td>\n",
              "      <td>7</td>\n",
              "      <td>26.1415</td>\n",
              "      <td>548.9715</td>\n",
              "      <td>1/5/2019</td>\n",
              "      <td>13:08</td>\n",
              "      <td>Ewallet</td>\n",
              "      <td>522.83</td>\n",
              "      <td>4.761905</td>\n",
              "      <td>26.1415</td>\n",
              "      <td>9.1</td>\n",
              "      <td>78.4245</td>\n",
              "    </tr>\n",
              "    <tr>\n",
              "      <th>1</th>\n",
              "      <td>226-31-3081</td>\n",
              "      <td>C</td>\n",
              "      <td>Naypyitaw</td>\n",
              "      <td>Normal</td>\n",
              "      <td>Female</td>\n",
              "      <td>Electronic accessories</td>\n",
              "      <td>15.28</td>\n",
              "      <td>5</td>\n",
              "      <td>3.8200</td>\n",
              "      <td>80.2200</td>\n",
              "      <td>3/8/2019</td>\n",
              "      <td>10:29</td>\n",
              "      <td>Cash</td>\n",
              "      <td>76.40</td>\n",
              "      <td>4.761905</td>\n",
              "      <td>3.8200</td>\n",
              "      <td>9.6</td>\n",
              "      <td>16.0440</td>\n",
              "    </tr>\n",
              "    <tr>\n",
              "      <th>2</th>\n",
              "      <td>631-41-3108</td>\n",
              "      <td>A</td>\n",
              "      <td>Yangon</td>\n",
              "      <td>Normal</td>\n",
              "      <td>Male</td>\n",
              "      <td>Home and lifestyle</td>\n",
              "      <td>46.33</td>\n",
              "      <td>7</td>\n",
              "      <td>16.2155</td>\n",
              "      <td>340.5255</td>\n",
              "      <td>3/3/2019</td>\n",
              "      <td>13:23</td>\n",
              "      <td>Credit card</td>\n",
              "      <td>324.31</td>\n",
              "      <td>4.761905</td>\n",
              "      <td>16.2155</td>\n",
              "      <td>7.4</td>\n",
              "      <td>48.6465</td>\n",
              "    </tr>\n",
              "  </tbody>\n",
              "</table>\n",
              "</div>"
            ],
            "text/plain": [
              "    Invoice ID Branch       City  ... gross income Rating   Ticket\n",
              "0  750-67-8428      A     Yangon  ...      26.1415    9.1  78.4245\n",
              "1  226-31-3081      C  Naypyitaw  ...       3.8200    9.6  16.0440\n",
              "2  631-41-3108      A     Yangon  ...      16.2155    7.4  48.6465\n",
              "\n",
              "[3 rows x 18 columns]"
            ]
          },
          "metadata": {
            "tags": []
          },
          "execution_count": 50
        }
      ]
    },
    {
      "cell_type": "code",
      "metadata": {
        "colab": {
          "base_uri": "https://localhost:8080/"
        },
        "id": "x5OEqW6WQFy0",
        "outputId": "da3fe6b7-9a16-4f78-c618-fb0cde9a8c2f"
      },
      "source": [
        "df_market_id2 = df_market.drop_duplicates(subset=[\"Payment\", \"Gender\"])\r\n",
        "df_market_id2[[\"Payment\", \"Gender\"]] #não observado valores duplicados"
      ],
      "execution_count": null,
      "outputs": [
        {
          "output_type": "execute_result",
          "data": {
            "text/html": [
              "<div>\n",
              "<style scoped>\n",
              "    .dataframe tbody tr th:only-of-type {\n",
              "        vertical-align: middle;\n",
              "    }\n",
              "\n",
              "    .dataframe tbody tr th {\n",
              "        vertical-align: top;\n",
              "    }\n",
              "\n",
              "    .dataframe thead th {\n",
              "        text-align: right;\n",
              "    }\n",
              "</style>\n",
              "<table border=\"1\" class=\"dataframe\">\n",
              "  <thead>\n",
              "    <tr style=\"text-align: right;\">\n",
              "      <th></th>\n",
              "      <th>Payment</th>\n",
              "      <th>Gender</th>\n",
              "    </tr>\n",
              "  </thead>\n",
              "  <tbody>\n",
              "    <tr>\n",
              "      <th>0</th>\n",
              "      <td>Ewallet</td>\n",
              "      <td>Female</td>\n",
              "    </tr>\n",
              "    <tr>\n",
              "      <th>1</th>\n",
              "      <td>Cash</td>\n",
              "      <td>Female</td>\n",
              "    </tr>\n",
              "    <tr>\n",
              "      <th>2</th>\n",
              "      <td>Credit card</td>\n",
              "      <td>Male</td>\n",
              "    </tr>\n",
              "    <tr>\n",
              "      <th>3</th>\n",
              "      <td>Ewallet</td>\n",
              "      <td>Male</td>\n",
              "    </tr>\n",
              "    <tr>\n",
              "      <th>8</th>\n",
              "      <td>Credit card</td>\n",
              "      <td>Female</td>\n",
              "    </tr>\n",
              "    <tr>\n",
              "      <th>11</th>\n",
              "      <td>Cash</td>\n",
              "      <td>Male</td>\n",
              "    </tr>\n",
              "  </tbody>\n",
              "</table>\n",
              "</div>"
            ],
            "text/plain": [
              "        Payment  Gender\n",
              "0       Ewallet  Female\n",
              "1          Cash  Female\n",
              "2   Credit card    Male\n",
              "3       Ewallet    Male\n",
              "8   Credit card  Female\n",
              "11         Cash    Male"
            ]
          },
          "metadata": {
            "tags": []
          },
          "execution_count": 51
        }
      ]
    },
    {
      "cell_type": "markdown",
      "metadata": {
        "id": "bV7DOwquR06i"
      },
      "source": [
        "### Contagem de valores"
      ]
    },
    {
      "cell_type": "code",
      "metadata": {
        "colab": {
          "base_uri": "https://localhost:8080/"
        },
        "id": "AmGvt5ZvRjE8",
        "outputId": "b07f7011-2922-446a-c24a-a3a745ffe5b4"
      },
      "source": [
        "df_market[\"Product line\"].value_counts()"
      ],
      "execution_count": null,
      "outputs": [
        {
          "output_type": "execute_result",
          "data": {
            "text/plain": [
              "Fashion accessories       178\n",
              "Food and beverages        174\n",
              "Electronic accessories    170\n",
              "Sports and travel         166\n",
              "Home and lifestyle        160\n",
              "Health and beauty         152\n",
              "Name: Product line, dtype: int64"
            ]
          },
          "metadata": {
            "tags": []
          },
          "execution_count": 52
        }
      ]
    },
    {
      "cell_type": "code",
      "metadata": {
        "colab": {
          "base_uri": "https://localhost:8080/"
        },
        "id": "GpUErxgiSbq6",
        "outputId": "1645ed81-a8b5-4dc6-b021-7124cd1ac38a"
      },
      "source": [
        "df_market[\"Branch\"].value_counts(sort=True)"
      ],
      "execution_count": null,
      "outputs": [
        {
          "output_type": "execute_result",
          "data": {
            "text/plain": [
              "A    340\n",
              "B    332\n",
              "C    328\n",
              "Name: Branch, dtype: int64"
            ]
          },
          "metadata": {
            "tags": []
          },
          "execution_count": 53
        }
      ]
    },
    {
      "cell_type": "markdown",
      "metadata": {
        "id": "Qk_-rtezSqXq"
      },
      "source": [
        "### Proporções"
      ]
    },
    {
      "cell_type": "code",
      "metadata": {
        "colab": {
          "base_uri": "https://localhost:8080/"
        },
        "id": "1KCTvp3kSC8m",
        "outputId": "192b84d4-99c1-4c8d-fe9b-83eb545af606"
      },
      "source": [
        "df_market[[ \"Gender\"]].value_counts(normalize=True)"
      ],
      "execution_count": null,
      "outputs": [
        {
          "output_type": "execute_result",
          "data": {
            "text/plain": [
              "Gender\n",
              "Female    0.501\n",
              "Male      0.499\n",
              "dtype: float64"
            ]
          },
          "metadata": {
            "tags": []
          },
          "execution_count": 54
        }
      ]
    },
    {
      "cell_type": "code",
      "metadata": {
        "colab": {
          "base_uri": "https://localhost:8080/"
        },
        "id": "SbNphAJ3TLXa",
        "outputId": "8b668497-907e-48ba-d587-1daab5e6aad6"
      },
      "source": [
        "df_market[[ \"Quantity\"]].value_counts(normalize=True)"
      ],
      "execution_count": null,
      "outputs": [
        {
          "output_type": "execute_result",
          "data": {
            "text/plain": [
              "Quantity\n",
              "10          0.119\n",
              "1           0.112\n",
              "4           0.109\n",
              "7           0.102\n",
              "5           0.102\n",
              "6           0.098\n",
              "9           0.092\n",
              "2           0.091\n",
              "3           0.090\n",
              "8           0.085\n",
              "dtype: float64"
            ]
          },
          "metadata": {
            "tags": []
          },
          "execution_count": 55
        }
      ]
    },
    {
      "cell_type": "markdown",
      "metadata": {
        "id": "LCqKhf-wWpY2"
      },
      "source": [
        "## Agrupamento - Groupby\r\n",
        "\r\n",
        "Utilizado para divisão dos dados em grupos com critérios definidos, sendo a divisão em qualquer eixo do DataFrame, fornecendo assim uma possibiidade de mapeamento dos rótulos."
      ]
    },
    {
      "cell_type": "code",
      "metadata": {
        "id": "UlgeQFPl3OGb",
        "colab": {
          "base_uri": "https://localhost:8080/"
        },
        "outputId": "cc8715a3-24bd-4f1a-976a-d3ef2c548fd3"
      },
      "source": [
        "df_market.head(5)"
      ],
      "execution_count": null,
      "outputs": [
        {
          "output_type": "execute_result",
          "data": {
            "text/html": [
              "<div>\n",
              "<style scoped>\n",
              "    .dataframe tbody tr th:only-of-type {\n",
              "        vertical-align: middle;\n",
              "    }\n",
              "\n",
              "    .dataframe tbody tr th {\n",
              "        vertical-align: top;\n",
              "    }\n",
              "\n",
              "    .dataframe thead th {\n",
              "        text-align: right;\n",
              "    }\n",
              "</style>\n",
              "<table border=\"1\" class=\"dataframe\">\n",
              "  <thead>\n",
              "    <tr style=\"text-align: right;\">\n",
              "      <th></th>\n",
              "      <th>Invoice ID</th>\n",
              "      <th>Branch</th>\n",
              "      <th>City</th>\n",
              "      <th>Customer type</th>\n",
              "      <th>Gender</th>\n",
              "      <th>Product line</th>\n",
              "      <th>Unit price</th>\n",
              "      <th>Quantity</th>\n",
              "      <th>Tax 5%</th>\n",
              "      <th>Total</th>\n",
              "      <th>Date</th>\n",
              "      <th>Time</th>\n",
              "      <th>Payment</th>\n",
              "      <th>cogs</th>\n",
              "      <th>gross margin percentage</th>\n",
              "      <th>gross income</th>\n",
              "      <th>Rating</th>\n",
              "      <th>Ticket</th>\n",
              "    </tr>\n",
              "  </thead>\n",
              "  <tbody>\n",
              "    <tr>\n",
              "      <th>0</th>\n",
              "      <td>750-67-8428</td>\n",
              "      <td>A</td>\n",
              "      <td>Yangon</td>\n",
              "      <td>Member</td>\n",
              "      <td>Female</td>\n",
              "      <td>Health and beauty</td>\n",
              "      <td>74.69</td>\n",
              "      <td>7</td>\n",
              "      <td>26.1415</td>\n",
              "      <td>548.9715</td>\n",
              "      <td>1/5/2019</td>\n",
              "      <td>13:08</td>\n",
              "      <td>Ewallet</td>\n",
              "      <td>522.83</td>\n",
              "      <td>4.761905</td>\n",
              "      <td>26.1415</td>\n",
              "      <td>9.1</td>\n",
              "      <td>78.4245</td>\n",
              "    </tr>\n",
              "    <tr>\n",
              "      <th>1</th>\n",
              "      <td>226-31-3081</td>\n",
              "      <td>C</td>\n",
              "      <td>Naypyitaw</td>\n",
              "      <td>Normal</td>\n",
              "      <td>Female</td>\n",
              "      <td>Electronic accessories</td>\n",
              "      <td>15.28</td>\n",
              "      <td>5</td>\n",
              "      <td>3.8200</td>\n",
              "      <td>80.2200</td>\n",
              "      <td>3/8/2019</td>\n",
              "      <td>10:29</td>\n",
              "      <td>Cash</td>\n",
              "      <td>76.40</td>\n",
              "      <td>4.761905</td>\n",
              "      <td>3.8200</td>\n",
              "      <td>9.6</td>\n",
              "      <td>16.0440</td>\n",
              "    </tr>\n",
              "    <tr>\n",
              "      <th>2</th>\n",
              "      <td>631-41-3108</td>\n",
              "      <td>A</td>\n",
              "      <td>Yangon</td>\n",
              "      <td>Normal</td>\n",
              "      <td>Male</td>\n",
              "      <td>Home and lifestyle</td>\n",
              "      <td>46.33</td>\n",
              "      <td>7</td>\n",
              "      <td>16.2155</td>\n",
              "      <td>340.5255</td>\n",
              "      <td>3/3/2019</td>\n",
              "      <td>13:23</td>\n",
              "      <td>Credit card</td>\n",
              "      <td>324.31</td>\n",
              "      <td>4.761905</td>\n",
              "      <td>16.2155</td>\n",
              "      <td>7.4</td>\n",
              "      <td>48.6465</td>\n",
              "    </tr>\n",
              "    <tr>\n",
              "      <th>3</th>\n",
              "      <td>123-19-1176</td>\n",
              "      <td>A</td>\n",
              "      <td>Yangon</td>\n",
              "      <td>Member</td>\n",
              "      <td>Male</td>\n",
              "      <td>Health and beauty</td>\n",
              "      <td>58.22</td>\n",
              "      <td>8</td>\n",
              "      <td>23.2880</td>\n",
              "      <td>489.0480</td>\n",
              "      <td>1/27/2019</td>\n",
              "      <td>20:33</td>\n",
              "      <td>Ewallet</td>\n",
              "      <td>465.76</td>\n",
              "      <td>4.761905</td>\n",
              "      <td>23.2880</td>\n",
              "      <td>8.4</td>\n",
              "      <td>61.1310</td>\n",
              "    </tr>\n",
              "    <tr>\n",
              "      <th>4</th>\n",
              "      <td>373-73-7910</td>\n",
              "      <td>A</td>\n",
              "      <td>Yangon</td>\n",
              "      <td>Normal</td>\n",
              "      <td>Male</td>\n",
              "      <td>Sports and travel</td>\n",
              "      <td>86.31</td>\n",
              "      <td>7</td>\n",
              "      <td>30.2085</td>\n",
              "      <td>634.3785</td>\n",
              "      <td>2/8/2019</td>\n",
              "      <td>10:37</td>\n",
              "      <td>Ewallet</td>\n",
              "      <td>604.17</td>\n",
              "      <td>4.761905</td>\n",
              "      <td>30.2085</td>\n",
              "      <td>5.3</td>\n",
              "      <td>90.6255</td>\n",
              "    </tr>\n",
              "  </tbody>\n",
              "</table>\n",
              "</div>"
            ],
            "text/plain": [
              "    Invoice ID Branch       City  ... gross income Rating   Ticket\n",
              "0  750-67-8428      A     Yangon  ...      26.1415    9.1  78.4245\n",
              "1  226-31-3081      C  Naypyitaw  ...       3.8200    9.6  16.0440\n",
              "2  631-41-3108      A     Yangon  ...      16.2155    7.4  48.6465\n",
              "3  123-19-1176      A     Yangon  ...      23.2880    8.4  61.1310\n",
              "4  373-73-7910      A     Yangon  ...      30.2085    5.3  90.6255\n",
              "\n",
              "[5 rows x 18 columns]"
            ]
          },
          "metadata": {
            "tags": []
          },
          "execution_count": 56
        }
      ]
    },
    {
      "cell_type": "code",
      "metadata": {
        "colab": {
          "base_uri": "https://localhost:8080/"
        },
        "id": "KLtvuqrGXD46",
        "outputId": "2a9ce804-4ea6-40df-bbe2-2bbc9632d917"
      },
      "source": [
        "# Agrupamento por \"City\" com a média de \"Unit price\"\r\n",
        "df_market.groupby(\"Product line\")[\"Unit price\"].mean().sort_values(ascending = False)"
      ],
      "execution_count": null,
      "outputs": [
        {
          "output_type": "execute_result",
          "data": {
            "text/plain": [
              "Product line\n",
              "Fashion accessories       57.153652\n",
              "Sports and travel         56.993253\n",
              "Food and beverages        56.008851\n",
              "Home and lifestyle        55.316937\n",
              "Health and beauty         54.854474\n",
              "Electronic accessories    53.551588\n",
              "Name: Unit price, dtype: float64"
            ]
          },
          "metadata": {
            "tags": []
          },
          "execution_count": 57
        }
      ]
    },
    {
      "cell_type": "code",
      "metadata": {
        "colab": {
          "base_uri": "https://localhost:8080/"
        },
        "id": "T-nUOiDiX87V",
        "outputId": "88926be3-b69a-40b0-b326-c2cc706de0e3"
      },
      "source": [
        "# Agrupamento com mais de uma variável\r\n",
        "df_market.groupby(\"Product line\")[[\"Unit price\", \"Total\"]].mean().sort_values(\"Total\", ascending = False)"
      ],
      "execution_count": null,
      "outputs": [
        {
          "output_type": "execute_result",
          "data": {
            "text/html": [
              "<div>\n",
              "<style scoped>\n",
              "    .dataframe tbody tr th:only-of-type {\n",
              "        vertical-align: middle;\n",
              "    }\n",
              "\n",
              "    .dataframe tbody tr th {\n",
              "        vertical-align: top;\n",
              "    }\n",
              "\n",
              "    .dataframe thead th {\n",
              "        text-align: right;\n",
              "    }\n",
              "</style>\n",
              "<table border=\"1\" class=\"dataframe\">\n",
              "  <thead>\n",
              "    <tr style=\"text-align: right;\">\n",
              "      <th></th>\n",
              "      <th>Unit price</th>\n",
              "      <th>Total</th>\n",
              "    </tr>\n",
              "    <tr>\n",
              "      <th>Product line</th>\n",
              "      <th></th>\n",
              "      <th></th>\n",
              "    </tr>\n",
              "  </thead>\n",
              "  <tbody>\n",
              "    <tr>\n",
              "      <th>Home and lifestyle</th>\n",
              "      <td>55.316937</td>\n",
              "      <td>336.636956</td>\n",
              "    </tr>\n",
              "    <tr>\n",
              "      <th>Sports and travel</th>\n",
              "      <td>56.993253</td>\n",
              "      <td>332.065220</td>\n",
              "    </tr>\n",
              "    <tr>\n",
              "      <th>Health and beauty</th>\n",
              "      <td>54.854474</td>\n",
              "      <td>323.643020</td>\n",
              "    </tr>\n",
              "    <tr>\n",
              "      <th>Food and beverages</th>\n",
              "      <td>56.008851</td>\n",
              "      <td>322.671517</td>\n",
              "    </tr>\n",
              "    <tr>\n",
              "      <th>Electronic accessories</th>\n",
              "      <td>53.551588</td>\n",
              "      <td>319.632538</td>\n",
              "    </tr>\n",
              "    <tr>\n",
              "      <th>Fashion accessories</th>\n",
              "      <td>57.153652</td>\n",
              "      <td>305.089298</td>\n",
              "    </tr>\n",
              "  </tbody>\n",
              "</table>\n",
              "</div>"
            ],
            "text/plain": [
              "                        Unit price       Total\n",
              "Product line                                  \n",
              "Home and lifestyle       55.316937  336.636956\n",
              "Sports and travel        56.993253  332.065220\n",
              "Health and beauty        54.854474  323.643020\n",
              "Food and beverages       56.008851  322.671517\n",
              "Electronic accessories   53.551588  319.632538\n",
              "Fashion accessories      57.153652  305.089298"
            ]
          },
          "metadata": {
            "tags": []
          },
          "execution_count": 58
        }
      ]
    },
    {
      "cell_type": "code",
      "metadata": {
        "colab": {
          "base_uri": "https://localhost:8080/"
        },
        "id": "r4QfRIfwY1O7",
        "outputId": "1d17dd70-003c-4fba-df2d-9748cef0456b"
      },
      "source": [
        "# Agrupamento com multiplas estatísticas\r\n",
        "df_market.groupby(\"Product line\")[[\"Quantity\", \"Total\"]].agg([min, max,sum])"
      ],
      "execution_count": null,
      "outputs": [
        {
          "output_type": "execute_result",
          "data": {
            "text/html": [
              "<div>\n",
              "<style scoped>\n",
              "    .dataframe tbody tr th:only-of-type {\n",
              "        vertical-align: middle;\n",
              "    }\n",
              "\n",
              "    .dataframe tbody tr th {\n",
              "        vertical-align: top;\n",
              "    }\n",
              "\n",
              "    .dataframe thead tr th {\n",
              "        text-align: left;\n",
              "    }\n",
              "\n",
              "    .dataframe thead tr:last-of-type th {\n",
              "        text-align: right;\n",
              "    }\n",
              "</style>\n",
              "<table border=\"1\" class=\"dataframe\">\n",
              "  <thead>\n",
              "    <tr>\n",
              "      <th></th>\n",
              "      <th colspan=\"3\" halign=\"left\">Quantity</th>\n",
              "      <th colspan=\"3\" halign=\"left\">Total</th>\n",
              "    </tr>\n",
              "    <tr>\n",
              "      <th></th>\n",
              "      <th>min</th>\n",
              "      <th>max</th>\n",
              "      <th>sum</th>\n",
              "      <th>min</th>\n",
              "      <th>max</th>\n",
              "      <th>sum</th>\n",
              "    </tr>\n",
              "    <tr>\n",
              "      <th>Product line</th>\n",
              "      <th></th>\n",
              "      <th></th>\n",
              "      <th></th>\n",
              "      <th></th>\n",
              "      <th></th>\n",
              "      <th></th>\n",
              "    </tr>\n",
              "  </thead>\n",
              "  <tbody>\n",
              "    <tr>\n",
              "      <th>Electronic accessories</th>\n",
              "      <td>1</td>\n",
              "      <td>10</td>\n",
              "      <td>971</td>\n",
              "      <td>26.7225</td>\n",
              "      <td>942.4485</td>\n",
              "      <td>54337.5315</td>\n",
              "    </tr>\n",
              "    <tr>\n",
              "      <th>Fashion accessories</th>\n",
              "      <td>1</td>\n",
              "      <td>10</td>\n",
              "      <td>902</td>\n",
              "      <td>12.6945</td>\n",
              "      <td>1042.6500</td>\n",
              "      <td>54305.8950</td>\n",
              "    </tr>\n",
              "    <tr>\n",
              "      <th>Food and beverages</th>\n",
              "      <td>1</td>\n",
              "      <td>10</td>\n",
              "      <td>952</td>\n",
              "      <td>22.6590</td>\n",
              "      <td>1034.4600</td>\n",
              "      <td>56144.8440</td>\n",
              "    </tr>\n",
              "    <tr>\n",
              "      <th>Health and beauty</th>\n",
              "      <td>1</td>\n",
              "      <td>10</td>\n",
              "      <td>854</td>\n",
              "      <td>18.6375</td>\n",
              "      <td>950.2500</td>\n",
              "      <td>49193.7390</td>\n",
              "    </tr>\n",
              "    <tr>\n",
              "      <th>Home and lifestyle</th>\n",
              "      <td>1</td>\n",
              "      <td>10</td>\n",
              "      <td>911</td>\n",
              "      <td>14.6790</td>\n",
              "      <td>1023.7500</td>\n",
              "      <td>53861.9130</td>\n",
              "    </tr>\n",
              "    <tr>\n",
              "      <th>Sports and travel</th>\n",
              "      <td>1</td>\n",
              "      <td>10</td>\n",
              "      <td>920</td>\n",
              "      <td>10.6785</td>\n",
              "      <td>1002.1200</td>\n",
              "      <td>55122.8265</td>\n",
              "    </tr>\n",
              "  </tbody>\n",
              "</table>\n",
              "</div>"
            ],
            "text/plain": [
              "                       Quantity             Total                       \n",
              "                            min max  sum      min        max         sum\n",
              "Product line                                                            \n",
              "Electronic accessories        1  10  971  26.7225   942.4485  54337.5315\n",
              "Fashion accessories           1  10  902  12.6945  1042.6500  54305.8950\n",
              "Food and beverages            1  10  952  22.6590  1034.4600  56144.8440\n",
              "Health and beauty             1  10  854  18.6375   950.2500  49193.7390\n",
              "Home and lifestyle            1  10  911  14.6790  1023.7500  53861.9130\n",
              "Sports and travel             1  10  920  10.6785  1002.1200  55122.8265"
            ]
          },
          "metadata": {
            "tags": []
          },
          "execution_count": 59
        }
      ]
    },
    {
      "cell_type": "code",
      "metadata": {
        "colab": {
          "base_uri": "https://localhost:8080/"
        },
        "id": "rUVoXZy0ZdOj",
        "outputId": "3155292c-e855-4531-d330-4f354c5168af"
      },
      "source": [
        "# Muitos grupos e muitas estatísticas\r\n",
        "df_market.groupby([\"Branch\", \"Product line\"])[[\"Quantity\", \"Total\"]].mean()"
      ],
      "execution_count": null,
      "outputs": [
        {
          "output_type": "execute_result",
          "data": {
            "text/html": [
              "<div>\n",
              "<style scoped>\n",
              "    .dataframe tbody tr th:only-of-type {\n",
              "        vertical-align: middle;\n",
              "    }\n",
              "\n",
              "    .dataframe tbody tr th {\n",
              "        vertical-align: top;\n",
              "    }\n",
              "\n",
              "    .dataframe thead th {\n",
              "        text-align: right;\n",
              "    }\n",
              "</style>\n",
              "<table border=\"1\" class=\"dataframe\">\n",
              "  <thead>\n",
              "    <tr style=\"text-align: right;\">\n",
              "      <th></th>\n",
              "      <th></th>\n",
              "      <th>Quantity</th>\n",
              "      <th>Total</th>\n",
              "    </tr>\n",
              "    <tr>\n",
              "      <th>Branch</th>\n",
              "      <th>Product line</th>\n",
              "      <th></th>\n",
              "      <th></th>\n",
              "    </tr>\n",
              "  </thead>\n",
              "  <tbody>\n",
              "    <tr>\n",
              "      <th rowspan=\"6\" valign=\"top\">A</th>\n",
              "      <th>Electronic accessories</th>\n",
              "      <td>5.366667</td>\n",
              "      <td>305.285225</td>\n",
              "    </tr>\n",
              "    <tr>\n",
              "      <th>Fashion accessories</th>\n",
              "      <td>5.156863</td>\n",
              "      <td>320.245265</td>\n",
              "    </tr>\n",
              "    <tr>\n",
              "      <th>Food and beverages</th>\n",
              "      <td>5.396552</td>\n",
              "      <td>295.915526</td>\n",
              "    </tr>\n",
              "    <tr>\n",
              "      <th>Health and beauty</th>\n",
              "      <td>5.468085</td>\n",
              "      <td>268.037298</td>\n",
              "    </tr>\n",
              "    <tr>\n",
              "      <th>Home and lifestyle</th>\n",
              "      <td>5.707692</td>\n",
              "      <td>344.879931</td>\n",
              "    </tr>\n",
              "    <tr>\n",
              "      <th>Sports and travel</th>\n",
              "      <td>5.644068</td>\n",
              "      <td>328.350839</td>\n",
              "    </tr>\n",
              "    <tr>\n",
              "      <th rowspan=\"6\" valign=\"top\">B</th>\n",
              "      <th>Electronic accessories</th>\n",
              "      <td>5.745455</td>\n",
              "      <td>310.026245</td>\n",
              "    </tr>\n",
              "    <tr>\n",
              "      <th>Fashion accessories</th>\n",
              "      <td>4.790323</td>\n",
              "      <td>264.730911</td>\n",
              "    </tr>\n",
              "    <tr>\n",
              "      <th>Food and beverages</th>\n",
              "      <td>5.400000</td>\n",
              "      <td>304.297770</td>\n",
              "    </tr>\n",
              "    <tr>\n",
              "      <th>Health and beauty</th>\n",
              "      <td>6.037736</td>\n",
              "      <td>376.993585</td>\n",
              "    </tr>\n",
              "    <tr>\n",
              "      <th>Home and lifestyle</th>\n",
              "      <td>5.900000</td>\n",
              "      <td>350.983290</td>\n",
              "    </tr>\n",
              "    <tr>\n",
              "      <th>Sports and travel</th>\n",
              "      <td>5.193548</td>\n",
              "      <td>322.390306</td>\n",
              "    </tr>\n",
              "    <tr>\n",
              "      <th rowspan=\"6\" valign=\"top\">C</th>\n",
              "      <th>Electronic accessories</th>\n",
              "      <td>6.054545</td>\n",
              "      <td>344.890445</td>\n",
              "    </tr>\n",
              "    <tr>\n",
              "      <th>Fashion accessories</th>\n",
              "      <td>5.261538</td>\n",
              "      <td>331.693385</td>\n",
              "    </tr>\n",
              "    <tr>\n",
              "      <th>Food and beverages</th>\n",
              "      <td>5.590909</td>\n",
              "      <td>360.103864</td>\n",
              "    </tr>\n",
              "    <tr>\n",
              "      <th>Health and beauty</th>\n",
              "      <td>5.326923</td>\n",
              "      <td>319.525500</td>\n",
              "    </tr>\n",
              "    <tr>\n",
              "      <th>Home and lifestyle</th>\n",
              "      <td>5.444444</td>\n",
              "      <td>308.790067</td>\n",
              "    </tr>\n",
              "    <tr>\n",
              "      <th>Sports and travel</th>\n",
              "      <td>5.888889</td>\n",
              "      <td>350.265067</td>\n",
              "    </tr>\n",
              "  </tbody>\n",
              "</table>\n",
              "</div>"
            ],
            "text/plain": [
              "                               Quantity       Total\n",
              "Branch Product line                                \n",
              "A      Electronic accessories  5.366667  305.285225\n",
              "       Fashion accessories     5.156863  320.245265\n",
              "       Food and beverages      5.396552  295.915526\n",
              "       Health and beauty       5.468085  268.037298\n",
              "       Home and lifestyle      5.707692  344.879931\n",
              "       Sports and travel       5.644068  328.350839\n",
              "B      Electronic accessories  5.745455  310.026245\n",
              "       Fashion accessories     4.790323  264.730911\n",
              "       Food and beverages      5.400000  304.297770\n",
              "       Health and beauty       6.037736  376.993585\n",
              "       Home and lifestyle      5.900000  350.983290\n",
              "       Sports and travel       5.193548  322.390306\n",
              "C      Electronic accessories  6.054545  344.890445\n",
              "       Fashion accessories     5.261538  331.693385\n",
              "       Food and beverages      5.590909  360.103864\n",
              "       Health and beauty       5.326923  319.525500\n",
              "       Home and lifestyle      5.444444  308.790067\n",
              "       Sports and travel       5.888889  350.265067"
            ]
          },
          "metadata": {
            "tags": []
          },
          "execution_count": 60
        }
      ]
    },
    {
      "cell_type": "markdown",
      "metadata": {
        "id": "_W9bEvU2a7CT"
      },
      "source": [
        "Algumas repostas à questões de negócios"
      ]
    },
    {
      "cell_type": "code",
      "metadata": {
        "colab": {
          "base_uri": "https://localhost:8080/"
        },
        "id": "q2jHMMh7aRWM",
        "outputId": "1de30cbe-68a8-459d-f571-035df601f91f"
      },
      "source": [
        "# Total de vendas\r\n",
        "df_market_total = df_market[\"Total\"] .sum()\r\n",
        "df_market_total"
      ],
      "execution_count": null,
      "outputs": [
        {
          "output_type": "execute_result",
          "data": {
            "text/plain": [
              "322966.74899999995"
            ]
          },
          "metadata": {
            "tags": []
          },
          "execution_count": 61
        }
      ]
    },
    {
      "cell_type": "code",
      "metadata": {
        "colab": {
          "base_uri": "https://localhost:8080/"
        },
        "id": "25no0O_hbMFI",
        "outputId": "304ea542-7931-4be3-96b2-f9a627ddc7e9"
      },
      "source": [
        "# Total de vendas por \"Branch\"\r\n",
        "sales_branch_A = df_market[df_market[\"Branch\"] == \"A\"][\"Total\"].sum()\r\n",
        "\r\n",
        "sales_branch_B = df_market[df_market[\"Branch\"] == \"B\"][\"Total\"].sum()\r\n",
        "\r\n",
        "sales_branch_C = df_market[df_market[\"Branch\"] == \"C\"][\"Total\"].sum()\r\n",
        "\r\n",
        "print(\"Vendas totais da branch A: ${:.2f}\".format(sales_branch_A))\r\n",
        "print(\"Vendas totais da branch B: ${:.2f}\".format(sales_branch_B))\r\n",
        "print(\"Vendas totais da branch C: ${:.2f}\".format(sales_branch_C))"
      ],
      "execution_count": null,
      "outputs": [
        {
          "output_type": "stream",
          "text": [
            "Vendas totais da branch A: $106200.37\n",
            "Vendas totais da branch B: $106197.67\n",
            "Vendas totais da branch C: $110568.71\n"
          ],
          "name": "stdout"
        }
      ]
    },
    {
      "cell_type": "code",
      "metadata": {
        "colab": {
          "base_uri": "https://localhost:8080/"
        },
        "id": "cOJA68BaeeQ8",
        "outputId": "c9f73e6e-dcef-44ed-e819-c31733f1af7f"
      },
      "source": [
        "# Proporção das vendas totais por \"Branch\"\r\n",
        "sales_prop_branch = [sales_branch_A, sales_branch_B, sales_branch_C] / df_market_total\r\n",
        "sales_prop_branch"
      ],
      "execution_count": null,
      "outputs": [
        {
          "output_type": "execute_result",
          "data": {
            "text/plain": [
              "array([0.32882757, 0.32881921, 0.34235322])"
            ]
          },
          "metadata": {
            "tags": []
          },
          "execution_count": 63
        }
      ]
    },
    {
      "cell_type": "code",
      "metadata": {
        "id": "cAk4fKOagE5k"
      },
      "source": [
        "# Por tipo de \"Branch\", agregando total aplicando: min, max, mean e median\r\n",
        "df_market_stats = df_market.groupby(\"Branch\")[\"Total\"].agg([np.min, np.max, np.mean, np.median])"
      ],
      "execution_count": null,
      "outputs": []
    },
    {
      "cell_type": "code",
      "metadata": {
        "colab": {
          "base_uri": "https://localhost:8080/"
        },
        "id": "kv2--eE7hIu2",
        "outputId": "d5f8c3e5-6b72-4a71-fa1a-449b2cb96257"
      },
      "source": [
        "df_market_stats"
      ],
      "execution_count": null,
      "outputs": [
        {
          "output_type": "execute_result",
          "data": {
            "text/html": [
              "<div>\n",
              "<style scoped>\n",
              "    .dataframe tbody tr th:only-of-type {\n",
              "        vertical-align: middle;\n",
              "    }\n",
              "\n",
              "    .dataframe tbody tr th {\n",
              "        vertical-align: top;\n",
              "    }\n",
              "\n",
              "    .dataframe thead th {\n",
              "        text-align: right;\n",
              "    }\n",
              "</style>\n",
              "<table border=\"1\" class=\"dataframe\">\n",
              "  <thead>\n",
              "    <tr style=\"text-align: right;\">\n",
              "      <th></th>\n",
              "      <th>amin</th>\n",
              "      <th>amax</th>\n",
              "      <th>mean</th>\n",
              "      <th>median</th>\n",
              "    </tr>\n",
              "    <tr>\n",
              "      <th>Branch</th>\n",
              "      <th></th>\n",
              "      <th></th>\n",
              "      <th></th>\n",
              "      <th></th>\n",
              "    </tr>\n",
              "  </thead>\n",
              "  <tbody>\n",
              "    <tr>\n",
              "      <th>A</th>\n",
              "      <td>12.6945</td>\n",
              "      <td>1039.29</td>\n",
              "      <td>312.354031</td>\n",
              "      <td>240.82800</td>\n",
              "    </tr>\n",
              "    <tr>\n",
              "      <th>B</th>\n",
              "      <td>18.6375</td>\n",
              "      <td>1022.49</td>\n",
              "      <td>319.872506</td>\n",
              "      <td>252.88200</td>\n",
              "    </tr>\n",
              "    <tr>\n",
              "      <th>C</th>\n",
              "      <td>10.6785</td>\n",
              "      <td>1042.65</td>\n",
              "      <td>337.099715</td>\n",
              "      <td>271.41975</td>\n",
              "    </tr>\n",
              "  </tbody>\n",
              "</table>\n",
              "</div>"
            ],
            "text/plain": [
              "           amin     amax        mean     median\n",
              "Branch                                         \n",
              "A       12.6945  1039.29  312.354031  240.82800\n",
              "B       18.6375  1022.49  319.872506  252.88200\n",
              "C       10.6785  1042.65  337.099715  271.41975"
            ]
          },
          "metadata": {
            "tags": []
          },
          "execution_count": 65
        }
      ]
    },
    {
      "cell_type": "markdown",
      "metadata": {
        "id": "c76I98uEiPlv"
      },
      "source": [
        "## Tabelas Dinâmicas"
      ]
    },
    {
      "cell_type": "markdown",
      "metadata": {
        "id": "G-u4C59NmqqZ"
      },
      "source": [
        "Por default gera a média"
      ]
    },
    {
      "cell_type": "code",
      "metadata": {
        "colab": {
          "base_uri": "https://localhost:8080/"
        },
        "id": "GZynnJ96mvFv",
        "outputId": "68b848d8-f21e-42df-8f4c-7468b5b0a879"
      },
      "source": [
        "# Utilizando groupby\n",
        "t1 = df_market.groupby(\"Product line\")[\"Quantity\"].mean()\n",
        "t1"
      ],
      "execution_count": null,
      "outputs": [
        {
          "output_type": "execute_result",
          "data": {
            "text/plain": [
              "Product line\n",
              "Electronic accessories    5.711765\n",
              "Fashion accessories       5.067416\n",
              "Food and beverages        5.471264\n",
              "Health and beauty         5.618421\n",
              "Home and lifestyle        5.693750\n",
              "Sports and travel         5.542169\n",
              "Name: Quantity, dtype: float64"
            ]
          },
          "metadata": {
            "tags": []
          },
          "execution_count": 66
        }
      ]
    },
    {
      "cell_type": "code",
      "metadata": {
        "colab": {
          "base_uri": "https://localhost:8080/"
        },
        "id": "YAxY7JCRnYui",
        "outputId": "2d87cd9c-5fa7-49ea-c818-ec898d85e027"
      },
      "source": [
        "# Utilizando pivot_table\n",
        "t2 = df_market.pivot_table(values=\"Quantity\", index=\"Product line\")\n",
        "t2"
      ],
      "execution_count": null,
      "outputs": [
        {
          "output_type": "execute_result",
          "data": {
            "text/html": [
              "<div>\n",
              "<style scoped>\n",
              "    .dataframe tbody tr th:only-of-type {\n",
              "        vertical-align: middle;\n",
              "    }\n",
              "\n",
              "    .dataframe tbody tr th {\n",
              "        vertical-align: top;\n",
              "    }\n",
              "\n",
              "    .dataframe thead th {\n",
              "        text-align: right;\n",
              "    }\n",
              "</style>\n",
              "<table border=\"1\" class=\"dataframe\">\n",
              "  <thead>\n",
              "    <tr style=\"text-align: right;\">\n",
              "      <th></th>\n",
              "      <th>Quantity</th>\n",
              "    </tr>\n",
              "    <tr>\n",
              "      <th>Product line</th>\n",
              "      <th></th>\n",
              "    </tr>\n",
              "  </thead>\n",
              "  <tbody>\n",
              "    <tr>\n",
              "      <th>Electronic accessories</th>\n",
              "      <td>5.711765</td>\n",
              "    </tr>\n",
              "    <tr>\n",
              "      <th>Fashion accessories</th>\n",
              "      <td>5.067416</td>\n",
              "    </tr>\n",
              "    <tr>\n",
              "      <th>Food and beverages</th>\n",
              "      <td>5.471264</td>\n",
              "    </tr>\n",
              "    <tr>\n",
              "      <th>Health and beauty</th>\n",
              "      <td>5.618421</td>\n",
              "    </tr>\n",
              "    <tr>\n",
              "      <th>Home and lifestyle</th>\n",
              "      <td>5.693750</td>\n",
              "    </tr>\n",
              "    <tr>\n",
              "      <th>Sports and travel</th>\n",
              "      <td>5.542169</td>\n",
              "    </tr>\n",
              "  </tbody>\n",
              "</table>\n",
              "</div>"
            ],
            "text/plain": [
              "                        Quantity\n",
              "Product line                    \n",
              "Electronic accessories  5.711765\n",
              "Fashion accessories     5.067416\n",
              "Food and beverages      5.471264\n",
              "Health and beauty       5.618421\n",
              "Home and lifestyle      5.693750\n",
              "Sports and travel       5.542169"
            ]
          },
          "metadata": {
            "tags": []
          },
          "execution_count": 67
        }
      ]
    },
    {
      "cell_type": "markdown",
      "metadata": {
        "id": "lHWy4ZBnogIw"
      },
      "source": [
        "A série é a estrutura de dados para uma única coluna de aDataFrame"
      ]
    },
    {
      "cell_type": "code",
      "metadata": {
        "colab": {
          "base_uri": "https://localhost:8080/"
        },
        "id": "qqwv_GPqn78I",
        "outputId": "ca6f6bc0-e784-4c60-8f08-163dfc5ed03f"
      },
      "source": [
        "type(t1)"
      ],
      "execution_count": null,
      "outputs": [
        {
          "output_type": "execute_result",
          "data": {
            "text/plain": [
              "pandas.core.series.Series"
            ]
          },
          "metadata": {
            "tags": []
          },
          "execution_count": 68
        }
      ]
    },
    {
      "cell_type": "markdown",
      "metadata": {
        "id": "YztZR-8Vojgn"
      },
      "source": [
        "O frame éé uma estrutura de dados tabular bidimensional, mutável em tamanho e potencialmente heterogênea, com eixos rotulados (linhas e colunas)."
      ]
    },
    {
      "cell_type": "code",
      "metadata": {
        "colab": {
          "base_uri": "https://localhost:8080/"
        },
        "id": "OaJHe57_oIHO",
        "outputId": "8439f067-e51e-4fc2-8430-46229073c354"
      },
      "source": [
        "type(t2)"
      ],
      "execution_count": null,
      "outputs": [
        {
          "output_type": "execute_result",
          "data": {
            "text/plain": [
              "pandas.core.frame.DataFrame"
            ]
          },
          "metadata": {
            "tags": []
          },
          "execution_count": 69
        }
      ]
    },
    {
      "cell_type": "code",
      "metadata": {
        "colab": {
          "base_uri": "https://localhost:8080/"
        },
        "id": "ERlgiIYfpH7I",
        "outputId": "eb022d1a-dccb-4756-c4fd-696eadf8de6d"
      },
      "source": [
        "df_market.pivot_table(values=\"Quantity\", index=\"Product line\", aggfunc=[np.mean, np.median, np.min, np.max])"
      ],
      "execution_count": null,
      "outputs": [
        {
          "output_type": "execute_result",
          "data": {
            "text/html": [
              "<div>\n",
              "<style scoped>\n",
              "    .dataframe tbody tr th:only-of-type {\n",
              "        vertical-align: middle;\n",
              "    }\n",
              "\n",
              "    .dataframe tbody tr th {\n",
              "        vertical-align: top;\n",
              "    }\n",
              "\n",
              "    .dataframe thead tr th {\n",
              "        text-align: left;\n",
              "    }\n",
              "\n",
              "    .dataframe thead tr:last-of-type th {\n",
              "        text-align: right;\n",
              "    }\n",
              "</style>\n",
              "<table border=\"1\" class=\"dataframe\">\n",
              "  <thead>\n",
              "    <tr>\n",
              "      <th></th>\n",
              "      <th>mean</th>\n",
              "      <th>median</th>\n",
              "      <th>amin</th>\n",
              "      <th>amax</th>\n",
              "    </tr>\n",
              "    <tr>\n",
              "      <th></th>\n",
              "      <th>Quantity</th>\n",
              "      <th>Quantity</th>\n",
              "      <th>Quantity</th>\n",
              "      <th>Quantity</th>\n",
              "    </tr>\n",
              "    <tr>\n",
              "      <th>Product line</th>\n",
              "      <th></th>\n",
              "      <th></th>\n",
              "      <th></th>\n",
              "      <th></th>\n",
              "    </tr>\n",
              "  </thead>\n",
              "  <tbody>\n",
              "    <tr>\n",
              "      <th>Electronic accessories</th>\n",
              "      <td>5.711765</td>\n",
              "      <td>6</td>\n",
              "      <td>1</td>\n",
              "      <td>10</td>\n",
              "    </tr>\n",
              "    <tr>\n",
              "      <th>Fashion accessories</th>\n",
              "      <td>5.067416</td>\n",
              "      <td>5</td>\n",
              "      <td>1</td>\n",
              "      <td>10</td>\n",
              "    </tr>\n",
              "    <tr>\n",
              "      <th>Food and beverages</th>\n",
              "      <td>5.471264</td>\n",
              "      <td>5</td>\n",
              "      <td>1</td>\n",
              "      <td>10</td>\n",
              "    </tr>\n",
              "    <tr>\n",
              "      <th>Health and beauty</th>\n",
              "      <td>5.618421</td>\n",
              "      <td>6</td>\n",
              "      <td>1</td>\n",
              "      <td>10</td>\n",
              "    </tr>\n",
              "    <tr>\n",
              "      <th>Home and lifestyle</th>\n",
              "      <td>5.693750</td>\n",
              "      <td>6</td>\n",
              "      <td>1</td>\n",
              "      <td>10</td>\n",
              "    </tr>\n",
              "    <tr>\n",
              "      <th>Sports and travel</th>\n",
              "      <td>5.542169</td>\n",
              "      <td>6</td>\n",
              "      <td>1</td>\n",
              "      <td>10</td>\n",
              "    </tr>\n",
              "  </tbody>\n",
              "</table>\n",
              "</div>"
            ],
            "text/plain": [
              "                            mean   median     amin     amax\n",
              "                        Quantity Quantity Quantity Quantity\n",
              "Product line                                               \n",
              "Electronic accessories  5.711765        6        1       10\n",
              "Fashion accessories     5.067416        5        1       10\n",
              "Food and beverages      5.471264        5        1       10\n",
              "Health and beauty       5.618421        6        1       10\n",
              "Home and lifestyle      5.693750        6        1       10\n",
              "Sports and travel       5.542169        6        1       10"
            ]
          },
          "metadata": {
            "tags": []
          },
          "execution_count": 70
        }
      ]
    },
    {
      "cell_type": "markdown",
      "metadata": {
        "id": "X3zhKbx4I_fu"
      },
      "source": [
        "# 03 - Fatiar e indexar"
      ]
    },
    {
      "cell_type": "markdown",
      "metadata": {
        "id": "5l_c-CFaJOzM"
      },
      "source": [
        "## Índice "
      ]
    },
    {
      "cell_type": "markdown",
      "metadata": {
        "id": "zW3fg67p9GBG"
      },
      "source": [
        "![indice_pandas.png](data:image/png;base64,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)"
      ]
    },
    {
      "cell_type": "code",
      "metadata": {
        "colab": {
          "base_uri": "https://localhost:8080/"
        },
        "id": "NRn22hSNzjoK",
        "outputId": "ec6fde03-b4f5-4b26-a674-e9a61bff529f"
      },
      "source": [
        "df_market.head(3)"
      ],
      "execution_count": null,
      "outputs": [
        {
          "output_type": "execute_result",
          "data": {
            "text/html": [
              "<div>\n",
              "<style scoped>\n",
              "    .dataframe tbody tr th:only-of-type {\n",
              "        vertical-align: middle;\n",
              "    }\n",
              "\n",
              "    .dataframe tbody tr th {\n",
              "        vertical-align: top;\n",
              "    }\n",
              "\n",
              "    .dataframe thead th {\n",
              "        text-align: right;\n",
              "    }\n",
              "</style>\n",
              "<table border=\"1\" class=\"dataframe\">\n",
              "  <thead>\n",
              "    <tr style=\"text-align: right;\">\n",
              "      <th></th>\n",
              "      <th>Invoice ID</th>\n",
              "      <th>Branch</th>\n",
              "      <th>City</th>\n",
              "      <th>Customer type</th>\n",
              "      <th>Gender</th>\n",
              "      <th>Product line</th>\n",
              "      <th>Unit price</th>\n",
              "      <th>Quantity</th>\n",
              "      <th>Tax 5%</th>\n",
              "      <th>Total</th>\n",
              "      <th>Date</th>\n",
              "      <th>Time</th>\n",
              "      <th>Payment</th>\n",
              "      <th>cogs</th>\n",
              "      <th>gross margin percentage</th>\n",
              "      <th>gross income</th>\n",
              "      <th>Rating</th>\n",
              "      <th>Ticket</th>\n",
              "    </tr>\n",
              "  </thead>\n",
              "  <tbody>\n",
              "    <tr>\n",
              "      <th>0</th>\n",
              "      <td>750-67-8428</td>\n",
              "      <td>A</td>\n",
              "      <td>Yangon</td>\n",
              "      <td>Member</td>\n",
              "      <td>Female</td>\n",
              "      <td>Health and beauty</td>\n",
              "      <td>74.69</td>\n",
              "      <td>7</td>\n",
              "      <td>26.1415</td>\n",
              "      <td>548.9715</td>\n",
              "      <td>1/5/2019</td>\n",
              "      <td>13:08</td>\n",
              "      <td>Ewallet</td>\n",
              "      <td>522.83</td>\n",
              "      <td>4.761905</td>\n",
              "      <td>26.1415</td>\n",
              "      <td>9.1</td>\n",
              "      <td>78.4245</td>\n",
              "    </tr>\n",
              "    <tr>\n",
              "      <th>1</th>\n",
              "      <td>226-31-3081</td>\n",
              "      <td>C</td>\n",
              "      <td>Naypyitaw</td>\n",
              "      <td>Normal</td>\n",
              "      <td>Female</td>\n",
              "      <td>Electronic accessories</td>\n",
              "      <td>15.28</td>\n",
              "      <td>5</td>\n",
              "      <td>3.8200</td>\n",
              "      <td>80.2200</td>\n",
              "      <td>3/8/2019</td>\n",
              "      <td>10:29</td>\n",
              "      <td>Cash</td>\n",
              "      <td>76.40</td>\n",
              "      <td>4.761905</td>\n",
              "      <td>3.8200</td>\n",
              "      <td>9.6</td>\n",
              "      <td>16.0440</td>\n",
              "    </tr>\n",
              "    <tr>\n",
              "      <th>2</th>\n",
              "      <td>631-41-3108</td>\n",
              "      <td>A</td>\n",
              "      <td>Yangon</td>\n",
              "      <td>Normal</td>\n",
              "      <td>Male</td>\n",
              "      <td>Home and lifestyle</td>\n",
              "      <td>46.33</td>\n",
              "      <td>7</td>\n",
              "      <td>16.2155</td>\n",
              "      <td>340.5255</td>\n",
              "      <td>3/3/2019</td>\n",
              "      <td>13:23</td>\n",
              "      <td>Credit card</td>\n",
              "      <td>324.31</td>\n",
              "      <td>4.761905</td>\n",
              "      <td>16.2155</td>\n",
              "      <td>7.4</td>\n",
              "      <td>48.6465</td>\n",
              "    </tr>\n",
              "  </tbody>\n",
              "</table>\n",
              "</div>"
            ],
            "text/plain": [
              "    Invoice ID Branch       City  ... gross income Rating   Ticket\n",
              "0  750-67-8428      A     Yangon  ...      26.1415    9.1  78.4245\n",
              "1  226-31-3081      C  Naypyitaw  ...       3.8200    9.6  16.0440\n",
              "2  631-41-3108      A     Yangon  ...      16.2155    7.4  48.6465\n",
              "\n",
              "[3 rows x 18 columns]"
            ]
          },
          "metadata": {
            "tags": []
          },
          "execution_count": 71
        }
      ]
    },
    {
      "cell_type": "code",
      "metadata": {
        "colab": {
          "base_uri": "https://localhost:8080/"
        },
        "id": "4LlePMkxzPV6",
        "outputId": "6b0317dd-0f80-4687-ed68-bd0861564717"
      },
      "source": [
        "df_market.columns"
      ],
      "execution_count": null,
      "outputs": [
        {
          "output_type": "execute_result",
          "data": {
            "text/plain": [
              "Index(['Invoice ID', 'Branch', 'City', 'Customer type', 'Gender',\n",
              "       'Product line', 'Unit price', 'Quantity', 'Tax 5%', 'Total', 'Date',\n",
              "       'Time', 'Payment', 'cogs', 'gross margin percentage', 'gross income',\n",
              "       'Rating', 'Ticket'],\n",
              "      dtype='object')"
            ]
          },
          "metadata": {
            "tags": []
          },
          "execution_count": 72
        }
      ]
    },
    {
      "cell_type": "code",
      "metadata": {
        "colab": {
          "base_uri": "https://localhost:8080/"
        },
        "id": "jxber0GjzYuL",
        "outputId": "889bd9d8-1fc3-4e8f-c129-5cee1790aea2"
      },
      "source": [
        "df_market.index"
      ],
      "execution_count": null,
      "outputs": [
        {
          "output_type": "execute_result",
          "data": {
            "text/plain": [
              "RangeIndex(start=0, stop=1000, step=1)"
            ]
          },
          "metadata": {
            "tags": []
          },
          "execution_count": 73
        }
      ]
    },
    {
      "cell_type": "code",
      "metadata": {
        "colab": {
          "base_uri": "https://localhost:8080/"
        },
        "id": "CBqsHreUzp88",
        "outputId": "558e1465-f0fa-4d70-9f82-5a5a28852204"
      },
      "source": [
        "# Configurar uma coluna como índice\n",
        "df_market_ind = df_market.set_index(\"Invoice ID\")\n",
        "df_market_ind.head(3)"
      ],
      "execution_count": null,
      "outputs": [
        {
          "output_type": "execute_result",
          "data": {
            "text/html": [
              "<div>\n",
              "<style scoped>\n",
              "    .dataframe tbody tr th:only-of-type {\n",
              "        vertical-align: middle;\n",
              "    }\n",
              "\n",
              "    .dataframe tbody tr th {\n",
              "        vertical-align: top;\n",
              "    }\n",
              "\n",
              "    .dataframe thead th {\n",
              "        text-align: right;\n",
              "    }\n",
              "</style>\n",
              "<table border=\"1\" class=\"dataframe\">\n",
              "  <thead>\n",
              "    <tr style=\"text-align: right;\">\n",
              "      <th></th>\n",
              "      <th>Branch</th>\n",
              "      <th>City</th>\n",
              "      <th>Customer type</th>\n",
              "      <th>Gender</th>\n",
              "      <th>Product line</th>\n",
              "      <th>Unit price</th>\n",
              "      <th>Quantity</th>\n",
              "      <th>Tax 5%</th>\n",
              "      <th>Total</th>\n",
              "      <th>Date</th>\n",
              "      <th>Time</th>\n",
              "      <th>Payment</th>\n",
              "      <th>cogs</th>\n",
              "      <th>gross margin percentage</th>\n",
              "      <th>gross income</th>\n",
              "      <th>Rating</th>\n",
              "      <th>Ticket</th>\n",
              "    </tr>\n",
              "    <tr>\n",
              "      <th>Invoice ID</th>\n",
              "      <th></th>\n",
              "      <th></th>\n",
              "      <th></th>\n",
              "      <th></th>\n",
              "      <th></th>\n",
              "      <th></th>\n",
              "      <th></th>\n",
              "      <th></th>\n",
              "      <th></th>\n",
              "      <th></th>\n",
              "      <th></th>\n",
              "      <th></th>\n",
              "      <th></th>\n",
              "      <th></th>\n",
              "      <th></th>\n",
              "      <th></th>\n",
              "      <th></th>\n",
              "    </tr>\n",
              "  </thead>\n",
              "  <tbody>\n",
              "    <tr>\n",
              "      <th>750-67-8428</th>\n",
              "      <td>A</td>\n",
              "      <td>Yangon</td>\n",
              "      <td>Member</td>\n",
              "      <td>Female</td>\n",
              "      <td>Health and beauty</td>\n",
              "      <td>74.69</td>\n",
              "      <td>7</td>\n",
              "      <td>26.1415</td>\n",
              "      <td>548.9715</td>\n",
              "      <td>1/5/2019</td>\n",
              "      <td>13:08</td>\n",
              "      <td>Ewallet</td>\n",
              "      <td>522.83</td>\n",
              "      <td>4.761905</td>\n",
              "      <td>26.1415</td>\n",
              "      <td>9.1</td>\n",
              "      <td>78.4245</td>\n",
              "    </tr>\n",
              "    <tr>\n",
              "      <th>226-31-3081</th>\n",
              "      <td>C</td>\n",
              "      <td>Naypyitaw</td>\n",
              "      <td>Normal</td>\n",
              "      <td>Female</td>\n",
              "      <td>Electronic accessories</td>\n",
              "      <td>15.28</td>\n",
              "      <td>5</td>\n",
              "      <td>3.8200</td>\n",
              "      <td>80.2200</td>\n",
              "      <td>3/8/2019</td>\n",
              "      <td>10:29</td>\n",
              "      <td>Cash</td>\n",
              "      <td>76.40</td>\n",
              "      <td>4.761905</td>\n",
              "      <td>3.8200</td>\n",
              "      <td>9.6</td>\n",
              "      <td>16.0440</td>\n",
              "    </tr>\n",
              "    <tr>\n",
              "      <th>631-41-3108</th>\n",
              "      <td>A</td>\n",
              "      <td>Yangon</td>\n",
              "      <td>Normal</td>\n",
              "      <td>Male</td>\n",
              "      <td>Home and lifestyle</td>\n",
              "      <td>46.33</td>\n",
              "      <td>7</td>\n",
              "      <td>16.2155</td>\n",
              "      <td>340.5255</td>\n",
              "      <td>3/3/2019</td>\n",
              "      <td>13:23</td>\n",
              "      <td>Credit card</td>\n",
              "      <td>324.31</td>\n",
              "      <td>4.761905</td>\n",
              "      <td>16.2155</td>\n",
              "      <td>7.4</td>\n",
              "      <td>48.6465</td>\n",
              "    </tr>\n",
              "  </tbody>\n",
              "</table>\n",
              "</div>"
            ],
            "text/plain": [
              "            Branch       City Customer type  ... gross income Rating   Ticket\n",
              "Invoice ID                                   ...                             \n",
              "750-67-8428      A     Yangon        Member  ...      26.1415    9.1  78.4245\n",
              "226-31-3081      C  Naypyitaw        Normal  ...       3.8200    9.6  16.0440\n",
              "631-41-3108      A     Yangon        Normal  ...      16.2155    7.4  48.6465\n",
              "\n",
              "[3 rows x 17 columns]"
            ]
          },
          "metadata": {
            "tags": []
          },
          "execution_count": 74
        }
      ]
    },
    {
      "cell_type": "code",
      "metadata": {
        "colab": {
          "base_uri": "https://localhost:8080/"
        },
        "id": "6WiDkcqI0Ltv",
        "outputId": "07e9161c-e7da-4c7c-fbb2-62db0b40c3c9"
      },
      "source": [
        "# Removendo índice\n",
        "df_market_id.reset_index()\n"
      ],
      "execution_count": null,
      "outputs": [
        {
          "output_type": "execute_result",
          "data": {
            "text/html": [
              "<div>\n",
              "<style scoped>\n",
              "    .dataframe tbody tr th:only-of-type {\n",
              "        vertical-align: middle;\n",
              "    }\n",
              "\n",
              "    .dataframe tbody tr th {\n",
              "        vertical-align: top;\n",
              "    }\n",
              "\n",
              "    .dataframe thead th {\n",
              "        text-align: right;\n",
              "    }\n",
              "</style>\n",
              "<table border=\"1\" class=\"dataframe\">\n",
              "  <thead>\n",
              "    <tr style=\"text-align: right;\">\n",
              "      <th></th>\n",
              "      <th>index</th>\n",
              "      <th>Invoice ID</th>\n",
              "      <th>Branch</th>\n",
              "      <th>City</th>\n",
              "      <th>Customer type</th>\n",
              "      <th>Gender</th>\n",
              "      <th>Product line</th>\n",
              "      <th>Unit price</th>\n",
              "      <th>Quantity</th>\n",
              "      <th>Tax 5%</th>\n",
              "      <th>Total</th>\n",
              "      <th>Date</th>\n",
              "      <th>Time</th>\n",
              "      <th>Payment</th>\n",
              "      <th>cogs</th>\n",
              "      <th>gross margin percentage</th>\n",
              "      <th>gross income</th>\n",
              "      <th>Rating</th>\n",
              "      <th>Ticket</th>\n",
              "    </tr>\n",
              "  </thead>\n",
              "  <tbody>\n",
              "    <tr>\n",
              "      <th>0</th>\n",
              "      <td>0</td>\n",
              "      <td>750-67-8428</td>\n",
              "      <td>A</td>\n",
              "      <td>Yangon</td>\n",
              "      <td>Member</td>\n",
              "      <td>Female</td>\n",
              "      <td>Health and beauty</td>\n",
              "      <td>74.69</td>\n",
              "      <td>7</td>\n",
              "      <td>26.1415</td>\n",
              "      <td>548.9715</td>\n",
              "      <td>1/5/2019</td>\n",
              "      <td>13:08</td>\n",
              "      <td>Ewallet</td>\n",
              "      <td>522.83</td>\n",
              "      <td>4.761905</td>\n",
              "      <td>26.1415</td>\n",
              "      <td>9.1</td>\n",
              "      <td>78.4245</td>\n",
              "    </tr>\n",
              "    <tr>\n",
              "      <th>1</th>\n",
              "      <td>1</td>\n",
              "      <td>226-31-3081</td>\n",
              "      <td>C</td>\n",
              "      <td>Naypyitaw</td>\n",
              "      <td>Normal</td>\n",
              "      <td>Female</td>\n",
              "      <td>Electronic accessories</td>\n",
              "      <td>15.28</td>\n",
              "      <td>5</td>\n",
              "      <td>3.8200</td>\n",
              "      <td>80.2200</td>\n",
              "      <td>3/8/2019</td>\n",
              "      <td>10:29</td>\n",
              "      <td>Cash</td>\n",
              "      <td>76.40</td>\n",
              "      <td>4.761905</td>\n",
              "      <td>3.8200</td>\n",
              "      <td>9.6</td>\n",
              "      <td>16.0440</td>\n",
              "    </tr>\n",
              "    <tr>\n",
              "      <th>2</th>\n",
              "      <td>2</td>\n",
              "      <td>631-41-3108</td>\n",
              "      <td>A</td>\n",
              "      <td>Yangon</td>\n",
              "      <td>Normal</td>\n",
              "      <td>Male</td>\n",
              "      <td>Home and lifestyle</td>\n",
              "      <td>46.33</td>\n",
              "      <td>7</td>\n",
              "      <td>16.2155</td>\n",
              "      <td>340.5255</td>\n",
              "      <td>3/3/2019</td>\n",
              "      <td>13:23</td>\n",
              "      <td>Credit card</td>\n",
              "      <td>324.31</td>\n",
              "      <td>4.761905</td>\n",
              "      <td>16.2155</td>\n",
              "      <td>7.4</td>\n",
              "      <td>48.6465</td>\n",
              "    </tr>\n",
              "  </tbody>\n",
              "</table>\n",
              "</div>"
            ],
            "text/plain": [
              "   index   Invoice ID Branch  ... gross income Rating   Ticket\n",
              "0      0  750-67-8428      A  ...      26.1415    9.1  78.4245\n",
              "1      1  226-31-3081      C  ...       3.8200    9.6  16.0440\n",
              "2      2  631-41-3108      A  ...      16.2155    7.4  48.6465\n",
              "\n",
              "[3 rows x 19 columns]"
            ]
          },
          "metadata": {
            "tags": []
          },
          "execution_count": 75
        }
      ]
    },
    {
      "cell_type": "code",
      "metadata": {
        "colab": {
          "base_uri": "https://localhost:8080/"
        },
        "id": "IPY9XSeS08o8",
        "outputId": "c9289b77-3498-4b8a-dd35-96f27efdbc9a"
      },
      "source": [
        "# Excluindo o índice\n",
        "df_market_id.reset_index(drop=True)\n"
      ],
      "execution_count": null,
      "outputs": [
        {
          "output_type": "execute_result",
          "data": {
            "text/html": [
              "<div>\n",
              "<style scoped>\n",
              "    .dataframe tbody tr th:only-of-type {\n",
              "        vertical-align: middle;\n",
              "    }\n",
              "\n",
              "    .dataframe tbody tr th {\n",
              "        vertical-align: top;\n",
              "    }\n",
              "\n",
              "    .dataframe thead th {\n",
              "        text-align: right;\n",
              "    }\n",
              "</style>\n",
              "<table border=\"1\" class=\"dataframe\">\n",
              "  <thead>\n",
              "    <tr style=\"text-align: right;\">\n",
              "      <th></th>\n",
              "      <th>Invoice ID</th>\n",
              "      <th>Branch</th>\n",
              "      <th>City</th>\n",
              "      <th>Customer type</th>\n",
              "      <th>Gender</th>\n",
              "      <th>Product line</th>\n",
              "      <th>Unit price</th>\n",
              "      <th>Quantity</th>\n",
              "      <th>Tax 5%</th>\n",
              "      <th>Total</th>\n",
              "      <th>Date</th>\n",
              "      <th>Time</th>\n",
              "      <th>Payment</th>\n",
              "      <th>cogs</th>\n",
              "      <th>gross margin percentage</th>\n",
              "      <th>gross income</th>\n",
              "      <th>Rating</th>\n",
              "      <th>Ticket</th>\n",
              "    </tr>\n",
              "  </thead>\n",
              "  <tbody>\n",
              "    <tr>\n",
              "      <th>0</th>\n",
              "      <td>750-67-8428</td>\n",
              "      <td>A</td>\n",
              "      <td>Yangon</td>\n",
              "      <td>Member</td>\n",
              "      <td>Female</td>\n",
              "      <td>Health and beauty</td>\n",
              "      <td>74.69</td>\n",
              "      <td>7</td>\n",
              "      <td>26.1415</td>\n",
              "      <td>548.9715</td>\n",
              "      <td>1/5/2019</td>\n",
              "      <td>13:08</td>\n",
              "      <td>Ewallet</td>\n",
              "      <td>522.83</td>\n",
              "      <td>4.761905</td>\n",
              "      <td>26.1415</td>\n",
              "      <td>9.1</td>\n",
              "      <td>78.4245</td>\n",
              "    </tr>\n",
              "    <tr>\n",
              "      <th>1</th>\n",
              "      <td>226-31-3081</td>\n",
              "      <td>C</td>\n",
              "      <td>Naypyitaw</td>\n",
              "      <td>Normal</td>\n",
              "      <td>Female</td>\n",
              "      <td>Electronic accessories</td>\n",
              "      <td>15.28</td>\n",
              "      <td>5</td>\n",
              "      <td>3.8200</td>\n",
              "      <td>80.2200</td>\n",
              "      <td>3/8/2019</td>\n",
              "      <td>10:29</td>\n",
              "      <td>Cash</td>\n",
              "      <td>76.40</td>\n",
              "      <td>4.761905</td>\n",
              "      <td>3.8200</td>\n",
              "      <td>9.6</td>\n",
              "      <td>16.0440</td>\n",
              "    </tr>\n",
              "    <tr>\n",
              "      <th>2</th>\n",
              "      <td>631-41-3108</td>\n",
              "      <td>A</td>\n",
              "      <td>Yangon</td>\n",
              "      <td>Normal</td>\n",
              "      <td>Male</td>\n",
              "      <td>Home and lifestyle</td>\n",
              "      <td>46.33</td>\n",
              "      <td>7</td>\n",
              "      <td>16.2155</td>\n",
              "      <td>340.5255</td>\n",
              "      <td>3/3/2019</td>\n",
              "      <td>13:23</td>\n",
              "      <td>Credit card</td>\n",
              "      <td>324.31</td>\n",
              "      <td>4.761905</td>\n",
              "      <td>16.2155</td>\n",
              "      <td>7.4</td>\n",
              "      <td>48.6465</td>\n",
              "    </tr>\n",
              "  </tbody>\n",
              "</table>\n",
              "</div>"
            ],
            "text/plain": [
              "    Invoice ID Branch       City  ... gross income Rating   Ticket\n",
              "0  750-67-8428      A     Yangon  ...      26.1415    9.1  78.4245\n",
              "1  226-31-3081      C  Naypyitaw  ...       3.8200    9.6  16.0440\n",
              "2  631-41-3108      A     Yangon  ...      16.2155    7.4  48.6465\n",
              "\n",
              "[3 rows x 18 columns]"
            ]
          },
          "metadata": {
            "tags": []
          },
          "execution_count": 76
        }
      ]
    },
    {
      "cell_type": "code",
      "metadata": {
        "colab": {
          "base_uri": "https://localhost:8080/"
        },
        "id": "KUfwq4Er2UZ9",
        "outputId": "2bba81f1-3ca9-4996-e51c-68a387a651cf"
      },
      "source": [
        "# Lozalizando dados com índice\n",
        "df_market[df_market[\"Invoice ID\"].isin([\"373-73-7910\",  \"631-41-3108\"])]"
      ],
      "execution_count": null,
      "outputs": [
        {
          "output_type": "execute_result",
          "data": {
            "text/html": [
              "<div>\n",
              "<style scoped>\n",
              "    .dataframe tbody tr th:only-of-type {\n",
              "        vertical-align: middle;\n",
              "    }\n",
              "\n",
              "    .dataframe tbody tr th {\n",
              "        vertical-align: top;\n",
              "    }\n",
              "\n",
              "    .dataframe thead th {\n",
              "        text-align: right;\n",
              "    }\n",
              "</style>\n",
              "<table border=\"1\" class=\"dataframe\">\n",
              "  <thead>\n",
              "    <tr style=\"text-align: right;\">\n",
              "      <th></th>\n",
              "      <th>Invoice ID</th>\n",
              "      <th>Branch</th>\n",
              "      <th>City</th>\n",
              "      <th>Customer type</th>\n",
              "      <th>Gender</th>\n",
              "      <th>Product line</th>\n",
              "      <th>Unit price</th>\n",
              "      <th>Quantity</th>\n",
              "      <th>Tax 5%</th>\n",
              "      <th>Total</th>\n",
              "      <th>Date</th>\n",
              "      <th>Time</th>\n",
              "      <th>Payment</th>\n",
              "      <th>cogs</th>\n",
              "      <th>gross margin percentage</th>\n",
              "      <th>gross income</th>\n",
              "      <th>Rating</th>\n",
              "      <th>Ticket</th>\n",
              "    </tr>\n",
              "  </thead>\n",
              "  <tbody>\n",
              "    <tr>\n",
              "      <th>2</th>\n",
              "      <td>631-41-3108</td>\n",
              "      <td>A</td>\n",
              "      <td>Yangon</td>\n",
              "      <td>Normal</td>\n",
              "      <td>Male</td>\n",
              "      <td>Home and lifestyle</td>\n",
              "      <td>46.33</td>\n",
              "      <td>7</td>\n",
              "      <td>16.2155</td>\n",
              "      <td>340.5255</td>\n",
              "      <td>3/3/2019</td>\n",
              "      <td>13:23</td>\n",
              "      <td>Credit card</td>\n",
              "      <td>324.31</td>\n",
              "      <td>4.761905</td>\n",
              "      <td>16.2155</td>\n",
              "      <td>7.4</td>\n",
              "      <td>48.6465</td>\n",
              "    </tr>\n",
              "    <tr>\n",
              "      <th>4</th>\n",
              "      <td>373-73-7910</td>\n",
              "      <td>A</td>\n",
              "      <td>Yangon</td>\n",
              "      <td>Normal</td>\n",
              "      <td>Male</td>\n",
              "      <td>Sports and travel</td>\n",
              "      <td>86.31</td>\n",
              "      <td>7</td>\n",
              "      <td>30.2085</td>\n",
              "      <td>634.3785</td>\n",
              "      <td>2/8/2019</td>\n",
              "      <td>10:37</td>\n",
              "      <td>Ewallet</td>\n",
              "      <td>604.17</td>\n",
              "      <td>4.761905</td>\n",
              "      <td>30.2085</td>\n",
              "      <td>5.3</td>\n",
              "      <td>90.6255</td>\n",
              "    </tr>\n",
              "  </tbody>\n",
              "</table>\n",
              "</div>"
            ],
            "text/plain": [
              "    Invoice ID Branch    City  ... gross income Rating   Ticket\n",
              "2  631-41-3108      A  Yangon  ...      16.2155    7.4  48.6465\n",
              "4  373-73-7910      A  Yangon  ...      30.2085    5.3  90.6255\n",
              "\n",
              "[2 rows x 18 columns]"
            ]
          },
          "metadata": {
            "tags": []
          },
          "execution_count": 77
        }
      ]
    },
    {
      "cell_type": "code",
      "metadata": {
        "id": "OidY0pVhHdvs"
      },
      "source": [
        "# Multinível para índice\n",
        "df_market_id3 = df_market.set_index([\"Branch\", \"City\"])"
      ],
      "execution_count": null,
      "outputs": []
    },
    {
      "cell_type": "code",
      "metadata": {
        "colab": {
          "base_uri": "https://localhost:8080/"
        },
        "id": "xzB-Q5Q-I4IG",
        "outputId": "15e0fcac-5874-41a9-ce22-8bd9600b5cd8"
      },
      "source": [
        "df_market_id3.head(3)\n"
      ],
      "execution_count": null,
      "outputs": [
        {
          "output_type": "execute_result",
          "data": {
            "text/html": [
              "<div>\n",
              "<style scoped>\n",
              "    .dataframe tbody tr th:only-of-type {\n",
              "        vertical-align: middle;\n",
              "    }\n",
              "\n",
              "    .dataframe tbody tr th {\n",
              "        vertical-align: top;\n",
              "    }\n",
              "\n",
              "    .dataframe thead th {\n",
              "        text-align: right;\n",
              "    }\n",
              "</style>\n",
              "<table border=\"1\" class=\"dataframe\">\n",
              "  <thead>\n",
              "    <tr style=\"text-align: right;\">\n",
              "      <th></th>\n",
              "      <th></th>\n",
              "      <th>Invoice ID</th>\n",
              "      <th>Customer type</th>\n",
              "      <th>Gender</th>\n",
              "      <th>Product line</th>\n",
              "      <th>Unit price</th>\n",
              "      <th>Quantity</th>\n",
              "      <th>Tax 5%</th>\n",
              "      <th>Total</th>\n",
              "      <th>Date</th>\n",
              "      <th>Time</th>\n",
              "      <th>Payment</th>\n",
              "      <th>cogs</th>\n",
              "      <th>gross margin percentage</th>\n",
              "      <th>gross income</th>\n",
              "      <th>Rating</th>\n",
              "      <th>Ticket</th>\n",
              "    </tr>\n",
              "    <tr>\n",
              "      <th>Branch</th>\n",
              "      <th>City</th>\n",
              "      <th></th>\n",
              "      <th></th>\n",
              "      <th></th>\n",
              "      <th></th>\n",
              "      <th></th>\n",
              "      <th></th>\n",
              "      <th></th>\n",
              "      <th></th>\n",
              "      <th></th>\n",
              "      <th></th>\n",
              "      <th></th>\n",
              "      <th></th>\n",
              "      <th></th>\n",
              "      <th></th>\n",
              "      <th></th>\n",
              "      <th></th>\n",
              "    </tr>\n",
              "  </thead>\n",
              "  <tbody>\n",
              "    <tr>\n",
              "      <th>A</th>\n",
              "      <th>Yangon</th>\n",
              "      <td>750-67-8428</td>\n",
              "      <td>Member</td>\n",
              "      <td>Female</td>\n",
              "      <td>Health and beauty</td>\n",
              "      <td>74.69</td>\n",
              "      <td>7</td>\n",
              "      <td>26.1415</td>\n",
              "      <td>548.9715</td>\n",
              "      <td>1/5/2019</td>\n",
              "      <td>13:08</td>\n",
              "      <td>Ewallet</td>\n",
              "      <td>522.83</td>\n",
              "      <td>4.761905</td>\n",
              "      <td>26.1415</td>\n",
              "      <td>9.1</td>\n",
              "      <td>78.4245</td>\n",
              "    </tr>\n",
              "    <tr>\n",
              "      <th>C</th>\n",
              "      <th>Naypyitaw</th>\n",
              "      <td>226-31-3081</td>\n",
              "      <td>Normal</td>\n",
              "      <td>Female</td>\n",
              "      <td>Electronic accessories</td>\n",
              "      <td>15.28</td>\n",
              "      <td>5</td>\n",
              "      <td>3.8200</td>\n",
              "      <td>80.2200</td>\n",
              "      <td>3/8/2019</td>\n",
              "      <td>10:29</td>\n",
              "      <td>Cash</td>\n",
              "      <td>76.40</td>\n",
              "      <td>4.761905</td>\n",
              "      <td>3.8200</td>\n",
              "      <td>9.6</td>\n",
              "      <td>16.0440</td>\n",
              "    </tr>\n",
              "    <tr>\n",
              "      <th>A</th>\n",
              "      <th>Yangon</th>\n",
              "      <td>631-41-3108</td>\n",
              "      <td>Normal</td>\n",
              "      <td>Male</td>\n",
              "      <td>Home and lifestyle</td>\n",
              "      <td>46.33</td>\n",
              "      <td>7</td>\n",
              "      <td>16.2155</td>\n",
              "      <td>340.5255</td>\n",
              "      <td>3/3/2019</td>\n",
              "      <td>13:23</td>\n",
              "      <td>Credit card</td>\n",
              "      <td>324.31</td>\n",
              "      <td>4.761905</td>\n",
              "      <td>16.2155</td>\n",
              "      <td>7.4</td>\n",
              "      <td>48.6465</td>\n",
              "    </tr>\n",
              "  </tbody>\n",
              "</table>\n",
              "</div>"
            ],
            "text/plain": [
              "                   Invoice ID Customer type  ... Rating   Ticket\n",
              "Branch City                                  ...                \n",
              "A      Yangon     750-67-8428        Member  ...    9.1  78.4245\n",
              "C      Naypyitaw  226-31-3081        Normal  ...    9.6  16.0440\n",
              "A      Yangon     631-41-3108        Normal  ...    7.4  48.6465\n",
              "\n",
              "[3 rows x 16 columns]"
            ]
          },
          "metadata": {
            "tags": []
          },
          "execution_count": 79
        }
      ]
    },
    {
      "cell_type": "markdown",
      "metadata": {
        "id": "KlaaPVRVchAR"
      },
      "source": [
        "## Reindexação\r\n",
        "\r\n",
        "Um método importante dos objetos do pandas é reindex, que implica criar um novo objeto com os dados de acordo com um novo índice."
      ]
    },
    {
      "cell_type": "code",
      "metadata": {
        "id": "9ZWJuy0KcnAv"
      },
      "source": [
        "obj = pd.Series([4.5, 7.2, -5.3, 3.6], index=['d', 'b', 'a', 'c'])\r\n",
        "obj"
      ],
      "execution_count": null,
      "outputs": []
    },
    {
      "cell_type": "code",
      "metadata": {
        "id": "__pdm40jcr9-"
      },
      "source": [
        "obj2 = obj.reindex(['a', 'b', 'c', 'd', 'e'])\r\n",
        "obj2"
      ],
      "execution_count": null,
      "outputs": []
    },
    {
      "cell_type": "markdown",
      "metadata": {
        "id": "J3qreC2VdJA8"
      },
      "source": [
        "Com DataFrame, reindex pode alterar o índice (linha), as colunas, ou ambos. Se apenas uma sequência for passada, as linhas serão reindexadas no resultado:"
      ]
    },
    {
      "cell_type": "code",
      "metadata": {
        "id": "jDvW5DordNk3"
      },
      "source": [
        "frame = pd.DataFrame(np.arange(9).reshape((3, 3)),\r\n",
        "                     index=['a', 'c', 'd'],\r\n",
        "                     columns=['Ohio', 'Texas', 'California'])\r\n",
        "frame"
      ],
      "execution_count": null,
      "outputs": []
    },
    {
      "cell_type": "code",
      "metadata": {
        "id": "tbUngom2dX-8"
      },
      "source": [
        "frame2 = frame.reindex(['a', 'b', 'c', 'd'])\r\n",
        "frame2"
      ],
      "execution_count": null,
      "outputs": []
    },
    {
      "cell_type": "markdown",
      "metadata": {
        "id": "t0KUATDwdxxh"
      },
      "source": [
        "![image.png](data:image/png;base64,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)"
      ]
    },
    {
      "cell_type": "markdown",
      "metadata": {
        "id": "RFQb9cRbJbUJ"
      },
      "source": [
        "## Índices multinível"
      ]
    },
    {
      "cell_type": "code",
      "metadata": {
        "colab": {
          "base_uri": "https://localhost:8080/"
        },
        "id": "iHKDUquKI_tM",
        "outputId": "e6e4b30f-5ebc-4860-f143-6e29d260808e"
      },
      "source": [
        "df_market_id3.loc[[\"C\", \"B\"]]"
      ],
      "execution_count": null,
      "outputs": [
        {
          "output_type": "execute_result",
          "data": {
            "text/html": [
              "<div>\n",
              "<style scoped>\n",
              "    .dataframe tbody tr th:only-of-type {\n",
              "        vertical-align: middle;\n",
              "    }\n",
              "\n",
              "    .dataframe tbody tr th {\n",
              "        vertical-align: top;\n",
              "    }\n",
              "\n",
              "    .dataframe thead th {\n",
              "        text-align: right;\n",
              "    }\n",
              "</style>\n",
              "<table border=\"1\" class=\"dataframe\">\n",
              "  <thead>\n",
              "    <tr style=\"text-align: right;\">\n",
              "      <th></th>\n",
              "      <th></th>\n",
              "      <th>Invoice ID</th>\n",
              "      <th>Customer type</th>\n",
              "      <th>Gender</th>\n",
              "      <th>Product line</th>\n",
              "      <th>Unit price</th>\n",
              "      <th>Quantity</th>\n",
              "      <th>Tax 5%</th>\n",
              "      <th>Total</th>\n",
              "      <th>Date</th>\n",
              "      <th>Time</th>\n",
              "      <th>Payment</th>\n",
              "      <th>cogs</th>\n",
              "      <th>gross margin percentage</th>\n",
              "      <th>gross income</th>\n",
              "      <th>Rating</th>\n",
              "      <th>Ticket</th>\n",
              "    </tr>\n",
              "    <tr>\n",
              "      <th>Branch</th>\n",
              "      <th>City</th>\n",
              "      <th></th>\n",
              "      <th></th>\n",
              "      <th></th>\n",
              "      <th></th>\n",
              "      <th></th>\n",
              "      <th></th>\n",
              "      <th></th>\n",
              "      <th></th>\n",
              "      <th></th>\n",
              "      <th></th>\n",
              "      <th></th>\n",
              "      <th></th>\n",
              "      <th></th>\n",
              "      <th></th>\n",
              "      <th></th>\n",
              "      <th></th>\n",
              "    </tr>\n",
              "  </thead>\n",
              "  <tbody>\n",
              "    <tr>\n",
              "      <th rowspan=\"5\" valign=\"top\">C</th>\n",
              "      <th>Naypyitaw</th>\n",
              "      <td>226-31-3081</td>\n",
              "      <td>Normal</td>\n",
              "      <td>Female</td>\n",
              "      <td>Electronic accessories</td>\n",
              "      <td>15.28</td>\n",
              "      <td>5</td>\n",
              "      <td>3.8200</td>\n",
              "      <td>80.2200</td>\n",
              "      <td>3/8/2019</td>\n",
              "      <td>10:29</td>\n",
              "      <td>Cash</td>\n",
              "      <td>76.40</td>\n",
              "      <td>4.761905</td>\n",
              "      <td>3.8200</td>\n",
              "      <td>9.6</td>\n",
              "      <td>16.0440</td>\n",
              "    </tr>\n",
              "    <tr>\n",
              "      <th>Naypyitaw</th>\n",
              "      <td>699-14-3026</td>\n",
              "      <td>Normal</td>\n",
              "      <td>Male</td>\n",
              "      <td>Electronic accessories</td>\n",
              "      <td>85.39</td>\n",
              "      <td>7</td>\n",
              "      <td>29.8865</td>\n",
              "      <td>627.6165</td>\n",
              "      <td>3/25/2019</td>\n",
              "      <td>18:30</td>\n",
              "      <td>Ewallet</td>\n",
              "      <td>597.73</td>\n",
              "      <td>4.761905</td>\n",
              "      <td>29.8865</td>\n",
              "      <td>4.1</td>\n",
              "      <td>89.6595</td>\n",
              "    </tr>\n",
              "    <tr>\n",
              "      <th>Naypyitaw</th>\n",
              "      <td>315-22-5665</td>\n",
              "      <td>Normal</td>\n",
              "      <td>Female</td>\n",
              "      <td>Home and lifestyle</td>\n",
              "      <td>73.56</td>\n",
              "      <td>10</td>\n",
              "      <td>36.7800</td>\n",
              "      <td>772.3800</td>\n",
              "      <td>2/24/2019</td>\n",
              "      <td>11:38</td>\n",
              "      <td>Ewallet</td>\n",
              "      <td>735.60</td>\n",
              "      <td>4.761905</td>\n",
              "      <td>36.7800</td>\n",
              "      <td>8.0</td>\n",
              "      <td>77.2380</td>\n",
              "    </tr>\n",
              "    <tr>\n",
              "      <th>Naypyitaw</th>\n",
              "      <td>300-71-4605</td>\n",
              "      <td>Member</td>\n",
              "      <td>Male</td>\n",
              "      <td>Electronic accessories</td>\n",
              "      <td>86.04</td>\n",
              "      <td>5</td>\n",
              "      <td>21.5100</td>\n",
              "      <td>451.7100</td>\n",
              "      <td>2/25/2019</td>\n",
              "      <td>11:24</td>\n",
              "      <td>Ewallet</td>\n",
              "      <td>430.20</td>\n",
              "      <td>4.761905</td>\n",
              "      <td>21.5100</td>\n",
              "      <td>4.8</td>\n",
              "      <td>90.3420</td>\n",
              "    </tr>\n",
              "    <tr>\n",
              "      <th>Naypyitaw</th>\n",
              "      <td>183-56-6882</td>\n",
              "      <td>Member</td>\n",
              "      <td>Female</td>\n",
              "      <td>Food and beverages</td>\n",
              "      <td>99.42</td>\n",
              "      <td>4</td>\n",
              "      <td>19.8840</td>\n",
              "      <td>417.5640</td>\n",
              "      <td>2/6/2019</td>\n",
              "      <td>10:42</td>\n",
              "      <td>Ewallet</td>\n",
              "      <td>397.68</td>\n",
              "      <td>4.761905</td>\n",
              "      <td>19.8840</td>\n",
              "      <td>7.5</td>\n",
              "      <td>104.3910</td>\n",
              "    </tr>\n",
              "    <tr>\n",
              "      <th>...</th>\n",
              "      <th>...</th>\n",
              "      <td>...</td>\n",
              "      <td>...</td>\n",
              "      <td>...</td>\n",
              "      <td>...</td>\n",
              "      <td>...</td>\n",
              "      <td>...</td>\n",
              "      <td>...</td>\n",
              "      <td>...</td>\n",
              "      <td>...</td>\n",
              "      <td>...</td>\n",
              "      <td>...</td>\n",
              "      <td>...</td>\n",
              "      <td>...</td>\n",
              "      <td>...</td>\n",
              "      <td>...</td>\n",
              "      <td>...</td>\n",
              "    </tr>\n",
              "    <tr>\n",
              "      <th rowspan=\"5\" valign=\"top\">B</th>\n",
              "      <th>Mandalay</th>\n",
              "      <td>552-44-5977</td>\n",
              "      <td>Member</td>\n",
              "      <td>Male</td>\n",
              "      <td>Health and beauty</td>\n",
              "      <td>62.00</td>\n",
              "      <td>8</td>\n",
              "      <td>24.8000</td>\n",
              "      <td>520.8000</td>\n",
              "      <td>1/3/2019</td>\n",
              "      <td>19:08</td>\n",
              "      <td>Credit card</td>\n",
              "      <td>496.00</td>\n",
              "      <td>4.761905</td>\n",
              "      <td>24.8000</td>\n",
              "      <td>6.2</td>\n",
              "      <td>65.1000</td>\n",
              "    </tr>\n",
              "    <tr>\n",
              "      <th>Mandalay</th>\n",
              "      <td>430-53-4718</td>\n",
              "      <td>Member</td>\n",
              "      <td>Male</td>\n",
              "      <td>Health and beauty</td>\n",
              "      <td>75.37</td>\n",
              "      <td>8</td>\n",
              "      <td>30.1480</td>\n",
              "      <td>633.1080</td>\n",
              "      <td>1/28/2019</td>\n",
              "      <td>15:46</td>\n",
              "      <td>Credit card</td>\n",
              "      <td>602.96</td>\n",
              "      <td>4.761905</td>\n",
              "      <td>30.1480</td>\n",
              "      <td>8.4</td>\n",
              "      <td>79.1385</td>\n",
              "    </tr>\n",
              "    <tr>\n",
              "      <th>Mandalay</th>\n",
              "      <td>602-16-6955</td>\n",
              "      <td>Normal</td>\n",
              "      <td>Female</td>\n",
              "      <td>Sports and travel</td>\n",
              "      <td>76.60</td>\n",
              "      <td>10</td>\n",
              "      <td>38.3000</td>\n",
              "      <td>804.3000</td>\n",
              "      <td>1/24/2019</td>\n",
              "      <td>18:10</td>\n",
              "      <td>Ewallet</td>\n",
              "      <td>766.00</td>\n",
              "      <td>4.761905</td>\n",
              "      <td>38.3000</td>\n",
              "      <td>6.0</td>\n",
              "      <td>80.4300</td>\n",
              "    </tr>\n",
              "    <tr>\n",
              "      <th>Mandalay</th>\n",
              "      <td>690-01-6631</td>\n",
              "      <td>Normal</td>\n",
              "      <td>Male</td>\n",
              "      <td>Fashion accessories</td>\n",
              "      <td>17.49</td>\n",
              "      <td>10</td>\n",
              "      <td>8.7450</td>\n",
              "      <td>183.6450</td>\n",
              "      <td>2/22/2019</td>\n",
              "      <td>18:35</td>\n",
              "      <td>Ewallet</td>\n",
              "      <td>174.90</td>\n",
              "      <td>4.761905</td>\n",
              "      <td>8.7450</td>\n",
              "      <td>6.6</td>\n",
              "      <td>18.3645</td>\n",
              "    </tr>\n",
              "    <tr>\n",
              "      <th>Mandalay</th>\n",
              "      <td>303-96-2227</td>\n",
              "      <td>Normal</td>\n",
              "      <td>Female</td>\n",
              "      <td>Home and lifestyle</td>\n",
              "      <td>97.38</td>\n",
              "      <td>10</td>\n",
              "      <td>48.6900</td>\n",
              "      <td>1022.4900</td>\n",
              "      <td>3/2/2019</td>\n",
              "      <td>17:16</td>\n",
              "      <td>Ewallet</td>\n",
              "      <td>973.80</td>\n",
              "      <td>4.761905</td>\n",
              "      <td>48.6900</td>\n",
              "      <td>4.4</td>\n",
              "      <td>102.2490</td>\n",
              "    </tr>\n",
              "  </tbody>\n",
              "</table>\n",
              "<p>660 rows × 16 columns</p>\n",
              "</div>"
            ],
            "text/plain": [
              "                   Invoice ID Customer type  ... Rating    Ticket\n",
              "Branch City                                  ...                 \n",
              "C      Naypyitaw  226-31-3081        Normal  ...    9.6   16.0440\n",
              "       Naypyitaw  699-14-3026        Normal  ...    4.1   89.6595\n",
              "       Naypyitaw  315-22-5665        Normal  ...    8.0   77.2380\n",
              "       Naypyitaw  300-71-4605        Member  ...    4.8   90.3420\n",
              "       Naypyitaw  183-56-6882        Member  ...    7.5  104.3910\n",
              "...                       ...           ...  ...    ...       ...\n",
              "B      Mandalay   552-44-5977        Member  ...    6.2   65.1000\n",
              "       Mandalay   430-53-4718        Member  ...    8.4   79.1385\n",
              "       Mandalay   602-16-6955        Normal  ...    6.0   80.4300\n",
              "       Mandalay   690-01-6631        Normal  ...    6.6   18.3645\n",
              "       Mandalay   303-96-2227        Normal  ...    4.4  102.2490\n",
              "\n",
              "[660 rows x 16 columns]"
            ]
          },
          "metadata": {
            "tags": []
          },
          "execution_count": 80
        }
      ]
    },
    {
      "cell_type": "code",
      "metadata": {
        "colab": {
          "base_uri": "https://localhost:8080/"
        },
        "id": "fPza3KtUJ3QY",
        "outputId": "28c43435-0d3e-4c91-f555-9604536dcbfa"
      },
      "source": [
        "df_market_id3.loc[[(\"C\", \"Naypyitaw\"), (\"B\", \"Mandalay\")]]"
      ],
      "execution_count": null,
      "outputs": [
        {
          "output_type": "execute_result",
          "data": {
            "text/html": [
              "<div>\n",
              "<style scoped>\n",
              "    .dataframe tbody tr th:only-of-type {\n",
              "        vertical-align: middle;\n",
              "    }\n",
              "\n",
              "    .dataframe tbody tr th {\n",
              "        vertical-align: top;\n",
              "    }\n",
              "\n",
              "    .dataframe thead th {\n",
              "        text-align: right;\n",
              "    }\n",
              "</style>\n",
              "<table border=\"1\" class=\"dataframe\">\n",
              "  <thead>\n",
              "    <tr style=\"text-align: right;\">\n",
              "      <th></th>\n",
              "      <th></th>\n",
              "      <th>Invoice ID</th>\n",
              "      <th>Customer type</th>\n",
              "      <th>Gender</th>\n",
              "      <th>Product line</th>\n",
              "      <th>Unit price</th>\n",
              "      <th>Quantity</th>\n",
              "      <th>Tax 5%</th>\n",
              "      <th>Total</th>\n",
              "      <th>Date</th>\n",
              "      <th>Time</th>\n",
              "      <th>Payment</th>\n",
              "      <th>cogs</th>\n",
              "      <th>gross margin percentage</th>\n",
              "      <th>gross income</th>\n",
              "      <th>Rating</th>\n",
              "      <th>Ticket</th>\n",
              "    </tr>\n",
              "    <tr>\n",
              "      <th>Branch</th>\n",
              "      <th>City</th>\n",
              "      <th></th>\n",
              "      <th></th>\n",
              "      <th></th>\n",
              "      <th></th>\n",
              "      <th></th>\n",
              "      <th></th>\n",
              "      <th></th>\n",
              "      <th></th>\n",
              "      <th></th>\n",
              "      <th></th>\n",
              "      <th></th>\n",
              "      <th></th>\n",
              "      <th></th>\n",
              "      <th></th>\n",
              "      <th></th>\n",
              "      <th></th>\n",
              "    </tr>\n",
              "  </thead>\n",
              "  <tbody>\n",
              "    <tr>\n",
              "      <th rowspan=\"5\" valign=\"top\">C</th>\n",
              "      <th>Naypyitaw</th>\n",
              "      <td>226-31-3081</td>\n",
              "      <td>Normal</td>\n",
              "      <td>Female</td>\n",
              "      <td>Electronic accessories</td>\n",
              "      <td>15.28</td>\n",
              "      <td>5</td>\n",
              "      <td>3.8200</td>\n",
              "      <td>80.2200</td>\n",
              "      <td>3/8/2019</td>\n",
              "      <td>10:29</td>\n",
              "      <td>Cash</td>\n",
              "      <td>76.40</td>\n",
              "      <td>4.761905</td>\n",
              "      <td>3.8200</td>\n",
              "      <td>9.6</td>\n",
              "      <td>16.0440</td>\n",
              "    </tr>\n",
              "    <tr>\n",
              "      <th>Naypyitaw</th>\n",
              "      <td>699-14-3026</td>\n",
              "      <td>Normal</td>\n",
              "      <td>Male</td>\n",
              "      <td>Electronic accessories</td>\n",
              "      <td>85.39</td>\n",
              "      <td>7</td>\n",
              "      <td>29.8865</td>\n",
              "      <td>627.6165</td>\n",
              "      <td>3/25/2019</td>\n",
              "      <td>18:30</td>\n",
              "      <td>Ewallet</td>\n",
              "      <td>597.73</td>\n",
              "      <td>4.761905</td>\n",
              "      <td>29.8865</td>\n",
              "      <td>4.1</td>\n",
              "      <td>89.6595</td>\n",
              "    </tr>\n",
              "    <tr>\n",
              "      <th>Naypyitaw</th>\n",
              "      <td>315-22-5665</td>\n",
              "      <td>Normal</td>\n",
              "      <td>Female</td>\n",
              "      <td>Home and lifestyle</td>\n",
              "      <td>73.56</td>\n",
              "      <td>10</td>\n",
              "      <td>36.7800</td>\n",
              "      <td>772.3800</td>\n",
              "      <td>2/24/2019</td>\n",
              "      <td>11:38</td>\n",
              "      <td>Ewallet</td>\n",
              "      <td>735.60</td>\n",
              "      <td>4.761905</td>\n",
              "      <td>36.7800</td>\n",
              "      <td>8.0</td>\n",
              "      <td>77.2380</td>\n",
              "    </tr>\n",
              "    <tr>\n",
              "      <th>Naypyitaw</th>\n",
              "      <td>300-71-4605</td>\n",
              "      <td>Member</td>\n",
              "      <td>Male</td>\n",
              "      <td>Electronic accessories</td>\n",
              "      <td>86.04</td>\n",
              "      <td>5</td>\n",
              "      <td>21.5100</td>\n",
              "      <td>451.7100</td>\n",
              "      <td>2/25/2019</td>\n",
              "      <td>11:24</td>\n",
              "      <td>Ewallet</td>\n",
              "      <td>430.20</td>\n",
              "      <td>4.761905</td>\n",
              "      <td>21.5100</td>\n",
              "      <td>4.8</td>\n",
              "      <td>90.3420</td>\n",
              "    </tr>\n",
              "    <tr>\n",
              "      <th>Naypyitaw</th>\n",
              "      <td>183-56-6882</td>\n",
              "      <td>Member</td>\n",
              "      <td>Female</td>\n",
              "      <td>Food and beverages</td>\n",
              "      <td>99.42</td>\n",
              "      <td>4</td>\n",
              "      <td>19.8840</td>\n",
              "      <td>417.5640</td>\n",
              "      <td>2/6/2019</td>\n",
              "      <td>10:42</td>\n",
              "      <td>Ewallet</td>\n",
              "      <td>397.68</td>\n",
              "      <td>4.761905</td>\n",
              "      <td>19.8840</td>\n",
              "      <td>7.5</td>\n",
              "      <td>104.3910</td>\n",
              "    </tr>\n",
              "    <tr>\n",
              "      <th>...</th>\n",
              "      <th>...</th>\n",
              "      <td>...</td>\n",
              "      <td>...</td>\n",
              "      <td>...</td>\n",
              "      <td>...</td>\n",
              "      <td>...</td>\n",
              "      <td>...</td>\n",
              "      <td>...</td>\n",
              "      <td>...</td>\n",
              "      <td>...</td>\n",
              "      <td>...</td>\n",
              "      <td>...</td>\n",
              "      <td>...</td>\n",
              "      <td>...</td>\n",
              "      <td>...</td>\n",
              "      <td>...</td>\n",
              "      <td>...</td>\n",
              "    </tr>\n",
              "    <tr>\n",
              "      <th rowspan=\"5\" valign=\"top\">B</th>\n",
              "      <th>Mandalay</th>\n",
              "      <td>552-44-5977</td>\n",
              "      <td>Member</td>\n",
              "      <td>Male</td>\n",
              "      <td>Health and beauty</td>\n",
              "      <td>62.00</td>\n",
              "      <td>8</td>\n",
              "      <td>24.8000</td>\n",
              "      <td>520.8000</td>\n",
              "      <td>1/3/2019</td>\n",
              "      <td>19:08</td>\n",
              "      <td>Credit card</td>\n",
              "      <td>496.00</td>\n",
              "      <td>4.761905</td>\n",
              "      <td>24.8000</td>\n",
              "      <td>6.2</td>\n",
              "      <td>65.1000</td>\n",
              "    </tr>\n",
              "    <tr>\n",
              "      <th>Mandalay</th>\n",
              "      <td>430-53-4718</td>\n",
              "      <td>Member</td>\n",
              "      <td>Male</td>\n",
              "      <td>Health and beauty</td>\n",
              "      <td>75.37</td>\n",
              "      <td>8</td>\n",
              "      <td>30.1480</td>\n",
              "      <td>633.1080</td>\n",
              "      <td>1/28/2019</td>\n",
              "      <td>15:46</td>\n",
              "      <td>Credit card</td>\n",
              "      <td>602.96</td>\n",
              "      <td>4.761905</td>\n",
              "      <td>30.1480</td>\n",
              "      <td>8.4</td>\n",
              "      <td>79.1385</td>\n",
              "    </tr>\n",
              "    <tr>\n",
              "      <th>Mandalay</th>\n",
              "      <td>602-16-6955</td>\n",
              "      <td>Normal</td>\n",
              "      <td>Female</td>\n",
              "      <td>Sports and travel</td>\n",
              "      <td>76.60</td>\n",
              "      <td>10</td>\n",
              "      <td>38.3000</td>\n",
              "      <td>804.3000</td>\n",
              "      <td>1/24/2019</td>\n",
              "      <td>18:10</td>\n",
              "      <td>Ewallet</td>\n",
              "      <td>766.00</td>\n",
              "      <td>4.761905</td>\n",
              "      <td>38.3000</td>\n",
              "      <td>6.0</td>\n",
              "      <td>80.4300</td>\n",
              "    </tr>\n",
              "    <tr>\n",
              "      <th>Mandalay</th>\n",
              "      <td>690-01-6631</td>\n",
              "      <td>Normal</td>\n",
              "      <td>Male</td>\n",
              "      <td>Fashion accessories</td>\n",
              "      <td>17.49</td>\n",
              "      <td>10</td>\n",
              "      <td>8.7450</td>\n",
              "      <td>183.6450</td>\n",
              "      <td>2/22/2019</td>\n",
              "      <td>18:35</td>\n",
              "      <td>Ewallet</td>\n",
              "      <td>174.90</td>\n",
              "      <td>4.761905</td>\n",
              "      <td>8.7450</td>\n",
              "      <td>6.6</td>\n",
              "      <td>18.3645</td>\n",
              "    </tr>\n",
              "    <tr>\n",
              "      <th>Mandalay</th>\n",
              "      <td>303-96-2227</td>\n",
              "      <td>Normal</td>\n",
              "      <td>Female</td>\n",
              "      <td>Home and lifestyle</td>\n",
              "      <td>97.38</td>\n",
              "      <td>10</td>\n",
              "      <td>48.6900</td>\n",
              "      <td>1022.4900</td>\n",
              "      <td>3/2/2019</td>\n",
              "      <td>17:16</td>\n",
              "      <td>Ewallet</td>\n",
              "      <td>973.80</td>\n",
              "      <td>4.761905</td>\n",
              "      <td>48.6900</td>\n",
              "      <td>4.4</td>\n",
              "      <td>102.2490</td>\n",
              "    </tr>\n",
              "  </tbody>\n",
              "</table>\n",
              "<p>660 rows × 16 columns</p>\n",
              "</div>"
            ],
            "text/plain": [
              "                   Invoice ID Customer type  ... Rating    Ticket\n",
              "Branch City                                  ...                 \n",
              "C      Naypyitaw  226-31-3081        Normal  ...    9.6   16.0440\n",
              "       Naypyitaw  699-14-3026        Normal  ...    4.1   89.6595\n",
              "       Naypyitaw  315-22-5665        Normal  ...    8.0   77.2380\n",
              "       Naypyitaw  300-71-4605        Member  ...    4.8   90.3420\n",
              "       Naypyitaw  183-56-6882        Member  ...    7.5  104.3910\n",
              "...                       ...           ...  ...    ...       ...\n",
              "B      Mandalay   552-44-5977        Member  ...    6.2   65.1000\n",
              "       Mandalay   430-53-4718        Member  ...    8.4   79.1385\n",
              "       Mandalay   602-16-6955        Normal  ...    6.0   80.4300\n",
              "       Mandalay   690-01-6631        Normal  ...    6.6   18.3645\n",
              "       Mandalay   303-96-2227        Normal  ...    4.4  102.2490\n",
              "\n",
              "[660 rows x 16 columns]"
            ]
          },
          "metadata": {
            "tags": []
          },
          "execution_count": 81
        }
      ]
    },
    {
      "cell_type": "code",
      "metadata": {
        "colab": {
          "base_uri": "https://localhost:8080/"
        },
        "id": "ut8AyeP8KM6q",
        "outputId": "24c7345c-3459-4ebb-c1da-5d707109ab0a"
      },
      "source": [
        "# Ordenação pelo índice\n",
        "df_market_id3.sort_index()"
      ],
      "execution_count": null,
      "outputs": [
        {
          "output_type": "execute_result",
          "data": {
            "text/html": [
              "<div>\n",
              "<style scoped>\n",
              "    .dataframe tbody tr th:only-of-type {\n",
              "        vertical-align: middle;\n",
              "    }\n",
              "\n",
              "    .dataframe tbody tr th {\n",
              "        vertical-align: top;\n",
              "    }\n",
              "\n",
              "    .dataframe thead th {\n",
              "        text-align: right;\n",
              "    }\n",
              "</style>\n",
              "<table border=\"1\" class=\"dataframe\">\n",
              "  <thead>\n",
              "    <tr style=\"text-align: right;\">\n",
              "      <th></th>\n",
              "      <th></th>\n",
              "      <th>Invoice ID</th>\n",
              "      <th>Customer type</th>\n",
              "      <th>Gender</th>\n",
              "      <th>Product line</th>\n",
              "      <th>Unit price</th>\n",
              "      <th>Quantity</th>\n",
              "      <th>Tax 5%</th>\n",
              "      <th>Total</th>\n",
              "      <th>Date</th>\n",
              "      <th>Time</th>\n",
              "      <th>Payment</th>\n",
              "      <th>cogs</th>\n",
              "      <th>gross margin percentage</th>\n",
              "      <th>gross income</th>\n",
              "      <th>Rating</th>\n",
              "      <th>Ticket</th>\n",
              "    </tr>\n",
              "    <tr>\n",
              "      <th>Branch</th>\n",
              "      <th>City</th>\n",
              "      <th></th>\n",
              "      <th></th>\n",
              "      <th></th>\n",
              "      <th></th>\n",
              "      <th></th>\n",
              "      <th></th>\n",
              "      <th></th>\n",
              "      <th></th>\n",
              "      <th></th>\n",
              "      <th></th>\n",
              "      <th></th>\n",
              "      <th></th>\n",
              "      <th></th>\n",
              "      <th></th>\n",
              "      <th></th>\n",
              "      <th></th>\n",
              "    </tr>\n",
              "  </thead>\n",
              "  <tbody>\n",
              "    <tr>\n",
              "      <th rowspan=\"5\" valign=\"top\">A</th>\n",
              "      <th>Yangon</th>\n",
              "      <td>750-67-8428</td>\n",
              "      <td>Member</td>\n",
              "      <td>Female</td>\n",
              "      <td>Health and beauty</td>\n",
              "      <td>74.69</td>\n",
              "      <td>7</td>\n",
              "      <td>26.1415</td>\n",
              "      <td>548.9715</td>\n",
              "      <td>1/5/2019</td>\n",
              "      <td>13:08</td>\n",
              "      <td>Ewallet</td>\n",
              "      <td>522.83</td>\n",
              "      <td>4.761905</td>\n",
              "      <td>26.1415</td>\n",
              "      <td>9.1</td>\n",
              "      <td>78.4245</td>\n",
              "    </tr>\n",
              "    <tr>\n",
              "      <th>Yangon</th>\n",
              "      <td>631-41-3108</td>\n",
              "      <td>Normal</td>\n",
              "      <td>Male</td>\n",
              "      <td>Home and lifestyle</td>\n",
              "      <td>46.33</td>\n",
              "      <td>7</td>\n",
              "      <td>16.2155</td>\n",
              "      <td>340.5255</td>\n",
              "      <td>3/3/2019</td>\n",
              "      <td>13:23</td>\n",
              "      <td>Credit card</td>\n",
              "      <td>324.31</td>\n",
              "      <td>4.761905</td>\n",
              "      <td>16.2155</td>\n",
              "      <td>7.4</td>\n",
              "      <td>48.6465</td>\n",
              "    </tr>\n",
              "    <tr>\n",
              "      <th>Yangon</th>\n",
              "      <td>123-19-1176</td>\n",
              "      <td>Member</td>\n",
              "      <td>Male</td>\n",
              "      <td>Health and beauty</td>\n",
              "      <td>58.22</td>\n",
              "      <td>8</td>\n",
              "      <td>23.2880</td>\n",
              "      <td>489.0480</td>\n",
              "      <td>1/27/2019</td>\n",
              "      <td>20:33</td>\n",
              "      <td>Ewallet</td>\n",
              "      <td>465.76</td>\n",
              "      <td>4.761905</td>\n",
              "      <td>23.2880</td>\n",
              "      <td>8.4</td>\n",
              "      <td>61.1310</td>\n",
              "    </tr>\n",
              "    <tr>\n",
              "      <th>Yangon</th>\n",
              "      <td>373-73-7910</td>\n",
              "      <td>Normal</td>\n",
              "      <td>Male</td>\n",
              "      <td>Sports and travel</td>\n",
              "      <td>86.31</td>\n",
              "      <td>7</td>\n",
              "      <td>30.2085</td>\n",
              "      <td>634.3785</td>\n",
              "      <td>2/8/2019</td>\n",
              "      <td>10:37</td>\n",
              "      <td>Ewallet</td>\n",
              "      <td>604.17</td>\n",
              "      <td>4.761905</td>\n",
              "      <td>30.2085</td>\n",
              "      <td>5.3</td>\n",
              "      <td>90.6255</td>\n",
              "    </tr>\n",
              "    <tr>\n",
              "      <th>Yangon</th>\n",
              "      <td>355-53-5943</td>\n",
              "      <td>Member</td>\n",
              "      <td>Female</td>\n",
              "      <td>Electronic accessories</td>\n",
              "      <td>68.84</td>\n",
              "      <td>6</td>\n",
              "      <td>20.6520</td>\n",
              "      <td>433.6920</td>\n",
              "      <td>2/25/2019</td>\n",
              "      <td>14:36</td>\n",
              "      <td>Ewallet</td>\n",
              "      <td>413.04</td>\n",
              "      <td>4.761905</td>\n",
              "      <td>20.6520</td>\n",
              "      <td>5.8</td>\n",
              "      <td>72.2820</td>\n",
              "    </tr>\n",
              "    <tr>\n",
              "      <th>...</th>\n",
              "      <th>...</th>\n",
              "      <td>...</td>\n",
              "      <td>...</td>\n",
              "      <td>...</td>\n",
              "      <td>...</td>\n",
              "      <td>...</td>\n",
              "      <td>...</td>\n",
              "      <td>...</td>\n",
              "      <td>...</td>\n",
              "      <td>...</td>\n",
              "      <td>...</td>\n",
              "      <td>...</td>\n",
              "      <td>...</td>\n",
              "      <td>...</td>\n",
              "      <td>...</td>\n",
              "      <td>...</td>\n",
              "      <td>...</td>\n",
              "    </tr>\n",
              "    <tr>\n",
              "      <th rowspan=\"5\" valign=\"top\">C</th>\n",
              "      <th>Naypyitaw</th>\n",
              "      <td>148-41-7930</td>\n",
              "      <td>Normal</td>\n",
              "      <td>Male</td>\n",
              "      <td>Health and beauty</td>\n",
              "      <td>99.96</td>\n",
              "      <td>7</td>\n",
              "      <td>34.9860</td>\n",
              "      <td>734.7060</td>\n",
              "      <td>1/23/2019</td>\n",
              "      <td>10:33</td>\n",
              "      <td>Cash</td>\n",
              "      <td>699.72</td>\n",
              "      <td>4.761905</td>\n",
              "      <td>34.9860</td>\n",
              "      <td>6.1</td>\n",
              "      <td>104.9580</td>\n",
              "    </tr>\n",
              "    <tr>\n",
              "      <th>Naypyitaw</th>\n",
              "      <td>189-40-5216</td>\n",
              "      <td>Normal</td>\n",
              "      <td>Male</td>\n",
              "      <td>Electronic accessories</td>\n",
              "      <td>96.37</td>\n",
              "      <td>7</td>\n",
              "      <td>33.7295</td>\n",
              "      <td>708.3195</td>\n",
              "      <td>1/9/2019</td>\n",
              "      <td>11:40</td>\n",
              "      <td>Cash</td>\n",
              "      <td>674.59</td>\n",
              "      <td>4.761905</td>\n",
              "      <td>33.7295</td>\n",
              "      <td>6.0</td>\n",
              "      <td>101.1885</td>\n",
              "    </tr>\n",
              "    <tr>\n",
              "      <th>Naypyitaw</th>\n",
              "      <td>267-62-7380</td>\n",
              "      <td>Member</td>\n",
              "      <td>Male</td>\n",
              "      <td>Electronic accessories</td>\n",
              "      <td>82.34</td>\n",
              "      <td>10</td>\n",
              "      <td>41.1700</td>\n",
              "      <td>864.5700</td>\n",
              "      <td>3/29/2019</td>\n",
              "      <td>19:12</td>\n",
              "      <td>Ewallet</td>\n",
              "      <td>823.40</td>\n",
              "      <td>4.761905</td>\n",
              "      <td>41.1700</td>\n",
              "      <td>4.3</td>\n",
              "      <td>86.4570</td>\n",
              "    </tr>\n",
              "    <tr>\n",
              "      <th>Naypyitaw</th>\n",
              "      <td>652-49-6720</td>\n",
              "      <td>Member</td>\n",
              "      <td>Female</td>\n",
              "      <td>Electronic accessories</td>\n",
              "      <td>60.95</td>\n",
              "      <td>1</td>\n",
              "      <td>3.0475</td>\n",
              "      <td>63.9975</td>\n",
              "      <td>2/18/2019</td>\n",
              "      <td>11:40</td>\n",
              "      <td>Ewallet</td>\n",
              "      <td>60.95</td>\n",
              "      <td>4.761905</td>\n",
              "      <td>3.0475</td>\n",
              "      <td>5.9</td>\n",
              "      <td>63.9975</td>\n",
              "    </tr>\n",
              "    <tr>\n",
              "      <th>Naypyitaw</th>\n",
              "      <td>233-67-5758</td>\n",
              "      <td>Normal</td>\n",
              "      <td>Male</td>\n",
              "      <td>Health and beauty</td>\n",
              "      <td>40.35</td>\n",
              "      <td>1</td>\n",
              "      <td>2.0175</td>\n",
              "      <td>42.3675</td>\n",
              "      <td>1/29/2019</td>\n",
              "      <td>13:46</td>\n",
              "      <td>Ewallet</td>\n",
              "      <td>40.35</td>\n",
              "      <td>4.761905</td>\n",
              "      <td>2.0175</td>\n",
              "      <td>6.2</td>\n",
              "      <td>42.3675</td>\n",
              "    </tr>\n",
              "  </tbody>\n",
              "</table>\n",
              "<p>1000 rows × 16 columns</p>\n",
              "</div>"
            ],
            "text/plain": [
              "                   Invoice ID Customer type  ... Rating    Ticket\n",
              "Branch City                                  ...                 \n",
              "A      Yangon     750-67-8428        Member  ...    9.1   78.4245\n",
              "       Yangon     631-41-3108        Normal  ...    7.4   48.6465\n",
              "       Yangon     123-19-1176        Member  ...    8.4   61.1310\n",
              "       Yangon     373-73-7910        Normal  ...    5.3   90.6255\n",
              "       Yangon     355-53-5943        Member  ...    5.8   72.2820\n",
              "...                       ...           ...  ...    ...       ...\n",
              "C      Naypyitaw  148-41-7930        Normal  ...    6.1  104.9580\n",
              "       Naypyitaw  189-40-5216        Normal  ...    6.0  101.1885\n",
              "       Naypyitaw  267-62-7380        Member  ...    4.3   86.4570\n",
              "       Naypyitaw  652-49-6720        Member  ...    5.9   63.9975\n",
              "       Naypyitaw  233-67-5758        Normal  ...    6.2   42.3675\n",
              "\n",
              "[1000 rows x 16 columns]"
            ]
          },
          "metadata": {
            "tags": []
          },
          "execution_count": 82
        }
      ]
    },
    {
      "cell_type": "code",
      "metadata": {
        "colab": {
          "base_uri": "https://localhost:8080/"
        },
        "id": "sLMi2Ok9LXdr",
        "outputId": "2ff071cf-61aa-43d7-d906-bc160de10dca"
      },
      "source": [
        "df_market_id3.sort_index(level=[\"Branch\", \"City\"], ascending=[False,True])"
      ],
      "execution_count": null,
      "outputs": [
        {
          "output_type": "execute_result",
          "data": {
            "text/html": [
              "<div>\n",
              "<style scoped>\n",
              "    .dataframe tbody tr th:only-of-type {\n",
              "        vertical-align: middle;\n",
              "    }\n",
              "\n",
              "    .dataframe tbody tr th {\n",
              "        vertical-align: top;\n",
              "    }\n",
              "\n",
              "    .dataframe thead th {\n",
              "        text-align: right;\n",
              "    }\n",
              "</style>\n",
              "<table border=\"1\" class=\"dataframe\">\n",
              "  <thead>\n",
              "    <tr style=\"text-align: right;\">\n",
              "      <th></th>\n",
              "      <th></th>\n",
              "      <th>Invoice ID</th>\n",
              "      <th>Customer type</th>\n",
              "      <th>Gender</th>\n",
              "      <th>Product line</th>\n",
              "      <th>Unit price</th>\n",
              "      <th>Quantity</th>\n",
              "      <th>Tax 5%</th>\n",
              "      <th>Total</th>\n",
              "      <th>Date</th>\n",
              "      <th>Time</th>\n",
              "      <th>Payment</th>\n",
              "      <th>cogs</th>\n",
              "      <th>gross margin percentage</th>\n",
              "      <th>gross income</th>\n",
              "      <th>Rating</th>\n",
              "      <th>Ticket</th>\n",
              "    </tr>\n",
              "    <tr>\n",
              "      <th>Branch</th>\n",
              "      <th>City</th>\n",
              "      <th></th>\n",
              "      <th></th>\n",
              "      <th></th>\n",
              "      <th></th>\n",
              "      <th></th>\n",
              "      <th></th>\n",
              "      <th></th>\n",
              "      <th></th>\n",
              "      <th></th>\n",
              "      <th></th>\n",
              "      <th></th>\n",
              "      <th></th>\n",
              "      <th></th>\n",
              "      <th></th>\n",
              "      <th></th>\n",
              "      <th></th>\n",
              "    </tr>\n",
              "  </thead>\n",
              "  <tbody>\n",
              "    <tr>\n",
              "      <th rowspan=\"5\" valign=\"top\">C</th>\n",
              "      <th>Naypyitaw</th>\n",
              "      <td>226-31-3081</td>\n",
              "      <td>Normal</td>\n",
              "      <td>Female</td>\n",
              "      <td>Electronic accessories</td>\n",
              "      <td>15.28</td>\n",
              "      <td>5</td>\n",
              "      <td>3.8200</td>\n",
              "      <td>80.2200</td>\n",
              "      <td>3/8/2019</td>\n",
              "      <td>10:29</td>\n",
              "      <td>Cash</td>\n",
              "      <td>76.40</td>\n",
              "      <td>4.761905</td>\n",
              "      <td>3.8200</td>\n",
              "      <td>9.6</td>\n",
              "      <td>16.0440</td>\n",
              "    </tr>\n",
              "    <tr>\n",
              "      <th>Naypyitaw</th>\n",
              "      <td>699-14-3026</td>\n",
              "      <td>Normal</td>\n",
              "      <td>Male</td>\n",
              "      <td>Electronic accessories</td>\n",
              "      <td>85.39</td>\n",
              "      <td>7</td>\n",
              "      <td>29.8865</td>\n",
              "      <td>627.6165</td>\n",
              "      <td>3/25/2019</td>\n",
              "      <td>18:30</td>\n",
              "      <td>Ewallet</td>\n",
              "      <td>597.73</td>\n",
              "      <td>4.761905</td>\n",
              "      <td>29.8865</td>\n",
              "      <td>4.1</td>\n",
              "      <td>89.6595</td>\n",
              "    </tr>\n",
              "    <tr>\n",
              "      <th>Naypyitaw</th>\n",
              "      <td>315-22-5665</td>\n",
              "      <td>Normal</td>\n",
              "      <td>Female</td>\n",
              "      <td>Home and lifestyle</td>\n",
              "      <td>73.56</td>\n",
              "      <td>10</td>\n",
              "      <td>36.7800</td>\n",
              "      <td>772.3800</td>\n",
              "      <td>2/24/2019</td>\n",
              "      <td>11:38</td>\n",
              "      <td>Ewallet</td>\n",
              "      <td>735.60</td>\n",
              "      <td>4.761905</td>\n",
              "      <td>36.7800</td>\n",
              "      <td>8.0</td>\n",
              "      <td>77.2380</td>\n",
              "    </tr>\n",
              "    <tr>\n",
              "      <th>Naypyitaw</th>\n",
              "      <td>300-71-4605</td>\n",
              "      <td>Member</td>\n",
              "      <td>Male</td>\n",
              "      <td>Electronic accessories</td>\n",
              "      <td>86.04</td>\n",
              "      <td>5</td>\n",
              "      <td>21.5100</td>\n",
              "      <td>451.7100</td>\n",
              "      <td>2/25/2019</td>\n",
              "      <td>11:24</td>\n",
              "      <td>Ewallet</td>\n",
              "      <td>430.20</td>\n",
              "      <td>4.761905</td>\n",
              "      <td>21.5100</td>\n",
              "      <td>4.8</td>\n",
              "      <td>90.3420</td>\n",
              "    </tr>\n",
              "    <tr>\n",
              "      <th>Naypyitaw</th>\n",
              "      <td>183-56-6882</td>\n",
              "      <td>Member</td>\n",
              "      <td>Female</td>\n",
              "      <td>Food and beverages</td>\n",
              "      <td>99.42</td>\n",
              "      <td>4</td>\n",
              "      <td>19.8840</td>\n",
              "      <td>417.5640</td>\n",
              "      <td>2/6/2019</td>\n",
              "      <td>10:42</td>\n",
              "      <td>Ewallet</td>\n",
              "      <td>397.68</td>\n",
              "      <td>4.761905</td>\n",
              "      <td>19.8840</td>\n",
              "      <td>7.5</td>\n",
              "      <td>104.3910</td>\n",
              "    </tr>\n",
              "    <tr>\n",
              "      <th>...</th>\n",
              "      <th>...</th>\n",
              "      <td>...</td>\n",
              "      <td>...</td>\n",
              "      <td>...</td>\n",
              "      <td>...</td>\n",
              "      <td>...</td>\n",
              "      <td>...</td>\n",
              "      <td>...</td>\n",
              "      <td>...</td>\n",
              "      <td>...</td>\n",
              "      <td>...</td>\n",
              "      <td>...</td>\n",
              "      <td>...</td>\n",
              "      <td>...</td>\n",
              "      <td>...</td>\n",
              "      <td>...</td>\n",
              "      <td>...</td>\n",
              "    </tr>\n",
              "    <tr>\n",
              "      <th rowspan=\"5\" valign=\"top\">A</th>\n",
              "      <th>Yangon</th>\n",
              "      <td>886-18-2897</td>\n",
              "      <td>Normal</td>\n",
              "      <td>Female</td>\n",
              "      <td>Food and beverages</td>\n",
              "      <td>56.56</td>\n",
              "      <td>5</td>\n",
              "      <td>14.1400</td>\n",
              "      <td>296.9400</td>\n",
              "      <td>3/22/2019</td>\n",
              "      <td>19:06</td>\n",
              "      <td>Credit card</td>\n",
              "      <td>282.80</td>\n",
              "      <td>4.761905</td>\n",
              "      <td>14.1400</td>\n",
              "      <td>4.5</td>\n",
              "      <td>59.3880</td>\n",
              "    </tr>\n",
              "    <tr>\n",
              "      <th>Yangon</th>\n",
              "      <td>745-74-0715</td>\n",
              "      <td>Normal</td>\n",
              "      <td>Male</td>\n",
              "      <td>Electronic accessories</td>\n",
              "      <td>58.03</td>\n",
              "      <td>2</td>\n",
              "      <td>5.8030</td>\n",
              "      <td>121.8630</td>\n",
              "      <td>3/10/2019</td>\n",
              "      <td>20:46</td>\n",
              "      <td>Ewallet</td>\n",
              "      <td>116.06</td>\n",
              "      <td>4.761905</td>\n",
              "      <td>5.8030</td>\n",
              "      <td>8.8</td>\n",
              "      <td>60.9315</td>\n",
              "    </tr>\n",
              "    <tr>\n",
              "      <th>Yangon</th>\n",
              "      <td>727-02-1313</td>\n",
              "      <td>Member</td>\n",
              "      <td>Male</td>\n",
              "      <td>Food and beverages</td>\n",
              "      <td>31.84</td>\n",
              "      <td>1</td>\n",
              "      <td>1.5920</td>\n",
              "      <td>33.4320</td>\n",
              "      <td>2/9/2019</td>\n",
              "      <td>13:22</td>\n",
              "      <td>Cash</td>\n",
              "      <td>31.84</td>\n",
              "      <td>4.761905</td>\n",
              "      <td>1.5920</td>\n",
              "      <td>7.7</td>\n",
              "      <td>33.4320</td>\n",
              "    </tr>\n",
              "    <tr>\n",
              "      <th>Yangon</th>\n",
              "      <td>347-56-2442</td>\n",
              "      <td>Normal</td>\n",
              "      <td>Male</td>\n",
              "      <td>Home and lifestyle</td>\n",
              "      <td>65.82</td>\n",
              "      <td>1</td>\n",
              "      <td>3.2910</td>\n",
              "      <td>69.1110</td>\n",
              "      <td>2/22/2019</td>\n",
              "      <td>15:33</td>\n",
              "      <td>Cash</td>\n",
              "      <td>65.82</td>\n",
              "      <td>4.761905</td>\n",
              "      <td>3.2910</td>\n",
              "      <td>4.1</td>\n",
              "      <td>69.1110</td>\n",
              "    </tr>\n",
              "    <tr>\n",
              "      <th>Yangon</th>\n",
              "      <td>849-09-3807</td>\n",
              "      <td>Member</td>\n",
              "      <td>Female</td>\n",
              "      <td>Fashion accessories</td>\n",
              "      <td>88.34</td>\n",
              "      <td>7</td>\n",
              "      <td>30.9190</td>\n",
              "      <td>649.2990</td>\n",
              "      <td>2/18/2019</td>\n",
              "      <td>13:28</td>\n",
              "      <td>Cash</td>\n",
              "      <td>618.38</td>\n",
              "      <td>4.761905</td>\n",
              "      <td>30.9190</td>\n",
              "      <td>6.6</td>\n",
              "      <td>92.7570</td>\n",
              "    </tr>\n",
              "  </tbody>\n",
              "</table>\n",
              "<p>1000 rows × 16 columns</p>\n",
              "</div>"
            ],
            "text/plain": [
              "                   Invoice ID Customer type  ... Rating    Ticket\n",
              "Branch City                                  ...                 \n",
              "C      Naypyitaw  226-31-3081        Normal  ...    9.6   16.0440\n",
              "       Naypyitaw  699-14-3026        Normal  ...    4.1   89.6595\n",
              "       Naypyitaw  315-22-5665        Normal  ...    8.0   77.2380\n",
              "       Naypyitaw  300-71-4605        Member  ...    4.8   90.3420\n",
              "       Naypyitaw  183-56-6882        Member  ...    7.5  104.3910\n",
              "...                       ...           ...  ...    ...       ...\n",
              "A      Yangon     886-18-2897        Normal  ...    4.5   59.3880\n",
              "       Yangon     745-74-0715        Normal  ...    8.8   60.9315\n",
              "       Yangon     727-02-1313        Member  ...    7.7   33.4320\n",
              "       Yangon     347-56-2442        Normal  ...    4.1   69.1110\n",
              "       Yangon     849-09-3807        Member  ...    6.6   92.7570\n",
              "\n",
              "[1000 rows x 16 columns]"
            ]
          },
          "metadata": {
            "tags": []
          },
          "execution_count": 83
        }
      ]
    },
    {
      "cell_type": "markdown",
      "metadata": {
        "id": "riG7KDB8Jy4r"
      },
      "source": [
        "## Fatiar e subdividir com .loc e .iloc\n",
        "\n",
        "Fatiar é uma técnica para selecionar elementos consecutivos de objetos.\n",
        "\n",
        "Eles permitem selecionar um subconjunto de linhas e colunas de um DataFrame com uma notação semelhante àquela do NumPy, usando rótulos de eixo (loc) ou inteiros(iloc).\n",
        "\n",
        "dataframe = [linhas, colunas]"
      ]
    },
    {
      "cell_type": "code",
      "metadata": {
        "id": "PidupsMLO_w2"
      },
      "source": [
        "salesman = [\"Andy\", \"Brenda\", \"Call\", \"David\", \"Elton\", \"Fred\", \"Gordon\", \"Hill\"]"
      ],
      "execution_count": null,
      "outputs": []
    },
    {
      "cell_type": "code",
      "metadata": {
        "colab": {
          "base_uri": "https://localhost:8080/"
        },
        "id": "4Rs-E4l-QAvr",
        "outputId": "68f9c313-cb56-463f-d8a5-75f71cd41618"
      },
      "source": [
        "salesman[2:5]"
      ],
      "execution_count": null,
      "outputs": [
        {
          "output_type": "execute_result",
          "data": {
            "text/plain": [
              "['Call', 'David', 'Elton']"
            ]
          },
          "metadata": {
            "tags": []
          },
          "execution_count": 85
        }
      ]
    },
    {
      "cell_type": "code",
      "metadata": {
        "colab": {
          "base_uri": "https://localhost:8080/"
        },
        "id": "HM6dnZZSQI3m",
        "outputId": "74950f3b-0ea5-4c02-d645-e55c23504e2e"
      },
      "source": [
        "salesman[:3]"
      ],
      "execution_count": null,
      "outputs": [
        {
          "output_type": "execute_result",
          "data": {
            "text/plain": [
              "['Andy', 'Brenda', 'Call']"
            ]
          },
          "metadata": {
            "tags": []
          },
          "execution_count": 86
        }
      ]
    },
    {
      "cell_type": "code",
      "metadata": {
        "colab": {
          "base_uri": "https://localhost:8080/"
        },
        "id": "Cp_7nqoCQNBU",
        "outputId": "bcacb2ae-8d77-4b80-8550-170a8edc8d9d"
      },
      "source": [
        "salesman[:]"
      ],
      "execution_count": null,
      "outputs": [
        {
          "output_type": "execute_result",
          "data": {
            "text/plain": [
              "['Andy', 'Brenda', 'Call', 'David', 'Elton', 'Fred', 'Gordon', 'Hill']"
            ]
          },
          "metadata": {
            "tags": []
          },
          "execution_count": 87
        }
      ]
    },
    {
      "cell_type": "code",
      "metadata": {
        "colab": {
          "base_uri": "https://localhost:8080/"
        },
        "id": "1uxVMAYbQjBN",
        "outputId": "0edcd204-95e4-4951-b695-8bae2a9156b0"
      },
      "source": [
        "# Sem a referência, retorna somente as variáveis\n",
        "df_market.loc[\"D\":\"E\"]"
      ],
      "execution_count": null,
      "outputs": [
        {
          "output_type": "execute_result",
          "data": {
            "text/html": [
              "<div>\n",
              "<style scoped>\n",
              "    .dataframe tbody tr th:only-of-type {\n",
              "        vertical-align: middle;\n",
              "    }\n",
              "\n",
              "    .dataframe tbody tr th {\n",
              "        vertical-align: top;\n",
              "    }\n",
              "\n",
              "    .dataframe thead th {\n",
              "        text-align: right;\n",
              "    }\n",
              "</style>\n",
              "<table border=\"1\" class=\"dataframe\">\n",
              "  <thead>\n",
              "    <tr style=\"text-align: right;\">\n",
              "      <th></th>\n",
              "      <th>Invoice ID</th>\n",
              "      <th>Branch</th>\n",
              "      <th>City</th>\n",
              "      <th>Customer type</th>\n",
              "      <th>Gender</th>\n",
              "      <th>Product line</th>\n",
              "      <th>Unit price</th>\n",
              "      <th>Quantity</th>\n",
              "      <th>Tax 5%</th>\n",
              "      <th>Total</th>\n",
              "      <th>Date</th>\n",
              "      <th>Time</th>\n",
              "      <th>Payment</th>\n",
              "      <th>cogs</th>\n",
              "      <th>gross margin percentage</th>\n",
              "      <th>gross income</th>\n",
              "      <th>Rating</th>\n",
              "      <th>Ticket</th>\n",
              "    </tr>\n",
              "  </thead>\n",
              "  <tbody>\n",
              "  </tbody>\n",
              "</table>\n",
              "</div>"
            ],
            "text/plain": [
              "Empty DataFrame\n",
              "Columns: [Invoice ID, Branch, City, Customer type, Gender, Product line, Unit price, Quantity, Tax 5%, Total, Date, Time, Payment, cogs, gross margin percentage, gross income, Rating, Ticket]\n",
              "Index: []"
            ]
          },
          "metadata": {
            "tags": []
          },
          "execution_count": 88
        }
      ]
    },
    {
      "cell_type": "code",
      "metadata": {
        "colab": {
          "base_uri": "https://localhost:8080/"
        },
        "id": "Hx19tE7aRA-N",
        "outputId": "0bd94da7-2940-4024-bf28-8597428cd3be"
      },
      "source": [
        "# Slicing com colunas\n",
        "df_market.loc[:, \"City\":\"Product line\"]"
      ],
      "execution_count": null,
      "outputs": [
        {
          "output_type": "execute_result",
          "data": {
            "text/html": [
              "<div>\n",
              "<style scoped>\n",
              "    .dataframe tbody tr th:only-of-type {\n",
              "        vertical-align: middle;\n",
              "    }\n",
              "\n",
              "    .dataframe tbody tr th {\n",
              "        vertical-align: top;\n",
              "    }\n",
              "\n",
              "    .dataframe thead th {\n",
              "        text-align: right;\n",
              "    }\n",
              "</style>\n",
              "<table border=\"1\" class=\"dataframe\">\n",
              "  <thead>\n",
              "    <tr style=\"text-align: right;\">\n",
              "      <th></th>\n",
              "      <th>City</th>\n",
              "      <th>Customer type</th>\n",
              "      <th>Gender</th>\n",
              "      <th>Product line</th>\n",
              "    </tr>\n",
              "  </thead>\n",
              "  <tbody>\n",
              "    <tr>\n",
              "      <th>0</th>\n",
              "      <td>Yangon</td>\n",
              "      <td>Member</td>\n",
              "      <td>Female</td>\n",
              "      <td>Health and beauty</td>\n",
              "    </tr>\n",
              "    <tr>\n",
              "      <th>1</th>\n",
              "      <td>Naypyitaw</td>\n",
              "      <td>Normal</td>\n",
              "      <td>Female</td>\n",
              "      <td>Electronic accessories</td>\n",
              "    </tr>\n",
              "    <tr>\n",
              "      <th>2</th>\n",
              "      <td>Yangon</td>\n",
              "      <td>Normal</td>\n",
              "      <td>Male</td>\n",
              "      <td>Home and lifestyle</td>\n",
              "    </tr>\n",
              "    <tr>\n",
              "      <th>3</th>\n",
              "      <td>Yangon</td>\n",
              "      <td>Member</td>\n",
              "      <td>Male</td>\n",
              "      <td>Health and beauty</td>\n",
              "    </tr>\n",
              "    <tr>\n",
              "      <th>4</th>\n",
              "      <td>Yangon</td>\n",
              "      <td>Normal</td>\n",
              "      <td>Male</td>\n",
              "      <td>Sports and travel</td>\n",
              "    </tr>\n",
              "    <tr>\n",
              "      <th>...</th>\n",
              "      <td>...</td>\n",
              "      <td>...</td>\n",
              "      <td>...</td>\n",
              "      <td>...</td>\n",
              "    </tr>\n",
              "    <tr>\n",
              "      <th>995</th>\n",
              "      <td>Naypyitaw</td>\n",
              "      <td>Normal</td>\n",
              "      <td>Male</td>\n",
              "      <td>Health and beauty</td>\n",
              "    </tr>\n",
              "    <tr>\n",
              "      <th>996</th>\n",
              "      <td>Mandalay</td>\n",
              "      <td>Normal</td>\n",
              "      <td>Female</td>\n",
              "      <td>Home and lifestyle</td>\n",
              "    </tr>\n",
              "    <tr>\n",
              "      <th>997</th>\n",
              "      <td>Yangon</td>\n",
              "      <td>Member</td>\n",
              "      <td>Male</td>\n",
              "      <td>Food and beverages</td>\n",
              "    </tr>\n",
              "    <tr>\n",
              "      <th>998</th>\n",
              "      <td>Yangon</td>\n",
              "      <td>Normal</td>\n",
              "      <td>Male</td>\n",
              "      <td>Home and lifestyle</td>\n",
              "    </tr>\n",
              "    <tr>\n",
              "      <th>999</th>\n",
              "      <td>Yangon</td>\n",
              "      <td>Member</td>\n",
              "      <td>Female</td>\n",
              "      <td>Fashion accessories</td>\n",
              "    </tr>\n",
              "  </tbody>\n",
              "</table>\n",
              "<p>1000 rows × 4 columns</p>\n",
              "</div>"
            ],
            "text/plain": [
              "          City Customer type  Gender            Product line\n",
              "0       Yangon        Member  Female       Health and beauty\n",
              "1    Naypyitaw        Normal  Female  Electronic accessories\n",
              "2       Yangon        Normal    Male      Home and lifestyle\n",
              "3       Yangon        Member    Male       Health and beauty\n",
              "4       Yangon        Normal    Male       Sports and travel\n",
              "..         ...           ...     ...                     ...\n",
              "995  Naypyitaw        Normal    Male       Health and beauty\n",
              "996   Mandalay        Normal  Female      Home and lifestyle\n",
              "997     Yangon        Member    Male      Food and beverages\n",
              "998     Yangon        Normal    Male      Home and lifestyle\n",
              "999     Yangon        Member  Female     Fashion accessories\n",
              "\n",
              "[1000 rows x 4 columns]"
            ]
          },
          "metadata": {
            "tags": []
          },
          "execution_count": 89
        }
      ]
    },
    {
      "cell_type": "code",
      "metadata": {
        "id": "YRwbRUbzT94s"
      },
      "source": [
        "df_market=df_market.set_index(\"Invoice ID\").sort_index()"
      ],
      "execution_count": null,
      "outputs": []
    },
    {
      "cell_type": "code",
      "metadata": {
        "colab": {
          "base_uri": "https://localhost:8080/"
        },
        "id": "aDjJIER4UPJL",
        "outputId": "b56940fc-ee14-432d-f2b4-85f00ef04d55"
      },
      "source": [
        "df_market.head()"
      ],
      "execution_count": null,
      "outputs": [
        {
          "output_type": "execute_result",
          "data": {
            "text/html": [
              "<div>\n",
              "<style scoped>\n",
              "    .dataframe tbody tr th:only-of-type {\n",
              "        vertical-align: middle;\n",
              "    }\n",
              "\n",
              "    .dataframe tbody tr th {\n",
              "        vertical-align: top;\n",
              "    }\n",
              "\n",
              "    .dataframe thead th {\n",
              "        text-align: right;\n",
              "    }\n",
              "</style>\n",
              "<table border=\"1\" class=\"dataframe\">\n",
              "  <thead>\n",
              "    <tr style=\"text-align: right;\">\n",
              "      <th></th>\n",
              "      <th>Branch</th>\n",
              "      <th>City</th>\n",
              "      <th>Customer type</th>\n",
              "      <th>Gender</th>\n",
              "      <th>Product line</th>\n",
              "      <th>Unit price</th>\n",
              "      <th>Quantity</th>\n",
              "      <th>Tax 5%</th>\n",
              "      <th>Total</th>\n",
              "      <th>Date</th>\n",
              "      <th>Time</th>\n",
              "      <th>Payment</th>\n",
              "      <th>cogs</th>\n",
              "      <th>gross margin percentage</th>\n",
              "      <th>gross income</th>\n",
              "      <th>Rating</th>\n",
              "      <th>Ticket</th>\n",
              "    </tr>\n",
              "    <tr>\n",
              "      <th>Invoice ID</th>\n",
              "      <th></th>\n",
              "      <th></th>\n",
              "      <th></th>\n",
              "      <th></th>\n",
              "      <th></th>\n",
              "      <th></th>\n",
              "      <th></th>\n",
              "      <th></th>\n",
              "      <th></th>\n",
              "      <th></th>\n",
              "      <th></th>\n",
              "      <th></th>\n",
              "      <th></th>\n",
              "      <th></th>\n",
              "      <th></th>\n",
              "      <th></th>\n",
              "      <th></th>\n",
              "    </tr>\n",
              "  </thead>\n",
              "  <tbody>\n",
              "    <tr>\n",
              "      <th>101-17-6199</th>\n",
              "      <td>A</td>\n",
              "      <td>Yangon</td>\n",
              "      <td>Normal</td>\n",
              "      <td>Male</td>\n",
              "      <td>Food and beverages</td>\n",
              "      <td>45.79</td>\n",
              "      <td>7</td>\n",
              "      <td>16.0265</td>\n",
              "      <td>336.5565</td>\n",
              "      <td>3/13/2019</td>\n",
              "      <td>19:44</td>\n",
              "      <td>Credit card</td>\n",
              "      <td>320.53</td>\n",
              "      <td>4.761905</td>\n",
              "      <td>16.0265</td>\n",
              "      <td>7.0</td>\n",
              "      <td>48.0795</td>\n",
              "    </tr>\n",
              "    <tr>\n",
              "      <th>101-81-4070</th>\n",
              "      <td>C</td>\n",
              "      <td>Naypyitaw</td>\n",
              "      <td>Member</td>\n",
              "      <td>Female</td>\n",
              "      <td>Health and beauty</td>\n",
              "      <td>62.82</td>\n",
              "      <td>2</td>\n",
              "      <td>6.2820</td>\n",
              "      <td>131.9220</td>\n",
              "      <td>1/17/2019</td>\n",
              "      <td>12:36</td>\n",
              "      <td>Ewallet</td>\n",
              "      <td>125.64</td>\n",
              "      <td>4.761905</td>\n",
              "      <td>6.2820</td>\n",
              "      <td>4.9</td>\n",
              "      <td>65.9610</td>\n",
              "    </tr>\n",
              "    <tr>\n",
              "      <th>102-06-2002</th>\n",
              "      <td>C</td>\n",
              "      <td>Naypyitaw</td>\n",
              "      <td>Member</td>\n",
              "      <td>Male</td>\n",
              "      <td>Sports and travel</td>\n",
              "      <td>25.25</td>\n",
              "      <td>5</td>\n",
              "      <td>6.3125</td>\n",
              "      <td>132.5625</td>\n",
              "      <td>3/20/2019</td>\n",
              "      <td>17:52</td>\n",
              "      <td>Cash</td>\n",
              "      <td>126.25</td>\n",
              "      <td>4.761905</td>\n",
              "      <td>6.3125</td>\n",
              "      <td>6.1</td>\n",
              "      <td>26.5125</td>\n",
              "    </tr>\n",
              "    <tr>\n",
              "      <th>102-77-2261</th>\n",
              "      <td>C</td>\n",
              "      <td>Naypyitaw</td>\n",
              "      <td>Member</td>\n",
              "      <td>Male</td>\n",
              "      <td>Health and beauty</td>\n",
              "      <td>65.31</td>\n",
              "      <td>7</td>\n",
              "      <td>22.8585</td>\n",
              "      <td>480.0285</td>\n",
              "      <td>3/5/2019</td>\n",
              "      <td>18:02</td>\n",
              "      <td>Credit card</td>\n",
              "      <td>457.17</td>\n",
              "      <td>4.761905</td>\n",
              "      <td>22.8585</td>\n",
              "      <td>4.2</td>\n",
              "      <td>68.5755</td>\n",
              "    </tr>\n",
              "    <tr>\n",
              "      <th>105-10-6182</th>\n",
              "      <td>A</td>\n",
              "      <td>Yangon</td>\n",
              "      <td>Member</td>\n",
              "      <td>Male</td>\n",
              "      <td>Fashion accessories</td>\n",
              "      <td>21.48</td>\n",
              "      <td>2</td>\n",
              "      <td>2.1480</td>\n",
              "      <td>45.1080</td>\n",
              "      <td>2/27/2019</td>\n",
              "      <td>12:22</td>\n",
              "      <td>Ewallet</td>\n",
              "      <td>42.96</td>\n",
              "      <td>4.761905</td>\n",
              "      <td>2.1480</td>\n",
              "      <td>6.6</td>\n",
              "      <td>22.5540</td>\n",
              "    </tr>\n",
              "  </tbody>\n",
              "</table>\n",
              "</div>"
            ],
            "text/plain": [
              "            Branch       City Customer type  ... gross income Rating   Ticket\n",
              "Invoice ID                                   ...                             \n",
              "101-17-6199      A     Yangon        Normal  ...      16.0265    7.0  48.0795\n",
              "101-81-4070      C  Naypyitaw        Member  ...       6.2820    4.9  65.9610\n",
              "102-06-2002      C  Naypyitaw        Member  ...       6.3125    6.1  26.5125\n",
              "102-77-2261      C  Naypyitaw        Member  ...      22.8585    4.2  68.5755\n",
              "105-10-6182      A     Yangon        Member  ...       2.1480    6.6  22.5540\n",
              "\n",
              "[5 rows x 17 columns]"
            ]
          },
          "metadata": {
            "tags": []
          },
          "execution_count": 91
        }
      ]
    },
    {
      "cell_type": "code",
      "metadata": {
        "colab": {
          "base_uri": "https://localhost:8080/"
        },
        "id": "6F-yZ3TOWiYy",
        "outputId": "51b97854-d0c3-4d1b-89f0-9f6abf3e3bba"
      },
      "source": [
        "df_market2 = df_market.loc[:, \"Date\":\"Ticket\"]\n",
        "df_market2 = df_market2.set_index(\"Date\")\n",
        "df_market2"
      ],
      "execution_count": null,
      "outputs": [
        {
          "output_type": "execute_result",
          "data": {
            "text/html": [
              "<div>\n",
              "<style scoped>\n",
              "    .dataframe tbody tr th:only-of-type {\n",
              "        vertical-align: middle;\n",
              "    }\n",
              "\n",
              "    .dataframe tbody tr th {\n",
              "        vertical-align: top;\n",
              "    }\n",
              "\n",
              "    .dataframe thead th {\n",
              "        text-align: right;\n",
              "    }\n",
              "</style>\n",
              "<table border=\"1\" class=\"dataframe\">\n",
              "  <thead>\n",
              "    <tr style=\"text-align: right;\">\n",
              "      <th></th>\n",
              "      <th>Time</th>\n",
              "      <th>Payment</th>\n",
              "      <th>cogs</th>\n",
              "      <th>gross margin percentage</th>\n",
              "      <th>gross income</th>\n",
              "      <th>Rating</th>\n",
              "      <th>Ticket</th>\n",
              "    </tr>\n",
              "    <tr>\n",
              "      <th>Date</th>\n",
              "      <th></th>\n",
              "      <th></th>\n",
              "      <th></th>\n",
              "      <th></th>\n",
              "      <th></th>\n",
              "      <th></th>\n",
              "      <th></th>\n",
              "    </tr>\n",
              "  </thead>\n",
              "  <tbody>\n",
              "    <tr>\n",
              "      <th>3/13/2019</th>\n",
              "      <td>19:44</td>\n",
              "      <td>Credit card</td>\n",
              "      <td>320.53</td>\n",
              "      <td>4.761905</td>\n",
              "      <td>16.0265</td>\n",
              "      <td>7.0</td>\n",
              "      <td>48.0795</td>\n",
              "    </tr>\n",
              "    <tr>\n",
              "      <th>1/17/2019</th>\n",
              "      <td>12:36</td>\n",
              "      <td>Ewallet</td>\n",
              "      <td>125.64</td>\n",
              "      <td>4.761905</td>\n",
              "      <td>6.2820</td>\n",
              "      <td>4.9</td>\n",
              "      <td>65.9610</td>\n",
              "    </tr>\n",
              "    <tr>\n",
              "      <th>3/20/2019</th>\n",
              "      <td>17:52</td>\n",
              "      <td>Cash</td>\n",
              "      <td>126.25</td>\n",
              "      <td>4.761905</td>\n",
              "      <td>6.3125</td>\n",
              "      <td>6.1</td>\n",
              "      <td>26.5125</td>\n",
              "    </tr>\n",
              "    <tr>\n",
              "      <th>3/5/2019</th>\n",
              "      <td>18:02</td>\n",
              "      <td>Credit card</td>\n",
              "      <td>457.17</td>\n",
              "      <td>4.761905</td>\n",
              "      <td>22.8585</td>\n",
              "      <td>4.2</td>\n",
              "      <td>68.5755</td>\n",
              "    </tr>\n",
              "    <tr>\n",
              "      <th>2/27/2019</th>\n",
              "      <td>12:22</td>\n",
              "      <td>Ewallet</td>\n",
              "      <td>42.96</td>\n",
              "      <td>4.761905</td>\n",
              "      <td>2.1480</td>\n",
              "      <td>6.6</td>\n",
              "      <td>22.5540</td>\n",
              "    </tr>\n",
              "    <tr>\n",
              "      <th>...</th>\n",
              "      <td>...</td>\n",
              "      <td>...</td>\n",
              "      <td>...</td>\n",
              "      <td>...</td>\n",
              "      <td>...</td>\n",
              "      <td>...</td>\n",
              "      <td>...</td>\n",
              "    </tr>\n",
              "    <tr>\n",
              "      <th>1/19/2019</th>\n",
              "      <td>19:39</td>\n",
              "      <td>Credit card</td>\n",
              "      <td>345.44</td>\n",
              "      <td>4.761905</td>\n",
              "      <td>17.2720</td>\n",
              "      <td>8.3</td>\n",
              "      <td>45.3390</td>\n",
              "    </tr>\n",
              "    <tr>\n",
              "      <th>2/16/2019</th>\n",
              "      <td>10:52</td>\n",
              "      <td>Cash</td>\n",
              "      <td>328.59</td>\n",
              "      <td>4.761905</td>\n",
              "      <td>16.4295</td>\n",
              "      <td>4.2</td>\n",
              "      <td>38.3355</td>\n",
              "    </tr>\n",
              "    <tr>\n",
              "      <th>3/5/2019</th>\n",
              "      <td>19:46</td>\n",
              "      <td>Ewallet</td>\n",
              "      <td>54.24</td>\n",
              "      <td>4.761905</td>\n",
              "      <td>2.7120</td>\n",
              "      <td>8.0</td>\n",
              "      <td>18.9840</td>\n",
              "    </tr>\n",
              "    <tr>\n",
              "      <th>1/26/2019</th>\n",
              "      <td>12:43</td>\n",
              "      <td>Cash</td>\n",
              "      <td>21.32</td>\n",
              "      <td>4.761905</td>\n",
              "      <td>1.0660</td>\n",
              "      <td>5.9</td>\n",
              "      <td>22.3860</td>\n",
              "    </tr>\n",
              "    <tr>\n",
              "      <th>3/19/2019</th>\n",
              "      <td>15:49</td>\n",
              "      <td>Ewallet</td>\n",
              "      <td>687.60</td>\n",
              "      <td>4.761905</td>\n",
              "      <td>34.3800</td>\n",
              "      <td>7.5</td>\n",
              "      <td>80.2200</td>\n",
              "    </tr>\n",
              "  </tbody>\n",
              "</table>\n",
              "<p>1000 rows × 7 columns</p>\n",
              "</div>"
            ],
            "text/plain": [
              "            Time      Payment    cogs  ...  gross income  Rating   Ticket\n",
              "Date                                   ...                               \n",
              "3/13/2019  19:44  Credit card  320.53  ...       16.0265     7.0  48.0795\n",
              "1/17/2019  12:36      Ewallet  125.64  ...        6.2820     4.9  65.9610\n",
              "3/20/2019  17:52         Cash  126.25  ...        6.3125     6.1  26.5125\n",
              "3/5/2019   18:02  Credit card  457.17  ...       22.8585     4.2  68.5755\n",
              "2/27/2019  12:22      Ewallet   42.96  ...        2.1480     6.6  22.5540\n",
              "...          ...          ...     ...  ...           ...     ...      ...\n",
              "1/19/2019  19:39  Credit card  345.44  ...       17.2720     8.3  45.3390\n",
              "2/16/2019  10:52         Cash  328.59  ...       16.4295     4.2  38.3355\n",
              "3/5/2019   19:46      Ewallet   54.24  ...        2.7120     8.0  18.9840\n",
              "1/26/2019  12:43         Cash   21.32  ...        1.0660     5.9  22.3860\n",
              "3/19/2019  15:49      Ewallet  687.60  ...       34.3800     7.5  80.2200\n",
              "\n",
              "[1000 rows x 7 columns]"
            ]
          },
          "metadata": {
            "tags": []
          },
          "execution_count": 92
        }
      ]
    },
    {
      "cell_type": "code",
      "metadata": {
        "colab": {
          "base_uri": "https://localhost:8080/"
        },
        "id": "vhqJ8ozoUYIS",
        "outputId": "84503eac-07c8-4e95-d681-c0db781ffe91"
      },
      "source": [
        "# Slicing por posição\n",
        "df_market2.iloc[2:10, 1:5]"
      ],
      "execution_count": null,
      "outputs": [
        {
          "output_type": "execute_result",
          "data": {
            "text/html": [
              "<div>\n",
              "<style scoped>\n",
              "    .dataframe tbody tr th:only-of-type {\n",
              "        vertical-align: middle;\n",
              "    }\n",
              "\n",
              "    .dataframe tbody tr th {\n",
              "        vertical-align: top;\n",
              "    }\n",
              "\n",
              "    .dataframe thead th {\n",
              "        text-align: right;\n",
              "    }\n",
              "</style>\n",
              "<table border=\"1\" class=\"dataframe\">\n",
              "  <thead>\n",
              "    <tr style=\"text-align: right;\">\n",
              "      <th></th>\n",
              "      <th>Payment</th>\n",
              "      <th>cogs</th>\n",
              "      <th>gross margin percentage</th>\n",
              "      <th>gross income</th>\n",
              "    </tr>\n",
              "    <tr>\n",
              "      <th>Date</th>\n",
              "      <th></th>\n",
              "      <th></th>\n",
              "      <th></th>\n",
              "      <th></th>\n",
              "    </tr>\n",
              "  </thead>\n",
              "  <tbody>\n",
              "    <tr>\n",
              "      <th>3/20/2019</th>\n",
              "      <td>Cash</td>\n",
              "      <td>126.25</td>\n",
              "      <td>4.761905</td>\n",
              "      <td>6.3125</td>\n",
              "    </tr>\n",
              "    <tr>\n",
              "      <th>3/5/2019</th>\n",
              "      <td>Credit card</td>\n",
              "      <td>457.17</td>\n",
              "      <td>4.761905</td>\n",
              "      <td>22.8585</td>\n",
              "    </tr>\n",
              "    <tr>\n",
              "      <th>2/27/2019</th>\n",
              "      <td>Ewallet</td>\n",
              "      <td>42.96</td>\n",
              "      <td>4.761905</td>\n",
              "      <td>2.1480</td>\n",
              "    </tr>\n",
              "    <tr>\n",
              "      <th>2/1/2019</th>\n",
              "      <td>Credit card</td>\n",
              "      <td>486.64</td>\n",
              "      <td>4.761905</td>\n",
              "      <td>24.3320</td>\n",
              "    </tr>\n",
              "    <tr>\n",
              "      <th>3/27/2019</th>\n",
              "      <td>Cash</td>\n",
              "      <td>88.68</td>\n",
              "      <td>4.761905</td>\n",
              "      <td>4.4340</td>\n",
              "    </tr>\n",
              "    <tr>\n",
              "      <th>1/7/2019</th>\n",
              "      <td>Ewallet</td>\n",
              "      <td>585.66</td>\n",
              "      <td>4.761905</td>\n",
              "      <td>29.2830</td>\n",
              "    </tr>\n",
              "    <tr>\n",
              "      <th>2/14/2019</th>\n",
              "      <td>Credit card</td>\n",
              "      <td>420.56</td>\n",
              "      <td>4.761905</td>\n",
              "      <td>21.0280</td>\n",
              "    </tr>\n",
              "    <tr>\n",
              "      <th>3/25/2019</th>\n",
              "      <td>Credit card</td>\n",
              "      <td>236.58</td>\n",
              "      <td>4.761905</td>\n",
              "      <td>11.8290</td>\n",
              "    </tr>\n",
              "  </tbody>\n",
              "</table>\n",
              "</div>"
            ],
            "text/plain": [
              "               Payment    cogs  gross margin percentage  gross income\n",
              "Date                                                                 \n",
              "3/20/2019         Cash  126.25                 4.761905        6.3125\n",
              "3/5/2019   Credit card  457.17                 4.761905       22.8585\n",
              "2/27/2019      Ewallet   42.96                 4.761905        2.1480\n",
              "2/1/2019   Credit card  486.64                 4.761905       24.3320\n",
              "3/27/2019         Cash   88.68                 4.761905        4.4340\n",
              "1/7/2019       Ewallet  585.66                 4.761905       29.2830\n",
              "2/14/2019  Credit card  420.56                 4.761905       21.0280\n",
              "3/25/2019  Credit card  236.58                 4.761905       11.8290"
            ]
          },
          "metadata": {
            "tags": []
          },
          "execution_count": 93
        }
      ]
    },
    {
      "cell_type": "code",
      "metadata": {
        "colab": {
          "base_uri": "https://localhost:8080/"
        },
        "id": "fAnG7VHFVH0B",
        "outputId": "cce3338b-e910-46e5-bbdb-10efe5e65291"
      },
      "source": [
        "df_market.loc[\"2019\":\"2019\"]"
      ],
      "execution_count": null,
      "outputs": [
        {
          "output_type": "execute_result",
          "data": {
            "text/html": [
              "<div>\n",
              "<style scoped>\n",
              "    .dataframe tbody tr th:only-of-type {\n",
              "        vertical-align: middle;\n",
              "    }\n",
              "\n",
              "    .dataframe tbody tr th {\n",
              "        vertical-align: top;\n",
              "    }\n",
              "\n",
              "    .dataframe thead th {\n",
              "        text-align: right;\n",
              "    }\n",
              "</style>\n",
              "<table border=\"1\" class=\"dataframe\">\n",
              "  <thead>\n",
              "    <tr style=\"text-align: right;\">\n",
              "      <th></th>\n",
              "      <th>Branch</th>\n",
              "      <th>City</th>\n",
              "      <th>Customer type</th>\n",
              "      <th>Gender</th>\n",
              "      <th>Product line</th>\n",
              "      <th>Unit price</th>\n",
              "      <th>Quantity</th>\n",
              "      <th>Tax 5%</th>\n",
              "      <th>Total</th>\n",
              "      <th>Date</th>\n",
              "      <th>Time</th>\n",
              "      <th>Payment</th>\n",
              "      <th>cogs</th>\n",
              "      <th>gross margin percentage</th>\n",
              "      <th>gross income</th>\n",
              "      <th>Rating</th>\n",
              "      <th>Ticket</th>\n",
              "    </tr>\n",
              "    <tr>\n",
              "      <th>Invoice ID</th>\n",
              "      <th></th>\n",
              "      <th></th>\n",
              "      <th></th>\n",
              "      <th></th>\n",
              "      <th></th>\n",
              "      <th></th>\n",
              "      <th></th>\n",
              "      <th></th>\n",
              "      <th></th>\n",
              "      <th></th>\n",
              "      <th></th>\n",
              "      <th></th>\n",
              "      <th></th>\n",
              "      <th></th>\n",
              "      <th></th>\n",
              "      <th></th>\n",
              "      <th></th>\n",
              "    </tr>\n",
              "  </thead>\n",
              "  <tbody>\n",
              "  </tbody>\n",
              "</table>\n",
              "</div>"
            ],
            "text/plain": [
              "Empty DataFrame\n",
              "Columns: [Branch, City, Customer type, Gender, Product line, Unit price, Quantity, Tax 5%, Total, Date, Time, Payment, cogs, gross margin percentage, gross income, Rating, Ticket]\n",
              "Index: []"
            ]
          },
          "metadata": {
            "tags": []
          },
          "execution_count": 94
        }
      ]
    },
    {
      "cell_type": "code",
      "metadata": {
        "colab": {
          "base_uri": "https://localhost:8080/",
          "height": 370
        },
        "id": "ZMRBAVbmVibR",
        "outputId": "a4c0a534-4be2-407b-9d08-5d43afe94b18"
      },
      "source": [
        "df_market.iloc[50:60, 2:6]"
      ],
      "execution_count": null,
      "outputs": [
        {
          "output_type": "execute_result",
          "data": {
            "text/html": [
              "<div>\n",
              "<style scoped>\n",
              "    .dataframe tbody tr th:only-of-type {\n",
              "        vertical-align: middle;\n",
              "    }\n",
              "\n",
              "    .dataframe tbody tr th {\n",
              "        vertical-align: top;\n",
              "    }\n",
              "\n",
              "    .dataframe thead th {\n",
              "        text-align: right;\n",
              "    }\n",
              "</style>\n",
              "<table border=\"1\" class=\"dataframe\">\n",
              "  <thead>\n",
              "    <tr style=\"text-align: right;\">\n",
              "      <th></th>\n",
              "      <th>Customer type</th>\n",
              "      <th>Gender</th>\n",
              "      <th>Product line</th>\n",
              "      <th>Unit price</th>\n",
              "    </tr>\n",
              "    <tr>\n",
              "      <th>Invoice ID</th>\n",
              "      <th></th>\n",
              "      <th></th>\n",
              "      <th></th>\n",
              "      <th></th>\n",
              "    </tr>\n",
              "  </thead>\n",
              "  <tbody>\n",
              "    <tr>\n",
              "      <th>148-82-2527</th>\n",
              "      <td>Member</td>\n",
              "      <td>Female</td>\n",
              "      <td>Home and lifestyle</td>\n",
              "      <td>12.12</td>\n",
              "    </tr>\n",
              "    <tr>\n",
              "      <th>149-14-0304</th>\n",
              "      <td>Member</td>\n",
              "      <td>Female</td>\n",
              "      <td>Health and beauty</td>\n",
              "      <td>28.50</td>\n",
              "    </tr>\n",
              "    <tr>\n",
              "      <th>149-15-7606</th>\n",
              "      <td>Member</td>\n",
              "      <td>Male</td>\n",
              "      <td>Sports and travel</td>\n",
              "      <td>37.32</td>\n",
              "    </tr>\n",
              "    <tr>\n",
              "      <th>149-61-1929</th>\n",
              "      <td>Normal</td>\n",
              "      <td>Male</td>\n",
              "      <td>Sports and travel</td>\n",
              "      <td>64.19</td>\n",
              "    </tr>\n",
              "    <tr>\n",
              "      <th>149-71-6266</th>\n",
              "      <td>Member</td>\n",
              "      <td>Male</td>\n",
              "      <td>Sports and travel</td>\n",
              "      <td>78.07</td>\n",
              "    </tr>\n",
              "    <tr>\n",
              "      <th>150-89-8043</th>\n",
              "      <td>Normal</td>\n",
              "      <td>Male</td>\n",
              "      <td>Sports and travel</td>\n",
              "      <td>44.65</td>\n",
              "    </tr>\n",
              "    <tr>\n",
              "      <th>151-16-1484</th>\n",
              "      <td>Member</td>\n",
              "      <td>Male</td>\n",
              "      <td>Electronic accessories</td>\n",
              "      <td>32.25</td>\n",
              "    </tr>\n",
              "    <tr>\n",
              "      <th>151-27-8496</th>\n",
              "      <td>Normal</td>\n",
              "      <td>Female</td>\n",
              "      <td>Electronic accessories</td>\n",
              "      <td>56.13</td>\n",
              "    </tr>\n",
              "    <tr>\n",
              "      <th>151-33-7434</th>\n",
              "      <td>Normal</td>\n",
              "      <td>Female</td>\n",
              "      <td>Food and beverages</td>\n",
              "      <td>67.77</td>\n",
              "    </tr>\n",
              "    <tr>\n",
              "      <th>152-03-4217</th>\n",
              "      <td>Normal</td>\n",
              "      <td>Female</td>\n",
              "      <td>Home and lifestyle</td>\n",
              "      <td>11.28</td>\n",
              "    </tr>\n",
              "  </tbody>\n",
              "</table>\n",
              "</div>"
            ],
            "text/plain": [
              "            Customer type  Gender            Product line  Unit price\n",
              "Invoice ID                                                           \n",
              "148-82-2527        Member  Female      Home and lifestyle       12.12\n",
              "149-14-0304        Member  Female       Health and beauty       28.50\n",
              "149-15-7606        Member    Male       Sports and travel       37.32\n",
              "149-61-1929        Normal    Male       Sports and travel       64.19\n",
              "149-71-6266        Member    Male       Sports and travel       78.07\n",
              "150-89-8043        Normal    Male       Sports and travel       44.65\n",
              "151-16-1484        Member    Male  Electronic accessories       32.25\n",
              "151-27-8496        Normal  Female  Electronic accessories       56.13\n",
              "151-33-7434        Normal  Female      Food and beverages       67.77\n",
              "152-03-4217        Normal  Female      Home and lifestyle       11.28"
            ]
          },
          "metadata": {
            "tags": []
          },
          "execution_count": 95
        }
      ]
    },
    {
      "cell_type": "code",
      "metadata": {
        "colab": {
          "base_uri": "https://localhost:8080/",
          "height": 252
        },
        "id": "dsAbOMKcasma",
        "outputId": "5005050d-72ca-4675-82f4-51e73fbe107b"
      },
      "source": [
        "# Criar tabela dinamica com soma de valores \"Total\", linhas \"Product line\" e colunas de \"Customer type\"\n",
        "df_market_sum_sales = df_market.pivot_table(\"Total\", index=\"Product line\", columns=\"Customer type\")\n",
        "df_market_sum_sales"
      ],
      "execution_count": null,
      "outputs": [
        {
          "output_type": "execute_result",
          "data": {
            "text/html": [
              "<div>\n",
              "<style scoped>\n",
              "    .dataframe tbody tr th:only-of-type {\n",
              "        vertical-align: middle;\n",
              "    }\n",
              "\n",
              "    .dataframe tbody tr th {\n",
              "        vertical-align: top;\n",
              "    }\n",
              "\n",
              "    .dataframe thead th {\n",
              "        text-align: right;\n",
              "    }\n",
              "</style>\n",
              "<table border=\"1\" class=\"dataframe\">\n",
              "  <thead>\n",
              "    <tr style=\"text-align: right;\">\n",
              "      <th>Customer type</th>\n",
              "      <th>Member</th>\n",
              "      <th>Normal</th>\n",
              "    </tr>\n",
              "    <tr>\n",
              "      <th>Product line</th>\n",
              "      <th></th>\n",
              "      <th></th>\n",
              "    </tr>\n",
              "  </thead>\n",
              "  <tbody>\n",
              "    <tr>\n",
              "      <th>Electronic accessories</th>\n",
              "      <td>314.083269</td>\n",
              "      <td>324.337353</td>\n",
              "    </tr>\n",
              "    <tr>\n",
              "      <th>Fashion accessories</th>\n",
              "      <td>306.092581</td>\n",
              "      <td>304.151446</td>\n",
              "    </tr>\n",
              "    <tr>\n",
              "      <th>Food and beverages</th>\n",
              "      <td>333.591702</td>\n",
              "      <td>309.840300</td>\n",
              "    </tr>\n",
              "    <tr>\n",
              "      <th>Health and beauty</th>\n",
              "      <td>353.849856</td>\n",
              "      <td>295.730373</td>\n",
              "    </tr>\n",
              "    <tr>\n",
              "      <th>Home and lifestyle</th>\n",
              "      <td>337.084663</td>\n",
              "      <td>336.154364</td>\n",
              "    </tr>\n",
              "    <tr>\n",
              "      <th>Sports and travel</th>\n",
              "      <td>324.532190</td>\n",
              "      <td>340.361089</td>\n",
              "    </tr>\n",
              "  </tbody>\n",
              "</table>\n",
              "</div>"
            ],
            "text/plain": [
              "Customer type               Member      Normal\n",
              "Product line                                  \n",
              "Electronic accessories  314.083269  324.337353\n",
              "Fashion accessories     306.092581  304.151446\n",
              "Food and beverages      333.591702  309.840300\n",
              "Health and beauty       353.849856  295.730373\n",
              "Home and lifestyle      337.084663  336.154364\n",
              "Sports and travel       324.532190  340.361089"
            ]
          },
          "metadata": {
            "tags": []
          },
          "execution_count": 96
        }
      ]
    },
    {
      "cell_type": "code",
      "metadata": {
        "colab": {
          "base_uri": "https://localhost:8080/",
          "height": 164
        },
        "id": "PaYyaAY0beos",
        "outputId": "81e091a8-295b-4759-b1a6-a26bb1c3bfd4"
      },
      "source": [
        "# Use de .loc[] com slicing\n",
        "df_market_sum_sales.loc[\"Fashion accessories\": \"Health and beauty\" ]"
      ],
      "execution_count": null,
      "outputs": [
        {
          "output_type": "execute_result",
          "data": {
            "text/html": [
              "<div>\n",
              "<style scoped>\n",
              "    .dataframe tbody tr th:only-of-type {\n",
              "        vertical-align: middle;\n",
              "    }\n",
              "\n",
              "    .dataframe tbody tr th {\n",
              "        vertical-align: top;\n",
              "    }\n",
              "\n",
              "    .dataframe thead th {\n",
              "        text-align: right;\n",
              "    }\n",
              "</style>\n",
              "<table border=\"1\" class=\"dataframe\">\n",
              "  <thead>\n",
              "    <tr style=\"text-align: right;\">\n",
              "      <th>Customer type</th>\n",
              "      <th>Member</th>\n",
              "      <th>Normal</th>\n",
              "    </tr>\n",
              "    <tr>\n",
              "      <th>Product line</th>\n",
              "      <th></th>\n",
              "      <th></th>\n",
              "    </tr>\n",
              "  </thead>\n",
              "  <tbody>\n",
              "    <tr>\n",
              "      <th>Fashion accessories</th>\n",
              "      <td>306.092581</td>\n",
              "      <td>304.151446</td>\n",
              "    </tr>\n",
              "    <tr>\n",
              "      <th>Food and beverages</th>\n",
              "      <td>333.591702</td>\n",
              "      <td>309.840300</td>\n",
              "    </tr>\n",
              "    <tr>\n",
              "      <th>Health and beauty</th>\n",
              "      <td>353.849856</td>\n",
              "      <td>295.730373</td>\n",
              "    </tr>\n",
              "  </tbody>\n",
              "</table>\n",
              "</div>"
            ],
            "text/plain": [
              "Customer type            Member      Normal\n",
              "Product line                               \n",
              "Fashion accessories  306.092581  304.151446\n",
              "Food and beverages   333.591702  309.840300\n",
              "Health and beauty    353.849856  295.730373"
            ]
          },
          "metadata": {
            "tags": []
          },
          "execution_count": 97
        }
      ]
    },
    {
      "cell_type": "code",
      "metadata": {
        "colab": {
          "base_uri": "https://localhost:8080/"
        },
        "id": "nJrJuqkncA5a",
        "outputId": "79f6c1c4-b2a1-4984-ec43-deebb34bca49"
      },
      "source": [
        "# Usando eixo como refernecia para calcular estatísticas, \n",
        "#neste caso o index = Product line que aplicou-se .mean()\n",
        "\n",
        "df_market_sum_sales.mean(axis=\"index\")"
      ],
      "execution_count": null,
      "outputs": [
        {
          "output_type": "execute_result",
          "data": {
            "text/plain": [
              "Customer type\n",
              "Member    328.205710\n",
              "Normal    318.429154\n",
              "dtype: float64"
            ]
          },
          "metadata": {
            "tags": []
          },
          "execution_count": 98
        }
      ]
    },
    {
      "cell_type": "code",
      "metadata": {
        "colab": {
          "base_uri": "https://localhost:8080/"
        },
        "id": "H5lf_iAXcxbz",
        "outputId": "0bc98e86-0cdb-4cba-8e51-34ed6706cb98"
      },
      "source": [
        "# Usando eixo como refernecia para calcular estatísticas, \n",
        "#neste caso o columns = Customer type que aplicou-se .mean()\n",
        "\n",
        "df_market_sum_sales.mean(axis=\"columns\")"
      ],
      "execution_count": null,
      "outputs": [
        {
          "output_type": "execute_result",
          "data": {
            "text/plain": [
              "Product line\n",
              "Electronic accessories    319.210311\n",
              "Fashion accessories       305.122014\n",
              "Food and beverages        321.716001\n",
              "Health and beauty         324.790115\n",
              "Home and lifestyle        336.619513\n",
              "Sports and travel         332.446639\n",
              "dtype: float64"
            ]
          },
          "metadata": {
            "tags": []
          },
          "execution_count": 99
        }
      ]
    },
    {
      "cell_type": "markdown",
      "metadata": {
        "id": "-8NxKo0fKBkz"
      },
      "source": [
        "## Fatiar séries temporais (Slicing time series)"
      ]
    },
    {
      "cell_type": "markdown",
      "metadata": {
        "id": "QWkp9AYSHUOF"
      },
      "source": [
        "## Valores  ausentes - (missing)"
      ]
    },
    {
      "cell_type": "code",
      "metadata": {
        "colab": {
          "base_uri": "https://localhost:8080/",
          "height": 164
        },
        "id": "DxXlweGn3gFn",
        "outputId": "9dc8bc32-7817-42eb-990e-e884e9747a7d"
      },
      "source": [
        "# Criando uma lista por coluna\r\n",
        "lista = {\r\n",
        "    \"nome\": [\"João\", \"Maria\", \"Caio\", \"Gabriela\"],\r\n",
        "    \"sexo\": [\"H\", \"F\", \"M\", \"F\"], \r\n",
        "    \"produto\": [\"abacate\", \"mamão\", \"laranja\", \"laranja\"], \r\n",
        "    \"peso_kg\": [\"1.2\", \"2,5\", \"3.5\", np.nan], \r\n",
        "    \"valor_total\": [10.48, 22.5, 14.4, np.nan]\r\n",
        "}\r\n",
        "\r\n",
        "# Criando um novo dataframe\r\n",
        "df2 = pd.DataFrame(lista)\r\n",
        "df2"
      ],
      "execution_count": null,
      "outputs": [
        {
          "output_type": "execute_result",
          "data": {
            "text/html": [
              "<div>\n",
              "<style scoped>\n",
              "    .dataframe tbody tr th:only-of-type {\n",
              "        vertical-align: middle;\n",
              "    }\n",
              "\n",
              "    .dataframe tbody tr th {\n",
              "        vertical-align: top;\n",
              "    }\n",
              "\n",
              "    .dataframe thead th {\n",
              "        text-align: right;\n",
              "    }\n",
              "</style>\n",
              "<table border=\"1\" class=\"dataframe\">\n",
              "  <thead>\n",
              "    <tr style=\"text-align: right;\">\n",
              "      <th></th>\n",
              "      <th>nome</th>\n",
              "      <th>sexo</th>\n",
              "      <th>produto</th>\n",
              "      <th>peso_kg</th>\n",
              "      <th>valor_total</th>\n",
              "    </tr>\n",
              "  </thead>\n",
              "  <tbody>\n",
              "    <tr>\n",
              "      <th>0</th>\n",
              "      <td>João</td>\n",
              "      <td>H</td>\n",
              "      <td>abacate</td>\n",
              "      <td>1.2</td>\n",
              "      <td>10.48</td>\n",
              "    </tr>\n",
              "    <tr>\n",
              "      <th>1</th>\n",
              "      <td>Maria</td>\n",
              "      <td>F</td>\n",
              "      <td>mamão</td>\n",
              "      <td>2,5</td>\n",
              "      <td>22.50</td>\n",
              "    </tr>\n",
              "    <tr>\n",
              "      <th>2</th>\n",
              "      <td>Caio</td>\n",
              "      <td>M</td>\n",
              "      <td>laranja</td>\n",
              "      <td>3.5</td>\n",
              "      <td>14.40</td>\n",
              "    </tr>\n",
              "    <tr>\n",
              "      <th>3</th>\n",
              "      <td>Gabriela</td>\n",
              "      <td>F</td>\n",
              "      <td>laranja</td>\n",
              "      <td>NaN</td>\n",
              "      <td>NaN</td>\n",
              "    </tr>\n",
              "  </tbody>\n",
              "</table>\n",
              "</div>"
            ],
            "text/plain": [
              "       nome sexo  produto peso_kg  valor_total\n",
              "0      João    H  abacate     1.2        10.48\n",
              "1     Maria    F    mamão     2,5        22.50\n",
              "2      Caio    M  laranja     3.5        14.40\n",
              "3  Gabriela    F  laranja     NaN          NaN"
            ]
          },
          "metadata": {
            "tags": []
          },
          "execution_count": 156
        }
      ]
    },
    {
      "cell_type": "code",
      "metadata": {
        "colab": {
          "base_uri": "https://localhost:8080/",
          "height": 164
        },
        "id": "LxW_OgcN5kei",
        "outputId": "f6da122e-22fd-43a4-86bc-50d342cf9a22"
      },
      "source": [
        "# Obter um boleano para cada valor - True ou False - se possui valores ausentes\r\n",
        "df2.isna()"
      ],
      "execution_count": null,
      "outputs": [
        {
          "output_type": "execute_result",
          "data": {
            "text/html": [
              "<div>\n",
              "<style scoped>\n",
              "    .dataframe tbody tr th:only-of-type {\n",
              "        vertical-align: middle;\n",
              "    }\n",
              "\n",
              "    .dataframe tbody tr th {\n",
              "        vertical-align: top;\n",
              "    }\n",
              "\n",
              "    .dataframe thead th {\n",
              "        text-align: right;\n",
              "    }\n",
              "</style>\n",
              "<table border=\"1\" class=\"dataframe\">\n",
              "  <thead>\n",
              "    <tr style=\"text-align: right;\">\n",
              "      <th></th>\n",
              "      <th>nome</th>\n",
              "      <th>sexo</th>\n",
              "      <th>produto</th>\n",
              "      <th>peso_kg</th>\n",
              "      <th>valor_total</th>\n",
              "    </tr>\n",
              "  </thead>\n",
              "  <tbody>\n",
              "    <tr>\n",
              "      <th>0</th>\n",
              "      <td>False</td>\n",
              "      <td>False</td>\n",
              "      <td>False</td>\n",
              "      <td>False</td>\n",
              "      <td>False</td>\n",
              "    </tr>\n",
              "    <tr>\n",
              "      <th>1</th>\n",
              "      <td>False</td>\n",
              "      <td>False</td>\n",
              "      <td>False</td>\n",
              "      <td>False</td>\n",
              "      <td>False</td>\n",
              "    </tr>\n",
              "    <tr>\n",
              "      <th>2</th>\n",
              "      <td>False</td>\n",
              "      <td>False</td>\n",
              "      <td>False</td>\n",
              "      <td>False</td>\n",
              "      <td>False</td>\n",
              "    </tr>\n",
              "    <tr>\n",
              "      <th>3</th>\n",
              "      <td>False</td>\n",
              "      <td>False</td>\n",
              "      <td>False</td>\n",
              "      <td>True</td>\n",
              "      <td>True</td>\n",
              "    </tr>\n",
              "  </tbody>\n",
              "</table>\n",
              "</div>"
            ],
            "text/plain": [
              "    nome   sexo  produto  peso_kg  valor_total\n",
              "0  False  False    False    False        False\n",
              "1  False  False    False    False        False\n",
              "2  False  False    False    False        False\n",
              "3  False  False    False     True         True"
            ]
          },
          "metadata": {
            "tags": []
          },
          "execution_count": 157
        }
      ]
    },
    {
      "cell_type": "code",
      "metadata": {
        "colab": {
          "base_uri": "https://localhost:8080/"
        },
        "id": "8ONzQWdR5zgj",
        "outputId": "cfeba4d9-c000-42b4-b205-098b1f2d84c6"
      },
      "source": [
        "# Obter um boleano para cada coluna\r\n",
        "df2.isna().any()"
      ],
      "execution_count": null,
      "outputs": [
        {
          "output_type": "execute_result",
          "data": {
            "text/plain": [
              "nome           False\n",
              "sexo           False\n",
              "produto        False\n",
              "peso_kg         True\n",
              "valor_total     True\n",
              "dtype: bool"
            ]
          },
          "metadata": {
            "tags": []
          },
          "execution_count": 158
        }
      ]
    },
    {
      "cell_type": "code",
      "metadata": {
        "colab": {
          "base_uri": "https://localhost:8080/"
        },
        "id": "kOFqKqAU53Ml",
        "outputId": "3b8bbf59-6461-4b8a-babc-5b80242c839e"
      },
      "source": [
        "# Total de valores ausentes por coluna\r\n",
        "df2.isna().sum()"
      ],
      "execution_count": null,
      "outputs": [
        {
          "output_type": "execute_result",
          "data": {
            "text/plain": [
              "nome           0\n",
              "sexo           0\n",
              "produto        0\n",
              "peso_kg        1\n",
              "valor_total    1\n",
              "dtype: int64"
            ]
          },
          "metadata": {
            "tags": []
          },
          "execution_count": 159
        }
      ]
    },
    {
      "cell_type": "code",
      "metadata": {
        "colab": {
          "base_uri": "https://localhost:8080/",
          "height": 308
        },
        "id": "pJz3_tfg64fR",
        "outputId": "d4a37f43-a7a0-492b-bfc4-7eee626bc140"
      },
      "source": [
        "# Plotando valores ausentes\r\n",
        "df2.isna().sum().plot(kind=\"bar\")\r\n",
        "plt.show()"
      ],
      "execution_count": null,
      "outputs": [
        {
          "output_type": "display_data",
          "data": {
            "image/png": "[encoded data removed]",
            "text/plain": [
              "<Figure size 432x288 with 1 Axes>"
            ]
          },
          "metadata": {
            "tags": [],
            "needs_background": "light"
          }
        }
      ]
    },
    {
      "cell_type": "code",
      "metadata": {
        "colab": {
          "base_uri": "https://localhost:8080/",
          "height": 164
        },
        "id": "93eKXdCg7Hkn",
        "outputId": "3869ef80-60c4-4c3b-d3eb-f13edaa400fd"
      },
      "source": [
        "df2"
      ],
      "execution_count": null,
      "outputs": [
        {
          "output_type": "execute_result",
          "data": {
            "text/html": [
              "<div>\n",
              "<style scoped>\n",
              "    .dataframe tbody tr th:only-of-type {\n",
              "        vertical-align: middle;\n",
              "    }\n",
              "\n",
              "    .dataframe tbody tr th {\n",
              "        vertical-align: top;\n",
              "    }\n",
              "\n",
              "    .dataframe thead th {\n",
              "        text-align: right;\n",
              "    }\n",
              "</style>\n",
              "<table border=\"1\" class=\"dataframe\">\n",
              "  <thead>\n",
              "    <tr style=\"text-align: right;\">\n",
              "      <th></th>\n",
              "      <th>nome</th>\n",
              "      <th>sexo</th>\n",
              "      <th>produto</th>\n",
              "      <th>peso_kg</th>\n",
              "      <th>valor_total</th>\n",
              "    </tr>\n",
              "  </thead>\n",
              "  <tbody>\n",
              "    <tr>\n",
              "      <th>0</th>\n",
              "      <td>João</td>\n",
              "      <td>H</td>\n",
              "      <td>abacate</td>\n",
              "      <td>1.2</td>\n",
              "      <td>10.48</td>\n",
              "    </tr>\n",
              "    <tr>\n",
              "      <th>1</th>\n",
              "      <td>Maria</td>\n",
              "      <td>F</td>\n",
              "      <td>mamão</td>\n",
              "      <td>2,5</td>\n",
              "      <td>22.50</td>\n",
              "    </tr>\n",
              "    <tr>\n",
              "      <th>2</th>\n",
              "      <td>Caio</td>\n",
              "      <td>M</td>\n",
              "      <td>laranja</td>\n",
              "      <td>3.5</td>\n",
              "      <td>14.40</td>\n",
              "    </tr>\n",
              "    <tr>\n",
              "      <th>3</th>\n",
              "      <td>Gabriela</td>\n",
              "      <td>F</td>\n",
              "      <td>laranja</td>\n",
              "      <td>NaN</td>\n",
              "      <td>NaN</td>\n",
              "    </tr>\n",
              "  </tbody>\n",
              "</table>\n",
              "</div>"
            ],
            "text/plain": [
              "       nome sexo  produto peso_kg  valor_total\n",
              "0      João    H  abacate     1.2        10.48\n",
              "1     Maria    F    mamão     2,5        22.50\n",
              "2      Caio    M  laranja     3.5        14.40\n",
              "3  Gabriela    F  laranja     NaN          NaN"
            ]
          },
          "metadata": {
            "tags": []
          },
          "execution_count": 161
        }
      ]
    },
    {
      "cell_type": "code",
      "metadata": {
        "colab": {
          "base_uri": "https://localhost:8080/",
          "height": 135
        },
        "id": "xc6XgUd27JGD",
        "outputId": "5f274ae0-e1da-467f-db01-e7ed194d237f"
      },
      "source": [
        "# Removendo valores missing\r\n",
        "df2.dropna()"
      ],
      "execution_count": null,
      "outputs": [
        {
          "output_type": "execute_result",
          "data": {
            "text/html": [
              "<div>\n",
              "<style scoped>\n",
              "    .dataframe tbody tr th:only-of-type {\n",
              "        vertical-align: middle;\n",
              "    }\n",
              "\n",
              "    .dataframe tbody tr th {\n",
              "        vertical-align: top;\n",
              "    }\n",
              "\n",
              "    .dataframe thead th {\n",
              "        text-align: right;\n",
              "    }\n",
              "</style>\n",
              "<table border=\"1\" class=\"dataframe\">\n",
              "  <thead>\n",
              "    <tr style=\"text-align: right;\">\n",
              "      <th></th>\n",
              "      <th>nome</th>\n",
              "      <th>sexo</th>\n",
              "      <th>produto</th>\n",
              "      <th>peso_kg</th>\n",
              "      <th>valor_total</th>\n",
              "    </tr>\n",
              "  </thead>\n",
              "  <tbody>\n",
              "    <tr>\n",
              "      <th>0</th>\n",
              "      <td>João</td>\n",
              "      <td>H</td>\n",
              "      <td>abacate</td>\n",
              "      <td>1.2</td>\n",
              "      <td>10.48</td>\n",
              "    </tr>\n",
              "    <tr>\n",
              "      <th>1</th>\n",
              "      <td>Maria</td>\n",
              "      <td>F</td>\n",
              "      <td>mamão</td>\n",
              "      <td>2,5</td>\n",
              "      <td>22.50</td>\n",
              "    </tr>\n",
              "    <tr>\n",
              "      <th>2</th>\n",
              "      <td>Caio</td>\n",
              "      <td>M</td>\n",
              "      <td>laranja</td>\n",
              "      <td>3.5</td>\n",
              "      <td>14.40</td>\n",
              "    </tr>\n",
              "  </tbody>\n",
              "</table>\n",
              "</div>"
            ],
            "text/plain": [
              "    nome sexo  produto peso_kg  valor_total\n",
              "0   João    H  abacate     1.2        10.48\n",
              "1  Maria    F    mamão     2,5        22.50\n",
              "2   Caio    M  laranja     3.5        14.40"
            ]
          },
          "metadata": {
            "tags": []
          },
          "execution_count": 163
        }
      ]
    },
    {
      "cell_type": "code",
      "metadata": {
        "colab": {
          "base_uri": "https://localhost:8080/",
          "height": 164
        },
        "id": "oCwExgwE7W5N",
        "outputId": "9caa455e-231d-4966-dd20-4a5c66f75332"
      },
      "source": [
        "# Preenchendo valores ausentes\r\n",
        "df2.fillna(0)"
      ],
      "execution_count": null,
      "outputs": [
        {
          "output_type": "execute_result",
          "data": {
            "text/html": [
              "<div>\n",
              "<style scoped>\n",
              "    .dataframe tbody tr th:only-of-type {\n",
              "        vertical-align: middle;\n",
              "    }\n",
              "\n",
              "    .dataframe tbody tr th {\n",
              "        vertical-align: top;\n",
              "    }\n",
              "\n",
              "    .dataframe thead th {\n",
              "        text-align: right;\n",
              "    }\n",
              "</style>\n",
              "<table border=\"1\" class=\"dataframe\">\n",
              "  <thead>\n",
              "    <tr style=\"text-align: right;\">\n",
              "      <th></th>\n",
              "      <th>nome</th>\n",
              "      <th>sexo</th>\n",
              "      <th>produto</th>\n",
              "      <th>peso_kg</th>\n",
              "      <th>valor_total</th>\n",
              "    </tr>\n",
              "  </thead>\n",
              "  <tbody>\n",
              "    <tr>\n",
              "      <th>0</th>\n",
              "      <td>João</td>\n",
              "      <td>H</td>\n",
              "      <td>abacate</td>\n",
              "      <td>1.2</td>\n",
              "      <td>10.48</td>\n",
              "    </tr>\n",
              "    <tr>\n",
              "      <th>1</th>\n",
              "      <td>Maria</td>\n",
              "      <td>F</td>\n",
              "      <td>mamão</td>\n",
              "      <td>2,5</td>\n",
              "      <td>22.50</td>\n",
              "    </tr>\n",
              "    <tr>\n",
              "      <th>2</th>\n",
              "      <td>Caio</td>\n",
              "      <td>M</td>\n",
              "      <td>laranja</td>\n",
              "      <td>3.5</td>\n",
              "      <td>14.40</td>\n",
              "    </tr>\n",
              "    <tr>\n",
              "      <th>3</th>\n",
              "      <td>Gabriela</td>\n",
              "      <td>F</td>\n",
              "      <td>laranja</td>\n",
              "      <td>0</td>\n",
              "      <td>0.00</td>\n",
              "    </tr>\n",
              "  </tbody>\n",
              "</table>\n",
              "</div>"
            ],
            "text/plain": [
              "       nome sexo  produto peso_kg  valor_total\n",
              "0      João    H  abacate     1.2        10.48\n",
              "1     Maria    F    mamão     2,5        22.50\n",
              "2      Caio    M  laranja     3.5        14.40\n",
              "3  Gabriela    F  laranja       0         0.00"
            ]
          },
          "metadata": {
            "tags": []
          },
          "execution_count": 164
        }
      ]
    },
    {
      "cell_type": "code",
      "metadata": {
        "colab": {
          "base_uri": "https://localhost:8080/",
          "height": 164
        },
        "id": "Flnx35fh8TLy",
        "outputId": "1ba48f68-8a0f-49d4-a8ee-86ccd07554af"
      },
      "source": [
        "df2"
      ],
      "execution_count": null,
      "outputs": [
        {
          "output_type": "execute_result",
          "data": {
            "text/html": [
              "<div>\n",
              "<style scoped>\n",
              "    .dataframe tbody tr th:only-of-type {\n",
              "        vertical-align: middle;\n",
              "    }\n",
              "\n",
              "    .dataframe tbody tr th {\n",
              "        vertical-align: top;\n",
              "    }\n",
              "\n",
              "    .dataframe thead th {\n",
              "        text-align: right;\n",
              "    }\n",
              "</style>\n",
              "<table border=\"1\" class=\"dataframe\">\n",
              "  <thead>\n",
              "    <tr style=\"text-align: right;\">\n",
              "      <th></th>\n",
              "      <th>nome</th>\n",
              "      <th>sexo</th>\n",
              "      <th>produto</th>\n",
              "      <th>peso_kg</th>\n",
              "      <th>valor_total</th>\n",
              "    </tr>\n",
              "  </thead>\n",
              "  <tbody>\n",
              "    <tr>\n",
              "      <th>0</th>\n",
              "      <td>João</td>\n",
              "      <td>H</td>\n",
              "      <td>abacate</td>\n",
              "      <td>1.2</td>\n",
              "      <td>10.48</td>\n",
              "    </tr>\n",
              "    <tr>\n",
              "      <th>1</th>\n",
              "      <td>Maria</td>\n",
              "      <td>F</td>\n",
              "      <td>mamão</td>\n",
              "      <td>2,5</td>\n",
              "      <td>22.50</td>\n",
              "    </tr>\n",
              "    <tr>\n",
              "      <th>2</th>\n",
              "      <td>Caio</td>\n",
              "      <td>M</td>\n",
              "      <td>laranja</td>\n",
              "      <td>3.5</td>\n",
              "      <td>14.40</td>\n",
              "    </tr>\n",
              "    <tr>\n",
              "      <th>3</th>\n",
              "      <td>Gabriela</td>\n",
              "      <td>F</td>\n",
              "      <td>laranja</td>\n",
              "      <td>NaN</td>\n",
              "      <td>NaN</td>\n",
              "    </tr>\n",
              "  </tbody>\n",
              "</table>\n",
              "</div>"
            ],
            "text/plain": [
              "       nome sexo  produto peso_kg  valor_total\n",
              "0      João    H  abacate     1.2        10.48\n",
              "1     Maria    F    mamão     2,5        22.50\n",
              "2      Caio    M  laranja     3.5        14.40\n",
              "3  Gabriela    F  laranja     NaN          NaN"
            ]
          },
          "metadata": {
            "tags": []
          },
          "execution_count": 166
        }
      ]
    }
  ]
}